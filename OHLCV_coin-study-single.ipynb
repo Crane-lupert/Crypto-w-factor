{
 "cells": [
  {
   "cell_type": "code",
   "execution_count": 1,
   "id": "9a47a22f-154f-4521-899e-ecf7e4e76e25",
   "metadata": {},
   "outputs": [],
   "source": [
    "import ccxt.pro as ccxtpro\n",
    "import asyncio\n",
    "import nest_asyncio\n",
    "import pandas as pd\n",
    "import numpy as np\n",
    "from datetime import datetime, timedelta\n",
    "import statsmodels.api as sm\n",
    "\n",
    "nest_asyncio.apply()\n",
    "\n",
    "with open('binance_api.txt', 'r') as file:\n",
    "    api_key = file.readline().strip()\n",
    "    secret = file.readline().strip()\n",
    "\n",
    "exchange = ccxtpro.binance({\n",
    "    'apiKey': api_key,\n",
    "    'secret': secret,\n",
    "    'enableRateLimit': True,  # 요청 비율 제한 활성화\n",
    "    'options': {'defaultType': 'future'}  # Perpetual 선물 시장을 선택합니다.\n",
    "})"
   ]
  },
  {
   "cell_type": "code",
   "execution_count": 2,
   "id": "79dabeac-b91f-4e54-bb7b-796557bf615c",
   "metadata": {},
   "outputs": [],
   "source": [
    "async def fetch_symbol_data(exchange, symbol, since):\n",
    "    \"\"\"\n",
    "    특정 심볼의 OHLCV 데이터를 가져와 일 단위로 거래량을 USDT로 변환한 후 3년치 총 거래량을 반환합니다.\n",
    "\n",
    "    입력값:\n",
    "    - exchange: ccxtpro 거래소 객체\n",
    "    - symbol: 심볼 문자열\n",
    "    - since: 데이터 시작 시점 (timestamp)\n",
    "\n",
    "    출력값:\n",
    "    - (symbol, total_usdt_volume, df): 심볼, 총 USDT 거래량, 데이터프레임의 튜플\n",
    "    \"\"\"\n",
    "    try:\n",
    "        all_ohlcv = []\n",
    "        while since < exchange.milliseconds():\n",
    "            ohlcv = await exchange.fetch_ohlcv(symbol, '1d', since=since, limit=500)\n",
    "            if not ohlcv:\n",
    "                break\n",
    "            all_ohlcv += ohlcv\n",
    "            since = ohlcv[-1][0] + 1  # 마지막 timestamp를 업데이트하여 다음 batch의 데이터를 가져옴\n",
    "\n",
    "        df = pd.DataFrame(all_ohlcv, columns=['timestamp', 'open', 'high', 'low', 'close', 'volume'])\n",
    "        df['quote_volume'] = df['volume'] * df['close']  # 일 단위로 거래량을 USDT로 환산\n",
    "        total_usdt_volume = df['quote_volume'].sum()\n",
    "        return symbol, total_usdt_volume, df\n",
    "    except Exception as e:\n",
    "        print(f\"Error fetching data for {symbol}: {e}\")\n",
    "        return symbol, 0, None\n",
    "\n",
    "async def get_top_symbols_by_volume(exchange, n=40):\n",
    "    \"\"\"\n",
    "    지난 3년 동안의 거래량을 USDT 기준으로 상위 n개의 심볼을 선택하고 해당 데이터를 반환합니다.\n",
    "\n",
    "    입력값:\n",
    "    - exchange: ccxtpro 거래소 객체\n",
    "    - n: 선택할 심볼의 개수\n",
    "\n",
    "    출력값:\n",
    "    - top_symbols: (symbol, total_usdt_volume, df) 튜플의 리스트 (상위 n개 심볼의 데이터)\n",
    "    \"\"\"\n",
    "    await exchange.load_markets()\n",
    "    symbols = []\n",
    "\n",
    "    for symbol in exchange.markets:\n",
    "        if exchange.markets[symbol]['active'] and '/USDT' in symbol:\n",
    "            symbols.append(symbol)\n",
    "\n",
    "    three_years_ago = exchange.parse8601((datetime.now() - timedelta(days=3*365+180)).strftime('%Y-%m-%dT%H:%M:%SZ'))\n",
    "\n",
    "    tasks = [fetch_symbol_data(exchange, symbol, three_years_ago) for symbol in symbols]\n",
    "    volume_data = await asyncio.gather(*tasks)\n",
    "\n",
    "    # 중복 제거를 위한 집합\n",
    "    seen_symbols = set()\n",
    "    unique_volume_data = []\n",
    "    for symbol, total_usdt_volume, df in volume_data:\n",
    "        clean_symbol = symbol.split(':')[0]\n",
    "        perp_symbol = clean_symbol + ':USDT'\n",
    "        if perp_symbol not in seen_symbols and df is not None:\n",
    "            seen_symbols.add(perp_symbol)\n",
    "            unique_volume_data.append((symbol, total_usdt_volume, df))\n",
    "\n",
    "    # 상위 n개의 종목 선택\n",
    "    top_symbols_by_volume = sorted(unique_volume_data, key=lambda x: x[1], reverse=True)\n",
    "\n",
    "    # 디버깅 출력\n",
    "    print(\"Top symbols by volume before filtering:\", [symbol for symbol, _, _ in top_symbols_by_volume[:50]])\n",
    "\n",
    "    # BTC/USDT의 데이터 길이 구하기\n",
    "    btc_data = [df for symbol, _, df in top_symbols_by_volume if 'BTC/USDT' in symbol]\n",
    "    if not btc_data:\n",
    "        raise Exception(\"BTC/USDT data not found in the top symbols\")\n",
    "    btc_length = len(btc_data[0])\n",
    "\n",
    "    # 데이터 길이가 부족한 티커 제거 및 차순위 티커 추가\n",
    "    filtered_symbols = []\n",
    "    i = len(top_symbols_by_volume)\n",
    "    while len(filtered_symbols) < n and top_symbols_by_volume:\n",
    "        symbol, total_usdt_volume, df = top_symbols_by_volume.pop(0)\n",
    "        if df is not None and len(df) >= btc_length:\n",
    "            filtered_symbols.append((symbol, total_usdt_volume, df))\n",
    "        else:\n",
    "            if i < len(unique_volume_data):\n",
    "                next_symbol = unique_volume_data[i]\n",
    "                i += 1\n",
    "                top_symbols_by_volume.append(next_symbol)\n",
    "    \n",
    "    # 최종 상위 n개의 종목 선택 후 중복 제거\n",
    "    perpetual_symbols = []\n",
    "    seen_symbols.clear()\n",
    "    for symbol, total_usdt_volume, df in filtered_symbols:\n",
    "        clean_symbol = symbol.split(':')[0]\n",
    "        perp_symbol = clean_symbol + ':USDT'\n",
    "        if perp_symbol in exchange.markets and perp_symbol not in seen_symbols:\n",
    "            perp_data = await fetch_symbol_data(exchange, perp_symbol, three_years_ago)\n",
    "            if perp_data[2] is not None and len(perp_data[2]) >= btc_length:\n",
    "                seen_symbols.add(perp_symbol)\n",
    "                perpetual_symbols.append(perp_data)\n",
    "\n",
    "    # 시계열적 길이 확인\n",
    "    lengths = [len(df) for _, _, df in perpetual_symbols]\n",
    "    print(\"Data lengths of selected symbols:\", lengths)\n",
    "\n",
    "    return perpetual_symbols"
   ]
  },
  {
   "cell_type": "code",
   "execution_count": 3,
   "id": "2971d569-2aee-4473-b6e3-14459147cd14",
   "metadata": {
    "scrolled": true
   },
   "outputs": [
    {
     "name": "stdout",
     "output_type": "stream",
     "text": [
      "Error fetching data for TUSD/USDT: binance does not have market symbol TUSD/USDT\n",
      "Error fetching data for NULS/USDT: binance does not have market symbol NULS/USDT\n",
      "Error fetching data for TFUEL/USDT: binance does not have market symbol TFUEL/USDT\n",
      "Error fetching data for WIN/USDT: binance does not have market symbol WIN/USDT\n",
      "Error fetching data for COS/USDT: binance does not have market symbol COS/USDT\n",
      "Error fetching data for WAN/USDT: binance does not have market symbol WAN/USDT\n",
      "Error fetching data for FUN/USDT: binance does not have market symbol FUN/USDT\n",
      "Error fetching data for CTXC/USDT: binance does not have market symbol CTXC/USDT\n",
      "Error fetching data for TROY/USDT: binance does not have market symbol TROY/USDT\n",
      "Error fetching data for VITE/USDT: binance does not have market symbol VITE/USDT\n",
      "Error fetching data for EUR/USDT: binance does not have market symbol EUR/USDT\n",
      "Error fetching data for WRX/USDT: binance does not have market symbol WRX/USDT\n",
      "Error fetching data for LTO/USDT: binance does not have market symbol LTO/USDT\n",
      "Error fetching data for MBL/USDT: binance does not have market symbol MBL/USDT\n",
      "Error fetching data for DATA/USDT: binance does not have market symbol DATA/USDT\n",
      "Error fetching data for HIVE/USDT: binance does not have market symbol HIVE/USDT\n",
      "Error fetching data for ARDR/USDT: binance does not have market symbol ARDR/USDT\n",
      "Error fetching data for VTHO/USDT: binance does not have market symbol VTHO/USDT\n",
      "Error fetching data for DCR/USDT: binance does not have market symbol DCR/USDT\n",
      "Error fetching data for IRIS/USDT: binance does not have market symbol IRIS/USDT\n",
      "Error fetching data for KMD/USDT: binance does not have market symbol KMD/USDT\n",
      "Error fetching data for JST/USDT: binance does not have market symbol JST/USDT\n",
      "Error fetching data for LUNA/USDT: binance does not have market symbol LUNA/USDT\n",
      "Error fetching data for PAXG/USDT: binance does not have market symbol PAXG/USDT\n",
      "Error fetching data for DIA/USDT: binance does not have market symbol DIA/USDT\n",
      "Error fetching data for FIO/USDT: binance does not have market symbol FIO/USDT\n",
      "Error fetching data for WING/USDT: binance does not have market symbol WING/USDT\n",
      "Error fetching data for SUN/USDT: binance does not have market symbol SUN/USDT\n",
      "Error fetching data for ORN/USDT: binance does not have market symbol ORN/USDT\n",
      "Error fetching data for UTK/USDT: binance does not have market symbol UTK/USDT\n",
      "Error fetching data for AUDIO/USDT: binance does not have market symbol AUDIO/USDT\n",
      "Error fetching data for AKRO/USDT: binance does not have market symbol AKRO/USDT\n",
      "Error fetching data for HARD/USDT: binance does not have market symbol HARD/USDT\n",
      "Error fetching data for AVA/USDT: binance does not have market symbol AVA/USDT\n",
      "Error fetching data for JUV/USDT: binance does not have market symbol JUV/USDT\n",
      "Error fetching data for PSG/USDT: binance does not have market symbol PSG/USDT\n",
      "Error fetching data for OG/USDT: binance does not have market symbol OG/USDT\n",
      "Error fetching data for ATM/USDT: binance does not have market symbol ATM/USDT\n",
      "Error fetching data for ASR/USDT: binance does not have market symbol ASR/USDT\n",
      "Error fetching data for FIRO/USDT: binance does not have market symbol FIRO/USDT\n",
      "Error fetching data for DODO/USDT: binance does not have market symbol DODO/USDT\n",
      "Error fetching data for ACM/USDT: binance does not have market symbol ACM/USDT\n",
      "Error fetching data for FIS/USDT: binance does not have market symbol FIS/USDT\n",
      "Error fetching data for POND/USDT: binance does not have market symbol POND/USDT\n",
      "Error fetching data for DEGO/USDT: binance does not have market symbol DEGO/USDT\n",
      "Error fetching data for TKO/USDT: binance does not have market symbol TKO/USDT\n",
      "Error fetching data for PUNDIX/USDT: binance does not have market symbol PUNDIX/USDT\n",
      "Error fetching data for BAR/USDT: binance does not have market symbol BAR/USDT\n",
      "Error fetching data for FORTH/USDT: binance does not have market symbol FORTH/USDT\n",
      "Error fetching data for BURGER/USDT: binance does not have market symbol BURGER/USDT\n",
      "Error fetching data for SHIB/USDT: binance does not have market symbol SHIB/USDT\n",
      "Error fetching data for ERN/USDT: binance does not have market symbol ERN/USDT\n",
      "Error fetching data for PHA/USDT: binance does not have market symbol PHA/USDT\n",
      "Error fetching data for MLN/USDT: binance does not have market symbol MLN/USDT\n",
      "Error fetching data for DEXE/USDT: binance does not have market symbol DEXE/USDT\n",
      "Error fetching data for CLV/USDT: binance does not have market symbol CLV/USDT\n",
      "Error fetching data for FARM/USDT: binance does not have market symbol FARM/USDT\n",
      "Error fetching data for ALPACA/USDT: binance does not have market symbol ALPACA/USDT\n",
      "Error fetching data for QUICK/USDT: binance does not have market symbol QUICK/USDT\n",
      "Error fetching data for MBOX/USDT: binance does not have market symbol MBOX/USDT\n",
      "Error fetching data for FOR/USDT: binance does not have market symbol FOR/USDT\n",
      "Error fetching data for REQ/USDT: binance does not have market symbol REQ/USDT\n",
      "Error fetching data for GHST/USDT: binance does not have market symbol GHST/USDT\n",
      "Error fetching data for GNO/USDT: binance does not have market symbol GNO/USDT\n",
      "Error fetching data for XEC/USDT: binance does not have market symbol XEC/USDT\n",
      "Error fetching data for ELF/USDT: binance does not have market symbol ELF/USDT\n",
      "Error fetching data for VIDT/USDT: binance does not have market symbol VIDT/USDT\n",
      "Error fetching data for USDP/USDT: binance does not have market symbol USDP/USDT\n",
      "Error fetching data for SYS/USDT: binance does not have market symbol SYS/USDT\n",
      "Error fetching data for DF/USDT: binance does not have market symbol DF/USDT\n",
      "Error fetching data for FIDA/USDT: binance does not have market symbol FIDA/USDT\n",
      "Error fetching data for CVP/USDT: binance does not have market symbol CVP/USDT\n",
      "Error fetching data for BETA/USDT: binance does not have market symbol BETA/USDT\n",
      "Error fetching data for RARE/USDT: binance does not have market symbol RARE/USDT\n",
      "Error fetching data for LAZIO/USDT: binance does not have market symbol LAZIO/USDT\n",
      "Error fetching data for CHESS/USDT: binance does not have market symbol CHESS/USDT\n",
      "Error fetching data for ADX/USDT: binance does not have market symbol ADX/USDT\n",
      "Error fetching data for CITY/USDT: binance does not have market symbol CITY/USDT\n",
      "Error fetching data for KP3R/USDT: binance does not have market symbol KP3R/USDT\n",
      "Error fetching data for QI/USDT: binance does not have market symbol QI/USDT\n",
      "Error fetching data for PORTO/USDT: binance does not have market symbol PORTO/USDT\n",
      "Error fetching data for VGX/USDT: binance does not have market symbol VGX/USDT\n",
      "Error fetching data for AMP/USDT: binance does not have market symbol AMP/USDT\n",
      "Error fetching data for PYR/USDT: binance does not have market symbol PYR/USDT\n",
      "Error fetching data for ALCX/USDT: binance does not have market symbol ALCX/USDT\n",
      "Error fetching data for SANTOS/USDT: binance does not have market symbol SANTOS/USDT\n",
      "Error fetching data for FLUX/USDT: binance does not have market symbol FLUX/USDT\n",
      "Error fetching data for VOXEL/USDT: binance does not have market symbol VOXEL/USDT\n",
      "Error fetching data for OOKI/USDT: binance does not have market symbol OOKI/USDT\n",
      "Error fetching data for LOKA/USDT: binance does not have market symbol LOKA/USDT\n",
      "Error fetching data for SCRT/USDT: binance does not have market symbol SCRT/USDT\n",
      "Error fetching data for BTTC/USDT: binance does not have market symbol BTTC/USDT\n",
      "Error fetching data for ACA/USDT: binance does not have market symbol ACA/USDT\n",
      "Error fetching data for XNO/USDT: binance does not have market symbol XNO/USDT\n",
      "Error fetching data for ALPINE/USDT: binance does not have market symbol ALPINE/USDT\n",
      "Error fetching data for KDA/USDT: binance does not have market symbol KDA/USDT\n",
      "Error fetching data for BSW/USDT: binance does not have market symbol BSW/USDT\n",
      "Error fetching data for BIFI/USDT: binance does not have market symbol BIFI/USDT\n",
      "Error fetching data for NEXO/USDT: binance does not have market symbol NEXO/USDT\n",
      "Error fetching data for REI/USDT: binance does not have market symbol REI/USDT\n",
      "Error fetching data for EPX/USDT: binance does not have market symbol EPX/USDT\n",
      "Error fetching data for LUNC/USDT: binance does not have market symbol LUNC/USDT\n",
      "Error fetching data for OSMO/USDT: binance does not have market symbol OSMO/USDT\n",
      "Error fetching data for RPL/USDT: binance does not have market symbol RPL/USDT\n",
      "Error fetching data for PROS/USDT: binance does not have market symbol PROS/USDT\n",
      "Error fetching data for GNS/USDT: binance does not have market symbol GNS/USDT\n",
      "Error fetching data for SYN/USDT: binance does not have market symbol SYN/USDT\n",
      "Error fetching data for VIB/USDT: binance does not have market symbol VIB/USDT\n",
      "Error fetching data for PROM/USDT: binance does not have market symbol PROM/USDT\n",
      "Error fetching data for QKC/USDT: binance does not have market symbol QKC/USDT\n",
      "Error fetching data for UFT/USDT: binance does not have market symbol UFT/USDT\n",
      "Error fetching data for OAX/USDT: binance does not have market symbol OAX/USDT\n",
      "Error fetching data for WBTC/USDT: binance does not have market symbol WBTC/USDT\n",
      "Error fetching data for AERGO/USDT: binance does not have market symbol AERGO/USDT\n",
      "Error fetching data for PEPE/USDT: binance does not have market symbol PEPE/USDT\n",
      "Error fetching data for FLOKI/USDT: binance does not have market symbol FLOKI/USDT\n",
      "Error fetching data for AST/USDT: binance does not have market symbol AST/USDT\n",
      "Error fetching data for WBETH/USDT: binance does not have market symbol WBETH/USDT\n",
      "Error fetching data for FDUSD/USDT: binance does not have market symbol FDUSD/USDT\n",
      "Error fetching data for CREAM/USDT: binance does not have market symbol CREAM/USDT\n",
      "Error fetching data for GFT/USDT: binance does not have market symbol GFT/USDT\n",
      "Error fetching data for IQ/USDT: binance does not have market symbol IQ/USDT\n",
      "Error fetching data for PIVX/USDT: binance does not have market symbol PIVX/USDT\n",
      "Error fetching data for VIC/USDT: binance does not have market symbol VIC/USDT\n",
      "Error fetching data for AEUR/USDT: binance does not have market symbol AEUR/USDT\n",
      "Error fetching data for BONK/USDT: binance does not have market symbol BONK/USDT\n",
      "Error fetching data for PDA/USDT: binance does not have market symbol PDA/USDT\n",
      "Error fetching data for G/USDT: binance does not have market symbol G/USDT\n",
      "Error fetching data for BANANA/USDT: binance does not have market symbol BANANA/USDT\n",
      "Top symbols by volume before filtering: ['BTC/USDT', 'ETH/USDT', 'SOL/USDT', 'XRP/USDT', 'DOGE/USDT', 'BNB/USDT', 'ADA/USDT', '1000SHIB/USDT:USDT', 'MATIC/USDT', 'ETC/USDT', 'AVAX/USDT', 'LTC/USDT', 'LINK/USDT', 'DOT/USDT', 'FTM/USDT', 'GMT/USDT', 'BCH/USDT', 'FIL/USDT', 'SAND/USDT', 'AXS/USDT', 'EOS/USDT', 'NEAR/USDT', '1000PEPE/USDT:USDT', 'GALA/USDT', 'ATOM/USDT', 'APE/USDT', 'MANA/USDT', 'OP/USDT', 'APT/USDT', 'CHZ/USDT', 'DYDX/USDT', 'TRX/USDT', 'TRB/USDT', 'ARB/USDT', 'ORDI/USDT', 'CRV/USDT', 'UNI/USDT', 'AAVE/USDT', 'WLD/USDT', 'PEOPLE/USDT', 'SUSHI/USDT', 'MASK/USDT', 'RUNE/USDT', 'WIF/USDT', 'THETA/USDT', 'XLM/USDT', 'SUI/USDT', 'LRC/USDT', 'CFX/USDT', 'VET/USDT']\n",
      "Data lengths of selected symbols: [1275, 1275, 1275, 1275, 1275, 1275, 1275, 1275, 1275, 1275, 1275, 1275, 1275, 1275, 1275, 1275, 1275, 1275, 1275, 1275, 1275, 1275, 1275, 1275, 1275, 1275, 1275, 1275, 1275, 1275, 1275, 1275, 1275, 1275, 1275, 1275, 1275, 1275, 1275, 1275]\n",
      "Top 40 symbols by volume: ['BTC/USDT:USDT', 'ETH/USDT:USDT', 'SOL/USDT:USDT', 'XRP/USDT:USDT', 'DOGE/USDT:USDT', 'BNB/USDT:USDT', 'ADA/USDT:USDT', 'MATIC/USDT:USDT', 'ETC/USDT:USDT', 'AVAX/USDT:USDT', 'LTC/USDT:USDT', 'LINK/USDT:USDT', 'DOT/USDT:USDT', 'FTM/USDT:USDT', 'BCH/USDT:USDT', 'FIL/USDT:USDT', 'SAND/USDT:USDT', 'AXS/USDT:USDT', 'EOS/USDT:USDT', 'NEAR/USDT:USDT', 'ATOM/USDT:USDT', 'CHZ/USDT:USDT', 'TRX/USDT:USDT', 'TRB/USDT:USDT', 'CRV/USDT:USDT', 'UNI/USDT:USDT', 'AAVE/USDT:USDT', 'SUSHI/USDT:USDT', 'RUNE/USDT:USDT', 'THETA/USDT:USDT', 'XLM/USDT:USDT', 'LRC/USDT:USDT', 'VET/USDT:USDT', 'ALGO/USDT:USDT', 'ZIL/USDT:USDT', 'SXP/USDT:USDT', 'XTZ/USDT:USDT', 'GRT/USDT:USDT', 'MKR/USDT:USDT', 'STORJ/USDT:USDT']\n"
     ]
    }
   ],
   "source": [
    "# 심볼 데이터 준비\n",
    "top_symbols_data = asyncio.run(get_top_symbols_by_volume(exchange, 40))\n",
    "symbols = [symbol for symbol, total_volume, df in top_symbols_data]\n",
    "print(f\"Top 40 symbols by volume: {symbols}\")\n",
    "# top_symbols_data = asyncio.run(get_top_symbols_by_volume(exchange, 40))\n",
    "# print(f\"Top 40 symbols by volume: {[symbol for symbol, total_volume, df in top_symbols_data]}\")"
   ]
  },
  {
   "cell_type": "code",
   "execution_count": 9,
   "id": "3d0b096f-f047-4815-8096-f9ab402aaece",
   "metadata": {
    "scrolled": true
   },
   "outputs": [],
   "source": [
    "import pandas as pd\n",
    "import numpy as np\n",
    "import warnings\n",
    "import os\n",
    "import csv\n",
    "\n",
    "warnings.filterwarnings('ignore')\n",
    "\n",
    "def convert_to_utc(df):\n",
    "    df = df.copy()\n",
    "    df['timestamp'] = pd.to_datetime(df['timestamp'], unit='ms', utc=True)\n",
    "    return df\n",
    "\n",
    "def calculate_monthly_returns(data):\n",
    "    \"\"\"\n",
    "    각 종목의 직전 시점 종가와의 가격 차이를 이용하여 월별 수익률을 계산하고 추가합니다.\n",
    "\n",
    "    입력값:\n",
    "    - df: OHLCV+quote_volume 데이터프레임 (pandas.DataFrame)\n",
    "\n",
    "    출력값:\n",
    "    - df: 월별 수익률이 추가된 데이터프레임 (pandas.DataFrame)\n",
    "    \"\"\"\n",
    "    data = data.copy()\n",
    "    monthly_close = data.xs('close', axis=1, level=1)\n",
    "    monthly_return = (monthly_close.shift(-1) / monthly_close) - 1  # 다음 달과의 비교를 위해 shift(-1) 추가\n",
    "    for symbol in monthly_close.columns:\n",
    "        data[(symbol, 'monthly_return')] = monthly_return[symbol]\n",
    "    data = reorder_columns(data)  # 컬럼 순서 조정 함수 호출\n",
    "    return data\n",
    "\n",
    "def reorder_columns(df):\n",
    "    symbols = df.columns.get_level_values(0).unique()\n",
    "    ordered_cols = []\n",
    "    for symbol in symbols:\n",
    "        cols = df[symbol].columns.tolist()\n",
    "        order = ['open', 'high', 'low', 'close', 'volume', 'quote_volume', 'momentum', 'monthly_return', 'Salience']\n",
    "        ordered_cols.extend([(symbol, col) for col in order if col in cols])\n",
    "    return df[ordered_cols]\n",
    "\n",
    "def calculate_salience(ohlcv_df, combined_df, lookback_period=126):\n",
    "    ohlcv_df = ohlcv_df.copy()\n",
    "    combined_df = combined_df.copy()\n",
    "    symbols = combined_df.columns.get_level_values(0).unique()\n",
    "    \n",
    "    for symbol in symbols:\n",
    "        ohlcv_df[(symbol, 'Return')] = ohlcv_df[(symbol, 'close')].pct_change()\n",
    "        ohlcv_df[(symbol, 'MA')] = ohlcv_df[(symbol, 'Return')].rolling(window=30).mean()\n",
    "    \n",
    "    ohlcv_df['Mean_MA'] = ohlcv_df.xs('MA', axis=1, level=1).mean(axis=1)\n",
    "    \n",
    "    salience_values = pd.DataFrame(index=ohlcv_df.index, columns=pd.MultiIndex.from_product([symbols, ['Salience']]))\n",
    "    for symbol in symbols:\n",
    "        salience_values[(symbol, 'Salience')] = np.abs(ohlcv_df[(symbol, 'Return')] - ohlcv_df['Mean_MA']) / ohlcv_df[(symbol, 'Return')].rolling(window=lookback_period).std()\n",
    "    \n",
    "    for symbol in symbols:\n",
    "        monthly_salience = salience_values[(symbol, 'Salience')].resample('M').mean()\n",
    "        combined_df[(symbol, 'Salience')] = monthly_salience.values\n",
    "    \n",
    "    return combined_df\n",
    "\n",
    "def calculate_returns(df):\n",
    "    df = df.copy()\n",
    "    df['returns'] = df['close'].pct_change()\n",
    "    df['margin_call'] = df['high'] >= 2 * df['close'].shift(1)\n",
    "    df['cumulative_returns'] = 1\n",
    "    margin_call_triggered = False\n",
    "    for i in range(1, len(df)):\n",
    "        if margin_call_triggered or df['margin_call'].iloc[i]:\n",
    "            df['cumulative_returns'].iloc[i] = 0\n",
    "            margin_call_triggered = True\n",
    "        else:\n",
    "            df['cumulative_returns'].iloc[i] = df['cumulative_returns'].iloc[i - 1] * (1 + df['returns'].iloc[i])\n",
    "            if df['cumulative_returns'].iloc[i] < 0:\n",
    "                df['cumulative_returns'].iloc[i] = 0\n",
    "    df['cumulative_returns'] = df['cumulative_returns'] - 1\n",
    "    return df\n",
    "\n",
    "def calculate_momentum(data, months_lookback=12, months_skip=1, reversion=False):\n",
    "    data = data.copy()\n",
    "    monthly_close = data.xs('close', axis=1, level=1)\n",
    "    if reversion:\n",
    "        # momentum = (monthly_close / monthly_close.shift(months_skip)) - 1\n",
    "        momentum = np.log(monthly_close / monthly_close.shift(months_skip))\n",
    "    else:\n",
    "        # momentum = (monthly_close.shift(months_skip) / monthly_close.shift(months_lookback)) - 1\n",
    "        momentum = np.log(monthly_close.shift(months_skip) / monthly_close.shift(months_lookback))\n",
    "    for symbol in monthly_close.columns:\n",
    "        data[(symbol, 'momentum')] = momentum[symbol]\n",
    "    data = reorder_columns(data)\n",
    "    return data\n",
    "\n",
    "def determine_weights_based_on_returns(recent_month_return_rank, n_positions=8):\n",
    "    quantile = recent_month_return_rank.quantile([0.2, 0.4, 0.6, 0.8])\n",
    "    rank = recent_month_return_rank.iloc[-1]  # 최근 월의 순위\n",
    "\n",
    "    if rank <= quantile[0.2]:\n",
    "        return n_positions // 4, (3 * n_positions) // 4, 0.5, 1.5\n",
    "    elif rank <= quantile[0.4]:\n",
    "        return (3 * n_positions) // 8, (5 * n_positions) // 8, 0.75, 1.25\n",
    "    elif rank <= quantile[0.6]:\n",
    "        return n_positions // 2, n_positions // 2, 1.0, 1.0\n",
    "    elif rank <= quantile[0.8]:\n",
    "        return (5 * n_positions) // 8, (3 * n_positions) // 8, 1.25, 0.75\n",
    "    else:\n",
    "        return (3 * n_positions) // 4, n_positions // 4, 1.5, 0.5\n",
    "\n",
    "def set_positions(monthly_combined_df, date, n_positions=8, use_return_adjustment=True):\n",
    "    \"\"\"\n",
    "    해당 월에 롱/숏 포지션을 설정합니다.\n",
    "\n",
    "    입력값:\n",
    "    - monthly_combined_df: 월별 OHLCV 데이터프레임 (pandas.DataFrame)\n",
    "    - date: 현재 날짜 (Timestamp)\n",
    "    - n_positions: 포지션에 포함할 종목 수 (int, default=8)\n",
    "    - use_return_adjustment: 과거 수익률을 기반으로 롱/숏 비중을 추가조정할지 여부 (bool, default=True)\n",
    "\n",
    "    출력값:\n",
    "    - long_positions, short_positions: 롱/숏 포지션 종목 리스트\n",
    "    - long_weight_factor, short_weight_factor: 롱/숏 포지션 가중치\n",
    "    \"\"\"\n",
    "    recent_month_returns = monthly_combined_df.loc[date, (slice(None), 'monthly_return')]\n",
    "    recent_month_return_rank = recent_month_returns.rank(ascending=False)\n",
    "    if use_return_adjustment:\n",
    "        long_positions_count, short_positions_count, long_weight_factor, short_weight_factor = determine_weights_based_on_returns(recent_month_return_rank, n_positions)\n",
    "    else:\n",
    "        long_positions_count, short_positions_count = n_positions // 2, n_positions // 2\n",
    "        long_weight_factor, short_weight_factor = 1.0, 1.0\n",
    "\n",
    "    long_positions = recent_month_return_rank.nlargest(long_positions_count).index.get_level_values(0).tolist()\n",
    "    short_positions = recent_month_return_rank.nsmallest(short_positions_count).index.get_level_values(0).tolist()\n",
    "    \n",
    "    return long_positions, short_positions, long_weight_factor, short_weight_factor\n",
    "\n",
    "def calculate_weights(monthly_combined_df, date, long_positions, short_positions, long_weight_factor, short_weight_factor, use_salience, inverse_salience):\n",
    "    \"\"\"\n",
    "    롱/숏 포지션의 가중치를 계산합니다.\n",
    "\n",
    "    입력값:\n",
    "    - combined_df: 월별 OHLCV 데이터프레임 (pandas.DataFrame)\n",
    "    - date: 현재 날짜 (Timestamp)\n",
    "    - long_positions, short_positions: 롱/숏 포지션 종목 리스트\n",
    "    - long_weight_factor, short_weight_factor: 롱/숏 포지션 가중치\n",
    "    - use_salience: Salience를 사용할지 여부 (bool)\n",
    "    - inverse_salience: Salience의 역으로 가중치를 줄지 여부 (bool)\n",
    "\n",
    "    출력값:\n",
    "    - weights: 종목별 가중치 (dict)\n",
    "    \"\"\"\n",
    "    l_weights = {}\n",
    "    s_weights = {}\n",
    "    \n",
    "    if use_salience:\n",
    "        salience_values = monthly_combined_df.loc[date, (slice(None), 'Salience')]\n",
    "        long_salience_values = salience_values.loc[long_positions]\n",
    "        short_salience_values = salience_values.loc[short_positions]\n",
    "        \n",
    "        if inverse_salience:\n",
    "            long_salience_values = 1 / (long_salience_values + 1e-9)\n",
    "            short_salience_values = 1 / (short_salience_values + 1e-9)\n",
    "        \n",
    "        long_salience_sum = long_salience_values.sum()\n",
    "        short_salience_sum = short_salience_values.sum()\n",
    "        \n",
    "        for pos in long_positions:\n",
    "            salience_value = long_salience_values[pos, 'Salience']\n",
    "            l_weights[pos] = long_weight_factor * (salience_value / long_salience_sum)\n",
    "        \n",
    "        for pos in short_positions:\n",
    "            salience_value = short_salience_values[pos, 'Salience']\n",
    "            s_weights[pos] = short_weight_factor * (salience_value / short_salience_sum)\n",
    "    else:\n",
    "        long_weight = long_weight_factor / len(long_positions)\n",
    "        short_weight = short_weight_factor / len(short_positions)\n",
    "        \n",
    "        for pos in long_positions:\n",
    "            l_weights[pos] = long_weight\n",
    "        \n",
    "        for pos in short_positions:\n",
    "            s_weights[pos] = short_weight\n",
    "    \n",
    "    # Ensure the sum of weights is 2\n",
    "    l_total_weight = sum(l_weights.values())\n",
    "    s_total_weight = sum(s_weights.values())\n",
    "    total_weight = l_total_weight + s_total_weight\n",
    "    weight_adjustment_factor = 2 / total_weight\n",
    "    \n",
    "    for pos in l_weights:\n",
    "        l_weights[pos] *= weight_adjustment_factor\n",
    "    for pos in s_weights:\n",
    "        s_weights[pos] *= weight_adjustment_factor\n",
    "    \n",
    "    weights = {**l_weights, **s_weights}\n",
    "    return weights\n",
    "\n",
    "\n",
    "def backtest_strategy(monthly_combined_df, combined_df, n_positions=8, use_salience=True, reverse_positions=False, use_return_adjustment=True, inverse_salience=False, initial_investment=2):\n",
    "    log_file = os.path.join('strategy_results', f'{n_positions}_{use_salience}_{reverse_positions}_{use_return_adjustment}_{inverse_salience}_backtest_log.csv')\n",
    "    with open(log_file, 'w', newline='') as f:\n",
    "        writer = csv.writer(f)\n",
    "        writer.writerow(['Date', 'Long Positions', 'Short Positions', 'Long Weights', 'Short Weights', 'Monthly Return', 'Cumulative Return'])\n",
    "    \n",
    "    monthly_returns = []\n",
    "    cumulative_returns = [initial_investment]\n",
    "    dates = monthly_combined_df.index.get_level_values(0).unique()\n",
    "    \n",
    "    for date in dates[12:-1]:\n",
    "        long_positions, short_positions, long_weight_factor, short_weight_factor = set_positions(monthly_combined_df, date, n_positions, use_return_adjustment)\n",
    "        if reverse_positions:\n",
    "            long_positions, short_positions = short_positions, long_positions\n",
    "            long_weight_factor, short_weight_factor = short_weight_factor, long_weight_factor\n",
    "        \n",
    "        weights = calculate_weights(monthly_combined_df, date, long_positions, short_positions, long_weight_factor, short_weight_factor, use_salience, inverse_salience)\n",
    "        \n",
    "        long_weights = {pos: weights[pos] for pos in long_positions}\n",
    "        short_weights = {pos: weights[pos] for pos in short_positions}\n",
    "        \n",
    "        monthly_return = 0\n",
    "        next_date = dates[dates.get_loc(date) + 1]\n",
    "        \n",
    "        for symbol in long_positions:\n",
    "            symbol_return = monthly_combined_df.loc[next_date, (symbol, 'monthly_return')]\n",
    "            weight = weights[symbol]\n",
    "            monthly_return += symbol_return * weight\n",
    "        \n",
    "        for symbol in short_positions:\n",
    "            symbol_return = monthly_combined_df.loc[next_date, (symbol, 'monthly_return')]\n",
    "            weight = weights[symbol]\n",
    "            monthly_return -= symbol_return * weight\n",
    "        \n",
    "        if np.isnan(monthly_return):\n",
    "            monthly_return = 0\n",
    "        \n",
    "        monthly_returns.append(monthly_return)\n",
    "        \n",
    "        new_cumulative_return = cumulative_returns[-1] * (1 + monthly_return)\n",
    "        cumulative_returns.append(new_cumulative_return)\n",
    "        \n",
    "        with open(log_file, 'a', newline='') as f:\n",
    "            writer = csv.writer(f)\n",
    "            writer.writerow([date, long_positions, short_positions, long_weights, short_weights, monthly_return, new_cumulative_return])\n",
    "    \n",
    "    if np.isnan(cumulative_returns[-1]):\n",
    "        cumulative_returns = cumulative_returns[:-1]\n",
    "    \n",
    "    if np.isnan(monthly_returns[-1]):\n",
    "        monthly_returns = monthly_returns[:-1]\n",
    "    \n",
    "    sharpe_ratio = calculate_sharpe_ratio(monthly_returns)\n",
    "    max_drawdown = calculate_max_drawdown(cumulative_returns)\n",
    "\n",
    "    return monthly_returns, cumulative_returns, sharpe_ratio, max_drawdown\n",
    "\n",
    "def calculate_sharpe_ratio(monthly_returns, risk_free_rate=0.02):\n",
    "    \"\"\"\n",
    "    샤프 비율을 계산합니다. 1년을 기준으로 합니다.\n",
    "\n",
    "    입력값:\n",
    "    - monthly_returns: 월별 수익률 (list)\n",
    "    - risk_free_rate: 무위험 수익률 (float, default=0.02)\n",
    "\n",
    "    출력값:\n",
    "    - sharpe_ratio: 샤프 비율 (float)\n",
    "    \"\"\"\n",
    "    mean_return = np.mean(monthly_returns)\n",
    "    std_return = np.std(monthly_returns)\n",
    "    annualized_return = mean_return * 12\n",
    "    annualized_std = std_return * np.sqrt(12)\n",
    "    sharpe_ratio = (annualized_return - risk_free_rate) / annualized_std\n",
    "    return sharpe_ratio\n",
    "\n",
    "def calculate_max_drawdown(cumulative_returns):\n",
    "    \"\"\"\n",
    "    최대 손실 낙폭(MDD)을 계산합니다.\n",
    "\n",
    "    입력값:\n",
    "    - cumulative_returns: 누적 수익률 (list)\n",
    "\n",
    "    출력값:\n",
    "    - max_drawdown: 최대 손실 낙폭 (float)\n",
    "    \"\"\"\n",
    "    cumulative_max = np.maximum.accumulate(cumulative_returns)\n",
    "    drawdown = cumulative_max - cumulative_returns\n",
    "    max_drawdown = np.max(drawdown) / cumulative_max[np.argmax(drawdown)]\n",
    "    return max_drawdown"
   ]
  },
  {
   "cell_type": "code",
   "execution_count": 10,
   "id": "e5d44b3e-dfdb-40eb-983f-31d9fe0306d5",
   "metadata": {
    "scrolled": true
   },
   "outputs": [
    {
     "name": "stdout",
     "output_type": "stream",
     "text": [
      "Number of datasets with mismatched dates: 0\n"
     ]
    }
   ],
   "source": [
    "from itertools import product\n",
    "from tqdm import tqdm\n",
    "import plotly.express as px\n",
    "\n",
    "# Main processing\n",
    "for i, (symbol, total_volume, df) in enumerate(top_symbols_data):\n",
    "    if 'timestamp' in df.columns and not pd.api.types.is_datetime64_any_dtype(df.index):\n",
    "        df = df.copy()\n",
    "        df = convert_to_utc(df)\n",
    "        df.set_index('timestamp', inplace=True)\n",
    "        top_symbols_data[i] = (symbol, total_volume, df)\n",
    "\n",
    "errorcount = 0\n",
    "test0 = top_symbols_data[0][2]\n",
    "for test in [df for _, _, df in top_symbols_data][1:]:\n",
    "    val = pd.Series(test0.index == test.index).unique()\n",
    "    if len(val) != 1 or val[0] != True:\n",
    "        errorcount += 1\n",
    "print(f\"Number of datasets with mismatched dates: {errorcount}\")\n",
    "\n",
    "output_dir = 'strategy_results'\n",
    "os.makedirs(output_dir, exist_ok=True)\n",
    "\n",
    "monthly_top_symbols_data = []\n",
    "for symbol, _, df in top_symbols_data:\n",
    "    monthly_top = df.resample('M').last().dropna()\n",
    "    monthly_top_symbols_data.append((symbol, monthly_top))\n",
    "\n",
    "combined_df = pd.concat({symbol: df for symbol, _, df in top_symbols_data}, axis=1)\n",
    "monthly_combined_df = pd.concat({symbol: df for symbol, df in monthly_top_symbols_data}, axis=1)\n",
    "monthly_combined_df = reorder_columns(calculate_monthly_returns(calculate_momentum(monthly_combined_df,months_skip=1, reversion=True)))\n",
    "monthly_combined_df = calculate_salience(combined_df, monthly_combined_df)\n",
    "# # 백테스트 실행 및 결과 출력\n",
    "# monthly_returns, cumulative_returns, sharpe_ratio, max_drawdown = backtest_strategy(monthly_combined_df, combined_df)\n",
    "\n",
    "# print(\"Monthly Returns:\", monthly_returns)\n",
    "# print(\"Cumulative Returns:\", cumulative_returns)\n",
    "# print(\"Sharpe Ratio:\", sharpe_ratio)\n",
    "# print(\"Max Drawdown:\", max_drawdown)"
   ]
  },
  {
   "cell_type": "code",
   "execution_count": 11,
   "id": "3b07919d-33b2-410f-9fca-929a82b4cc02",
   "metadata": {},
   "outputs": [
    {
     "name": "stderr",
     "output_type": "stream",
     "text": [
      "Running Backtests: 100%|███████████████████████████████████████████████████████████████| 60/60 [00:12<00:00,  4.67it/s]\n"
     ]
    }
   ],
   "source": [
    "# Define the parameters for the backtests\n",
    "n_positions_list = [8, 16, 24, 32, 40]\n",
    "use_salience_list = [True, False]\n",
    "reverse_positions_list = [True, False]\n",
    "use_return_adjustment_list = [True, False]\n",
    "\n",
    "# Create a list of parameter combinations\n",
    "params_list = []\n",
    "for use_salience in use_salience_list:\n",
    "    inverse_salience_options = [True, False] if use_salience else [False]\n",
    "    params_combinations = product(\n",
    "        n_positions_list, [use_salience], reverse_positions_list, use_return_adjustment_list, inverse_salience_options\n",
    "    )\n",
    "    params_list.extend(params_combinations)\n",
    "\n",
    "# Convert combinations into list of dicts\n",
    "params_list = [\n",
    "    {\n",
    "        'n_positions': n_positions,\n",
    "        'use_salience': use_salience,\n",
    "        'reverse_positions': reverse_positions,\n",
    "        'use_return_adjustment': use_return_adjustment,\n",
    "        'inverse_salience': inverse_salience\n",
    "    }\n",
    "    for n_positions, use_salience, reverse_positions, use_return_adjustment, inverse_salience in params_list\n",
    "]\n",
    "\n",
    "# Run the backtests with tqdm progress bar\n",
    "results = []\n",
    "sharpe_ratios = []\n",
    "dates = monthly_combined_df.index.get_level_values(0).unique()[12:-1]  # Align with the backtest period\n",
    "for params in tqdm(params_list, desc=\"Running Backtests\"):\n",
    "    monthly_returns, cumulative_returns, sharpe_ratio, max_drawdown = backtest_strategy(\n",
    "        monthly_combined_df, combined_df, \n",
    "        n_positions=params['n_positions'], \n",
    "        use_salience=params['use_salience'], \n",
    "        reverse_positions=params['reverse_positions'], \n",
    "        use_return_adjustment=params['use_return_adjustment'], \n",
    "        inverse_salience=params['inverse_salience'], \n",
    "        initial_investment=2\n",
    "    )\n",
    "    cumulative_returns_series = pd.Series(cumulative_returns[:-1], index=dates) \n",
    "    results.append({\n",
    "        'params': params,\n",
    "        'cumulative_returns': cumulative_returns_series,\n",
    "        'sharpe_ratio': sharpe_ratio,\n",
    "        'max_drawdown': max_drawdown\n",
    "    })\n",
    "    sharpe_ratios.append({\n",
    "        'params': str(params),\n",
    "        'sharpe_ratio': sharpe_ratio\n",
    "    })"
   ]
  },
  {
   "cell_type": "code",
   "execution_count": 12,
   "id": "d8a9be53-4f41-4caf-97f1-1fdfea655100",
   "metadata": {
    "scrolled": true
   },
   "outputs": [
    {
     "data": {
      "application/vnd.plotly.v1+json": {
       "config": {
        "plotlyServerURL": "https://plot.ly"
       },
       "data": [
        {
         "hovertemplate": "Parameters=(8,)_(True,)_(True,)_(True,)_True<br>Time=%{x}<br>Cumulative Return=%{y}<extra></extra>",
         "legendgroup": "(8,)_(True,)_(True,)_(True,)_True",
         "line": {
          "color": "#636efa",
          "dash": "solid"
         },
         "marker": {
          "symbol": "circle"
         },
         "mode": "lines",
         "name": "(8,)_(True,)_(True,)_(True,)_True",
         "showlegend": true,
         "type": "scattergl",
         "x": [
          0,
          1,
          2,
          3,
          4,
          5,
          6,
          7,
          8,
          9,
          10,
          11,
          12,
          13,
          14,
          15,
          16,
          17,
          18,
          19,
          20,
          21,
          22,
          23,
          24,
          25,
          26,
          27,
          28,
          29
         ],
         "xaxis": "x",
         "y": [
          2,
          1.4729704546580198,
          1.7593518442850948,
          2.1029303411561506,
          2.7036860872296566,
          2.96980802367605,
          3.0948548414785533,
          3.204342473348295,
          3.7091446088406848,
          4.5468122701282025,
          2.4577479953036723,
          2.1544567821202145,
          1.8464434035790913,
          1.7714110818510618,
          1.803596608807644,
          2.114367305442298,
          2.4219077807138447,
          2.674404357785275,
          4.144221126852857,
          5.483973492617552,
          4.976597517782969,
          5.007945061799084,
          4.722169391723139,
          5.167828260510402,
          5.017327913542775,
          6.5602170794121415,
          2.486987696393515,
          2.2752605143427607,
          2.663659522593028,
          2.3479048821162327
         ],
         "yaxis": "y"
        },
        {
         "hovertemplate": "Parameters=(8,)_(True,)_(True,)_(True,)_False<br>Time=%{x}<br>Cumulative Return=%{y}<extra></extra>",
         "legendgroup": "(8,)_(True,)_(True,)_(True,)_False",
         "line": {
          "color": "#EF553B",
          "dash": "solid"
         },
         "marker": {
          "symbol": "circle"
         },
         "mode": "lines",
         "name": "(8,)_(True,)_(True,)_(True,)_False",
         "showlegend": true,
         "type": "scattergl",
         "x": [
          0,
          1,
          2,
          3,
          4,
          5,
          6,
          7,
          8,
          9,
          10,
          11,
          12,
          13,
          14,
          15,
          16,
          17,
          18,
          19,
          20,
          21,
          22,
          23,
          24,
          25,
          26,
          27,
          28,
          29
         ],
         "xaxis": "x",
         "y": [
          2,
          1.4517276503325505,
          1.6096248682096095,
          1.928832264216768,
          2.802050392828358,
          3.0944106055137275,
          3.29086522766018,
          3.477254259114074,
          4.054423399161526,
          4.984167574922568,
          2.7859390742474117,
          2.39376017945553,
          1.9625028464449379,
          1.8702638656965973,
          1.911908974121194,
          2.2698073644023125,
          2.214688013743431,
          2.4396792180056623,
          4.220681884518174,
          6.895837725222303,
          3.5557012822283394,
          3.199219003313235,
          3.0897257301613226,
          3.1834833814721577,
          2.7398887616061534,
          3.3061538861726465,
          1.9577079502711963,
          1.6941925666064148,
          1.9858215646834356,
          1.7330805015851594
         ],
         "yaxis": "y"
        },
        {
         "hovertemplate": "Parameters=(8,)_(True,)_(True,)_(False,)_True<br>Time=%{x}<br>Cumulative Return=%{y}<extra></extra>",
         "legendgroup": "(8,)_(True,)_(True,)_(False,)_True",
         "line": {
          "color": "#00cc96",
          "dash": "solid"
         },
         "marker": {
          "symbol": "circle"
         },
         "mode": "lines",
         "name": "(8,)_(True,)_(True,)_(False,)_True",
         "showlegend": true,
         "type": "scattergl",
         "x": [
          0,
          1,
          2,
          3,
          4,
          5,
          6,
          7,
          8,
          9,
          10,
          11,
          12,
          13,
          14,
          15,
          16,
          17,
          18,
          19,
          20,
          21,
          22,
          23,
          24,
          25,
          26,
          27,
          28,
          29
         ],
         "xaxis": "x",
         "y": [
          2,
          1.6871036087836215,
          2.015117707369517,
          2.1483750321867654,
          1.881909602605131,
          1.7998871868314779,
          1.7583098977263394,
          1.8678754663265507,
          2.051987945072149,
          2.28724798619937,
          1.904398945014141,
          1.669392155252821,
          1.5450204727215426,
          1.4595320037560062,
          1.4839225911418883,
          1.7199902753588214,
          2.0302750649910024,
          2.0713340560963145,
          3.6097786238478236,
          3.974482258790642,
          4.612421761054202,
          3.41324065794446,
          2.978268253064541,
          2.798245115844022,
          3.1074598629130987,
          3.179605626659894,
          1.4855751734713885,
          1.3591022336736645,
          1.5753466221299461,
          1.6049378208491918
         ],
         "yaxis": "y"
        },
        {
         "hovertemplate": "Parameters=(8,)_(True,)_(True,)_(False,)_False<br>Time=%{x}<br>Cumulative Return=%{y}<extra></extra>",
         "legendgroup": "(8,)_(True,)_(True,)_(False,)_False",
         "line": {
          "color": "#ab63fa",
          "dash": "solid"
         },
         "marker": {
          "symbol": "circle"
         },
         "mode": "lines",
         "name": "(8,)_(True,)_(True,)_(False,)_False",
         "showlegend": true,
         "type": "scattergl",
         "x": [
          0,
          1,
          2,
          3,
          4,
          5,
          6,
          7,
          8,
          9,
          10,
          11,
          12,
          13,
          14,
          15,
          16,
          17,
          18,
          19,
          20,
          21,
          22,
          23,
          24,
          25,
          26,
          27,
          28,
          29
         ],
         "xaxis": "x",
         "y": [
          2,
          1.710838473636871,
          1.896917890917664,
          2.034114799599127,
          2.108681249335629,
          2.0645778744904675,
          2.0790304578629906,
          2.2638719827417555,
          2.49232817861816,
          2.783946226408323,
          2.2406572103238744,
          1.9252380841573558,
          1.721699895504655,
          1.639219943936298,
          1.676988343270934,
          1.9737979083039723,
          1.9713861455705128,
          2.0122180018932885,
          3.596298543164371,
          4.854836215097219,
          4.422200472617497,
          2.0426161496943913,
          1.9435123121625244,
          1.686350848421236,
          1.7042741331535791,
          1.5743275890682227,
          0.9609327716296249,
          0.8315873460481614,
          0.9656728575666248,
          0.9856157954902247
         ],
         "yaxis": "y"
        },
        {
         "hovertemplate": "Parameters=(8,)_(True,)_(False,)_(True,)_True<br>Time=%{x}<br>Cumulative Return=%{y}<extra></extra>",
         "legendgroup": "(8,)_(True,)_(False,)_(True,)_True",
         "line": {
          "color": "#FFA15A",
          "dash": "solid"
         },
         "marker": {
          "symbol": "circle"
         },
         "mode": "lines",
         "name": "(8,)_(True,)_(False,)_(True,)_True",
         "showlegend": true,
         "type": "scattergl",
         "x": [
          0,
          1,
          2,
          3,
          4,
          5,
          6,
          7,
          8,
          9,
          10,
          11,
          12,
          13,
          14,
          15,
          16,
          17,
          18,
          19,
          20,
          21,
          22,
          23,
          24,
          25,
          26,
          27,
          28,
          29
         ],
         "xaxis": "x",
         "y": [
          2,
          2.52702954534198,
          2.03571335462332,
          1.6381650548254336,
          1.170181379644762,
          1.0550012423442574,
          1.0105793312035032,
          0.9748277552953036,
          0.8212564261682641,
          0.6357851053181626,
          0.9279009594764155,
          1.0424058673235377,
          1.1914341308143657,
          1.2398494079074713,
          1.217322052767179,
          1.00757003808731,
          0.8610162356400471,
          0.7712507813014177,
          0.34738169500810495,
          0.23507942313008634,
          0.25682891765896093,
          0.2552111545643653,
          0.2697746407461179,
          0.24431442294174696,
          0.2514294824151624,
          0.17411186812262203,
          0.2822176775164903,
          0.30624399404074387,
          0.2539665239144781,
          0.2840721390546942
         ],
         "yaxis": "y"
        },
        {
         "hovertemplate": "Parameters=(8,)_(True,)_(False,)_(True,)_False<br>Time=%{x}<br>Cumulative Return=%{y}<extra></extra>",
         "legendgroup": "(8,)_(True,)_(False,)_(True,)_False",
         "line": {
          "color": "#19d3f3",
          "dash": "solid"
         },
         "marker": {
          "symbol": "circle"
         },
         "mode": "lines",
         "name": "(8,)_(True,)_(False,)_(True,)_False",
         "showlegend": true,
         "type": "scattergl",
         "x": [
          0,
          1,
          2,
          3,
          4,
          5,
          6,
          7,
          8,
          9,
          10,
          11,
          12,
          13,
          14,
          15,
          16,
          17,
          18,
          19,
          20,
          21,
          22,
          23,
          24,
          25,
          26,
          27,
          28,
          29
         ],
         "xaxis": "x",
         "y": [
          2,
          2.5482723496674495,
          2.2711094022555463,
          1.8207219034914792,
          0.9964473396612437,
          0.8924800602365953,
          0.8358192432478573,
          0.7884798572681221,
          0.6576046875932634,
          0.5068054078807802,
          0.7303280072221832,
          0.833136870975001,
          0.9832339392164787,
          1.029446609203069,
          1.0065239529704804,
          0.8181084439564574,
          0.8379751546327187,
          0.7528448617821399,
          0.2032567452754547,
          0.07442839853825048,
          0.11047927680094549,
          0.1215555459363021,
          0.12571578460097294,
          0.12190094220838597,
          0.13888692757113374,
          0.11018254203410123,
          0.1551215273712816,
          0.1760015104117793,
          0.1457055776157564,
          0.16424993388667097
         ],
         "yaxis": "y"
        },
        {
         "hovertemplate": "Parameters=(8,)_(True,)_(False,)_(False,)_True<br>Time=%{x}<br>Cumulative Return=%{y}<extra></extra>",
         "legendgroup": "(8,)_(True,)_(False,)_(False,)_True",
         "line": {
          "color": "#FF6692",
          "dash": "solid"
         },
         "marker": {
          "symbol": "circle"
         },
         "mode": "lines",
         "name": "(8,)_(True,)_(False,)_(False,)_True",
         "showlegend": true,
         "type": "scattergl",
         "x": [
          0,
          1,
          2,
          3,
          4,
          5,
          6,
          7,
          8,
          9,
          10,
          11,
          12,
          13,
          14,
          15,
          16,
          17,
          18,
          19,
          20,
          21,
          22,
          23,
          24,
          25,
          26,
          27,
          28,
          29
         ],
         "xaxis": "x",
         "y": [
          2,
          2.3128963912163782,
          1.8632129094565382,
          1.7400008673157106,
          1.9558151788932205,
          2.0410587450865862,
          2.0882070831301647,
          1.9580846304760566,
          1.7650804278888272,
          1.5627142809262153,
          1.8242878696708318,
          2.0494087861543657,
          2.2020921554432324,
          2.3239374579577374,
          2.2851015848821383,
          1.9215794964904063,
          1.5749281820196592,
          1.5430778365506637,
          0.39698568001406753,
          0.3568773698908702,
          0.2995954003428203,
          0.37748705060413434,
          0.4255927854957348,
          0.45131798615370966,
          0.40144595166106617,
          0.39212559803999136,
          0.6010422948104347,
          0.6522114226505412,
          0.5484391995308401,
          0.5381373566787581
         ],
         "yaxis": "y"
        },
        {
         "hovertemplate": "Parameters=(8,)_(True,)_(False,)_(False,)_False<br>Time=%{x}<br>Cumulative Return=%{y}<extra></extra>",
         "legendgroup": "(8,)_(True,)_(False,)_(False,)_False",
         "line": {
          "color": "#B6E880",
          "dash": "solid"
         },
         "marker": {
          "symbol": "circle"
         },
         "mode": "lines",
         "name": "(8,)_(True,)_(False,)_(False,)_False",
         "showlegend": true,
         "type": "scattergl",
         "x": [
          0,
          1,
          2,
          3,
          4,
          5,
          6,
          7,
          8,
          9,
          10,
          11,
          12,
          13,
          14,
          15,
          16,
          17,
          18,
          19,
          20,
          21,
          22,
          23,
          24,
          25,
          26,
          27,
          28,
          29
         ],
         "xaxis": "x",
         "y": [
          2,
          2.289161526363129,
          2.0401807783549604,
          1.892622205956114,
          1.82324258263376,
          1.861375966273839,
          1.848345849235109,
          1.684013930006214,
          1.5140734832031408,
          1.3369173778513352,
          1.597817721366994,
          1.8227438131961442,
          2.015446200069111,
          2.111998395608162,
          2.063336958139378,
          1.6981476904146953,
          1.7002226390699868,
          1.6650071909594166,
          0.35426178971878663,
          0.2302865961312313,
          0.250808444466823,
          0.38576836910287754,
          0.40448511418600286,
          0.45800573423800295,
          0.4531378461638938,
          0.48768844806402467,
          0.6777032636871169,
          0.7689248555065943,
          0.6449430716809768,
          0.6316237994843859
         ],
         "yaxis": "y"
        },
        {
         "hovertemplate": "Parameters=(16,)_(True,)_(True,)_(True,)_True<br>Time=%{x}<br>Cumulative Return=%{y}<extra></extra>",
         "legendgroup": "(16,)_(True,)_(True,)_(True,)_True",
         "line": {
          "color": "#FF97FF",
          "dash": "solid"
         },
         "marker": {
          "symbol": "circle"
         },
         "mode": "lines",
         "name": "(16,)_(True,)_(True,)_(True,)_True",
         "showlegend": true,
         "type": "scattergl",
         "x": [
          0,
          1,
          2,
          3,
          4,
          5,
          6,
          7,
          8,
          9,
          10,
          11,
          12,
          13,
          14,
          15,
          16,
          17,
          18,
          19,
          20,
          21,
          22,
          23,
          24,
          25,
          26,
          27,
          28,
          29
         ],
         "xaxis": "x",
         "y": [
          2,
          1.477957589128672,
          1.6260514985207022,
          1.9032139087328572,
          2.014674109696274,
          2.258506886795471,
          2.3025834146750253,
          2.3560634181451694,
          2.7544367937288246,
          3.306835038055627,
          1.6139041439839135,
          1.439073683264052,
          1.5512500630905457,
          1.563621166207194,
          1.6565413038080758,
          1.9036556670823979,
          2.0547352806240977,
          1.9773553446149095,
          2.464909484544039,
          2.8468260372921126,
          2.982484868426818,
          3.989210197795384,
          4.142603893844915,
          4.7334904581386,
          3.908919164774039,
          5.144959097360156,
          3.2806091386483125,
          2.967144452742149,
          3.188564984050086,
          2.6646409532229485
         ],
         "yaxis": "y"
        },
        {
         "hovertemplate": "Parameters=(16,)_(True,)_(True,)_(True,)_False<br>Time=%{x}<br>Cumulative Return=%{y}<extra></extra>",
         "legendgroup": "(16,)_(True,)_(True,)_(True,)_False",
         "line": {
          "color": "#FECB52",
          "dash": "solid"
         },
         "marker": {
          "symbol": "circle"
         },
         "mode": "lines",
         "name": "(16,)_(True,)_(True,)_(True,)_False",
         "showlegend": true,
         "type": "scattergl",
         "x": [
          0,
          1,
          2,
          3,
          4,
          5,
          6,
          7,
          8,
          9,
          10,
          11,
          12,
          13,
          14,
          15,
          16,
          17,
          18,
          19,
          20,
          21,
          22,
          23,
          24,
          25,
          26,
          27,
          28,
          29
         ],
         "xaxis": "x",
         "y": [
          2,
          1.4221418564579285,
          1.4869397427973194,
          1.7426698556593274,
          2.0241139607780996,
          2.2778318197188367,
          2.324654531544563,
          2.396046353528473,
          2.791989349063881,
          3.326147348411435,
          1.4538089119544868,
          1.291513379850326,
          1.2735993641099517,
          1.2887905835674662,
          1.3762559878083716,
          1.6151818661982595,
          1.59271230693694,
          1.5488810143941723,
          1.8529142897514304,
          2.5036566214982416,
          2.1038369442774076,
          2.447185031098119,
          2.5958963556657464,
          2.8969725410059874,
          2.2481069869238333,
          2.8015294809019577,
          2.237692101196309,
          1.9863954409167892,
          2.1877544276779006,
          1.8542046915747894
         ],
         "yaxis": "y"
        },
        {
         "hovertemplate": "Parameters=(16,)_(True,)_(True,)_(False,)_True<br>Time=%{x}<br>Cumulative Return=%{y}<extra></extra>",
         "legendgroup": "(16,)_(True,)_(True,)_(False,)_True",
         "line": {
          "color": "#636efa",
          "dash": "solid"
         },
         "marker": {
          "symbol": "circle"
         },
         "mode": "lines",
         "name": "(16,)_(True,)_(True,)_(False,)_True",
         "showlegend": true,
         "type": "scattergl",
         "x": [
          0,
          1,
          2,
          3,
          4,
          5,
          6,
          7,
          8,
          9,
          10,
          11,
          12,
          13,
          14,
          15,
          16,
          17,
          18,
          19,
          20,
          21,
          22,
          23,
          24,
          25,
          26,
          27,
          28,
          29
         ],
         "xaxis": "x",
         "y": [
          2,
          1.8521334540803318,
          2.037720432995084,
          2.147574382109843,
          1.781369278817217,
          1.6645659361638512,
          1.6561586043240464,
          1.7880559141676866,
          1.9130169359895617,
          2.0565511822644167,
          1.577668291188943,
          1.4067631756405015,
          1.2949128063480202,
          1.2519148509578355,
          1.2961046102793603,
          1.6902052423153962,
          1.8588932990323512,
          1.7035087734406826,
          2.1133161959673643,
          2.2838586668315988,
          3.04328765189379,
          3.3769885587025383,
          2.850868680006292,
          2.8318078377898726,
          3.238272347925345,
          3.179124806176274,
          2.1398985417324843,
          1.9354296166317,
          2.1862714369991787,
          2.3385868668621583
         ],
         "yaxis": "y"
        },
        {
         "hovertemplate": "Parameters=(16,)_(True,)_(True,)_(False,)_False<br>Time=%{x}<br>Cumulative Return=%{y}<extra></extra>",
         "legendgroup": "(16,)_(True,)_(True,)_(False,)_False",
         "line": {
          "color": "#EF553B",
          "dash": "solid"
         },
         "marker": {
          "symbol": "circle"
         },
         "mode": "lines",
         "name": "(16,)_(True,)_(True,)_(False,)_False",
         "showlegend": true,
         "type": "scattergl",
         "x": [
          0,
          1,
          2,
          3,
          4,
          5,
          6,
          7,
          8,
          9,
          10,
          11,
          12,
          13,
          14,
          15,
          16,
          17,
          18,
          19,
          20,
          21,
          22,
          23,
          24,
          25,
          26,
          27,
          28,
          29
         ],
         "xaxis": "x",
         "y": [
          2,
          1.7719835094494978,
          1.852721436906723,
          1.957071691185577,
          1.8048798763657843,
          1.7180649926412264,
          1.713321078019842,
          1.8206115239731513,
          1.9656545681954725,
          2.076816771134839,
          1.6296585761319158,
          1.447732118268987,
          1.3131079457672934,
          1.2681673397957358,
          1.3481139982827206,
          1.8061241167234026,
          1.8197226927158237,
          1.718335456263729,
          2.280869480820685,
          2.862138650033237,
          3.1573415889653114,
          2.99239904162355,
          2.6115778096137503,
          2.5328053662379926,
          2.7551387287866254,
          2.5535675776969,
          2.143975414628836,
          1.9032032989612748,
          2.1474729213658663,
          2.299504434613748
         ],
         "yaxis": "y"
        },
        {
         "hovertemplate": "Parameters=(16,)_(True,)_(False,)_(True,)_True<br>Time=%{x}<br>Cumulative Return=%{y}<extra></extra>",
         "legendgroup": "(16,)_(True,)_(False,)_(True,)_True",
         "line": {
          "color": "#00cc96",
          "dash": "solid"
         },
         "marker": {
          "symbol": "circle"
         },
         "mode": "lines",
         "name": "(16,)_(True,)_(False,)_(True,)_True",
         "showlegend": true,
         "type": "scattergl",
         "x": [
          0,
          1,
          2,
          3,
          4,
          5,
          6,
          7,
          8,
          9,
          10,
          11,
          12,
          13,
          14,
          15,
          16,
          17,
          18,
          19,
          20,
          21,
          22,
          23,
          24,
          25,
          26,
          27,
          28,
          29
         ],
         "xaxis": "x",
         "y": [
          2,
          2.522042410871328,
          2.2693293945941617,
          1.8825195025684687,
          1.772271252957087,
          1.5577761049320065,
          1.5273748861796648,
          1.4918999436900662,
          1.239643059591093,
          0.9910344688007383,
          1.4983935750200845,
          1.660711046003078,
          1.5312579434656506,
          1.519046276006273,
          1.4287750568394262,
          1.2156376979208983,
          1.1191611781466624,
          1.161308028480907,
          0.8749656982766868,
          0.7393972786840065,
          0.7041630321032549,
          0.46647573721439844,
          0.44853874369916824,
          0.38456074242060106,
          0.451551000784761,
          0.30876598911224323,
          0.42065178803888453,
          0.4608453847280055,
          0.426455205361112,
          0.49652752042373605
         ],
         "yaxis": "y"
        },
        {
         "hovertemplate": "Parameters=(16,)_(True,)_(False,)_(True,)_False<br>Time=%{x}<br>Cumulative Return=%{y}<extra></extra>",
         "legendgroup": "(16,)_(True,)_(False,)_(True,)_False",
         "line": {
          "color": "#ab63fa",
          "dash": "solid"
         },
         "marker": {
          "symbol": "circle"
         },
         "mode": "lines",
         "name": "(16,)_(True,)_(False,)_(True,)_False",
         "showlegend": true,
         "type": "scattergl",
         "x": [
          0,
          1,
          2,
          3,
          4,
          5,
          6,
          7,
          8,
          9,
          10,
          11,
          12,
          13,
          14,
          15,
          16,
          17,
          18,
          19,
          20,
          21,
          22,
          23,
          24,
          25,
          26,
          27,
          28,
          29
         ],
         "xaxis": "x",
         "y": [
          2,
          2.5778581435420715,
          2.4604016758726988,
          2.0372515103702873,
          1.708231973837878,
          1.4941091688108097,
          1.4633965224943495,
          1.4184545568783342,
          1.1840571106627413,
          0.9575255955776584,
          1.4965311743135572,
          1.6635959936639608,
          1.686671004175717,
          1.6665527549844057,
          1.5534500428276987,
          1.2837622672210165,
          1.3016212916098078,
          1.337441786851767,
          1.074912384478497,
          0.6974038319415637,
          0.8087752446924814,
          0.6767823952996339,
          0.6356554657172402,
          0.5619311344699168,
          0.6877927889256477,
          0.5184770033329675,
          0.6228259730617383,
          0.6927703978921615,
          0.6225449319530756,
          0.7174594685839892
         ],
         "yaxis": "y"
        },
        {
         "hovertemplate": "Parameters=(16,)_(True,)_(False,)_(False,)_True<br>Time=%{x}<br>Cumulative Return=%{y}<extra></extra>",
         "legendgroup": "(16,)_(True,)_(False,)_(False,)_True",
         "line": {
          "color": "#FFA15A",
          "dash": "solid"
         },
         "marker": {
          "symbol": "circle"
         },
         "mode": "lines",
         "name": "(16,)_(True,)_(False,)_(False,)_True",
         "showlegend": true,
         "type": "scattergl",
         "x": [
          0,
          1,
          2,
          3,
          4,
          5,
          6,
          7,
          8,
          9,
          10,
          11,
          12,
          13,
          14,
          15,
          16,
          17,
          18,
          19,
          20,
          21,
          22,
          23,
          24,
          25,
          26,
          27,
          28,
          29
         ],
         "xaxis": "x",
         "y": [
          2,
          2.147866545919668,
          1.9326465991652235,
          1.8284572031500634,
          2.1402463381498436,
          2.280581039870709,
          2.292099719409441,
          2.10955573715186,
          1.9621262085694708,
          1.814907278540775,
          2.2375216302169396,
          2.4799071144724296,
          2.6770821126298143,
          2.7659754008036757,
          2.6683427326096236,
          1.8569918979084366,
          1.6716579829761986,
          1.8113915452906657,
          1.3756311242492891,
          1.2646190895263782,
          0.8441077831145686,
          0.7515501399044802,
          0.8686383270769619,
          0.8744460228897034,
          0.748932112803496,
          0.7626114728603006,
          1.0119020545395412,
          1.1085900616407864,
          0.9649109804106332,
          0.8976865597492705
         ],
         "yaxis": "y"
        },
        {
         "hovertemplate": "Parameters=(16,)_(True,)_(False,)_(False,)_False<br>Time=%{x}<br>Cumulative Return=%{y}<extra></extra>",
         "legendgroup": "(16,)_(True,)_(False,)_(False,)_False",
         "line": {
          "color": "#19d3f3",
          "dash": "solid"
         },
         "marker": {
          "symbol": "circle"
         },
         "mode": "lines",
         "name": "(16,)_(True,)_(False,)_(False,)_False",
         "showlegend": true,
         "type": "scattergl",
         "x": [
          0,
          1,
          2,
          3,
          4,
          5,
          6,
          7,
          8,
          9,
          10,
          11,
          12,
          13,
          14,
          15,
          16,
          17,
          18,
          19,
          20,
          21,
          22,
          23,
          24,
          25,
          26,
          27,
          28,
          29
         ],
         "xaxis": "x",
         "y": [
          2,
          2.228016490550502,
          2.1265000639989635,
          2.0067298611060918,
          2.1627833469289808,
          2.2668134196466827,
          2.2730725363689674,
          2.130729709189658,
          1.960980413765355,
          1.850082544810066,
          2.2484227271708006,
          2.499424739815429,
          2.7318454916118564,
          2.825341835312652,
          2.647229190609853,
          1.7478558759826595,
          1.7346960102052897,
          1.831345920251037,
          1.231815492638965,
          0.9178929407129469,
          0.823220834691696,
          0.8662266792203387,
          0.9764651556373976,
          1.0059180579777738,
          0.9176170983936671,
          0.9847516977698245,
          1.142705840631505,
          1.2710336661080657,
          1.1079008500535796,
          1.0294664069058033
         ],
         "yaxis": "y"
        },
        {
         "hovertemplate": "Parameters=(24,)_(True,)_(True,)_(True,)_True<br>Time=%{x}<br>Cumulative Return=%{y}<extra></extra>",
         "legendgroup": "(24,)_(True,)_(True,)_(True,)_True",
         "line": {
          "color": "#FF6692",
          "dash": "solid"
         },
         "marker": {
          "symbol": "circle"
         },
         "mode": "lines",
         "name": "(24,)_(True,)_(True,)_(True,)_True",
         "showlegend": true,
         "type": "scattergl",
         "x": [
          0,
          1,
          2,
          3,
          4,
          5,
          6,
          7,
          8,
          9,
          10,
          11,
          12,
          13,
          14,
          15,
          16,
          17,
          18,
          19,
          20,
          21,
          22,
          23,
          24,
          25,
          26,
          27,
          28,
          29
         ],
         "xaxis": "x",
         "y": [
          2,
          1.5014070364937753,
          1.6223499127018113,
          1.91271230712742,
          2.1603892674258858,
          2.419737597486436,
          2.571733449707058,
          2.565479215116751,
          2.8655755986101283,
          3.335116343230915,
          1.7282011578611738,
          1.7126753126950467,
          1.786841039176244,
          1.8369201916823676,
          1.9931746947661693,
          2.5391589702568393,
          2.683716768374681,
          2.806324378419478,
          3.131446395916052,
          3.716517673882513,
          3.858165320072914,
          5.441913213594879,
          5.533400290139237,
          5.984931732654285,
          5.011898466969432,
          6.622961960108332,
          4.491654608929677,
          4.167654479490603,
          4.672253313081335,
          3.9301524312833602
         ],
         "yaxis": "y"
        },
        {
         "hovertemplate": "Parameters=(24,)_(True,)_(True,)_(True,)_False<br>Time=%{x}<br>Cumulative Return=%{y}<extra></extra>",
         "legendgroup": "(24,)_(True,)_(True,)_(True,)_False",
         "line": {
          "color": "#B6E880",
          "dash": "solid"
         },
         "marker": {
          "symbol": "circle"
         },
         "mode": "lines",
         "name": "(24,)_(True,)_(True,)_(True,)_False",
         "showlegend": true,
         "type": "scattergl",
         "x": [
          0,
          1,
          2,
          3,
          4,
          5,
          6,
          7,
          8,
          9,
          10,
          11,
          12,
          13,
          14,
          15,
          16,
          17,
          18,
          19,
          20,
          21,
          22,
          23,
          24,
          25,
          26,
          27,
          28,
          29
         ],
         "xaxis": "x",
         "y": [
          2,
          1.4440807689814408,
          1.5089229878818688,
          1.7837991325159783,
          2.1137519935303555,
          2.402142637941073,
          2.5107415062267657,
          2.488652904499746,
          2.743804759374978,
          3.115603390828792,
          1.5777817161627812,
          1.5812476256189727,
          1.5556864009896019,
          1.599211582927098,
          1.7622008699704785,
          2.271991722083684,
          2.2768681260265633,
          2.3712581653737943,
          2.7112299842438046,
          3.594494747102981,
          3.1676201238867567,
          3.9430169442125904,
          4.139771584135676,
          4.431036305356076,
          3.492309906831609,
          4.440487967898003,
          3.551613902760946,
          3.281918694689952,
          3.716844934520878,
          3.1532617793454403
         ],
         "yaxis": "y"
        },
        {
         "hovertemplate": "Parameters=(24,)_(True,)_(True,)_(False,)_True<br>Time=%{x}<br>Cumulative Return=%{y}<extra></extra>",
         "legendgroup": "(24,)_(True,)_(True,)_(False,)_True",
         "line": {
          "color": "#FF97FF",
          "dash": "solid"
         },
         "marker": {
          "symbol": "circle"
         },
         "mode": "lines",
         "name": "(24,)_(True,)_(True,)_(False,)_True",
         "showlegend": true,
         "type": "scattergl",
         "x": [
          0,
          1,
          2,
          3,
          4,
          5,
          6,
          7,
          8,
          9,
          10,
          11,
          12,
          13,
          14,
          15,
          16,
          17,
          18,
          19,
          20,
          21,
          22,
          23,
          24,
          25,
          26,
          27,
          28,
          29
         ],
         "xaxis": "x",
         "y": [
          2,
          1.8459881215648946,
          1.9946880459966485,
          2.0524307910290576,
          1.49849567354424,
          1.4194954284845558,
          1.4518759527536222,
          1.6685175234601517,
          1.7537149607789757,
          1.8963135042468902,
          1.464362653826631,
          1.4512070858379436,
          1.4772447497744274,
          1.4443856990909687,
          1.494711879249145,
          1.840721010888048,
          1.9898224089668761,
          1.8527494425008324,
          2.1666160390956817,
          2.2007543877011324,
          2.786409303313683,
          3.1519561346966527,
          2.7493829626429744,
          2.55904768664322,
          2.744510645498971,
          2.6621501431458836,
          2.0629185622836146,
          1.914112400769466,
          2.096270708218787,
          2.176573422154192
         ],
         "yaxis": "y"
        },
        {
         "hovertemplate": "Parameters=(24,)_(True,)_(True,)_(False,)_False<br>Time=%{x}<br>Cumulative Return=%{y}<extra></extra>",
         "legendgroup": "(24,)_(True,)_(True,)_(False,)_False",
         "line": {
          "color": "#FECB52",
          "dash": "solid"
         },
         "marker": {
          "symbol": "circle"
         },
         "mode": "lines",
         "name": "(24,)_(True,)_(True,)_(False,)_False",
         "showlegend": true,
         "type": "scattergl",
         "x": [
          0,
          1,
          2,
          3,
          4,
          5,
          6,
          7,
          8,
          9,
          10,
          11,
          12,
          13,
          14,
          15,
          16,
          17,
          18,
          19,
          20,
          21,
          22,
          23,
          24,
          25,
          26,
          27,
          28,
          29
         ],
         "xaxis": "x",
         "y": [
          2,
          1.792891604560016,
          1.873396152771415,
          1.932791345352567,
          1.54574872712281,
          1.4718214613905443,
          1.475842206432233,
          1.6836168420343163,
          1.7473747144868654,
          1.8112064065703155,
          1.3958065282506573,
          1.3988726932313513,
          1.3757461905787367,
          1.3471314498909879,
          1.4249853493199085,
          1.797720494289848,
          1.8365596564845104,
          1.742196269421088,
          2.1087522579154534,
          2.4125382831496265,
          2.6991761015704183,
          2.7436411224080333,
          2.4294766403422727,
          2.1948056184855185,
          2.2483855408916753,
          2.1065919598549296,
          1.8609120147504512,
          1.7196018761034022,
          1.8884235516830956,
          1.967422621757821
         ],
         "yaxis": "y"
        },
        {
         "hovertemplate": "Parameters=(24,)_(True,)_(False,)_(True,)_True<br>Time=%{x}<br>Cumulative Return=%{y}<extra></extra>",
         "legendgroup": "(24,)_(True,)_(False,)_(True,)_True",
         "line": {
          "color": "#636efa",
          "dash": "solid"
         },
         "marker": {
          "symbol": "circle"
         },
         "mode": "lines",
         "name": "(24,)_(True,)_(False,)_(True,)_True",
         "showlegend": true,
         "type": "scattergl",
         "x": [
          0,
          1,
          2,
          3,
          4,
          5,
          6,
          7,
          8,
          9,
          10,
          11,
          12,
          13,
          14,
          15,
          16,
          17,
          18,
          19,
          20,
          21,
          22,
          23,
          24,
          25,
          26,
          27,
          28,
          29
         ],
         "xaxis": "x",
         "y": [
          2,
          2.4985929635062245,
          2.297323745942613,
          1.886156944983003,
          1.6419186363578937,
          1.444811169266052,
          1.3540553347497029,
          1.3573482808801605,
          1.1985727554995924,
          1.0021798408012583,
          1.4850469551445225,
          1.4983883471376496,
          1.4335021077595897,
          1.3933258586706176,
          1.2748049557668322,
          0.9256015156499467,
          0.8729057535475215,
          0.8330264005926898,
          0.7365175201256573,
          0.5989085074640976,
          0.5760823062161233,
          0.3396048452275366,
          0.3338955563707151,
          0.3066493181966755,
          0.3565045213691626,
          0.24190694456228248,
          0.3197539943192053,
          0.34281906600617784,
          0.3013122420382454,
          0.34917010965151496
         ],
         "yaxis": "y"
        },
        {
         "hovertemplate": "Parameters=(24,)_(True,)_(False,)_(True,)_False<br>Time=%{x}<br>Cumulative Return=%{y}<extra></extra>",
         "legendgroup": "(24,)_(True,)_(False,)_(True,)_False",
         "line": {
          "color": "#EF553B",
          "dash": "solid"
         },
         "marker": {
          "symbol": "circle"
         },
         "mode": "lines",
         "name": "(24,)_(True,)_(False,)_(True,)_False",
         "showlegend": true,
         "type": "scattergl",
         "x": [
          0,
          1,
          2,
          3,
          4,
          5,
          6,
          7,
          8,
          9,
          10,
          11,
          12,
          13,
          14,
          15,
          16,
          17,
          18,
          19,
          20,
          21,
          22,
          23,
          24,
          25,
          26,
          27,
          28,
          29
         ],
         "xaxis": "x",
         "y": [
          2,
          2.5559192310185592,
          2.441153161260276,
          1.9964553371715057,
          1.6271670364994228,
          1.4051638158490212,
          1.3416375298795893,
          1.3534407748516573,
          1.2146777824139519,
          1.0500831494992773,
          1.568390656884538,
          1.5649453767465993,
          1.5902430718448335,
          1.5457510591982875,
          1.3882103899241556,
          0.9866120422830629,
          0.9844944646500471,
          0.9436811781038393,
          0.8083838025425483,
          0.5450284502480467,
          0.6097548807232257,
          0.4604939285889762,
          0.43751550410128115,
          0.4067329286036361,
          0.492900342029674,
          0.35907565204714376,
          0.43095357105836696,
          0.4636784438057038,
          0.4022308758384169,
          0.4632209225332803
         ],
         "yaxis": "y"
        },
        {
         "hovertemplate": "Parameters=(24,)_(True,)_(False,)_(False,)_True<br>Time=%{x}<br>Cumulative Return=%{y}<extra></extra>",
         "legendgroup": "(24,)_(True,)_(False,)_(False,)_True",
         "line": {
          "color": "#00cc96",
          "dash": "solid"
         },
         "marker": {
          "symbol": "circle"
         },
         "mode": "lines",
         "name": "(24,)_(True,)_(False,)_(False,)_True",
         "showlegend": true,
         "type": "scattergl",
         "x": [
          0,
          1,
          2,
          3,
          4,
          5,
          6,
          7,
          8,
          9,
          10,
          11,
          12,
          13,
          14,
          15,
          16,
          17,
          18,
          19,
          20,
          21,
          22,
          23,
          24,
          25,
          26,
          27,
          28,
          29
         ],
         "xaxis": "x",
         "y": [
          2,
          2.1540118784351057,
          1.980499709095212,
          1.923167691706044,
          2.442215703412233,
          2.570968587030405,
          2.5123214726707466,
          2.137445596445326,
          2.0283038675362404,
          1.8633778768880613,
          2.28782650142905,
          2.308379918990759,
          2.2669627972340085,
          2.317387918367932,
          2.2366440547658732,
          1.7188858982149156,
          1.579653342577285,
          1.6884709781005938,
          1.4024341146214825,
          1.3803366207244525,
          1.0130076122512566,
          0.8801119452776713,
          0.9925213324745729,
          1.0612319574835352,
          0.9843208393771935,
          1.013859496456434,
          1.2420722553791452,
          1.3316676509635403,
          1.204938246103608,
          1.1587801755322245
         ],
         "yaxis": "y"
        },
        {
         "hovertemplate": "Parameters=(24,)_(True,)_(False,)_(False,)_False<br>Time=%{x}<br>Cumulative Return=%{y}<extra></extra>",
         "legendgroup": "(24,)_(True,)_(False,)_(False,)_False",
         "line": {
          "color": "#ab63fa",
          "dash": "solid"
         },
         "marker": {
          "symbol": "circle"
         },
         "mode": "lines",
         "name": "(24,)_(True,)_(False,)_(False,)_False",
         "showlegend": true,
         "type": "scattergl",
         "x": [
          0,
          1,
          2,
          3,
          4,
          5,
          6,
          7,
          8,
          9,
          10,
          11,
          12,
          13,
          14,
          15,
          16,
          17,
          18,
          19,
          20,
          21,
          22,
          23,
          24,
          25,
          26,
          27,
          28,
          29
         ],
         "xaxis": "x",
         "y": [
          2,
          2.207108395439984,
          2.108004654992672,
          2.0411713040967436,
          2.4499170736246696,
          2.567087262637852,
          2.560074453235629,
          2.1996575100712787,
          2.1163573912645806,
          2.039046742199017,
          2.50670176236951,
          2.501195296390694,
          2.5425456636804213,
          2.595429171809468,
          2.445433206877247,
          1.805778278975905,
          1.7667650309835081,
          1.857542334013208,
          1.4667176730003613,
          1.2554228988755198,
          1.1062639473087945,
          1.0880398494293089,
          1.2126273812938466,
          1.3297589897951805,
          1.2972967148255736,
          1.379110239915836,
          1.5399480929468898,
          1.656885528354208,
          1.4942210215124612,
          1.4317127610746037
         ],
         "yaxis": "y"
        },
        {
         "hovertemplate": "Parameters=(32,)_(True,)_(True,)_(True,)_True<br>Time=%{x}<br>Cumulative Return=%{y}<extra></extra>",
         "legendgroup": "(32,)_(True,)_(True,)_(True,)_True",
         "line": {
          "color": "#FFA15A",
          "dash": "solid"
         },
         "marker": {
          "symbol": "circle"
         },
         "mode": "lines",
         "name": "(32,)_(True,)_(True,)_(True,)_True",
         "showlegend": true,
         "type": "scattergl",
         "x": [
          0,
          1,
          2,
          3,
          4,
          5,
          6,
          7,
          8,
          9,
          10,
          11,
          12,
          13,
          14,
          15,
          16,
          17,
          18,
          19,
          20,
          21,
          22,
          23,
          24,
          25,
          26,
          27,
          28,
          29
         ],
         "xaxis": "x",
         "y": [
          2,
          1.5415116939193887,
          1.6933171497423938,
          1.948987974653453,
          2.1859312505209036,
          2.297626160299299,
          2.406891103229032,
          2.482813277769802,
          2.8953355040805833,
          3.38473619626012,
          1.9533567689005957,
          1.9951619394722535,
          2.0693123934784348,
          2.113528883586024,
          2.283565923479776,
          2.793267338095568,
          2.90548259084062,
          3.074077840652271,
          3.319542169937514,
          3.8780653341147118,
          4.026042425768313,
          5.679369199087709,
          5.737410183039277,
          6.505429366647655,
          4.910713517556285,
          6.519498961015688,
          4.89601192532976,
          4.4603660671323695,
          4.910502949335066,
          4.104688688977173
         ],
         "yaxis": "y"
        },
        {
         "hovertemplate": "Parameters=(32,)_(True,)_(True,)_(True,)_False<br>Time=%{x}<br>Cumulative Return=%{y}<extra></extra>",
         "legendgroup": "(32,)_(True,)_(True,)_(True,)_False",
         "line": {
          "color": "#19d3f3",
          "dash": "solid"
         },
         "marker": {
          "symbol": "circle"
         },
         "mode": "lines",
         "name": "(32,)_(True,)_(True,)_(True,)_False",
         "showlegend": true,
         "type": "scattergl",
         "x": [
          0,
          1,
          2,
          3,
          4,
          5,
          6,
          7,
          8,
          9,
          10,
          11,
          12,
          13,
          14,
          15,
          16,
          17,
          18,
          19,
          20,
          21,
          22,
          23,
          24,
          25,
          26,
          27,
          28,
          29
         ],
         "xaxis": "x",
         "y": [
          2,
          1.496497487485829,
          1.5843364569232474,
          1.8109156855462487,
          2.1291358662167883,
          2.3033620666766357,
          2.351386052170184,
          2.405363006892307,
          2.758094308496035,
          3.1217628088421034,
          1.7322757471171513,
          1.777425148466393,
          1.773311542852342,
          1.8056625642493038,
          1.988696817890272,
          2.47118001392641,
          2.4698419902241264,
          2.6089826630349973,
          2.9023204123246162,
          3.704617369145615,
          3.3513294103475717,
          4.379765954303015,
          4.505364534993884,
          4.957771427616939,
          3.5562390983752197,
          4.587878600891394,
          3.86497689216524,
          3.5318801004361298,
          3.9063793945688374,
          3.2810758376626663
         ],
         "yaxis": "y"
        },
        {
         "hovertemplate": "Parameters=(32,)_(True,)_(True,)_(False,)_True<br>Time=%{x}<br>Cumulative Return=%{y}<extra></extra>",
         "legendgroup": "(32,)_(True,)_(True,)_(False,)_True",
         "line": {
          "color": "#FF6692",
          "dash": "solid"
         },
         "marker": {
          "symbol": "circle"
         },
         "mode": "lines",
         "name": "(32,)_(True,)_(True,)_(False,)_True",
         "showlegend": true,
         "type": "scattergl",
         "x": [
          0,
          1,
          2,
          3,
          4,
          5,
          6,
          7,
          8,
          9,
          10,
          11,
          12,
          13,
          14,
          15,
          16,
          17,
          18,
          19,
          20,
          21,
          22,
          23,
          24,
          25,
          26,
          27,
          28,
          29
         ],
         "xaxis": "x",
         "y": [
          2,
          1.876323243924054,
          2.0611003730491513,
          2.0300916046181636,
          1.474856865079993,
          1.4519655117473458,
          1.5031398742666335,
          1.6907562296756289,
          1.767456204793646,
          1.9083354204386536,
          1.5403708340082087,
          1.5733374003234668,
          1.5872015336048013,
          1.6027604869521241,
          1.6197441781041242,
          1.98015598973264,
          2.067128030748378,
          2.0172102668313943,
          2.2740480963828182,
          2.3618921416687244,
          2.812592538383258,
          3.223267504580287,
          2.789328588767172,
          2.6458795446145724,
          3.054832487139129,
          3.0112990168846365,
          2.473981314461233,
          2.253847105366107,
          2.472207351554962,
          2.5546307116036298
         ],
         "yaxis": "y"
        },
        {
         "hovertemplate": "Parameters=(32,)_(True,)_(True,)_(False,)_False<br>Time=%{x}<br>Cumulative Return=%{y}<extra></extra>",
         "legendgroup": "(32,)_(True,)_(True,)_(False,)_False",
         "line": {
          "color": "#B6E880",
          "dash": "solid"
         },
         "marker": {
          "symbol": "circle"
         },
         "mode": "lines",
         "name": "(32,)_(True,)_(True,)_(False,)_False",
         "showlegend": true,
         "type": "scattergl",
         "x": [
          0,
          1,
          2,
          3,
          4,
          5,
          6,
          7,
          8,
          9,
          10,
          11,
          12,
          13,
          14,
          15,
          16,
          17,
          18,
          19,
          20,
          21,
          22,
          23,
          24,
          25,
          26,
          27,
          28,
          29
         ],
         "xaxis": "x",
         "y": [
          2,
          1.8268677591747917,
          1.9340982641413957,
          1.8874632232440507,
          1.4592533079867975,
          1.4503356035139605,
          1.4460805853073018,
          1.6158246317929208,
          1.6556793132086425,
          1.7257664080900499,
          1.37546044341659,
          1.4113099412249905,
          1.4005671833509252,
          1.3968052805461548,
          1.4389543864770653,
          1.7830537071707175,
          1.7941025551560106,
          1.7381232794301258,
          2.014698419430614,
          2.3088574178329653,
          2.58950997525164,
          2.7499680668055926,
          2.4632093632685415,
          2.30809217446504,
          2.505117067392415,
          2.412364255342551,
          2.1762486760563697,
          1.988692198430705,
          2.1779685793578265,
          2.255468028373891
         ],
         "yaxis": "y"
        },
        {
         "hovertemplate": "Parameters=(32,)_(True,)_(False,)_(True,)_True<br>Time=%{x}<br>Cumulative Return=%{y}<extra></extra>",
         "legendgroup": "(32,)_(True,)_(False,)_(True,)_True",
         "line": {
          "color": "#FF97FF",
          "dash": "solid"
         },
         "marker": {
          "symbol": "circle"
         },
         "mode": "lines",
         "name": "(32,)_(True,)_(False,)_(True,)_True",
         "showlegend": true,
         "type": "scattergl",
         "x": [
          0,
          1,
          2,
          3,
          4,
          5,
          6,
          7,
          8,
          9,
          10,
          11,
          12,
          13,
          14,
          15,
          16,
          17,
          18,
          19,
          20,
          21,
          22,
          23,
          24,
          25,
          26,
          27,
          28,
          29
         ],
         "xaxis": "x",
         "y": [
          2,
          2.4584883060806115,
          2.2163805495113564,
          1.881733349194155,
          1.6529663840483741,
          1.5685044728656659,
          1.4939133341181974,
          1.446789827471161,
          1.2064040658933504,
          1.0024846983228899,
          1.4264279217290743,
          1.395899928315141,
          1.3440211252044811,
          1.3153024566388816,
          1.2094841079857093,
          0.9395222231734554,
          0.9017783515808125,
          0.8494512280458825,
          0.7816227647599411,
          0.6501123342794422,
          0.6253057041207043,
          0.3685188765614283,
          0.3647527544005751,
          0.31592634950420423,
          0.393371315594053,
          0.2645000132589267,
          0.33036586353858133,
          0.3597617315093673,
          0.32345484061294705,
          0.3765338278036576
         ],
         "yaxis": "y"
        },
        {
         "hovertemplate": "Parameters=(32,)_(True,)_(False,)_(True,)_False<br>Time=%{x}<br>Cumulative Return=%{y}<extra></extra>",
         "legendgroup": "(32,)_(True,)_(False,)_(True,)_False",
         "line": {
          "color": "#FECB52",
          "dash": "solid"
         },
         "marker": {
          "symbol": "circle"
         },
         "mode": "lines",
         "name": "(32,)_(True,)_(False,)_(True,)_False",
         "showlegend": true,
         "type": "scattergl",
         "x": [
          0,
          1,
          2,
          3,
          4,
          5,
          6,
          7,
          8,
          9,
          10,
          11,
          12,
          13,
          14,
          15,
          16,
          17,
          18,
          19,
          20,
          21,
          22,
          23,
          24,
          25,
          26,
          27,
          28,
          29
         ],
         "xaxis": "x",
         "y": [
          2,
          2.503502512514171,
          2.3565560040688545,
          2.019540063246702,
          1.6646597069015059,
          1.528441375138867,
          1.4965741114162712,
          1.4622196875752085,
          1.2477944003519847,
          1.0832664808684511,
          1.5654250725794345,
          1.5246244061718621,
          1.5281529392985365,
          1.5002744152815113,
          1.3481963840399123,
          1.0211067571022014,
          1.0216596367126973,
          0.9641035623571008,
          0.8557057668980275,
          0.6191605082142734,
          0.6782062693061475,
          0.47008226050517704,
          0.45660170804108974,
          0.41075197528433083,
          0.5268691019138655,
          0.3740281474240797,
          0.43296292107567785,
          0.4702771312176118,
          0.42041177659642787,
          0.48770810209837123
         ],
         "yaxis": "y"
        },
        {
         "hovertemplate": "Parameters=(32,)_(True,)_(False,)_(False,)_True<br>Time=%{x}<br>Cumulative Return=%{y}<extra></extra>",
         "legendgroup": "(32,)_(True,)_(False,)_(False,)_True",
         "line": {
          "color": "#636efa",
          "dash": "solid"
         },
         "marker": {
          "symbol": "circle"
         },
         "mode": "lines",
         "name": "(32,)_(True,)_(False,)_(False,)_True",
         "showlegend": true,
         "type": "scattergl",
         "x": [
          0,
          1,
          2,
          3,
          4,
          5,
          6,
          7,
          8,
          9,
          10,
          11,
          12,
          13,
          14,
          15,
          16,
          17,
          18,
          19,
          20,
          21,
          22,
          23,
          24,
          25,
          26,
          27,
          28,
          29
         ],
         "xaxis": "x",
         "y": [
          2,
          2.123676756075946,
          1.9145406728087835,
          1.9433444851563633,
          2.474853687299822,
          2.5132660590654794,
          2.4246862771261277,
          2.1220459107087604,
          2.0257807805297765,
          1.8643112025816844,
          2.223787054304821,
          2.176194213815891,
          2.157017750699836,
          2.1358730265788455,
          2.113240195211581,
          1.6430198125991342,
          1.5708554036980273,
          1.608788994662457,
          1.4039527014958708,
          1.3497195105243849,
          1.0921636686996619,
          0.9326936169222085,
          1.0582593840631327,
          1.1126833403229688,
          0.9407045640973807,
          0.9541102530612785,
          1.1243558268681189,
          1.2244007137241097,
          1.1057766772284408,
          1.0689100975933252
         ],
         "yaxis": "y"
        },
        {
         "hovertemplate": "Parameters=(32,)_(True,)_(False,)_(False,)_False<br>Time=%{x}<br>Cumulative Return=%{y}<extra></extra>",
         "legendgroup": "(32,)_(True,)_(False,)_(False,)_False",
         "line": {
          "color": "#EF553B",
          "dash": "solid"
         },
         "marker": {
          "symbol": "circle"
         },
         "mode": "lines",
         "name": "(32,)_(True,)_(False,)_(False,)_False",
         "showlegend": true,
         "type": "scattergl",
         "x": [
          0,
          1,
          2,
          3,
          4,
          5,
          6,
          7,
          8,
          9,
          10,
          11,
          12,
          13,
          14,
          15,
          16,
          17,
          18,
          19,
          20,
          21,
          22,
          23,
          24,
          25,
          26,
          27,
          28,
          29
         ],
         "xaxis": "x",
         "y": [
          2,
          2.1731322408252085,
          2.045577267909077,
          2.094900294208347,
          2.5701715823627973,
          2.5858782663843782,
          2.593464758143258,
          2.2890382919159054,
          2.232578642720269,
          2.1380706363000543,
          2.5720684782316297,
          2.505031026362507,
          2.524099085756941,
          2.530878778686422,
          2.4545085936457145,
          1.867558272184859,
          1.8559857842838698,
          1.913895929756415,
          1.6093513436599114,
          1.3743756397219147,
          1.2073137695680134,
          1.1325029886777538,
          1.2505971195533567,
          1.3293517363568021,
          1.2158747329614656,
          1.2608929087786709,
          1.3843056392213373,
          1.5036097851612167,
          1.3605017573394653,
          1.3120905279128754
         ],
         "yaxis": "y"
        },
        {
         "hovertemplate": "Parameters=(40,)_(True,)_(True,)_(True,)_True<br>Time=%{x}<br>Cumulative Return=%{y}<extra></extra>",
         "legendgroup": "(40,)_(True,)_(True,)_(True,)_True",
         "line": {
          "color": "#00cc96",
          "dash": "solid"
         },
         "marker": {
          "symbol": "circle"
         },
         "mode": "lines",
         "name": "(40,)_(True,)_(True,)_(True,)_True",
         "showlegend": true,
         "type": "scattergl",
         "x": [
          0,
          1,
          2,
          3,
          4,
          5,
          6,
          7,
          8,
          9,
          10,
          11,
          12,
          13,
          14,
          15,
          16,
          17,
          18,
          19,
          20,
          21,
          22,
          23,
          24,
          25,
          26,
          27,
          28,
          29
         ],
         "xaxis": "x",
         "y": [
          2,
          1.5539104594323208,
          1.6942611940594872,
          1.9168074073741859,
          2.3846589992371725,
          2.5638382690526136,
          2.5906195933795546,
          2.5042952671908756,
          2.824273354848172,
          3.238789766037577,
          1.8447679875381324,
          1.8921929125514811,
          1.915878816266853,
          1.9162019746421513,
          2.0452946558290828,
          2.509323231085829,
          2.654609459061709,
          2.8451996751439825,
          3.00780860399035,
          3.5033182243838454,
          3.4564917157928314,
          4.7041984419427045,
          4.874362035489643,
          5.6988007893380095,
          3.9465851548490103,
          5.290255928476565,
          4.251542469137046,
          4.054492066151612,
          4.52430018695075,
          3.758710605774316
         ],
         "yaxis": "y"
        },
        {
         "hovertemplate": "Parameters=(40,)_(True,)_(True,)_(True,)_False<br>Time=%{x}<br>Cumulative Return=%{y}<extra></extra>",
         "legendgroup": "(40,)_(True,)_(True,)_(True,)_False",
         "line": {
          "color": "#ab63fa",
          "dash": "solid"
         },
         "marker": {
          "symbol": "circle"
         },
         "mode": "lines",
         "name": "(40,)_(True,)_(True,)_(True,)_False",
         "showlegend": true,
         "type": "scattergl",
         "x": [
          0,
          1,
          2,
          3,
          4,
          5,
          6,
          7,
          8,
          9,
          10,
          11,
          12,
          13,
          14,
          15,
          16,
          17,
          18,
          19,
          20,
          21,
          22,
          23,
          24,
          25,
          26,
          27,
          28,
          29
         ],
         "xaxis": "x",
         "y": [
          2,
          1.518077289675115,
          1.5924101372772033,
          1.7928690355429424,
          2.280014213461239,
          2.4899733758549063,
          2.435571770816806,
          2.3111120260730056,
          2.5551284054711636,
          2.8583968332621583,
          1.5478206724658286,
          1.5979017779998412,
          1.572295708837603,
          1.585059790179611,
          1.7162195585994886,
          2.1223774952996606,
          2.180542973981573,
          2.32304543366615,
          2.515271202043863,
          3.1561345567403514,
          2.75611684240585,
          3.5736581303915957,
          3.781975998013002,
          4.369830352101825,
          2.916742221939787,
          3.834319418562821,
          3.3887369344265035,
          3.244588398929796,
          3.622278561746235,
          3.020850294245978
         ],
         "yaxis": "y"
        },
        {
         "hovertemplate": "Parameters=(40,)_(True,)_(True,)_(False,)_True<br>Time=%{x}<br>Cumulative Return=%{y}<extra></extra>",
         "legendgroup": "(40,)_(True,)_(True,)_(False,)_True",
         "line": {
          "color": "#FFA15A",
          "dash": "solid"
         },
         "marker": {
          "symbol": "circle"
         },
         "mode": "lines",
         "name": "(40,)_(True,)_(True,)_(False,)_True",
         "showlegend": true,
         "type": "scattergl",
         "x": [
          0,
          1,
          2,
          3,
          4,
          5,
          6,
          7,
          8,
          9,
          10,
          11,
          12,
          13,
          14,
          15,
          16,
          17,
          18,
          19,
          20,
          21,
          22,
          23,
          24,
          25,
          26,
          27,
          28,
          29
         ],
         "xaxis": "x",
         "y": [
          2,
          1.8686520160557518,
          2.037430520392335,
          2.0115992066386164,
          1.6134705241981384,
          1.7044054238388318,
          1.798054148939339,
          1.9375007351025646,
          2.101511168754382,
          2.280750469224145,
          2.0393199822258694,
          2.0917464108546273,
          2.1189672421869297,
          2.1422942662751514,
          2.178840192809851,
          2.5476528061305794,
          2.551065705675318,
          2.503401880363223,
          2.7631569195575745,
          2.8708716259252367,
          3.3814292346575354,
          3.773674479425079,
          3.286258301576584,
          3.108134708076262,
          3.5300781660235696,
          3.4134232268446465,
          2.856511121338895,
          2.724117602591697,
          2.902418566394322,
          2.9529360887420273
         ],
         "yaxis": "y"
        },
        {
         "hovertemplate": "Parameters=(40,)_(True,)_(True,)_(False,)_False<br>Time=%{x}<br>Cumulative Return=%{y}<extra></extra>",
         "legendgroup": "(40,)_(True,)_(True,)_(False,)_False",
         "line": {
          "color": "#19d3f3",
          "dash": "solid"
         },
         "marker": {
          "symbol": "circle"
         },
         "mode": "lines",
         "name": "(40,)_(True,)_(True,)_(False,)_False",
         "showlegend": true,
         "type": "scattergl",
         "x": [
          0,
          1,
          2,
          3,
          4,
          5,
          6,
          7,
          8,
          9,
          10,
          11,
          12,
          13,
          14,
          15,
          16,
          17,
          18,
          19,
          20,
          21,
          22,
          23,
          24,
          25,
          26,
          27,
          28,
          29
         ],
         "xaxis": "x",
         "y": [
          2,
          1.8196742835587898,
          1.9087748663322548,
          1.8601498417778175,
          1.600077483938619,
          1.6758435218264374,
          1.7082430924573135,
          1.8366691596994642,
          1.978244099731571,
          2.0770172854533384,
          1.8701924482500094,
          1.9307041774418097,
          1.9338055267517507,
          1.9238669790016556,
          1.9869379700918903,
          2.3448384417381924,
          2.2556211893442843,
          2.2035345458432327,
          2.4709649625146732,
          2.788261490302318,
          3.134452387105939,
          3.260375265723036,
          2.87315125553752,
          2.6538301361445864,
          2.883481887114839,
          2.739575611030809,
          2.475325360282676,
          2.370031106858135,
          2.5186058611261752,
          2.573078255312385
         ],
         "yaxis": "y"
        },
        {
         "hovertemplate": "Parameters=(40,)_(True,)_(False,)_(True,)_True<br>Time=%{x}<br>Cumulative Return=%{y}<extra></extra>",
         "legendgroup": "(40,)_(True,)_(False,)_(True,)_True",
         "line": {
          "color": "#FF6692",
          "dash": "solid"
         },
         "marker": {
          "symbol": "circle"
         },
         "mode": "lines",
         "name": "(40,)_(True,)_(False,)_(True,)_True",
         "showlegend": true,
         "type": "scattergl",
         "x": [
          0,
          1,
          2,
          3,
          4,
          5,
          6,
          7,
          8,
          9,
          10,
          11,
          12,
          13,
          14,
          15,
          16,
          17,
          18,
          19,
          20,
          21,
          22,
          23,
          24,
          25,
          26,
          27,
          28,
          29
         ],
         "xaxis": "x",
         "y": [
          2,
          2.4460895405676792,
          2.2251563060311663,
          1.9328754512982262,
          1.4611019944116248,
          1.3513172459137028,
          1.3372016654310164,
          1.381759744525958,
          1.2052099396975517,
          1.0283222110095174,
          1.470926906286098,
          1.4331126127261642,
          1.415173338599751,
          1.4149346360717074,
          1.3196118526219809,
          1.0202233972134003,
          0.9611539209348369,
          0.8921469591559682,
          0.8411589519980683,
          0.7025855226774007,
          0.7119765128491148,
          0.45497086753432203,
          0.43851333949117344,
          0.36434416852608076,
          0.4763694124371691,
          0.3141827037187446,
          0.37587079734908774,
          0.39329164934004235,
          0.3477195757762586,
          0.40655972196134443
         ],
         "yaxis": "y"
        },
        {
         "hovertemplate": "Parameters=(40,)_(True,)_(False,)_(True,)_False<br>Time=%{x}<br>Cumulative Return=%{y}<extra></extra>",
         "legendgroup": "(40,)_(True,)_(False,)_(True,)_False",
         "line": {
          "color": "#B6E880",
          "dash": "solid"
         },
         "marker": {
          "symbol": "circle"
         },
         "mode": "lines",
         "name": "(40,)_(True,)_(False,)_(True,)_False",
         "showlegend": true,
         "type": "scattergl",
         "x": [
          0,
          1,
          2,
          3,
          4,
          5,
          6,
          7,
          8,
          9,
          10,
          11,
          12,
          13,
          14,
          15,
          16,
          17,
          18,
          19,
          20,
          21,
          22,
          23,
          24,
          25,
          26,
          27,
          28,
          29
         ],
         "xaxis": "x",
         "y": [
          2,
          2.481922710324885,
          2.3603950490908354,
          2.063259166860335,
          1.502645572668078,
          1.3642717836148084,
          1.3940787588445556,
          1.4653173437869156,
          1.3106033234943684,
          1.1550476932870102,
          1.684637550716687,
          1.6301296141935264,
          1.656252128242357,
          1.6428064788209842,
          1.5068683150647648,
          1.1502551284483562,
          1.1187314526175036,
          1.0456203121232637,
          0.9590980405325463,
          0.7147304402359808,
          0.8053174643087981,
          0.5664377960456336,
          0.5334186572508811,
          0.45050631714563166,
          0.6003119913390169,
          0.4114599940769095,
          0.45927535484104304,
          0.4788117989708589,
          0.423075143322523,
          0.49332080392909505
         ],
         "yaxis": "y"
        },
        {
         "hovertemplate": "Parameters=(40,)_(True,)_(False,)_(False,)_True<br>Time=%{x}<br>Cumulative Return=%{y}<extra></extra>",
         "legendgroup": "(40,)_(True,)_(False,)_(False,)_True",
         "line": {
          "color": "#FF97FF",
          "dash": "solid"
         },
         "marker": {
          "symbol": "circle"
         },
         "mode": "lines",
         "name": "(40,)_(True,)_(False,)_(False,)_True",
         "showlegend": true,
         "type": "scattergl",
         "x": [
          0,
          1,
          2,
          3,
          4,
          5,
          6,
          7,
          8,
          9,
          10,
          11,
          12,
          13,
          14,
          15,
          16,
          17,
          18,
          19,
          20,
          21,
          22,
          23,
          24,
          25,
          26,
          27,
          28,
          29
         ],
         "xaxis": "x",
         "y": [
          2,
          2.1313479839442486,
          1.9388425191171526,
          1.9634238969502094,
          2.35201789051772,
          2.219458598222227,
          2.0975102253587266,
          1.934839573564802,
          1.7710544086057487,
          1.619999987381549,
          1.7914862552430986,
          1.7454310863051712,
          1.7227170111400762,
          1.7037521775098126,
          1.6746874486848273,
          1.3912128476181225,
          1.3893491440228583,
          1.4153075874886194,
          1.2684541075324454,
          1.2190066220253288,
          1.0022177205816747,
          0.8859606269566642,
          1.000393269430178,
          1.0546171397750472,
          0.9114480545964314,
          0.9415677608389317,
          1.0951878803838118,
          1.1459476257564594,
          1.0709422126475263,
          1.0523021213157882
         ],
         "yaxis": "y"
        },
        {
         "hovertemplate": "Parameters=(40,)_(True,)_(False,)_(False,)_False<br>Time=%{x}<br>Cumulative Return=%{y}<extra></extra>",
         "legendgroup": "(40,)_(True,)_(False,)_(False,)_False",
         "line": {
          "color": "#FECB52",
          "dash": "solid"
         },
         "marker": {
          "symbol": "circle"
         },
         "mode": "lines",
         "name": "(40,)_(True,)_(False,)_(False,)_False",
         "showlegend": true,
         "type": "scattergl",
         "x": [
          0,
          1,
          2,
          3,
          4,
          5,
          6,
          7,
          8,
          9,
          10,
          11,
          12,
          13,
          14,
          15,
          16,
          17,
          18,
          19,
          20,
          21,
          22,
          23,
          24,
          25,
          26,
          27,
          28,
          29
         ],
         "xaxis": "x",
         "y": [
          2,
          2.18032571644121,
          2.073565790378537,
          2.1263887760804283,
          2.423684687548241,
          2.308919629163138,
          2.2642806138661986,
          2.0940515313337045,
          1.9326369301209192,
          1.8361408978782439,
          2.018979791394315,
          1.9536539162444662,
          1.9505157020655146,
          1.9605401296380482,
          1.896266866258573,
          1.554698676402193,
          1.613852408164723,
          1.6511193727793914,
          1.4507324341359096,
          1.2644439310274773,
          1.1074504137541616,
          1.0629599169135393,
          1.1892041581887671,
          1.2799816926669847,
          1.1692172420989904,
          1.2275695071142776,
          1.345976733678707,
          1.4032312738589592,
          1.3152641830087446,
          1.2868176562449976
         ],
         "yaxis": "y"
        },
        {
         "hovertemplate": "Parameters=(8,)_(False,)_(True,)_(True,)_False<br>Time=%{x}<br>Cumulative Return=%{y}<extra></extra>",
         "legendgroup": "(8,)_(False,)_(True,)_(True,)_False",
         "line": {
          "color": "#636efa",
          "dash": "solid"
         },
         "marker": {
          "symbol": "circle"
         },
         "mode": "lines",
         "name": "(8,)_(False,)_(True,)_(True,)_False",
         "showlegend": true,
         "type": "scattergl",
         "x": [
          0,
          1,
          2,
          3,
          4,
          5,
          6,
          7,
          8,
          9,
          10,
          11,
          12,
          13,
          14,
          15,
          16,
          17,
          18,
          19,
          20,
          21,
          22,
          23,
          24,
          25,
          26,
          27,
          28,
          29
         ],
         "xaxis": "x",
         "y": [
          2,
          1.4610895532141803,
          1.6796294479359801,
          2.0101015276626217,
          2.737281613068111,
          3.0120047709306155,
          3.1685978894063305,
          3.3126528580690278,
          3.8488145675708694,
          4.724558957847353,
          2.6151232970385725,
          2.270664021603968,
          1.904021617150997,
          1.8203697273702932,
          1.8549956042781475,
          2.191379735510106,
          2.325249214073054,
          2.5706366415515642,
          4.2329763509780305,
          6.210810220995101,
          4.500318728652866,
          4.2909679583438125,
          4.080703346282475,
          4.325506495399673,
          3.9355365013481576,
          4.9038878728418265,
          2.4086349698901794,
          2.145679807680258,
          2.514101015450984,
          2.2072653602375922
         ],
         "yaxis": "y"
        },
        {
         "hovertemplate": "Parameters=(8,)_(False,)_(True,)_(False,)_False<br>Time=%{x}<br>Cumulative Return=%{y}<extra></extra>",
         "legendgroup": "(8,)_(False,)_(True,)_(False,)_False",
         "line": {
          "color": "#EF553B",
          "dash": "solid"
         },
         "marker": {
          "symbol": "circle"
         },
         "mode": "lines",
         "name": "(8,)_(False,)_(True,)_(False,)_False",
         "showlegend": true,
         "type": "scattergl",
         "x": [
          0,
          1,
          2,
          3,
          4,
          5,
          6,
          7,
          8,
          9,
          10,
          11,
          12,
          13,
          14,
          15,
          16,
          17,
          18,
          19,
          20,
          21,
          22,
          23,
          24,
          25,
          26,
          27,
          28,
          29
         ],
         "xaxis": "x",
         "y": [
          2,
          1.6989624824415968,
          1.953081801296686,
          2.0875685139660285,
          1.986616892514511,
          1.9211975180594734,
          1.9039815029687497,
          2.0473031838524767,
          2.2518364898633374,
          2.512505454484465,
          2.059575195894269,
          1.7882917040282411,
          1.627082665302015,
          1.54294162416177,
          1.5721139920856528,
          1.838421063180659,
          2.0032818720565655,
          2.0499843299462275,
          3.6459306208624205,
          4.412822955618185,
          4.720199869011622,
          2.863233336812172,
          2.6406656256768875,
          2.3727827329558955,
          2.5088043437593903,
          2.418553514920883,
          1.3043815817881277,
          1.1619798170083155,
          1.3486758255588123,
          1.3749809043389314
         ],
         "yaxis": "y"
        },
        {
         "hovertemplate": "Parameters=(8,)_(False,)_(False,)_(True,)_False<br>Time=%{x}<br>Cumulative Return=%{y}<extra></extra>",
         "legendgroup": "(8,)_(False,)_(False,)_(True,)_False",
         "line": {
          "color": "#00cc96",
          "dash": "solid"
         },
         "marker": {
          "symbol": "circle"
         },
         "mode": "lines",
         "name": "(8,)_(False,)_(False,)_(True,)_False",
         "showlegend": true,
         "type": "scattergl",
         "x": [
          0,
          1,
          2,
          3,
          4,
          5,
          6,
          7,
          8,
          9,
          10,
          11,
          12,
          13,
          14,
          15,
          16,
          17,
          18,
          19,
          20,
          21,
          22,
          23,
          24,
          25,
          26,
          27,
          28,
          29
         ],
         "xaxis": "x",
         "y": [
          2,
          2.5389104467858195,
          2.159157391589404,
          1.7343367655087294,
          1.1069181302266442,
          0.9958239546111973,
          0.9440514009916339,
          0.9011316933693753,
          0.7552811228737855,
          0.5834273754858214,
          0.8439178302186817,
          0.9550771490365213,
          1.1092927348868147,
          1.1580287538255787,
          1.1360014917354506,
          0.92999945378219,
          0.8731865975144161,
          0.7810377596281541,
          0.27596829107513593,
          0.14702369325969536,
          0.1875148317013962,
          0.19623785263125176,
          0.20585383586762762,
          0.1935045757029164,
          0.21095015769801057,
          0.1590451951970407,
          0.23997240954338867,
          0.2661706440895991,
          0.22046815398944752,
          0.24737538248476093
         ],
         "yaxis": "y"
        },
        {
         "hovertemplate": "Parameters=(8,)_(False,)_(False,)_(False,)_False<br>Time=%{x}<br>Cumulative Return=%{y}<extra></extra>",
         "legendgroup": "(8,)_(False,)_(False,)_(False,)_False",
         "line": {
          "color": "#ab63fa",
          "dash": "solid"
         },
         "marker": {
          "symbol": "circle"
         },
         "mode": "lines",
         "name": "(8,)_(False,)_(False,)_(False,)_False",
         "showlegend": true,
         "type": "scattergl",
         "x": [
          0,
          1,
          2,
          3,
          4,
          5,
          6,
          7,
          8,
          9,
          10,
          11,
          12,
          13,
          14,
          15,
          16,
          17,
          18,
          19,
          20,
          21,
          22,
          23,
          24,
          25,
          26,
          27,
          28,
          29
         ],
         "xaxis": "x",
         "y": [
          2,
          2.3010375175584032,
          1.9568638864952774,
          1.8221167442806612,
          1.910231524024885,
          1.973135525212466,
          1.9908169612224462,
          1.8409587652424209,
          1.6570400445299558,
          1.4652237582730507,
          1.7293601702130135,
          1.957148340610798,
          2.133579289724854,
          2.243912702169754,
          2.201487087414346,
          1.8285678326693322,
          1.6645906143835634,
          1.6257840569259419,
          0.36008460860396485,
          0.2843436922459378,
          0.26453762086159294,
          0.3686089572625464,
          0.39726203658622805,
          0.4375623693864752,
          0.4124787671314985,
          0.42731713055529597,
          0.6241722964527148,
          0.692314347661141,
          0.5810797775948943,
          0.5697461798262574
         ],
         "yaxis": "y"
        },
        {
         "hovertemplate": "Parameters=(16,)_(False,)_(True,)_(True,)_False<br>Time=%{x}<br>Cumulative Return=%{y}<extra></extra>",
         "legendgroup": "(16,)_(False,)_(True,)_(True,)_False",
         "line": {
          "color": "#FFA15A",
          "dash": "solid"
         },
         "marker": {
          "symbol": "circle"
         },
         "mode": "lines",
         "name": "(16,)_(False,)_(True,)_(True,)_False",
         "showlegend": true,
         "type": "scattergl",
         "x": [
          0,
          1,
          2,
          3,
          4,
          5,
          6,
          7,
          8,
          9,
          10,
          11,
          12,
          13,
          14,
          15,
          16,
          17,
          18,
          19,
          20,
          21,
          22,
          23,
          24,
          25,
          26,
          27,
          28,
          29
         ],
         "xaxis": "x",
         "y": [
          2,
          1.4512337813936345,
          1.5524456244593328,
          1.8178742522926081,
          2.010914276707282,
          2.256364264937096,
          2.30221782504659,
          2.3636894270174196,
          2.7592545849642915,
          3.2995579809691127,
          1.5500538618636903,
          1.3797773422796233,
          1.4213687992821396,
          1.435416627411115,
          1.525473656262923,
          1.7744643210926412,
          1.827928136909566,
          1.7651430374160222,
          2.1725568355724145,
          2.6769875872627726,
          2.5802080089616015,
          3.226630358838521,
          3.4009618068297547,
          3.8341848221665136,
          3.056778903199437,
          3.8976466758529216,
          2.849406242761707,
          2.5553349436492203,
          2.7798818674976786,
          2.3420970403017463
         ],
         "yaxis": "y"
        },
        {
         "hovertemplate": "Parameters=(16,)_(False,)_(True,)_(False,)_False<br>Time=%{x}<br>Cumulative Return=%{y}<extra></extra>",
         "legendgroup": "(16,)_(False,)_(True,)_(False,)_False",
         "line": {
          "color": "#19d3f3",
          "dash": "solid"
         },
         "marker": {
          "symbol": "circle"
         },
         "mode": "lines",
         "name": "(16,)_(False,)_(True,)_(False,)_False",
         "showlegend": true,
         "type": "scattergl",
         "x": [
          0,
          1,
          2,
          3,
          4,
          5,
          6,
          7,
          8,
          9,
          10,
          11,
          12,
          13,
          14,
          15,
          16,
          17,
          18,
          19,
          20,
          21,
          22,
          23,
          24,
          25,
          26,
          27,
          28,
          29
         ],
         "xaxis": "x",
         "y": [
          2,
          1.811485904956642,
          1.9378224259767973,
          2.044917704366927,
          1.779964829099687,
          1.6775720030831927,
          1.6714791331580363,
          1.7956535375171985,
          1.9301890788974474,
          2.057279645774014,
          1.602537000940035,
          1.4264951034690205,
          1.3043706902957817,
          1.2604282391404027,
          1.3212122189929165,
          1.7536291773640427,
          1.8441318111133964,
          1.7144152760584233,
          2.2093340015867957,
          2.551265964881947,
          3.200186312440349,
          3.30160895257109,
          2.851669910787206,
          2.787076335649219,
          3.1013785291924023,
          2.9440487013871253,
          2.2619746285432987,
          2.028528864442458,
          2.2893069665794332,
          2.4534831680503073
         ],
         "yaxis": "y"
        },
        {
         "hovertemplate": "Parameters=(16,)_(False,)_(False,)_(True,)_False<br>Time=%{x}<br>Cumulative Return=%{y}<extra></extra>",
         "legendgroup": "(16,)_(False,)_(False,)_(True,)_False",
         "line": {
          "color": "#FF6692",
          "dash": "solid"
         },
         "marker": {
          "symbol": "circle"
         },
         "mode": "lines",
         "name": "(16,)_(False,)_(False,)_(True,)_False",
         "showlegend": true,
         "type": "scattergl",
         "x": [
          0,
          1,
          2,
          3,
          4,
          5,
          6,
          7,
          8,
          9,
          10,
          11,
          12,
          13,
          14,
          15,
          16,
          17,
          18,
          19,
          20,
          21,
          22,
          23,
          24,
          25,
          26,
          27,
          28,
          29
         ],
         "xaxis": "x",
         "y": [
          2,
          2.5487662186063655,
          2.371010346440122,
          1.9656280174756038,
          1.7568980241852972,
          1.5424529807777922,
          1.5111074389389907,
          1.4707593041921243,
          1.2246266567238402,
          0.9848264059345554,
          1.5070047897434813,
          1.6725522825806072,
          1.622135534737451,
          1.6061034667721177,
          1.5053376657607718,
          1.259633634981764,
          1.2216814373202185,
          1.2636433662619362,
          0.971981029300534,
          0.7463035633714757,
          0.7732842428828085,
          0.579552491151571,
          0.5482398790041576,
          0.47840371294281664,
          0.5754031783695827,
          0.4171195719016932,
          0.5293004946646246,
          0.5839266415969225,
          0.5326148041997858,
          0.6164927138134372
         ],
         "yaxis": "y"
        },
        {
         "hovertemplate": "Parameters=(16,)_(False,)_(False,)_(False,)_False<br>Time=%{x}<br>Cumulative Return=%{y}<extra></extra>",
         "legendgroup": "(16,)_(False,)_(False,)_(False,)_False",
         "line": {
          "color": "#B6E880",
          "dash": "solid"
         },
         "marker": {
          "symbol": "circle"
         },
         "mode": "lines",
         "name": "(16,)_(False,)_(False,)_(False,)_False",
         "showlegend": true,
         "type": "scattergl",
         "x": [
          0,
          1,
          2,
          3,
          4,
          5,
          6,
          7,
          8,
          9,
          10,
          11,
          12,
          13,
          14,
          15,
          16,
          17,
          18,
          19,
          20,
          21,
          22,
          23,
          24,
          25,
          26,
          27,
          28,
          29
         ],
         "xaxis": "x",
         "y": [
          2,
          2.1885140950433577,
          2.035882900831571,
          1.923368233279224,
          2.172572366294819,
          2.297550017916614,
          2.305894621534211,
          2.1345894072100466,
          1.9746598130408832,
          1.8446411336423378,
          2.2523820013484723,
          2.499810672957524,
          2.7138232627916725,
          2.8052482289127005,
          2.669965515837485,
          1.7961177336891498,
          1.703422318078462,
          1.8232413242388963,
          1.296906611101269,
          1.0961882844807493,
          0.8173702810478491,
          0.7914655855787088,
          0.8993255024543544,
          0.9196962505541082,
          0.8159809180225852,
          0.8573748130652245,
          1.0560104981425738,
          1.1649954418844763,
          1.0152291232196633,
          0.9424226086254892
         ],
         "yaxis": "y"
        },
        {
         "hovertemplate": "Parameters=(24,)_(False,)_(True,)_(True,)_False<br>Time=%{x}<br>Cumulative Return=%{y}<extra></extra>",
         "legendgroup": "(24,)_(False,)_(True,)_(True,)_False",
         "line": {
          "color": "#FF97FF",
          "dash": "solid"
         },
         "marker": {
          "symbol": "circle"
         },
         "mode": "lines",
         "name": "(24,)_(False,)_(True,)_(True,)_False",
         "showlegend": true,
         "type": "scattergl",
         "x": [
          0,
          1,
          2,
          3,
          4,
          5,
          6,
          7,
          8,
          9,
          10,
          11,
          12,
          13,
          14,
          15,
          16,
          17,
          18,
          19,
          20,
          21,
          22,
          23,
          24,
          25,
          26,
          27,
          28,
          29
         ],
         "xaxis": "x",
         "y": [
          2,
          1.4719668153548398,
          1.5613603480408837,
          1.8434915067330773,
          2.129589550761522,
          2.4024489095170054,
          2.5314848606048024,
          2.5190485497437014,
          2.8005481716818603,
          3.225380355391782,
          1.6670820819419514,
          1.6638526021505198,
          1.6854923643151307,
          1.7340144763184255,
          1.89514835290156,
          2.434659676424573,
          2.5018233564304104,
          2.601576016842403,
          2.9590068998596086,
          3.672330353337688,
          3.58613902490645,
          4.7860292603733825,
          4.96862726090827,
          5.3296042374839105,
          4.313759908207975,
          5.5758454798642365,
          4.187557533728095,
          3.8786256920502353,
          4.370985821482246,
          3.6938604084993725
         ],
         "yaxis": "y"
        },
        {
         "hovertemplate": "Parameters=(24,)_(False,)_(True,)_(False,)_False<br>Time=%{x}<br>Cumulative Return=%{y}<extra></extra>",
         "legendgroup": "(24,)_(False,)_(True,)_(False,)_False",
         "line": {
          "color": "#FECB52",
          "dash": "solid"
         },
         "marker": {
          "symbol": "circle"
         },
         "mode": "lines",
         "name": "(24,)_(False,)_(True,)_(False,)_False",
         "showlegend": true,
         "type": "scattergl",
         "x": [
          0,
          1,
          2,
          3,
          4,
          5,
          6,
          7,
          8,
          9,
          10,
          11,
          12,
          13,
          14,
          15,
          16,
          17,
          18,
          19,
          20,
          21,
          22,
          23,
          24,
          25,
          26,
          27,
          28,
          29
         ],
         "xaxis": "x",
         "y": [
          2,
          1.81887106483628,
          1.929332325436741,
          1.9876126639996294,
          1.5151818129327383,
          1.4377614292154952,
          1.4563027544614393,
          1.6726766459319746,
          1.7482648969231203,
          1.8576867954866803,
          1.441528917751101,
          1.438736380683449,
          1.4405556108942883,
          1.4101167710607558,
          1.474869730411081,
          1.8448925696821776,
          1.935793318974156,
          1.8180684551827546,
          2.171668077719303,
          2.3144227286915005,
          2.8140924704428256,
          2.999813751589959,
          2.6477169785791808,
          2.4213174078390995,
          2.538751645302903,
          2.4099687866625845,
          2.0266075415681444,
          1.877097094217348,
          2.0596803360324345,
          2.1432424455489363
         ],
         "yaxis": "y"
        },
        {
         "hovertemplate": "Parameters=(24,)_(False,)_(False,)_(True,)_False<br>Time=%{x}<br>Cumulative Return=%{y}<extra></extra>",
         "legendgroup": "(24,)_(False,)_(False,)_(True,)_False",
         "line": {
          "color": "#636efa",
          "dash": "solid"
         },
         "marker": {
          "symbol": "circle"
         },
         "mode": "lines",
         "name": "(24,)_(False,)_(False,)_(True,)_False",
         "showlegend": true,
         "type": "scattergl",
         "x": [
          0,
          1,
          2,
          3,
          4,
          5,
          6,
          7,
          8,
          9,
          10,
          11,
          12,
          13,
          14,
          15,
          16,
          17,
          18,
          19,
          20,
          21,
          22,
          23,
          24,
          25,
          26,
          27,
          28,
          29
         ],
         "xaxis": "x",
         "y": [
          2,
          2.52803318464516,
          2.374504032516481,
          1.9454412765333764,
          1.6435212828932924,
          1.4329407213992285,
          1.35597722464984,
          1.3626386724620498,
          1.2103659934875184,
          1.0267582150886456,
          1.5228223618018841,
          1.5257723809381045,
          1.5059284648375089,
          1.4625756551856621,
          1.3266653220628684,
          0.9489898948688048,
          0.9228106081927534,
          0.8860163185451515,
          0.76428641595725,
          0.5800410106143709,
          0.5936548471811196,
          0.3950232131527033,
          0.37995217096669653,
          0.3523481711661888,
          0.41950717128340903,
          0.2967710989591919,
          0.37066190904969215,
          0.39800702975078195,
          0.34748325967299454,
          0.4013131633423966
         ],
         "yaxis": "y"
        },
        {
         "hovertemplate": "Parameters=(24,)_(False,)_(False,)_(False,)_False<br>Time=%{x}<br>Cumulative Return=%{y}<extra></extra>",
         "legendgroup": "(24,)_(False,)_(False,)_(False,)_False",
         "line": {
          "color": "#EF553B",
          "dash": "solid"
         },
         "marker": {
          "symbol": "circle"
         },
         "mode": "lines",
         "name": "(24,)_(False,)_(False,)_(False,)_False",
         "showlegend": true,
         "type": "scattergl",
         "x": [
          0,
          1,
          2,
          3,
          4,
          5,
          6,
          7,
          8,
          9,
          10,
          11,
          12,
          13,
          14,
          15,
          16,
          17,
          18,
          19,
          20,
          21,
          22,
          23,
          24,
          25,
          26,
          27,
          28,
          29
         ],
         "xaxis": "x",
         "y": [
          2,
          2.18112893516372,
          2.048667510949458,
          1.986782352769725,
          2.4590158491668164,
          2.584662784065532,
          2.5513310557574527,
          2.1722605449912886,
          2.0740960995844016,
          1.9442807990431477,
          2.3798374133322944,
          2.3844476463355164,
          2.381432598372166,
          2.431752103490891,
          2.32008536188554,
          1.7380105146941767,
          1.652376011818893,
          1.75286491164971,
          1.4119468514138578,
          1.3191324927036816,
          1.0343398384517588,
          0.9660766516672281,
          1.079467848488298,
          1.171770409337009,
          1.1149393784041637,
          1.1714967343106397,
          1.357850370579654,
          1.4580240905411037,
          1.316203634947418,
          1.2628046922253846
         ],
         "yaxis": "y"
        },
        {
         "hovertemplate": "Parameters=(32,)_(False,)_(True,)_(True,)_False<br>Time=%{x}<br>Cumulative Return=%{y}<extra></extra>",
         "legendgroup": "(32,)_(False,)_(True,)_(True,)_False",
         "line": {
          "color": "#00cc96",
          "dash": "solid"
         },
         "marker": {
          "symbol": "circle"
         },
         "mode": "lines",
         "name": "(32,)_(False,)_(True,)_(True,)_False",
         "showlegend": true,
         "type": "scattergl",
         "x": [
          0,
          1,
          2,
          3,
          4,
          5,
          6,
          7,
          8,
          9,
          10,
          11,
          12,
          13,
          14,
          15,
          16,
          17,
          18,
          19,
          20,
          21,
          22,
          23,
          24,
          25,
          26,
          27,
          28,
          29
         ],
         "xaxis": "x",
         "y": [
          2,
          1.5194444503776747,
          1.6362324547277758,
          1.876912049295003,
          2.1545952499412895,
          2.296323324961489,
          2.371264682399641,
          2.4391512135862694,
          2.8264914650182638,
          3.2587665210656134,
          1.85399831892509,
          1.8998980006074522,
          1.9346787756744612,
          1.9736161566757864,
          2.153015759674525,
          2.6608791552792916,
          2.7092580963962645,
          2.8581811060573554,
          3.147260128647618,
          3.8088563228094077,
          3.768308627841372,
          5.119920094834459,
          5.237505338347773,
          5.83774814005208,
          4.2804993894485195,
          5.595010830449485,
          4.52332322830014,
          4.127898893680865,
          4.557132861233113,
          3.820503569695767
         ],
         "yaxis": "y"
        },
        {
         "hovertemplate": "Parameters=(32,)_(False,)_(True,)_(False,)_False<br>Time=%{x}<br>Cumulative Return=%{y}<extra></extra>",
         "legendgroup": "(32,)_(False,)_(True,)_(False,)_False",
         "line": {
          "color": "#ab63fa",
          "dash": "solid"
         },
         "marker": {
          "symbol": "circle"
         },
         "mode": "lines",
         "name": "(32,)_(False,)_(True,)_(False,)_False",
         "showlegend": true,
         "type": "scattergl",
         "x": [
          0,
          1,
          2,
          3,
          4,
          5,
          6,
          7,
          8,
          9,
          10,
          11,
          12,
          13,
          14,
          15,
          16,
          17,
          18,
          19,
          20,
          21,
          22,
          23,
          24,
          25,
          26,
          27,
          28,
          29
         ],
         "xaxis": "x",
         "y": [
          2,
          1.8517077127268027,
          1.994034237632205,
          1.9547073314826695,
          1.4620854036374038,
          1.4461361106970538,
          1.4703191361290298,
          1.6521378919278389,
          1.7119158283349947,
          1.8234488689174557,
          1.4707292613767573,
          1.5071403002914352,
          1.508543594903088,
          1.513806043178828,
          1.5443942903211085,
          1.904586882597511,
          1.9491562247023193,
          1.8902578030799126,
          2.167313717211346,
          2.343878751603317,
          2.773541926940506,
          3.0421367778527784,
          2.691560234980963,
          2.531620973745119,
          2.834967231953489,
          2.7547988587870362,
          2.4004783898761866,
          2.190631000650047,
          2.4017526859873386,
          2.4861087259964596
         ],
         "yaxis": "y"
        },
        {
         "hovertemplate": "Parameters=(32,)_(False,)_(False,)_(True,)_False<br>Time=%{x}<br>Cumulative Return=%{y}<extra></extra>",
         "legendgroup": "(32,)_(False,)_(False,)_(True,)_False",
         "line": {
          "color": "#FFA15A",
          "dash": "solid"
         },
         "marker": {
          "symbol": "circle"
         },
         "mode": "lines",
         "name": "(32,)_(False,)_(False,)_(True,)_False",
         "showlegend": true,
         "type": "scattergl",
         "x": [
          0,
          1,
          2,
          3,
          4,
          5,
          6,
          7,
          8,
          9,
          10,
          11,
          12,
          13,
          14,
          15,
          16,
          17,
          18,
          19,
          20,
          21,
          22,
          23,
          24,
          25,
          26,
          27,
          28,
          29
         ],
         "xaxis": "x",
         "y": [
          2,
          2.4805555496223253,
          2.289894329827188,
          1.9530651480613896,
          1.664115337340046,
          1.5546507576797959,
          1.5039141576303543,
          1.46085885632984,
          1.2288726499947717,
          1.0409325835816887,
          1.4896511353818893,
          1.4527716451289312,
          1.4261762574834878,
          1.3974730076153956,
          1.2704442021814524,
          0.9707659004565276,
          0.9531158594002205,
          0.9007248072053775,
          0.8096246854048705,
          0.6394307425249517,
          0.6462378889499347,
          0.4144462212885497,
          0.4049279555830841,
          0.3585213030174064,
          0.45415866828127266,
          0.31468971590690725,
          0.37496646554712887,
          0.40774565413481567,
          0.36534677533853566,
          0.42440257741367127
         ],
         "yaxis": "y"
        },
        {
         "hovertemplate": "Parameters=(32,)_(False,)_(False,)_(False,)_False<br>Time=%{x}<br>Cumulative Return=%{y}<extra></extra>",
         "legendgroup": "(32,)_(False,)_(False,)_(False,)_False",
         "line": {
          "color": "#19d3f3",
          "dash": "solid"
         },
         "marker": {
          "symbol": "circle"
         },
         "mode": "lines",
         "name": "(32,)_(False,)_(False,)_(False,)_False",
         "showlegend": true,
         "type": "scattergl",
         "x": [
          0,
          1,
          2,
          3,
          4,
          5,
          6,
          7,
          8,
          9,
          10,
          11,
          12,
          13,
          14,
          15,
          16,
          17,
          18,
          19,
          20,
          21,
          22,
          23,
          24,
          25,
          26,
          27,
          28,
          29
         ],
         "xaxis": "x",
         "y": [
          2,
          2.148292287273197,
          1.9831695880333609,
          2.0222822184964224,
          2.531934251349475,
          2.559554088726973,
          2.5167519201313997,
          2.205531932899731,
          2.125730998442021,
          1.987237482702277,
          2.371639610415923,
          2.312924614791501,
          2.3107710563945365,
          2.3027100940183485,
          2.256181104541632,
          1.7299814638262285,
          1.6894980727030615,
          1.7405503016394597,
          1.485437081566126,
          1.3644226445185443,
          1.1143063936054856,
          1.0063949332616313,
          1.1223721171394723,
          1.1890662839331303,
          1.0465888705550717,
          1.0761847424864377,
          1.214602936386951,
          1.3207822947274155,
          1.1934921285863527,
          1.1515734621320615
         ],
         "yaxis": "y"
        },
        {
         "hovertemplate": "Parameters=(40,)_(False,)_(True,)_(True,)_False<br>Time=%{x}<br>Cumulative Return=%{y}<extra></extra>",
         "legendgroup": "(40,)_(False,)_(True,)_(True,)_False",
         "line": {
          "color": "#FF6692",
          "dash": "solid"
         },
         "marker": {
          "symbol": "circle"
         },
         "mode": "lines",
         "name": "(40,)_(False,)_(True,)_(True,)_False",
         "showlegend": true,
         "type": "scattergl",
         "x": [
          0,
          1,
          2,
          3,
          4,
          5,
          6,
          7,
          8,
          9,
          10,
          11,
          12,
          13,
          14,
          15,
          16,
          17,
          18,
          19,
          20,
          21,
          22,
          23,
          24,
          25,
          26,
          27,
          28,
          29
         ],
         "xaxis": "x",
         "y": [
          2,
          1.536216312380848,
          1.6406992037690182,
          1.8515186133640633,
          2.328353770012346,
          2.520972935861596,
          2.5015751392958476,
          2.3964903558099957,
          2.6791834651910764,
          3.0419918098809986,
          1.6971283149478968,
          1.7483550740691864,
          1.748090114433528,
          1.7573426966416827,
          1.8888835313211825,
          2.330632451836437,
          2.4282756740290603,
          2.5910610160185192,
          2.784654770976373,
          3.3370941491520396,
          3.144254328007209,
          4.170352620052626,
          4.3826930293816,
          5.08568642730865,
          3.453115870336021,
          4.579538795571189,
          3.912393467946433,
          3.739733262095499,
          4.176111812687438,
          3.4772193834958087
         ],
         "yaxis": "y"
        },
        {
         "hovertemplate": "Parameters=(40,)_(False,)_(True,)_(False,)_False<br>Time=%{x}<br>Cumulative Return=%{y}<extra></extra>",
         "legendgroup": "(40,)_(False,)_(True,)_(False,)_False",
         "line": {
          "color": "#B6E880",
          "dash": "solid"
         },
         "marker": {
          "symbol": "circle"
         },
         "mode": "lines",
         "name": "(40,)_(False,)_(True,)_(False,)_False",
         "showlegend": true,
         "type": "scattergl",
         "x": [
          0,
          1,
          2,
          3,
          4,
          5,
          6,
          7,
          8,
          9,
          10,
          11,
          12,
          13,
          14,
          15,
          16,
          17,
          18,
          19,
          20,
          21,
          22,
          23,
          24,
          25,
          26,
          27,
          28,
          29
         ],
         "xaxis": "x",
         "y": [
          2,
          1.8441888587250648,
          1.9696179292749125,
          1.9318303278773852,
          1.6043159882994087,
          1.6878993221062086,
          1.7517776474320024,
          1.8888177852416963,
          2.0450668185853753,
          2.191074599293027,
          1.9723101279146977,
          2.0318430783376407,
          2.0481771828324917,
          2.0531092163473605,
          2.1041851740104023,
          2.4750420776990945,
          2.4261174687352502,
          2.371106762831964,
          2.645867351720357,
          2.842990542711839,
          3.332044713873891,
          3.5679846085626306,
          3.1368408767086704,
          2.922630919904929,
          3.2432459554349067,
          3.1006786451595727,
          2.7270076857307206,
          2.6066604578169374,
          2.773059198875776,
          2.828363958342196
         ],
         "yaxis": "y"
        },
        {
         "hovertemplate": "Parameters=(40,)_(False,)_(False,)_(True,)_False<br>Time=%{x}<br>Cumulative Return=%{y}<extra></extra>",
         "legendgroup": "(40,)_(False,)_(False,)_(True,)_False",
         "line": {
          "color": "#FF97FF",
          "dash": "solid"
         },
         "marker": {
          "symbol": "circle"
         },
         "mode": "lines",
         "name": "(40,)_(False,)_(False,)_(True,)_False",
         "showlegend": true,
         "type": "scattergl",
         "x": [
          0,
          1,
          2,
          3,
          4,
          5,
          6,
          7,
          8,
          9,
          10,
          11,
          12,
          13,
          14,
          15,
          16,
          17,
          18,
          19,
          20,
          21,
          22,
          23,
          24,
          25,
          26,
          27,
          28,
          29
         ],
         "xaxis": "x",
         "y": [
          2,
          2.463783687619152,
          2.296214028735308,
          2.001165134501805,
          1.4857904126374126,
          1.3628745080206006,
          1.3733612379950313,
          1.431052636536509,
          1.2622438121948127,
          1.0913139023743834,
          1.573783389652099,
          1.5262797201294622,
          1.52651102469943,
          1.5184312531641604,
          1.4047734476454352,
          1.0762422577780462,
          1.0311524531516207,
          0.9620266506223536,
          0.8901478525114189,
          0.713554067439314,
          0.7547880370524065,
          0.5084699486022752,
          0.48258035919476694,
          0.40517343057602817,
          0.5352392973337767,
          0.3606416766217731,
          0.4131798076968184,
          0.4314140960512123,
          0.38107364534370086,
          0.44484815561568003
         ],
         "yaxis": "y"
        },
        {
         "hovertemplate": "Parameters=(40,)_(False,)_(False,)_(False,)_False<br>Time=%{x}<br>Cumulative Return=%{y}<extra></extra>",
         "legendgroup": "(40,)_(False,)_(False,)_(False,)_False",
         "line": {
          "color": "#FECB52",
          "dash": "solid"
         },
         "marker": {
          "symbol": "circle"
         },
         "mode": "lines",
         "name": "(40,)_(False,)_(False,)_(False,)_False",
         "showlegend": true,
         "type": "scattergl",
         "x": [
          0,
          1,
          2,
          3,
          4,
          5,
          6,
          7,
          8,
          9,
          10,
          11,
          12,
          13,
          14,
          15,
          16,
          17,
          18,
          19,
          20,
          21,
          22,
          23,
          24,
          25,
          26,
          27,
          28,
          29
         ],
         "xaxis": "x",
         "y": [
          2,
          2.1558111412749352,
          2.0091876615527684,
          2.0477344179358887,
          2.3948986465140063,
          2.270126709772779,
          2.1842140664068883,
          2.013344779939474,
          1.8467944762992365,
          1.7149423722715929,
          1.886168154194009,
          1.829235345492323,
          1.8145300163271434,
          1.8101606077968302,
          1.7651285725641295,
          1.454029471059702,
          1.4827715372792931,
          1.516392460425095,
          1.3406749887602205,
          1.2407916247302553,
          1.027349367184632,
          0.9546034341865497,
          1.0699546288268196,
          1.1430201567994847,
          1.0176298977394498,
          1.062363093855321,
          1.1903912715455285,
          1.2429251497640934,
          1.1635817970344002,
          1.1403757971658866
         ],
         "yaxis": "y"
        }
       ],
       "layout": {
        "autosize": true,
        "legend": {
         "title": {
          "text": "Parameters"
         },
         "tracegroupgap": 0
        },
        "template": {
         "data": {
          "bar": [
           {
            "error_x": {
             "color": "#2a3f5f"
            },
            "error_y": {
             "color": "#2a3f5f"
            },
            "marker": {
             "line": {
              "color": "#E5ECF6",
              "width": 0.5
             },
             "pattern": {
              "fillmode": "overlay",
              "size": 10,
              "solidity": 0.2
             }
            },
            "type": "bar"
           }
          ],
          "barpolar": [
           {
            "marker": {
             "line": {
              "color": "#E5ECF6",
              "width": 0.5
             },
             "pattern": {
              "fillmode": "overlay",
              "size": 10,
              "solidity": 0.2
             }
            },
            "type": "barpolar"
           }
          ],
          "carpet": [
           {
            "aaxis": {
             "endlinecolor": "#2a3f5f",
             "gridcolor": "white",
             "linecolor": "white",
             "minorgridcolor": "white",
             "startlinecolor": "#2a3f5f"
            },
            "baxis": {
             "endlinecolor": "#2a3f5f",
             "gridcolor": "white",
             "linecolor": "white",
             "minorgridcolor": "white",
             "startlinecolor": "#2a3f5f"
            },
            "type": "carpet"
           }
          ],
          "choropleth": [
           {
            "colorbar": {
             "outlinewidth": 0,
             "ticks": ""
            },
            "type": "choropleth"
           }
          ],
          "contour": [
           {
            "colorbar": {
             "outlinewidth": 0,
             "ticks": ""
            },
            "colorscale": [
             [
              0,
              "#0d0887"
             ],
             [
              0.1111111111111111,
              "#46039f"
             ],
             [
              0.2222222222222222,
              "#7201a8"
             ],
             [
              0.3333333333333333,
              "#9c179e"
             ],
             [
              0.4444444444444444,
              "#bd3786"
             ],
             [
              0.5555555555555556,
              "#d8576b"
             ],
             [
              0.6666666666666666,
              "#ed7953"
             ],
             [
              0.7777777777777778,
              "#fb9f3a"
             ],
             [
              0.8888888888888888,
              "#fdca26"
             ],
             [
              1,
              "#f0f921"
             ]
            ],
            "type": "contour"
           }
          ],
          "contourcarpet": [
           {
            "colorbar": {
             "outlinewidth": 0,
             "ticks": ""
            },
            "type": "contourcarpet"
           }
          ],
          "heatmap": [
           {
            "colorbar": {
             "outlinewidth": 0,
             "ticks": ""
            },
            "colorscale": [
             [
              0,
              "#0d0887"
             ],
             [
              0.1111111111111111,
              "#46039f"
             ],
             [
              0.2222222222222222,
              "#7201a8"
             ],
             [
              0.3333333333333333,
              "#9c179e"
             ],
             [
              0.4444444444444444,
              "#bd3786"
             ],
             [
              0.5555555555555556,
              "#d8576b"
             ],
             [
              0.6666666666666666,
              "#ed7953"
             ],
             [
              0.7777777777777778,
              "#fb9f3a"
             ],
             [
              0.8888888888888888,
              "#fdca26"
             ],
             [
              1,
              "#f0f921"
             ]
            ],
            "type": "heatmap"
           }
          ],
          "heatmapgl": [
           {
            "colorbar": {
             "outlinewidth": 0,
             "ticks": ""
            },
            "colorscale": [
             [
              0,
              "#0d0887"
             ],
             [
              0.1111111111111111,
              "#46039f"
             ],
             [
              0.2222222222222222,
              "#7201a8"
             ],
             [
              0.3333333333333333,
              "#9c179e"
             ],
             [
              0.4444444444444444,
              "#bd3786"
             ],
             [
              0.5555555555555556,
              "#d8576b"
             ],
             [
              0.6666666666666666,
              "#ed7953"
             ],
             [
              0.7777777777777778,
              "#fb9f3a"
             ],
             [
              0.8888888888888888,
              "#fdca26"
             ],
             [
              1,
              "#f0f921"
             ]
            ],
            "type": "heatmapgl"
           }
          ],
          "histogram": [
           {
            "marker": {
             "pattern": {
              "fillmode": "overlay",
              "size": 10,
              "solidity": 0.2
             }
            },
            "type": "histogram"
           }
          ],
          "histogram2d": [
           {
            "colorbar": {
             "outlinewidth": 0,
             "ticks": ""
            },
            "colorscale": [
             [
              0,
              "#0d0887"
             ],
             [
              0.1111111111111111,
              "#46039f"
             ],
             [
              0.2222222222222222,
              "#7201a8"
             ],
             [
              0.3333333333333333,
              "#9c179e"
             ],
             [
              0.4444444444444444,
              "#bd3786"
             ],
             [
              0.5555555555555556,
              "#d8576b"
             ],
             [
              0.6666666666666666,
              "#ed7953"
             ],
             [
              0.7777777777777778,
              "#fb9f3a"
             ],
             [
              0.8888888888888888,
              "#fdca26"
             ],
             [
              1,
              "#f0f921"
             ]
            ],
            "type": "histogram2d"
           }
          ],
          "histogram2dcontour": [
           {
            "colorbar": {
             "outlinewidth": 0,
             "ticks": ""
            },
            "colorscale": [
             [
              0,
              "#0d0887"
             ],
             [
              0.1111111111111111,
              "#46039f"
             ],
             [
              0.2222222222222222,
              "#7201a8"
             ],
             [
              0.3333333333333333,
              "#9c179e"
             ],
             [
              0.4444444444444444,
              "#bd3786"
             ],
             [
              0.5555555555555556,
              "#d8576b"
             ],
             [
              0.6666666666666666,
              "#ed7953"
             ],
             [
              0.7777777777777778,
              "#fb9f3a"
             ],
             [
              0.8888888888888888,
              "#fdca26"
             ],
             [
              1,
              "#f0f921"
             ]
            ],
            "type": "histogram2dcontour"
           }
          ],
          "mesh3d": [
           {
            "colorbar": {
             "outlinewidth": 0,
             "ticks": ""
            },
            "type": "mesh3d"
           }
          ],
          "parcoords": [
           {
            "line": {
             "colorbar": {
              "outlinewidth": 0,
              "ticks": ""
             }
            },
            "type": "parcoords"
           }
          ],
          "pie": [
           {
            "automargin": true,
            "type": "pie"
           }
          ],
          "scatter": [
           {
            "fillpattern": {
             "fillmode": "overlay",
             "size": 10,
             "solidity": 0.2
            },
            "type": "scatter"
           }
          ],
          "scatter3d": [
           {
            "line": {
             "colorbar": {
              "outlinewidth": 0,
              "ticks": ""
             }
            },
            "marker": {
             "colorbar": {
              "outlinewidth": 0,
              "ticks": ""
             }
            },
            "type": "scatter3d"
           }
          ],
          "scattercarpet": [
           {
            "marker": {
             "colorbar": {
              "outlinewidth": 0,
              "ticks": ""
             }
            },
            "type": "scattercarpet"
           }
          ],
          "scattergeo": [
           {
            "marker": {
             "colorbar": {
              "outlinewidth": 0,
              "ticks": ""
             }
            },
            "type": "scattergeo"
           }
          ],
          "scattergl": [
           {
            "marker": {
             "colorbar": {
              "outlinewidth": 0,
              "ticks": ""
             }
            },
            "type": "scattergl"
           }
          ],
          "scattermapbox": [
           {
            "marker": {
             "colorbar": {
              "outlinewidth": 0,
              "ticks": ""
             }
            },
            "type": "scattermapbox"
           }
          ],
          "scatterpolar": [
           {
            "marker": {
             "colorbar": {
              "outlinewidth": 0,
              "ticks": ""
             }
            },
            "type": "scatterpolar"
           }
          ],
          "scatterpolargl": [
           {
            "marker": {
             "colorbar": {
              "outlinewidth": 0,
              "ticks": ""
             }
            },
            "type": "scatterpolargl"
           }
          ],
          "scatterternary": [
           {
            "marker": {
             "colorbar": {
              "outlinewidth": 0,
              "ticks": ""
             }
            },
            "type": "scatterternary"
           }
          ],
          "surface": [
           {
            "colorbar": {
             "outlinewidth": 0,
             "ticks": ""
            },
            "colorscale": [
             [
              0,
              "#0d0887"
             ],
             [
              0.1111111111111111,
              "#46039f"
             ],
             [
              0.2222222222222222,
              "#7201a8"
             ],
             [
              0.3333333333333333,
              "#9c179e"
             ],
             [
              0.4444444444444444,
              "#bd3786"
             ],
             [
              0.5555555555555556,
              "#d8576b"
             ],
             [
              0.6666666666666666,
              "#ed7953"
             ],
             [
              0.7777777777777778,
              "#fb9f3a"
             ],
             [
              0.8888888888888888,
              "#fdca26"
             ],
             [
              1,
              "#f0f921"
             ]
            ],
            "type": "surface"
           }
          ],
          "table": [
           {
            "cells": {
             "fill": {
              "color": "#EBF0F8"
             },
             "line": {
              "color": "white"
             }
            },
            "header": {
             "fill": {
              "color": "#C8D4E3"
             },
             "line": {
              "color": "white"
             }
            },
            "type": "table"
           }
          ]
         },
         "layout": {
          "annotationdefaults": {
           "arrowcolor": "#2a3f5f",
           "arrowhead": 0,
           "arrowwidth": 1
          },
          "autotypenumbers": "strict",
          "coloraxis": {
           "colorbar": {
            "outlinewidth": 0,
            "ticks": ""
           }
          },
          "colorscale": {
           "diverging": [
            [
             0,
             "#8e0152"
            ],
            [
             0.1,
             "#c51b7d"
            ],
            [
             0.2,
             "#de77ae"
            ],
            [
             0.3,
             "#f1b6da"
            ],
            [
             0.4,
             "#fde0ef"
            ],
            [
             0.5,
             "#f7f7f7"
            ],
            [
             0.6,
             "#e6f5d0"
            ],
            [
             0.7,
             "#b8e186"
            ],
            [
             0.8,
             "#7fbc41"
            ],
            [
             0.9,
             "#4d9221"
            ],
            [
             1,
             "#276419"
            ]
           ],
           "sequential": [
            [
             0,
             "#0d0887"
            ],
            [
             0.1111111111111111,
             "#46039f"
            ],
            [
             0.2222222222222222,
             "#7201a8"
            ],
            [
             0.3333333333333333,
             "#9c179e"
            ],
            [
             0.4444444444444444,
             "#bd3786"
            ],
            [
             0.5555555555555556,
             "#d8576b"
            ],
            [
             0.6666666666666666,
             "#ed7953"
            ],
            [
             0.7777777777777778,
             "#fb9f3a"
            ],
            [
             0.8888888888888888,
             "#fdca26"
            ],
            [
             1,
             "#f0f921"
            ]
           ],
           "sequentialminus": [
            [
             0,
             "#0d0887"
            ],
            [
             0.1111111111111111,
             "#46039f"
            ],
            [
             0.2222222222222222,
             "#7201a8"
            ],
            [
             0.3333333333333333,
             "#9c179e"
            ],
            [
             0.4444444444444444,
             "#bd3786"
            ],
            [
             0.5555555555555556,
             "#d8576b"
            ],
            [
             0.6666666666666666,
             "#ed7953"
            ],
            [
             0.7777777777777778,
             "#fb9f3a"
            ],
            [
             0.8888888888888888,
             "#fdca26"
            ],
            [
             1,
             "#f0f921"
            ]
           ]
          },
          "colorway": [
           "#636efa",
           "#EF553B",
           "#00cc96",
           "#ab63fa",
           "#FFA15A",
           "#19d3f3",
           "#FF6692",
           "#B6E880",
           "#FF97FF",
           "#FECB52"
          ],
          "font": {
           "color": "#2a3f5f"
          },
          "geo": {
           "bgcolor": "white",
           "lakecolor": "white",
           "landcolor": "#E5ECF6",
           "showlakes": true,
           "showland": true,
           "subunitcolor": "white"
          },
          "hoverlabel": {
           "align": "left"
          },
          "hovermode": "closest",
          "mapbox": {
           "style": "light"
          },
          "paper_bgcolor": "white",
          "plot_bgcolor": "#E5ECF6",
          "polar": {
           "angularaxis": {
            "gridcolor": "white",
            "linecolor": "white",
            "ticks": ""
           },
           "bgcolor": "#E5ECF6",
           "radialaxis": {
            "gridcolor": "white",
            "linecolor": "white",
            "ticks": ""
           }
          },
          "scene": {
           "xaxis": {
            "backgroundcolor": "#E5ECF6",
            "gridcolor": "white",
            "gridwidth": 2,
            "linecolor": "white",
            "showbackground": true,
            "ticks": "",
            "zerolinecolor": "white"
           },
           "yaxis": {
            "backgroundcolor": "#E5ECF6",
            "gridcolor": "white",
            "gridwidth": 2,
            "linecolor": "white",
            "showbackground": true,
            "ticks": "",
            "zerolinecolor": "white"
           },
           "zaxis": {
            "backgroundcolor": "#E5ECF6",
            "gridcolor": "white",
            "gridwidth": 2,
            "linecolor": "white",
            "showbackground": true,
            "ticks": "",
            "zerolinecolor": "white"
           }
          },
          "shapedefaults": {
           "line": {
            "color": "#2a3f5f"
           }
          },
          "ternary": {
           "aaxis": {
            "gridcolor": "white",
            "linecolor": "white",
            "ticks": ""
           },
           "baxis": {
            "gridcolor": "white",
            "linecolor": "white",
            "ticks": ""
           },
           "bgcolor": "#E5ECF6",
           "caxis": {
            "gridcolor": "white",
            "linecolor": "white",
            "ticks": ""
           }
          },
          "title": {
           "x": 0.05
          },
          "xaxis": {
           "automargin": true,
           "gridcolor": "white",
           "linecolor": "white",
           "ticks": "",
           "title": {
            "standoff": 15
           },
           "zerolinecolor": "white",
           "zerolinewidth": 2
          },
          "yaxis": {
           "automargin": true,
           "gridcolor": "white",
           "linecolor": "white",
           "ticks": "",
           "title": {
            "standoff": 15
           },
           "zerolinecolor": "white",
           "zerolinewidth": 2
          }
         }
        },
        "title": {
         "text": "Cumulative Returns for Different Backtest Parameters"
        },
        "xaxis": {
         "anchor": "y",
         "autorange": true,
         "domain": [
          0,
          1
         ],
         "range": [
          0,
          29
         ],
         "title": {
          "text": "Time"
         },
         "type": "linear"
        },
        "yaxis": {
         "anchor": "x",
         "autorange": true,
         "domain": [
          0,
          1
         ],
         "range": [
          -0.3045387862775303,
          7.274804910038084
         ],
         "title": {
          "text": "Cumulative Return"
         },
         "type": "linear"
        }
       }
      },
      "image/png": "[encoded data removed]",
      "text/html": [
       "<div>                            <div id=\"ffbd1907-827f-4a9d-b748-136467f47e0e\" class=\"plotly-graph-div\" style=\"height:525px; width:100%;\"></div>            <script type=\"text/javascript\">                require([\"plotly\"], function(Plotly) {                    window.PLOTLYENV=window.PLOTLYENV || {};                                    if (document.getElementById(\"ffbd1907-827f-4a9d-b748-136467f47e0e\")) {                    Plotly.newPlot(                        \"ffbd1907-827f-4a9d-b748-136467f47e0e\",                        [{\"hovertemplate\":\"Parameters=(8,)_(True,)_(True,)_(True,)_True\\u003cbr\\u003eTime=%{x}\\u003cbr\\u003eCumulative Return=%{y}\\u003cextra\\u003e\\u003c\\u002fextra\\u003e\",\"legendgroup\":\"(8,)_(True,)_(True,)_(True,)_True\",\"line\":{\"color\":\"#636efa\",\"dash\":\"solid\"},\"marker\":{\"symbol\":\"circle\"},\"mode\":\"lines\",\"name\":\"(8,)_(True,)_(True,)_(True,)_True\",\"showlegend\":true,\"x\":[0,1,2,3,4,5,6,7,8,9,10,11,12,13,14,15,16,17,18,19,20,21,22,23,24,25,26,27,28,29],\"xaxis\":\"x\",\"y\":[2.0,1.4729704546580198,1.7593518442850948,2.1029303411561506,2.7036860872296566,2.96980802367605,3.0948548414785533,3.204342473348295,3.7091446088406848,4.5468122701282025,2.4577479953036723,2.1544567821202145,1.8464434035790913,1.7714110818510618,1.803596608807644,2.114367305442298,2.4219077807138447,2.674404357785275,4.144221126852857,5.483973492617552,4.976597517782969,5.007945061799084,4.722169391723139,5.167828260510402,5.017327913542775,6.5602170794121415,2.486987696393515,2.2752605143427607,2.663659522593028,2.3479048821162327],\"yaxis\":\"y\",\"type\":\"scattergl\"},{\"hovertemplate\":\"Parameters=(8,)_(True,)_(True,)_(True,)_False\\u003cbr\\u003eTime=%{x}\\u003cbr\\u003eCumulative Return=%{y}\\u003cextra\\u003e\\u003c\\u002fextra\\u003e\",\"legendgroup\":\"(8,)_(True,)_(True,)_(True,)_False\",\"line\":{\"color\":\"#EF553B\",\"dash\":\"solid\"},\"marker\":{\"symbol\":\"circle\"},\"mode\":\"lines\",\"name\":\"(8,)_(True,)_(True,)_(True,)_False\",\"showlegend\":true,\"x\":[0,1,2,3,4,5,6,7,8,9,10,11,12,13,14,15,16,17,18,19,20,21,22,23,24,25,26,27,28,29],\"xaxis\":\"x\",\"y\":[2.0,1.4517276503325505,1.6096248682096095,1.928832264216768,2.802050392828358,3.0944106055137275,3.29086522766018,3.477254259114074,4.054423399161526,4.984167574922568,2.7859390742474117,2.39376017945553,1.9625028464449379,1.8702638656965973,1.911908974121194,2.2698073644023125,2.214688013743431,2.4396792180056623,4.220681884518174,6.895837725222303,3.5557012822283394,3.199219003313235,3.0897257301613226,3.1834833814721577,2.7398887616061534,3.3061538861726465,1.9577079502711963,1.6941925666064148,1.9858215646834356,1.7330805015851594],\"yaxis\":\"y\",\"type\":\"scattergl\"},{\"hovertemplate\":\"Parameters=(8,)_(True,)_(True,)_(False,)_True\\u003cbr\\u003eTime=%{x}\\u003cbr\\u003eCumulative Return=%{y}\\u003cextra\\u003e\\u003c\\u002fextra\\u003e\",\"legendgroup\":\"(8,)_(True,)_(True,)_(False,)_True\",\"line\":{\"color\":\"#00cc96\",\"dash\":\"solid\"},\"marker\":{\"symbol\":\"circle\"},\"mode\":\"lines\",\"name\":\"(8,)_(True,)_(True,)_(False,)_True\",\"showlegend\":true,\"x\":[0,1,2,3,4,5,6,7,8,9,10,11,12,13,14,15,16,17,18,19,20,21,22,23,24,25,26,27,28,29],\"xaxis\":\"x\",\"y\":[2.0,1.6871036087836215,2.015117707369517,2.1483750321867654,1.881909602605131,1.7998871868314779,1.7583098977263394,1.8678754663265507,2.051987945072149,2.28724798619937,1.904398945014141,1.669392155252821,1.5450204727215426,1.4595320037560062,1.4839225911418883,1.7199902753588214,2.0302750649910024,2.0713340560963145,3.6097786238478236,3.974482258790642,4.612421761054202,3.41324065794446,2.978268253064541,2.798245115844022,3.1074598629130987,3.179605626659894,1.4855751734713885,1.3591022336736645,1.5753466221299461,1.6049378208491918],\"yaxis\":\"y\",\"type\":\"scattergl\"},{\"hovertemplate\":\"Parameters=(8,)_(True,)_(True,)_(False,)_False\\u003cbr\\u003eTime=%{x}\\u003cbr\\u003eCumulative Return=%{y}\\u003cextra\\u003e\\u003c\\u002fextra\\u003e\",\"legendgroup\":\"(8,)_(True,)_(True,)_(False,)_False\",\"line\":{\"color\":\"#ab63fa\",\"dash\":\"solid\"},\"marker\":{\"symbol\":\"circle\"},\"mode\":\"lines\",\"name\":\"(8,)_(True,)_(True,)_(False,)_False\",\"showlegend\":true,\"x\":[0,1,2,3,4,5,6,7,8,9,10,11,12,13,14,15,16,17,18,19,20,21,22,23,24,25,26,27,28,29],\"xaxis\":\"x\",\"y\":[2.0,1.710838473636871,1.896917890917664,2.034114799599127,2.108681249335629,2.0645778744904675,2.0790304578629906,2.2638719827417555,2.49232817861816,2.783946226408323,2.2406572103238744,1.9252380841573558,1.721699895504655,1.639219943936298,1.676988343270934,1.9737979083039723,1.9713861455705128,2.0122180018932885,3.596298543164371,4.854836215097219,4.422200472617497,2.0426161496943913,1.9435123121625244,1.686350848421236,1.7042741331535791,1.5743275890682227,0.9609327716296249,0.8315873460481614,0.9656728575666248,0.9856157954902247],\"yaxis\":\"y\",\"type\":\"scattergl\"},{\"hovertemplate\":\"Parameters=(8,)_(True,)_(False,)_(True,)_True\\u003cbr\\u003eTime=%{x}\\u003cbr\\u003eCumulative Return=%{y}\\u003cextra\\u003e\\u003c\\u002fextra\\u003e\",\"legendgroup\":\"(8,)_(True,)_(False,)_(True,)_True\",\"line\":{\"color\":\"#FFA15A\",\"dash\":\"solid\"},\"marker\":{\"symbol\":\"circle\"},\"mode\":\"lines\",\"name\":\"(8,)_(True,)_(False,)_(True,)_True\",\"showlegend\":true,\"x\":[0,1,2,3,4,5,6,7,8,9,10,11,12,13,14,15,16,17,18,19,20,21,22,23,24,25,26,27,28,29],\"xaxis\":\"x\",\"y\":[2.0,2.52702954534198,2.03571335462332,1.6381650548254336,1.170181379644762,1.0550012423442574,1.0105793312035032,0.9748277552953036,0.8212564261682641,0.6357851053181626,0.9279009594764155,1.0424058673235377,1.1914341308143657,1.2398494079074713,1.217322052767179,1.00757003808731,0.8610162356400471,0.7712507813014177,0.34738169500810495,0.23507942313008634,0.25682891765896093,0.2552111545643653,0.2697746407461179,0.24431442294174696,0.2514294824151624,0.17411186812262203,0.2822176775164903,0.30624399404074387,0.2539665239144781,0.2840721390546942],\"yaxis\":\"y\",\"type\":\"scattergl\"},{\"hovertemplate\":\"Parameters=(8,)_(True,)_(False,)_(True,)_False\\u003cbr\\u003eTime=%{x}\\u003cbr\\u003eCumulative Return=%{y}\\u003cextra\\u003e\\u003c\\u002fextra\\u003e\",\"legendgroup\":\"(8,)_(True,)_(False,)_(True,)_False\",\"line\":{\"color\":\"#19d3f3\",\"dash\":\"solid\"},\"marker\":{\"symbol\":\"circle\"},\"mode\":\"lines\",\"name\":\"(8,)_(True,)_(False,)_(True,)_False\",\"showlegend\":true,\"x\":[0,1,2,3,4,5,6,7,8,9,10,11,12,13,14,15,16,17,18,19,20,21,22,23,24,25,26,27,28,29],\"xaxis\":\"x\",\"y\":[2.0,2.5482723496674495,2.2711094022555463,1.8207219034914792,0.9964473396612437,0.8924800602365953,0.8358192432478573,0.7884798572681221,0.6576046875932634,0.5068054078807802,0.7303280072221832,0.833136870975001,0.9832339392164787,1.029446609203069,1.0065239529704804,0.8181084439564574,0.8379751546327187,0.7528448617821399,0.2032567452754547,0.07442839853825048,0.11047927680094549,0.1215555459363021,0.12571578460097294,0.12190094220838597,0.13888692757113374,0.11018254203410123,0.1551215273712816,0.1760015104117793,0.1457055776157564,0.16424993388667097],\"yaxis\":\"y\",\"type\":\"scattergl\"},{\"hovertemplate\":\"Parameters=(8,)_(True,)_(False,)_(False,)_True\\u003cbr\\u003eTime=%{x}\\u003cbr\\u003eCumulative Return=%{y}\\u003cextra\\u003e\\u003c\\u002fextra\\u003e\",\"legendgroup\":\"(8,)_(True,)_(False,)_(False,)_True\",\"line\":{\"color\":\"#FF6692\",\"dash\":\"solid\"},\"marker\":{\"symbol\":\"circle\"},\"mode\":\"lines\",\"name\":\"(8,)_(True,)_(False,)_(False,)_True\",\"showlegend\":true,\"x\":[0,1,2,3,4,5,6,7,8,9,10,11,12,13,14,15,16,17,18,19,20,21,22,23,24,25,26,27,28,29],\"xaxis\":\"x\",\"y\":[2.0,2.3128963912163782,1.8632129094565382,1.7400008673157106,1.9558151788932205,2.0410587450865862,2.0882070831301647,1.9580846304760566,1.7650804278888272,1.5627142809262153,1.8242878696708318,2.0494087861543657,2.2020921554432324,2.3239374579577374,2.2851015848821383,1.9215794964904063,1.5749281820196592,1.5430778365506637,0.39698568001406753,0.3568773698908702,0.2995954003428203,0.37748705060413434,0.4255927854957348,0.45131798615370966,0.40144595166106617,0.39212559803999136,0.6010422948104347,0.6522114226505412,0.5484391995308401,0.5381373566787581],\"yaxis\":\"y\",\"type\":\"scattergl\"},{\"hovertemplate\":\"Parameters=(8,)_(True,)_(False,)_(False,)_False\\u003cbr\\u003eTime=%{x}\\u003cbr\\u003eCumulative Return=%{y}\\u003cextra\\u003e\\u003c\\u002fextra\\u003e\",\"legendgroup\":\"(8,)_(True,)_(False,)_(False,)_False\",\"line\":{\"color\":\"#B6E880\",\"dash\":\"solid\"},\"marker\":{\"symbol\":\"circle\"},\"mode\":\"lines\",\"name\":\"(8,)_(True,)_(False,)_(False,)_False\",\"showlegend\":true,\"x\":[0,1,2,3,4,5,6,7,8,9,10,11,12,13,14,15,16,17,18,19,20,21,22,23,24,25,26,27,28,29],\"xaxis\":\"x\",\"y\":[2.0,2.289161526363129,2.0401807783549604,1.892622205956114,1.82324258263376,1.861375966273839,1.848345849235109,1.684013930006214,1.5140734832031408,1.3369173778513352,1.597817721366994,1.8227438131961442,2.015446200069111,2.111998395608162,2.063336958139378,1.6981476904146953,1.7002226390699868,1.6650071909594166,0.35426178971878663,0.2302865961312313,0.250808444466823,0.38576836910287754,0.40448511418600286,0.45800573423800295,0.4531378461638938,0.48768844806402467,0.6777032636871169,0.7689248555065943,0.6449430716809768,0.6316237994843859],\"yaxis\":\"y\",\"type\":\"scattergl\"},{\"hovertemplate\":\"Parameters=(16,)_(True,)_(True,)_(True,)_True\\u003cbr\\u003eTime=%{x}\\u003cbr\\u003eCumulative Return=%{y}\\u003cextra\\u003e\\u003c\\u002fextra\\u003e\",\"legendgroup\":\"(16,)_(True,)_(True,)_(True,)_True\",\"line\":{\"color\":\"#FF97FF\",\"dash\":\"solid\"},\"marker\":{\"symbol\":\"circle\"},\"mode\":\"lines\",\"name\":\"(16,)_(True,)_(True,)_(True,)_True\",\"showlegend\":true,\"x\":[0,1,2,3,4,5,6,7,8,9,10,11,12,13,14,15,16,17,18,19,20,21,22,23,24,25,26,27,28,29],\"xaxis\":\"x\",\"y\":[2.0,1.477957589128672,1.6260514985207022,1.9032139087328572,2.014674109696274,2.258506886795471,2.3025834146750253,2.3560634181451694,2.7544367937288246,3.306835038055627,1.6139041439839135,1.439073683264052,1.5512500630905457,1.563621166207194,1.6565413038080758,1.9036556670823979,2.0547352806240977,1.9773553446149095,2.464909484544039,2.8468260372921126,2.982484868426818,3.989210197795384,4.142603893844915,4.7334904581386,3.908919164774039,5.144959097360156,3.2806091386483125,2.967144452742149,3.188564984050086,2.6646409532229485],\"yaxis\":\"y\",\"type\":\"scattergl\"},{\"hovertemplate\":\"Parameters=(16,)_(True,)_(True,)_(True,)_False\\u003cbr\\u003eTime=%{x}\\u003cbr\\u003eCumulative Return=%{y}\\u003cextra\\u003e\\u003c\\u002fextra\\u003e\",\"legendgroup\":\"(16,)_(True,)_(True,)_(True,)_False\",\"line\":{\"color\":\"#FECB52\",\"dash\":\"solid\"},\"marker\":{\"symbol\":\"circle\"},\"mode\":\"lines\",\"name\":\"(16,)_(True,)_(True,)_(True,)_False\",\"showlegend\":true,\"x\":[0,1,2,3,4,5,6,7,8,9,10,11,12,13,14,15,16,17,18,19,20,21,22,23,24,25,26,27,28,29],\"xaxis\":\"x\",\"y\":[2.0,1.4221418564579285,1.4869397427973194,1.7426698556593274,2.0241139607780996,2.2778318197188367,2.324654531544563,2.396046353528473,2.791989349063881,3.326147348411435,1.4538089119544868,1.291513379850326,1.2735993641099517,1.2887905835674662,1.3762559878083716,1.6151818661982595,1.59271230693694,1.5488810143941723,1.8529142897514304,2.5036566214982416,2.1038369442774076,2.447185031098119,2.5958963556657464,2.8969725410059874,2.2481069869238333,2.8015294809019577,2.237692101196309,1.9863954409167892,2.1877544276779006,1.8542046915747894],\"yaxis\":\"y\",\"type\":\"scattergl\"},{\"hovertemplate\":\"Parameters=(16,)_(True,)_(True,)_(False,)_True\\u003cbr\\u003eTime=%{x}\\u003cbr\\u003eCumulative Return=%{y}\\u003cextra\\u003e\\u003c\\u002fextra\\u003e\",\"legendgroup\":\"(16,)_(True,)_(True,)_(False,)_True\",\"line\":{\"color\":\"#636efa\",\"dash\":\"solid\"},\"marker\":{\"symbol\":\"circle\"},\"mode\":\"lines\",\"name\":\"(16,)_(True,)_(True,)_(False,)_True\",\"showlegend\":true,\"x\":[0,1,2,3,4,5,6,7,8,9,10,11,12,13,14,15,16,17,18,19,20,21,22,23,24,25,26,27,28,29],\"xaxis\":\"x\",\"y\":[2.0,1.8521334540803318,2.037720432995084,2.147574382109843,1.781369278817217,1.6645659361638512,1.6561586043240464,1.7880559141676866,1.9130169359895617,2.0565511822644167,1.577668291188943,1.4067631756405015,1.2949128063480202,1.2519148509578355,1.2961046102793603,1.6902052423153962,1.8588932990323512,1.7035087734406826,2.1133161959673643,2.2838586668315988,3.04328765189379,3.3769885587025383,2.850868680006292,2.8318078377898726,3.238272347925345,3.179124806176274,2.1398985417324843,1.9354296166317,2.1862714369991787,2.3385868668621583],\"yaxis\":\"y\",\"type\":\"scattergl\"},{\"hovertemplate\":\"Parameters=(16,)_(True,)_(True,)_(False,)_False\\u003cbr\\u003eTime=%{x}\\u003cbr\\u003eCumulative Return=%{y}\\u003cextra\\u003e\\u003c\\u002fextra\\u003e\",\"legendgroup\":\"(16,)_(True,)_(True,)_(False,)_False\",\"line\":{\"color\":\"#EF553B\",\"dash\":\"solid\"},\"marker\":{\"symbol\":\"circle\"},\"mode\":\"lines\",\"name\":\"(16,)_(True,)_(True,)_(False,)_False\",\"showlegend\":true,\"x\":[0,1,2,3,4,5,6,7,8,9,10,11,12,13,14,15,16,17,18,19,20,21,22,23,24,25,26,27,28,29],\"xaxis\":\"x\",\"y\":[2.0,1.7719835094494978,1.852721436906723,1.957071691185577,1.8048798763657843,1.7180649926412264,1.713321078019842,1.8206115239731513,1.9656545681954725,2.076816771134839,1.6296585761319158,1.447732118268987,1.3131079457672934,1.2681673397957358,1.3481139982827206,1.8061241167234026,1.8197226927158237,1.718335456263729,2.280869480820685,2.862138650033237,3.1573415889653114,2.99239904162355,2.6115778096137503,2.5328053662379926,2.7551387287866254,2.5535675776969,2.143975414628836,1.9032032989612748,2.1474729213658663,2.299504434613748],\"yaxis\":\"y\",\"type\":\"scattergl\"},{\"hovertemplate\":\"Parameters=(16,)_(True,)_(False,)_(True,)_True\\u003cbr\\u003eTime=%{x}\\u003cbr\\u003eCumulative Return=%{y}\\u003cextra\\u003e\\u003c\\u002fextra\\u003e\",\"legendgroup\":\"(16,)_(True,)_(False,)_(True,)_True\",\"line\":{\"color\":\"#00cc96\",\"dash\":\"solid\"},\"marker\":{\"symbol\":\"circle\"},\"mode\":\"lines\",\"name\":\"(16,)_(True,)_(False,)_(True,)_True\",\"showlegend\":true,\"x\":[0,1,2,3,4,5,6,7,8,9,10,11,12,13,14,15,16,17,18,19,20,21,22,23,24,25,26,27,28,29],\"xaxis\":\"x\",\"y\":[2.0,2.522042410871328,2.2693293945941617,1.8825195025684687,1.772271252957087,1.5577761049320065,1.5273748861796648,1.4918999436900662,1.239643059591093,0.9910344688007383,1.4983935750200845,1.660711046003078,1.5312579434656506,1.519046276006273,1.4287750568394262,1.2156376979208983,1.1191611781466624,1.161308028480907,0.8749656982766868,0.7393972786840065,0.7041630321032549,0.46647573721439844,0.44853874369916824,0.38456074242060106,0.451551000784761,0.30876598911224323,0.42065178803888453,0.4608453847280055,0.426455205361112,0.49652752042373605],\"yaxis\":\"y\",\"type\":\"scattergl\"},{\"hovertemplate\":\"Parameters=(16,)_(True,)_(False,)_(True,)_False\\u003cbr\\u003eTime=%{x}\\u003cbr\\u003eCumulative Return=%{y}\\u003cextra\\u003e\\u003c\\u002fextra\\u003e\",\"legendgroup\":\"(16,)_(True,)_(False,)_(True,)_False\",\"line\":{\"color\":\"#ab63fa\",\"dash\":\"solid\"},\"marker\":{\"symbol\":\"circle\"},\"mode\":\"lines\",\"name\":\"(16,)_(True,)_(False,)_(True,)_False\",\"showlegend\":true,\"x\":[0,1,2,3,4,5,6,7,8,9,10,11,12,13,14,15,16,17,18,19,20,21,22,23,24,25,26,27,28,29],\"xaxis\":\"x\",\"y\":[2.0,2.5778581435420715,2.4604016758726988,2.0372515103702873,1.708231973837878,1.4941091688108097,1.4633965224943495,1.4184545568783342,1.1840571106627413,0.9575255955776584,1.4965311743135572,1.6635959936639608,1.686671004175717,1.6665527549844057,1.5534500428276987,1.2837622672210165,1.3016212916098078,1.337441786851767,1.074912384478497,0.6974038319415637,0.8087752446924814,0.6767823952996339,0.6356554657172402,0.5619311344699168,0.6877927889256477,0.5184770033329675,0.6228259730617383,0.6927703978921615,0.6225449319530756,0.7174594685839892],\"yaxis\":\"y\",\"type\":\"scattergl\"},{\"hovertemplate\":\"Parameters=(16,)_(True,)_(False,)_(False,)_True\\u003cbr\\u003eTime=%{x}\\u003cbr\\u003eCumulative Return=%{y}\\u003cextra\\u003e\\u003c\\u002fextra\\u003e\",\"legendgroup\":\"(16,)_(True,)_(False,)_(False,)_True\",\"line\":{\"color\":\"#FFA15A\",\"dash\":\"solid\"},\"marker\":{\"symbol\":\"circle\"},\"mode\":\"lines\",\"name\":\"(16,)_(True,)_(False,)_(False,)_True\",\"showlegend\":true,\"x\":[0,1,2,3,4,5,6,7,8,9,10,11,12,13,14,15,16,17,18,19,20,21,22,23,24,25,26,27,28,29],\"xaxis\":\"x\",\"y\":[2.0,2.147866545919668,1.9326465991652235,1.8284572031500634,2.1402463381498436,2.280581039870709,2.292099719409441,2.10955573715186,1.9621262085694708,1.814907278540775,2.2375216302169396,2.4799071144724296,2.6770821126298143,2.7659754008036757,2.6683427326096236,1.8569918979084366,1.6716579829761986,1.8113915452906657,1.3756311242492891,1.2646190895263782,0.8441077831145686,0.7515501399044802,0.8686383270769619,0.8744460228897034,0.748932112803496,0.7626114728603006,1.0119020545395412,1.1085900616407864,0.9649109804106332,0.8976865597492705],\"yaxis\":\"y\",\"type\":\"scattergl\"},{\"hovertemplate\":\"Parameters=(16,)_(True,)_(False,)_(False,)_False\\u003cbr\\u003eTime=%{x}\\u003cbr\\u003eCumulative Return=%{y}\\u003cextra\\u003e\\u003c\\u002fextra\\u003e\",\"legendgroup\":\"(16,)_(True,)_(False,)_(False,)_False\",\"line\":{\"color\":\"#19d3f3\",\"dash\":\"solid\"},\"marker\":{\"symbol\":\"circle\"},\"mode\":\"lines\",\"name\":\"(16,)_(True,)_(False,)_(False,)_False\",\"showlegend\":true,\"x\":[0,1,2,3,4,5,6,7,8,9,10,11,12,13,14,15,16,17,18,19,20,21,22,23,24,25,26,27,28,29],\"xaxis\":\"x\",\"y\":[2.0,2.228016490550502,2.1265000639989635,2.0067298611060918,2.1627833469289808,2.2668134196466827,2.2730725363689674,2.130729709189658,1.960980413765355,1.850082544810066,2.2484227271708006,2.499424739815429,2.7318454916118564,2.825341835312652,2.647229190609853,1.7478558759826595,1.7346960102052897,1.831345920251037,1.231815492638965,0.9178929407129469,0.823220834691696,0.8662266792203387,0.9764651556373976,1.0059180579777738,0.9176170983936671,0.9847516977698245,1.142705840631505,1.2710336661080657,1.1079008500535796,1.0294664069058033],\"yaxis\":\"y\",\"type\":\"scattergl\"},{\"hovertemplate\":\"Parameters=(24,)_(True,)_(True,)_(True,)_True\\u003cbr\\u003eTime=%{x}\\u003cbr\\u003eCumulative Return=%{y}\\u003cextra\\u003e\\u003c\\u002fextra\\u003e\",\"legendgroup\":\"(24,)_(True,)_(True,)_(True,)_True\",\"line\":{\"color\":\"#FF6692\",\"dash\":\"solid\"},\"marker\":{\"symbol\":\"circle\"},\"mode\":\"lines\",\"name\":\"(24,)_(True,)_(True,)_(True,)_True\",\"showlegend\":true,\"x\":[0,1,2,3,4,5,6,7,8,9,10,11,12,13,14,15,16,17,18,19,20,21,22,23,24,25,26,27,28,29],\"xaxis\":\"x\",\"y\":[2.0,1.5014070364937753,1.6223499127018113,1.91271230712742,2.1603892674258858,2.419737597486436,2.571733449707058,2.565479215116751,2.8655755986101283,3.335116343230915,1.7282011578611738,1.7126753126950467,1.786841039176244,1.8369201916823676,1.9931746947661693,2.5391589702568393,2.683716768374681,2.806324378419478,3.131446395916052,3.716517673882513,3.858165320072914,5.441913213594879,5.533400290139237,5.984931732654285,5.011898466969432,6.622961960108332,4.491654608929677,4.167654479490603,4.672253313081335,3.9301524312833602],\"yaxis\":\"y\",\"type\":\"scattergl\"},{\"hovertemplate\":\"Parameters=(24,)_(True,)_(True,)_(True,)_False\\u003cbr\\u003eTime=%{x}\\u003cbr\\u003eCumulative Return=%{y}\\u003cextra\\u003e\\u003c\\u002fextra\\u003e\",\"legendgroup\":\"(24,)_(True,)_(True,)_(True,)_False\",\"line\":{\"color\":\"#B6E880\",\"dash\":\"solid\"},\"marker\":{\"symbol\":\"circle\"},\"mode\":\"lines\",\"name\":\"(24,)_(True,)_(True,)_(True,)_False\",\"showlegend\":true,\"x\":[0,1,2,3,4,5,6,7,8,9,10,11,12,13,14,15,16,17,18,19,20,21,22,23,24,25,26,27,28,29],\"xaxis\":\"x\",\"y\":[2.0,1.4440807689814408,1.5089229878818688,1.7837991325159783,2.1137519935303555,2.402142637941073,2.5107415062267657,2.488652904499746,2.743804759374978,3.115603390828792,1.5777817161627812,1.5812476256189727,1.5556864009896019,1.599211582927098,1.7622008699704785,2.271991722083684,2.2768681260265633,2.3712581653737943,2.7112299842438046,3.594494747102981,3.1676201238867567,3.9430169442125904,4.139771584135676,4.431036305356076,3.492309906831609,4.440487967898003,3.551613902760946,3.281918694689952,3.716844934520878,3.1532617793454403],\"yaxis\":\"y\",\"type\":\"scattergl\"},{\"hovertemplate\":\"Parameters=(24,)_(True,)_(True,)_(False,)_True\\u003cbr\\u003eTime=%{x}\\u003cbr\\u003eCumulative Return=%{y}\\u003cextra\\u003e\\u003c\\u002fextra\\u003e\",\"legendgroup\":\"(24,)_(True,)_(True,)_(False,)_True\",\"line\":{\"color\":\"#FF97FF\",\"dash\":\"solid\"},\"marker\":{\"symbol\":\"circle\"},\"mode\":\"lines\",\"name\":\"(24,)_(True,)_(True,)_(False,)_True\",\"showlegend\":true,\"x\":[0,1,2,3,4,5,6,7,8,9,10,11,12,13,14,15,16,17,18,19,20,21,22,23,24,25,26,27,28,29],\"xaxis\":\"x\",\"y\":[2.0,1.8459881215648946,1.9946880459966485,2.0524307910290576,1.49849567354424,1.4194954284845558,1.4518759527536222,1.6685175234601517,1.7537149607789757,1.8963135042468902,1.464362653826631,1.4512070858379436,1.4772447497744274,1.4443856990909687,1.494711879249145,1.840721010888048,1.9898224089668761,1.8527494425008324,2.1666160390956817,2.2007543877011324,2.786409303313683,3.1519561346966527,2.7493829626429744,2.55904768664322,2.744510645498971,2.6621501431458836,2.0629185622836146,1.914112400769466,2.096270708218787,2.176573422154192],\"yaxis\":\"y\",\"type\":\"scattergl\"},{\"hovertemplate\":\"Parameters=(24,)_(True,)_(True,)_(False,)_False\\u003cbr\\u003eTime=%{x}\\u003cbr\\u003eCumulative Return=%{y}\\u003cextra\\u003e\\u003c\\u002fextra\\u003e\",\"legendgroup\":\"(24,)_(True,)_(True,)_(False,)_False\",\"line\":{\"color\":\"#FECB52\",\"dash\":\"solid\"},\"marker\":{\"symbol\":\"circle\"},\"mode\":\"lines\",\"name\":\"(24,)_(True,)_(True,)_(False,)_False\",\"showlegend\":true,\"x\":[0,1,2,3,4,5,6,7,8,9,10,11,12,13,14,15,16,17,18,19,20,21,22,23,24,25,26,27,28,29],\"xaxis\":\"x\",\"y\":[2.0,1.792891604560016,1.873396152771415,1.932791345352567,1.54574872712281,1.4718214613905443,1.475842206432233,1.6836168420343163,1.7473747144868654,1.8112064065703155,1.3958065282506573,1.3988726932313513,1.3757461905787367,1.3471314498909879,1.4249853493199085,1.797720494289848,1.8365596564845104,1.742196269421088,2.1087522579154534,2.4125382831496265,2.6991761015704183,2.7436411224080333,2.4294766403422727,2.1948056184855185,2.2483855408916753,2.1065919598549296,1.8609120147504512,1.7196018761034022,1.8884235516830956,1.967422621757821],\"yaxis\":\"y\",\"type\":\"scattergl\"},{\"hovertemplate\":\"Parameters=(24,)_(True,)_(False,)_(True,)_True\\u003cbr\\u003eTime=%{x}\\u003cbr\\u003eCumulative Return=%{y}\\u003cextra\\u003e\\u003c\\u002fextra\\u003e\",\"legendgroup\":\"(24,)_(True,)_(False,)_(True,)_True\",\"line\":{\"color\":\"#636efa\",\"dash\":\"solid\"},\"marker\":{\"symbol\":\"circle\"},\"mode\":\"lines\",\"name\":\"(24,)_(True,)_(False,)_(True,)_True\",\"showlegend\":true,\"x\":[0,1,2,3,4,5,6,7,8,9,10,11,12,13,14,15,16,17,18,19,20,21,22,23,24,25,26,27,28,29],\"xaxis\":\"x\",\"y\":[2.0,2.4985929635062245,2.297323745942613,1.886156944983003,1.6419186363578937,1.444811169266052,1.3540553347497029,1.3573482808801605,1.1985727554995924,1.0021798408012583,1.4850469551445225,1.4983883471376496,1.4335021077595897,1.3933258586706176,1.2748049557668322,0.9256015156499467,0.8729057535475215,0.8330264005926898,0.7365175201256573,0.5989085074640976,0.5760823062161233,0.3396048452275366,0.3338955563707151,0.3066493181966755,0.3565045213691626,0.24190694456228248,0.3197539943192053,0.34281906600617784,0.3013122420382454,0.34917010965151496],\"yaxis\":\"y\",\"type\":\"scattergl\"},{\"hovertemplate\":\"Parameters=(24,)_(True,)_(False,)_(True,)_False\\u003cbr\\u003eTime=%{x}\\u003cbr\\u003eCumulative Return=%{y}\\u003cextra\\u003e\\u003c\\u002fextra\\u003e\",\"legendgroup\":\"(24,)_(True,)_(False,)_(True,)_False\",\"line\":{\"color\":\"#EF553B\",\"dash\":\"solid\"},\"marker\":{\"symbol\":\"circle\"},\"mode\":\"lines\",\"name\":\"(24,)_(True,)_(False,)_(True,)_False\",\"showlegend\":true,\"x\":[0,1,2,3,4,5,6,7,8,9,10,11,12,13,14,15,16,17,18,19,20,21,22,23,24,25,26,27,28,29],\"xaxis\":\"x\",\"y\":[2.0,2.5559192310185592,2.441153161260276,1.9964553371715057,1.6271670364994228,1.4051638158490212,1.3416375298795893,1.3534407748516573,1.2146777824139519,1.0500831494992773,1.568390656884538,1.5649453767465993,1.5902430718448335,1.5457510591982875,1.3882103899241556,0.9866120422830629,0.9844944646500471,0.9436811781038393,0.8083838025425483,0.5450284502480467,0.6097548807232257,0.4604939285889762,0.43751550410128115,0.4067329286036361,0.492900342029674,0.35907565204714376,0.43095357105836696,0.4636784438057038,0.4022308758384169,0.4632209225332803],\"yaxis\":\"y\",\"type\":\"scattergl\"},{\"hovertemplate\":\"Parameters=(24,)_(True,)_(False,)_(False,)_True\\u003cbr\\u003eTime=%{x}\\u003cbr\\u003eCumulative Return=%{y}\\u003cextra\\u003e\\u003c\\u002fextra\\u003e\",\"legendgroup\":\"(24,)_(True,)_(False,)_(False,)_True\",\"line\":{\"color\":\"#00cc96\",\"dash\":\"solid\"},\"marker\":{\"symbol\":\"circle\"},\"mode\":\"lines\",\"name\":\"(24,)_(True,)_(False,)_(False,)_True\",\"showlegend\":true,\"x\":[0,1,2,3,4,5,6,7,8,9,10,11,12,13,14,15,16,17,18,19,20,21,22,23,24,25,26,27,28,29],\"xaxis\":\"x\",\"y\":[2.0,2.1540118784351057,1.980499709095212,1.923167691706044,2.442215703412233,2.570968587030405,2.5123214726707466,2.137445596445326,2.0283038675362404,1.8633778768880613,2.28782650142905,2.308379918990759,2.2669627972340085,2.317387918367932,2.2366440547658732,1.7188858982149156,1.579653342577285,1.6884709781005938,1.4024341146214825,1.3803366207244525,1.0130076122512566,0.8801119452776713,0.9925213324745729,1.0612319574835352,0.9843208393771935,1.013859496456434,1.2420722553791452,1.3316676509635403,1.204938246103608,1.1587801755322245],\"yaxis\":\"y\",\"type\":\"scattergl\"},{\"hovertemplate\":\"Parameters=(24,)_(True,)_(False,)_(False,)_False\\u003cbr\\u003eTime=%{x}\\u003cbr\\u003eCumulative Return=%{y}\\u003cextra\\u003e\\u003c\\u002fextra\\u003e\",\"legendgroup\":\"(24,)_(True,)_(False,)_(False,)_False\",\"line\":{\"color\":\"#ab63fa\",\"dash\":\"solid\"},\"marker\":{\"symbol\":\"circle\"},\"mode\":\"lines\",\"name\":\"(24,)_(True,)_(False,)_(False,)_False\",\"showlegend\":true,\"x\":[0,1,2,3,4,5,6,7,8,9,10,11,12,13,14,15,16,17,18,19,20,21,22,23,24,25,26,27,28,29],\"xaxis\":\"x\",\"y\":[2.0,2.207108395439984,2.108004654992672,2.0411713040967436,2.4499170736246696,2.567087262637852,2.560074453235629,2.1996575100712787,2.1163573912645806,2.039046742199017,2.50670176236951,2.501195296390694,2.5425456636804213,2.595429171809468,2.445433206877247,1.805778278975905,1.7667650309835081,1.857542334013208,1.4667176730003613,1.2554228988755198,1.1062639473087945,1.0880398494293089,1.2126273812938466,1.3297589897951805,1.2972967148255736,1.379110239915836,1.5399480929468898,1.656885528354208,1.4942210215124612,1.4317127610746037],\"yaxis\":\"y\",\"type\":\"scattergl\"},{\"hovertemplate\":\"Parameters=(32,)_(True,)_(True,)_(True,)_True\\u003cbr\\u003eTime=%{x}\\u003cbr\\u003eCumulative Return=%{y}\\u003cextra\\u003e\\u003c\\u002fextra\\u003e\",\"legendgroup\":\"(32,)_(True,)_(True,)_(True,)_True\",\"line\":{\"color\":\"#FFA15A\",\"dash\":\"solid\"},\"marker\":{\"symbol\":\"circle\"},\"mode\":\"lines\",\"name\":\"(32,)_(True,)_(True,)_(True,)_True\",\"showlegend\":true,\"x\":[0,1,2,3,4,5,6,7,8,9,10,11,12,13,14,15,16,17,18,19,20,21,22,23,24,25,26,27,28,29],\"xaxis\":\"x\",\"y\":[2.0,1.5415116939193887,1.6933171497423938,1.948987974653453,2.1859312505209036,2.297626160299299,2.406891103229032,2.482813277769802,2.8953355040805833,3.38473619626012,1.9533567689005957,1.9951619394722535,2.0693123934784348,2.113528883586024,2.283565923479776,2.793267338095568,2.90548259084062,3.074077840652271,3.319542169937514,3.8780653341147118,4.026042425768313,5.679369199087709,5.737410183039277,6.505429366647655,4.910713517556285,6.519498961015688,4.89601192532976,4.4603660671323695,4.910502949335066,4.104688688977173],\"yaxis\":\"y\",\"type\":\"scattergl\"},{\"hovertemplate\":\"Parameters=(32,)_(True,)_(True,)_(True,)_False\\u003cbr\\u003eTime=%{x}\\u003cbr\\u003eCumulative Return=%{y}\\u003cextra\\u003e\\u003c\\u002fextra\\u003e\",\"legendgroup\":\"(32,)_(True,)_(True,)_(True,)_False\",\"line\":{\"color\":\"#19d3f3\",\"dash\":\"solid\"},\"marker\":{\"symbol\":\"circle\"},\"mode\":\"lines\",\"name\":\"(32,)_(True,)_(True,)_(True,)_False\",\"showlegend\":true,\"x\":[0,1,2,3,4,5,6,7,8,9,10,11,12,13,14,15,16,17,18,19,20,21,22,23,24,25,26,27,28,29],\"xaxis\":\"x\",\"y\":[2.0,1.496497487485829,1.5843364569232474,1.8109156855462487,2.1291358662167883,2.3033620666766357,2.351386052170184,2.405363006892307,2.758094308496035,3.1217628088421034,1.7322757471171513,1.777425148466393,1.773311542852342,1.8056625642493038,1.988696817890272,2.47118001392641,2.4698419902241264,2.6089826630349973,2.9023204123246162,3.704617369145615,3.3513294103475717,4.379765954303015,4.505364534993884,4.957771427616939,3.5562390983752197,4.587878600891394,3.86497689216524,3.5318801004361298,3.9063793945688374,3.2810758376626663],\"yaxis\":\"y\",\"type\":\"scattergl\"},{\"hovertemplate\":\"Parameters=(32,)_(True,)_(True,)_(False,)_True\\u003cbr\\u003eTime=%{x}\\u003cbr\\u003eCumulative Return=%{y}\\u003cextra\\u003e\\u003c\\u002fextra\\u003e\",\"legendgroup\":\"(32,)_(True,)_(True,)_(False,)_True\",\"line\":{\"color\":\"#FF6692\",\"dash\":\"solid\"},\"marker\":{\"symbol\":\"circle\"},\"mode\":\"lines\",\"name\":\"(32,)_(True,)_(True,)_(False,)_True\",\"showlegend\":true,\"x\":[0,1,2,3,4,5,6,7,8,9,10,11,12,13,14,15,16,17,18,19,20,21,22,23,24,25,26,27,28,29],\"xaxis\":\"x\",\"y\":[2.0,1.876323243924054,2.0611003730491513,2.0300916046181636,1.474856865079993,1.4519655117473458,1.5031398742666335,1.6907562296756289,1.767456204793646,1.9083354204386536,1.5403708340082087,1.5733374003234668,1.5872015336048013,1.6027604869521241,1.6197441781041242,1.98015598973264,2.067128030748378,2.0172102668313943,2.2740480963828182,2.3618921416687244,2.812592538383258,3.223267504580287,2.789328588767172,2.6458795446145724,3.054832487139129,3.0112990168846365,2.473981314461233,2.253847105366107,2.472207351554962,2.5546307116036298],\"yaxis\":\"y\",\"type\":\"scattergl\"},{\"hovertemplate\":\"Parameters=(32,)_(True,)_(True,)_(False,)_False\\u003cbr\\u003eTime=%{x}\\u003cbr\\u003eCumulative Return=%{y}\\u003cextra\\u003e\\u003c\\u002fextra\\u003e\",\"legendgroup\":\"(32,)_(True,)_(True,)_(False,)_False\",\"line\":{\"color\":\"#B6E880\",\"dash\":\"solid\"},\"marker\":{\"symbol\":\"circle\"},\"mode\":\"lines\",\"name\":\"(32,)_(True,)_(True,)_(False,)_False\",\"showlegend\":true,\"x\":[0,1,2,3,4,5,6,7,8,9,10,11,12,13,14,15,16,17,18,19,20,21,22,23,24,25,26,27,28,29],\"xaxis\":\"x\",\"y\":[2.0,1.8268677591747917,1.9340982641413957,1.8874632232440507,1.4592533079867975,1.4503356035139605,1.4460805853073018,1.6158246317929208,1.6556793132086425,1.7257664080900499,1.37546044341659,1.4113099412249905,1.4005671833509252,1.3968052805461548,1.4389543864770653,1.7830537071707175,1.7941025551560106,1.7381232794301258,2.014698419430614,2.3088574178329653,2.58950997525164,2.7499680668055926,2.4632093632685415,2.30809217446504,2.505117067392415,2.412364255342551,2.1762486760563697,1.988692198430705,2.1779685793578265,2.255468028373891],\"yaxis\":\"y\",\"type\":\"scattergl\"},{\"hovertemplate\":\"Parameters=(32,)_(True,)_(False,)_(True,)_True\\u003cbr\\u003eTime=%{x}\\u003cbr\\u003eCumulative Return=%{y}\\u003cextra\\u003e\\u003c\\u002fextra\\u003e\",\"legendgroup\":\"(32,)_(True,)_(False,)_(True,)_True\",\"line\":{\"color\":\"#FF97FF\",\"dash\":\"solid\"},\"marker\":{\"symbol\":\"circle\"},\"mode\":\"lines\",\"name\":\"(32,)_(True,)_(False,)_(True,)_True\",\"showlegend\":true,\"x\":[0,1,2,3,4,5,6,7,8,9,10,11,12,13,14,15,16,17,18,19,20,21,22,23,24,25,26,27,28,29],\"xaxis\":\"x\",\"y\":[2.0,2.4584883060806115,2.2163805495113564,1.881733349194155,1.6529663840483741,1.5685044728656659,1.4939133341181974,1.446789827471161,1.2064040658933504,1.0024846983228899,1.4264279217290743,1.395899928315141,1.3440211252044811,1.3153024566388816,1.2094841079857093,0.9395222231734554,0.9017783515808125,0.8494512280458825,0.7816227647599411,0.6501123342794422,0.6253057041207043,0.3685188765614283,0.3647527544005751,0.31592634950420423,0.393371315594053,0.2645000132589267,0.33036586353858133,0.3597617315093673,0.32345484061294705,0.3765338278036576],\"yaxis\":\"y\",\"type\":\"scattergl\"},{\"hovertemplate\":\"Parameters=(32,)_(True,)_(False,)_(True,)_False\\u003cbr\\u003eTime=%{x}\\u003cbr\\u003eCumulative Return=%{y}\\u003cextra\\u003e\\u003c\\u002fextra\\u003e\",\"legendgroup\":\"(32,)_(True,)_(False,)_(True,)_False\",\"line\":{\"color\":\"#FECB52\",\"dash\":\"solid\"},\"marker\":{\"symbol\":\"circle\"},\"mode\":\"lines\",\"name\":\"(32,)_(True,)_(False,)_(True,)_False\",\"showlegend\":true,\"x\":[0,1,2,3,4,5,6,7,8,9,10,11,12,13,14,15,16,17,18,19,20,21,22,23,24,25,26,27,28,29],\"xaxis\":\"x\",\"y\":[2.0,2.503502512514171,2.3565560040688545,2.019540063246702,1.6646597069015059,1.528441375138867,1.4965741114162712,1.4622196875752085,1.2477944003519847,1.0832664808684511,1.5654250725794345,1.5246244061718621,1.5281529392985365,1.5002744152815113,1.3481963840399123,1.0211067571022014,1.0216596367126973,0.9641035623571008,0.8557057668980275,0.6191605082142734,0.6782062693061475,0.47008226050517704,0.45660170804108974,0.41075197528433083,0.5268691019138655,0.3740281474240797,0.43296292107567785,0.4702771312176118,0.42041177659642787,0.48770810209837123],\"yaxis\":\"y\",\"type\":\"scattergl\"},{\"hovertemplate\":\"Parameters=(32,)_(True,)_(False,)_(False,)_True\\u003cbr\\u003eTime=%{x}\\u003cbr\\u003eCumulative Return=%{y}\\u003cextra\\u003e\\u003c\\u002fextra\\u003e\",\"legendgroup\":\"(32,)_(True,)_(False,)_(False,)_True\",\"line\":{\"color\":\"#636efa\",\"dash\":\"solid\"},\"marker\":{\"symbol\":\"circle\"},\"mode\":\"lines\",\"name\":\"(32,)_(True,)_(False,)_(False,)_True\",\"showlegend\":true,\"x\":[0,1,2,3,4,5,6,7,8,9,10,11,12,13,14,15,16,17,18,19,20,21,22,23,24,25,26,27,28,29],\"xaxis\":\"x\",\"y\":[2.0,2.123676756075946,1.9145406728087835,1.9433444851563633,2.474853687299822,2.5132660590654794,2.4246862771261277,2.1220459107087604,2.0257807805297765,1.8643112025816844,2.223787054304821,2.176194213815891,2.157017750699836,2.1358730265788455,2.113240195211581,1.6430198125991342,1.5708554036980273,1.608788994662457,1.4039527014958708,1.3497195105243849,1.0921636686996619,0.9326936169222085,1.0582593840631327,1.1126833403229688,0.9407045640973807,0.9541102530612785,1.1243558268681189,1.2244007137241097,1.1057766772284408,1.0689100975933252],\"yaxis\":\"y\",\"type\":\"scattergl\"},{\"hovertemplate\":\"Parameters=(32,)_(True,)_(False,)_(False,)_False\\u003cbr\\u003eTime=%{x}\\u003cbr\\u003eCumulative Return=%{y}\\u003cextra\\u003e\\u003c\\u002fextra\\u003e\",\"legendgroup\":\"(32,)_(True,)_(False,)_(False,)_False\",\"line\":{\"color\":\"#EF553B\",\"dash\":\"solid\"},\"marker\":{\"symbol\":\"circle\"},\"mode\":\"lines\",\"name\":\"(32,)_(True,)_(False,)_(False,)_False\",\"showlegend\":true,\"x\":[0,1,2,3,4,5,6,7,8,9,10,11,12,13,14,15,16,17,18,19,20,21,22,23,24,25,26,27,28,29],\"xaxis\":\"x\",\"y\":[2.0,2.1731322408252085,2.045577267909077,2.094900294208347,2.5701715823627973,2.5858782663843782,2.593464758143258,2.2890382919159054,2.232578642720269,2.1380706363000543,2.5720684782316297,2.505031026362507,2.524099085756941,2.530878778686422,2.4545085936457145,1.867558272184859,1.8559857842838698,1.913895929756415,1.6093513436599114,1.3743756397219147,1.2073137695680134,1.1325029886777538,1.2505971195533567,1.3293517363568021,1.2158747329614656,1.2608929087786709,1.3843056392213373,1.5036097851612167,1.3605017573394653,1.3120905279128754],\"yaxis\":\"y\",\"type\":\"scattergl\"},{\"hovertemplate\":\"Parameters=(40,)_(True,)_(True,)_(True,)_True\\u003cbr\\u003eTime=%{x}\\u003cbr\\u003eCumulative Return=%{y}\\u003cextra\\u003e\\u003c\\u002fextra\\u003e\",\"legendgroup\":\"(40,)_(True,)_(True,)_(True,)_True\",\"line\":{\"color\":\"#00cc96\",\"dash\":\"solid\"},\"marker\":{\"symbol\":\"circle\"},\"mode\":\"lines\",\"name\":\"(40,)_(True,)_(True,)_(True,)_True\",\"showlegend\":true,\"x\":[0,1,2,3,4,5,6,7,8,9,10,11,12,13,14,15,16,17,18,19,20,21,22,23,24,25,26,27,28,29],\"xaxis\":\"x\",\"y\":[2.0,1.5539104594323208,1.6942611940594872,1.9168074073741859,2.3846589992371725,2.5638382690526136,2.5906195933795546,2.5042952671908756,2.824273354848172,3.238789766037577,1.8447679875381324,1.8921929125514811,1.915878816266853,1.9162019746421513,2.0452946558290828,2.509323231085829,2.654609459061709,2.8451996751439825,3.00780860399035,3.5033182243838454,3.4564917157928314,4.7041984419427045,4.874362035489643,5.6988007893380095,3.9465851548490103,5.290255928476565,4.251542469137046,4.054492066151612,4.52430018695075,3.758710605774316],\"yaxis\":\"y\",\"type\":\"scattergl\"},{\"hovertemplate\":\"Parameters=(40,)_(True,)_(True,)_(True,)_False\\u003cbr\\u003eTime=%{x}\\u003cbr\\u003eCumulative Return=%{y}\\u003cextra\\u003e\\u003c\\u002fextra\\u003e\",\"legendgroup\":\"(40,)_(True,)_(True,)_(True,)_False\",\"line\":{\"color\":\"#ab63fa\",\"dash\":\"solid\"},\"marker\":{\"symbol\":\"circle\"},\"mode\":\"lines\",\"name\":\"(40,)_(True,)_(True,)_(True,)_False\",\"showlegend\":true,\"x\":[0,1,2,3,4,5,6,7,8,9,10,11,12,13,14,15,16,17,18,19,20,21,22,23,24,25,26,27,28,29],\"xaxis\":\"x\",\"y\":[2.0,1.518077289675115,1.5924101372772033,1.7928690355429424,2.280014213461239,2.4899733758549063,2.435571770816806,2.3111120260730056,2.5551284054711636,2.8583968332621583,1.5478206724658286,1.5979017779998412,1.572295708837603,1.585059790179611,1.7162195585994886,2.1223774952996606,2.180542973981573,2.32304543366615,2.515271202043863,3.1561345567403514,2.75611684240585,3.5736581303915957,3.781975998013002,4.369830352101825,2.916742221939787,3.834319418562821,3.3887369344265035,3.244588398929796,3.622278561746235,3.020850294245978],\"yaxis\":\"y\",\"type\":\"scattergl\"},{\"hovertemplate\":\"Parameters=(40,)_(True,)_(True,)_(False,)_True\\u003cbr\\u003eTime=%{x}\\u003cbr\\u003eCumulative Return=%{y}\\u003cextra\\u003e\\u003c\\u002fextra\\u003e\",\"legendgroup\":\"(40,)_(True,)_(True,)_(False,)_True\",\"line\":{\"color\":\"#FFA15A\",\"dash\":\"solid\"},\"marker\":{\"symbol\":\"circle\"},\"mode\":\"lines\",\"name\":\"(40,)_(True,)_(True,)_(False,)_True\",\"showlegend\":true,\"x\":[0,1,2,3,4,5,6,7,8,9,10,11,12,13,14,15,16,17,18,19,20,21,22,23,24,25,26,27,28,29],\"xaxis\":\"x\",\"y\":[2.0,1.8686520160557518,2.037430520392335,2.0115992066386164,1.6134705241981384,1.7044054238388318,1.798054148939339,1.9375007351025646,2.101511168754382,2.280750469224145,2.0393199822258694,2.0917464108546273,2.1189672421869297,2.1422942662751514,2.178840192809851,2.5476528061305794,2.551065705675318,2.503401880363223,2.7631569195575745,2.8708716259252367,3.3814292346575354,3.773674479425079,3.286258301576584,3.108134708076262,3.5300781660235696,3.4134232268446465,2.856511121338895,2.724117602591697,2.902418566394322,2.9529360887420273],\"yaxis\":\"y\",\"type\":\"scattergl\"},{\"hovertemplate\":\"Parameters=(40,)_(True,)_(True,)_(False,)_False\\u003cbr\\u003eTime=%{x}\\u003cbr\\u003eCumulative Return=%{y}\\u003cextra\\u003e\\u003c\\u002fextra\\u003e\",\"legendgroup\":\"(40,)_(True,)_(True,)_(False,)_False\",\"line\":{\"color\":\"#19d3f3\",\"dash\":\"solid\"},\"marker\":{\"symbol\":\"circle\"},\"mode\":\"lines\",\"name\":\"(40,)_(True,)_(True,)_(False,)_False\",\"showlegend\":true,\"x\":[0,1,2,3,4,5,6,7,8,9,10,11,12,13,14,15,16,17,18,19,20,21,22,23,24,25,26,27,28,29],\"xaxis\":\"x\",\"y\":[2.0,1.8196742835587898,1.9087748663322548,1.8601498417778175,1.600077483938619,1.6758435218264374,1.7082430924573135,1.8366691596994642,1.978244099731571,2.0770172854533384,1.8701924482500094,1.9307041774418097,1.9338055267517507,1.9238669790016556,1.9869379700918903,2.3448384417381924,2.2556211893442843,2.2035345458432327,2.4709649625146732,2.788261490302318,3.134452387105939,3.260375265723036,2.87315125553752,2.6538301361445864,2.883481887114839,2.739575611030809,2.475325360282676,2.370031106858135,2.5186058611261752,2.573078255312385],\"yaxis\":\"y\",\"type\":\"scattergl\"},{\"hovertemplate\":\"Parameters=(40,)_(True,)_(False,)_(True,)_True\\u003cbr\\u003eTime=%{x}\\u003cbr\\u003eCumulative Return=%{y}\\u003cextra\\u003e\\u003c\\u002fextra\\u003e\",\"legendgroup\":\"(40,)_(True,)_(False,)_(True,)_True\",\"line\":{\"color\":\"#FF6692\",\"dash\":\"solid\"},\"marker\":{\"symbol\":\"circle\"},\"mode\":\"lines\",\"name\":\"(40,)_(True,)_(False,)_(True,)_True\",\"showlegend\":true,\"x\":[0,1,2,3,4,5,6,7,8,9,10,11,12,13,14,15,16,17,18,19,20,21,22,23,24,25,26,27,28,29],\"xaxis\":\"x\",\"y\":[2.0,2.4460895405676792,2.2251563060311663,1.9328754512982262,1.4611019944116248,1.3513172459137028,1.3372016654310164,1.381759744525958,1.2052099396975517,1.0283222110095174,1.470926906286098,1.4331126127261642,1.415173338599751,1.4149346360717074,1.3196118526219809,1.0202233972134003,0.9611539209348369,0.8921469591559682,0.8411589519980683,0.7025855226774007,0.7119765128491148,0.45497086753432203,0.43851333949117344,0.36434416852608076,0.4763694124371691,0.3141827037187446,0.37587079734908774,0.39329164934004235,0.3477195757762586,0.40655972196134443],\"yaxis\":\"y\",\"type\":\"scattergl\"},{\"hovertemplate\":\"Parameters=(40,)_(True,)_(False,)_(True,)_False\\u003cbr\\u003eTime=%{x}\\u003cbr\\u003eCumulative Return=%{y}\\u003cextra\\u003e\\u003c\\u002fextra\\u003e\",\"legendgroup\":\"(40,)_(True,)_(False,)_(True,)_False\",\"line\":{\"color\":\"#B6E880\",\"dash\":\"solid\"},\"marker\":{\"symbol\":\"circle\"},\"mode\":\"lines\",\"name\":\"(40,)_(True,)_(False,)_(True,)_False\",\"showlegend\":true,\"x\":[0,1,2,3,4,5,6,7,8,9,10,11,12,13,14,15,16,17,18,19,20,21,22,23,24,25,26,27,28,29],\"xaxis\":\"x\",\"y\":[2.0,2.481922710324885,2.3603950490908354,2.063259166860335,1.502645572668078,1.3642717836148084,1.3940787588445556,1.4653173437869156,1.3106033234943684,1.1550476932870102,1.684637550716687,1.6301296141935264,1.656252128242357,1.6428064788209842,1.5068683150647648,1.1502551284483562,1.1187314526175036,1.0456203121232637,0.9590980405325463,0.7147304402359808,0.8053174643087981,0.5664377960456336,0.5334186572508811,0.45050631714563166,0.6003119913390169,0.4114599940769095,0.45927535484104304,0.4788117989708589,0.423075143322523,0.49332080392909505],\"yaxis\":\"y\",\"type\":\"scattergl\"},{\"hovertemplate\":\"Parameters=(40,)_(True,)_(False,)_(False,)_True\\u003cbr\\u003eTime=%{x}\\u003cbr\\u003eCumulative Return=%{y}\\u003cextra\\u003e\\u003c\\u002fextra\\u003e\",\"legendgroup\":\"(40,)_(True,)_(False,)_(False,)_True\",\"line\":{\"color\":\"#FF97FF\",\"dash\":\"solid\"},\"marker\":{\"symbol\":\"circle\"},\"mode\":\"lines\",\"name\":\"(40,)_(True,)_(False,)_(False,)_True\",\"showlegend\":true,\"x\":[0,1,2,3,4,5,6,7,8,9,10,11,12,13,14,15,16,17,18,19,20,21,22,23,24,25,26,27,28,29],\"xaxis\":\"x\",\"y\":[2.0,2.1313479839442486,1.9388425191171526,1.9634238969502094,2.35201789051772,2.219458598222227,2.0975102253587266,1.934839573564802,1.7710544086057487,1.619999987381549,1.7914862552430986,1.7454310863051712,1.7227170111400762,1.7037521775098126,1.6746874486848273,1.3912128476181225,1.3893491440228583,1.4153075874886194,1.2684541075324454,1.2190066220253288,1.0022177205816747,0.8859606269566642,1.000393269430178,1.0546171397750472,0.9114480545964314,0.9415677608389317,1.0951878803838118,1.1459476257564594,1.0709422126475263,1.0523021213157882],\"yaxis\":\"y\",\"type\":\"scattergl\"},{\"hovertemplate\":\"Parameters=(40,)_(True,)_(False,)_(False,)_False\\u003cbr\\u003eTime=%{x}\\u003cbr\\u003eCumulative Return=%{y}\\u003cextra\\u003e\\u003c\\u002fextra\\u003e\",\"legendgroup\":\"(40,)_(True,)_(False,)_(False,)_False\",\"line\":{\"color\":\"#FECB52\",\"dash\":\"solid\"},\"marker\":{\"symbol\":\"circle\"},\"mode\":\"lines\",\"name\":\"(40,)_(True,)_(False,)_(False,)_False\",\"showlegend\":true,\"x\":[0,1,2,3,4,5,6,7,8,9,10,11,12,13,14,15,16,17,18,19,20,21,22,23,24,25,26,27,28,29],\"xaxis\":\"x\",\"y\":[2.0,2.18032571644121,2.073565790378537,2.1263887760804283,2.423684687548241,2.308919629163138,2.2642806138661986,2.0940515313337045,1.9326369301209192,1.8361408978782439,2.018979791394315,1.9536539162444662,1.9505157020655146,1.9605401296380482,1.896266866258573,1.554698676402193,1.613852408164723,1.6511193727793914,1.4507324341359096,1.2644439310274773,1.1074504137541616,1.0629599169135393,1.1892041581887671,1.2799816926669847,1.1692172420989904,1.2275695071142776,1.345976733678707,1.4032312738589592,1.3152641830087446,1.2868176562449976],\"yaxis\":\"y\",\"type\":\"scattergl\"},{\"hovertemplate\":\"Parameters=(8,)_(False,)_(True,)_(True,)_False\\u003cbr\\u003eTime=%{x}\\u003cbr\\u003eCumulative Return=%{y}\\u003cextra\\u003e\\u003c\\u002fextra\\u003e\",\"legendgroup\":\"(8,)_(False,)_(True,)_(True,)_False\",\"line\":{\"color\":\"#636efa\",\"dash\":\"solid\"},\"marker\":{\"symbol\":\"circle\"},\"mode\":\"lines\",\"name\":\"(8,)_(False,)_(True,)_(True,)_False\",\"showlegend\":true,\"x\":[0,1,2,3,4,5,6,7,8,9,10,11,12,13,14,15,16,17,18,19,20,21,22,23,24,25,26,27,28,29],\"xaxis\":\"x\",\"y\":[2.0,1.4610895532141803,1.6796294479359801,2.0101015276626217,2.737281613068111,3.0120047709306155,3.1685978894063305,3.3126528580690278,3.8488145675708694,4.724558957847353,2.6151232970385725,2.270664021603968,1.904021617150997,1.8203697273702932,1.8549956042781475,2.191379735510106,2.325249214073054,2.5706366415515642,4.2329763509780305,6.210810220995101,4.500318728652866,4.2909679583438125,4.080703346282475,4.325506495399673,3.9355365013481576,4.9038878728418265,2.4086349698901794,2.145679807680258,2.514101015450984,2.2072653602375922],\"yaxis\":\"y\",\"type\":\"scattergl\"},{\"hovertemplate\":\"Parameters=(8,)_(False,)_(True,)_(False,)_False\\u003cbr\\u003eTime=%{x}\\u003cbr\\u003eCumulative Return=%{y}\\u003cextra\\u003e\\u003c\\u002fextra\\u003e\",\"legendgroup\":\"(8,)_(False,)_(True,)_(False,)_False\",\"line\":{\"color\":\"#EF553B\",\"dash\":\"solid\"},\"marker\":{\"symbol\":\"circle\"},\"mode\":\"lines\",\"name\":\"(8,)_(False,)_(True,)_(False,)_False\",\"showlegend\":true,\"x\":[0,1,2,3,4,5,6,7,8,9,10,11,12,13,14,15,16,17,18,19,20,21,22,23,24,25,26,27,28,29],\"xaxis\":\"x\",\"y\":[2.0,1.6989624824415968,1.953081801296686,2.0875685139660285,1.986616892514511,1.9211975180594734,1.9039815029687497,2.0473031838524767,2.2518364898633374,2.512505454484465,2.059575195894269,1.7882917040282411,1.627082665302015,1.54294162416177,1.5721139920856528,1.838421063180659,2.0032818720565655,2.0499843299462275,3.6459306208624205,4.412822955618185,4.720199869011622,2.863233336812172,2.6406656256768875,2.3727827329558955,2.5088043437593903,2.418553514920883,1.3043815817881277,1.1619798170083155,1.3486758255588123,1.3749809043389314],\"yaxis\":\"y\",\"type\":\"scattergl\"},{\"hovertemplate\":\"Parameters=(8,)_(False,)_(False,)_(True,)_False\\u003cbr\\u003eTime=%{x}\\u003cbr\\u003eCumulative Return=%{y}\\u003cextra\\u003e\\u003c\\u002fextra\\u003e\",\"legendgroup\":\"(8,)_(False,)_(False,)_(True,)_False\",\"line\":{\"color\":\"#00cc96\",\"dash\":\"solid\"},\"marker\":{\"symbol\":\"circle\"},\"mode\":\"lines\",\"name\":\"(8,)_(False,)_(False,)_(True,)_False\",\"showlegend\":true,\"x\":[0,1,2,3,4,5,6,7,8,9,10,11,12,13,14,15,16,17,18,19,20,21,22,23,24,25,26,27,28,29],\"xaxis\":\"x\",\"y\":[2.0,2.5389104467858195,2.159157391589404,1.7343367655087294,1.1069181302266442,0.9958239546111973,0.9440514009916339,0.9011316933693753,0.7552811228737855,0.5834273754858214,0.8439178302186817,0.9550771490365213,1.1092927348868147,1.1580287538255787,1.1360014917354506,0.92999945378219,0.8731865975144161,0.7810377596281541,0.27596829107513593,0.14702369325969536,0.1875148317013962,0.19623785263125176,0.20585383586762762,0.1935045757029164,0.21095015769801057,0.1590451951970407,0.23997240954338867,0.2661706440895991,0.22046815398944752,0.24737538248476093],\"yaxis\":\"y\",\"type\":\"scattergl\"},{\"hovertemplate\":\"Parameters=(8,)_(False,)_(False,)_(False,)_False\\u003cbr\\u003eTime=%{x}\\u003cbr\\u003eCumulative Return=%{y}\\u003cextra\\u003e\\u003c\\u002fextra\\u003e\",\"legendgroup\":\"(8,)_(False,)_(False,)_(False,)_False\",\"line\":{\"color\":\"#ab63fa\",\"dash\":\"solid\"},\"marker\":{\"symbol\":\"circle\"},\"mode\":\"lines\",\"name\":\"(8,)_(False,)_(False,)_(False,)_False\",\"showlegend\":true,\"x\":[0,1,2,3,4,5,6,7,8,9,10,11,12,13,14,15,16,17,18,19,20,21,22,23,24,25,26,27,28,29],\"xaxis\":\"x\",\"y\":[2.0,2.3010375175584032,1.9568638864952774,1.8221167442806612,1.910231524024885,1.973135525212466,1.9908169612224462,1.8409587652424209,1.6570400445299558,1.4652237582730507,1.7293601702130135,1.957148340610798,2.133579289724854,2.243912702169754,2.201487087414346,1.8285678326693322,1.6645906143835634,1.6257840569259419,0.36008460860396485,0.2843436922459378,0.26453762086159294,0.3686089572625464,0.39726203658622805,0.4375623693864752,0.4124787671314985,0.42731713055529597,0.6241722964527148,0.692314347661141,0.5810797775948943,0.5697461798262574],\"yaxis\":\"y\",\"type\":\"scattergl\"},{\"hovertemplate\":\"Parameters=(16,)_(False,)_(True,)_(True,)_False\\u003cbr\\u003eTime=%{x}\\u003cbr\\u003eCumulative Return=%{y}\\u003cextra\\u003e\\u003c\\u002fextra\\u003e\",\"legendgroup\":\"(16,)_(False,)_(True,)_(True,)_False\",\"line\":{\"color\":\"#FFA15A\",\"dash\":\"solid\"},\"marker\":{\"symbol\":\"circle\"},\"mode\":\"lines\",\"name\":\"(16,)_(False,)_(True,)_(True,)_False\",\"showlegend\":true,\"x\":[0,1,2,3,4,5,6,7,8,9,10,11,12,13,14,15,16,17,18,19,20,21,22,23,24,25,26,27,28,29],\"xaxis\":\"x\",\"y\":[2.0,1.4512337813936345,1.5524456244593328,1.8178742522926081,2.010914276707282,2.256364264937096,2.30221782504659,2.3636894270174196,2.7592545849642915,3.2995579809691127,1.5500538618636903,1.3797773422796233,1.4213687992821396,1.435416627411115,1.525473656262923,1.7744643210926412,1.827928136909566,1.7651430374160222,2.1725568355724145,2.6769875872627726,2.5802080089616015,3.226630358838521,3.4009618068297547,3.8341848221665136,3.056778903199437,3.8976466758529216,2.849406242761707,2.5553349436492203,2.7798818674976786,2.3420970403017463],\"yaxis\":\"y\",\"type\":\"scattergl\"},{\"hovertemplate\":\"Parameters=(16,)_(False,)_(True,)_(False,)_False\\u003cbr\\u003eTime=%{x}\\u003cbr\\u003eCumulative Return=%{y}\\u003cextra\\u003e\\u003c\\u002fextra\\u003e\",\"legendgroup\":\"(16,)_(False,)_(True,)_(False,)_False\",\"line\":{\"color\":\"#19d3f3\",\"dash\":\"solid\"},\"marker\":{\"symbol\":\"circle\"},\"mode\":\"lines\",\"name\":\"(16,)_(False,)_(True,)_(False,)_False\",\"showlegend\":true,\"x\":[0,1,2,3,4,5,6,7,8,9,10,11,12,13,14,15,16,17,18,19,20,21,22,23,24,25,26,27,28,29],\"xaxis\":\"x\",\"y\":[2.0,1.811485904956642,1.9378224259767973,2.044917704366927,1.779964829099687,1.6775720030831927,1.6714791331580363,1.7956535375171985,1.9301890788974474,2.057279645774014,1.602537000940035,1.4264951034690205,1.3043706902957817,1.2604282391404027,1.3212122189929165,1.7536291773640427,1.8441318111133964,1.7144152760584233,2.2093340015867957,2.551265964881947,3.200186312440349,3.30160895257109,2.851669910787206,2.787076335649219,3.1013785291924023,2.9440487013871253,2.2619746285432987,2.028528864442458,2.2893069665794332,2.4534831680503073],\"yaxis\":\"y\",\"type\":\"scattergl\"},{\"hovertemplate\":\"Parameters=(16,)_(False,)_(False,)_(True,)_False\\u003cbr\\u003eTime=%{x}\\u003cbr\\u003eCumulative Return=%{y}\\u003cextra\\u003e\\u003c\\u002fextra\\u003e\",\"legendgroup\":\"(16,)_(False,)_(False,)_(True,)_False\",\"line\":{\"color\":\"#FF6692\",\"dash\":\"solid\"},\"marker\":{\"symbol\":\"circle\"},\"mode\":\"lines\",\"name\":\"(16,)_(False,)_(False,)_(True,)_False\",\"showlegend\":true,\"x\":[0,1,2,3,4,5,6,7,8,9,10,11,12,13,14,15,16,17,18,19,20,21,22,23,24,25,26,27,28,29],\"xaxis\":\"x\",\"y\":[2.0,2.5487662186063655,2.371010346440122,1.9656280174756038,1.7568980241852972,1.5424529807777922,1.5111074389389907,1.4707593041921243,1.2246266567238402,0.9848264059345554,1.5070047897434813,1.6725522825806072,1.622135534737451,1.6061034667721177,1.5053376657607718,1.259633634981764,1.2216814373202185,1.2636433662619362,0.971981029300534,0.7463035633714757,0.7732842428828085,0.579552491151571,0.5482398790041576,0.47840371294281664,0.5754031783695827,0.4171195719016932,0.5293004946646246,0.5839266415969225,0.5326148041997858,0.6164927138134372],\"yaxis\":\"y\",\"type\":\"scattergl\"},{\"hovertemplate\":\"Parameters=(16,)_(False,)_(False,)_(False,)_False\\u003cbr\\u003eTime=%{x}\\u003cbr\\u003eCumulative Return=%{y}\\u003cextra\\u003e\\u003c\\u002fextra\\u003e\",\"legendgroup\":\"(16,)_(False,)_(False,)_(False,)_False\",\"line\":{\"color\":\"#B6E880\",\"dash\":\"solid\"},\"marker\":{\"symbol\":\"circle\"},\"mode\":\"lines\",\"name\":\"(16,)_(False,)_(False,)_(False,)_False\",\"showlegend\":true,\"x\":[0,1,2,3,4,5,6,7,8,9,10,11,12,13,14,15,16,17,18,19,20,21,22,23,24,25,26,27,28,29],\"xaxis\":\"x\",\"y\":[2.0,2.1885140950433577,2.035882900831571,1.923368233279224,2.172572366294819,2.297550017916614,2.305894621534211,2.1345894072100466,1.9746598130408832,1.8446411336423378,2.2523820013484723,2.499810672957524,2.7138232627916725,2.8052482289127005,2.669965515837485,1.7961177336891498,1.703422318078462,1.8232413242388963,1.296906611101269,1.0961882844807493,0.8173702810478491,0.7914655855787088,0.8993255024543544,0.9196962505541082,0.8159809180225852,0.8573748130652245,1.0560104981425738,1.1649954418844763,1.0152291232196633,0.9424226086254892],\"yaxis\":\"y\",\"type\":\"scattergl\"},{\"hovertemplate\":\"Parameters=(24,)_(False,)_(True,)_(True,)_False\\u003cbr\\u003eTime=%{x}\\u003cbr\\u003eCumulative Return=%{y}\\u003cextra\\u003e\\u003c\\u002fextra\\u003e\",\"legendgroup\":\"(24,)_(False,)_(True,)_(True,)_False\",\"line\":{\"color\":\"#FF97FF\",\"dash\":\"solid\"},\"marker\":{\"symbol\":\"circle\"},\"mode\":\"lines\",\"name\":\"(24,)_(False,)_(True,)_(True,)_False\",\"showlegend\":true,\"x\":[0,1,2,3,4,5,6,7,8,9,10,11,12,13,14,15,16,17,18,19,20,21,22,23,24,25,26,27,28,29],\"xaxis\":\"x\",\"y\":[2.0,1.4719668153548398,1.5613603480408837,1.8434915067330773,2.129589550761522,2.4024489095170054,2.5314848606048024,2.5190485497437014,2.8005481716818603,3.225380355391782,1.6670820819419514,1.6638526021505198,1.6854923643151307,1.7340144763184255,1.89514835290156,2.434659676424573,2.5018233564304104,2.601576016842403,2.9590068998596086,3.672330353337688,3.58613902490645,4.7860292603733825,4.96862726090827,5.3296042374839105,4.313759908207975,5.5758454798642365,4.187557533728095,3.8786256920502353,4.370985821482246,3.6938604084993725],\"yaxis\":\"y\",\"type\":\"scattergl\"},{\"hovertemplate\":\"Parameters=(24,)_(False,)_(True,)_(False,)_False\\u003cbr\\u003eTime=%{x}\\u003cbr\\u003eCumulative Return=%{y}\\u003cextra\\u003e\\u003c\\u002fextra\\u003e\",\"legendgroup\":\"(24,)_(False,)_(True,)_(False,)_False\",\"line\":{\"color\":\"#FECB52\",\"dash\":\"solid\"},\"marker\":{\"symbol\":\"circle\"},\"mode\":\"lines\",\"name\":\"(24,)_(False,)_(True,)_(False,)_False\",\"showlegend\":true,\"x\":[0,1,2,3,4,5,6,7,8,9,10,11,12,13,14,15,16,17,18,19,20,21,22,23,24,25,26,27,28,29],\"xaxis\":\"x\",\"y\":[2.0,1.81887106483628,1.929332325436741,1.9876126639996294,1.5151818129327383,1.4377614292154952,1.4563027544614393,1.6726766459319746,1.7482648969231203,1.8576867954866803,1.441528917751101,1.438736380683449,1.4405556108942883,1.4101167710607558,1.474869730411081,1.8448925696821776,1.935793318974156,1.8180684551827546,2.171668077719303,2.3144227286915005,2.8140924704428256,2.999813751589959,2.6477169785791808,2.4213174078390995,2.538751645302903,2.4099687866625845,2.0266075415681444,1.877097094217348,2.0596803360324345,2.1432424455489363],\"yaxis\":\"y\",\"type\":\"scattergl\"},{\"hovertemplate\":\"Parameters=(24,)_(False,)_(False,)_(True,)_False\\u003cbr\\u003eTime=%{x}\\u003cbr\\u003eCumulative Return=%{y}\\u003cextra\\u003e\\u003c\\u002fextra\\u003e\",\"legendgroup\":\"(24,)_(False,)_(False,)_(True,)_False\",\"line\":{\"color\":\"#636efa\",\"dash\":\"solid\"},\"marker\":{\"symbol\":\"circle\"},\"mode\":\"lines\",\"name\":\"(24,)_(False,)_(False,)_(True,)_False\",\"showlegend\":true,\"x\":[0,1,2,3,4,5,6,7,8,9,10,11,12,13,14,15,16,17,18,19,20,21,22,23,24,25,26,27,28,29],\"xaxis\":\"x\",\"y\":[2.0,2.52803318464516,2.374504032516481,1.9454412765333764,1.6435212828932924,1.4329407213992285,1.35597722464984,1.3626386724620498,1.2103659934875184,1.0267582150886456,1.5228223618018841,1.5257723809381045,1.5059284648375089,1.4625756551856621,1.3266653220628684,0.9489898948688048,0.9228106081927534,0.8860163185451515,0.76428641595725,0.5800410106143709,0.5936548471811196,0.3950232131527033,0.37995217096669653,0.3523481711661888,0.41950717128340903,0.2967710989591919,0.37066190904969215,0.39800702975078195,0.34748325967299454,0.4013131633423966],\"yaxis\":\"y\",\"type\":\"scattergl\"},{\"hovertemplate\":\"Parameters=(24,)_(False,)_(False,)_(False,)_False\\u003cbr\\u003eTime=%{x}\\u003cbr\\u003eCumulative Return=%{y}\\u003cextra\\u003e\\u003c\\u002fextra\\u003e\",\"legendgroup\":\"(24,)_(False,)_(False,)_(False,)_False\",\"line\":{\"color\":\"#EF553B\",\"dash\":\"solid\"},\"marker\":{\"symbol\":\"circle\"},\"mode\":\"lines\",\"name\":\"(24,)_(False,)_(False,)_(False,)_False\",\"showlegend\":true,\"x\":[0,1,2,3,4,5,6,7,8,9,10,11,12,13,14,15,16,17,18,19,20,21,22,23,24,25,26,27,28,29],\"xaxis\":\"x\",\"y\":[2.0,2.18112893516372,2.048667510949458,1.986782352769725,2.4590158491668164,2.584662784065532,2.5513310557574527,2.1722605449912886,2.0740960995844016,1.9442807990431477,2.3798374133322944,2.3844476463355164,2.381432598372166,2.431752103490891,2.32008536188554,1.7380105146941767,1.652376011818893,1.75286491164971,1.4119468514138578,1.3191324927036816,1.0343398384517588,0.9660766516672281,1.079467848488298,1.171770409337009,1.1149393784041637,1.1714967343106397,1.357850370579654,1.4580240905411037,1.316203634947418,1.2628046922253846],\"yaxis\":\"y\",\"type\":\"scattergl\"},{\"hovertemplate\":\"Parameters=(32,)_(False,)_(True,)_(True,)_False\\u003cbr\\u003eTime=%{x}\\u003cbr\\u003eCumulative Return=%{y}\\u003cextra\\u003e\\u003c\\u002fextra\\u003e\",\"legendgroup\":\"(32,)_(False,)_(True,)_(True,)_False\",\"line\":{\"color\":\"#00cc96\",\"dash\":\"solid\"},\"marker\":{\"symbol\":\"circle\"},\"mode\":\"lines\",\"name\":\"(32,)_(False,)_(True,)_(True,)_False\",\"showlegend\":true,\"x\":[0,1,2,3,4,5,6,7,8,9,10,11,12,13,14,15,16,17,18,19,20,21,22,23,24,25,26,27,28,29],\"xaxis\":\"x\",\"y\":[2.0,1.5194444503776747,1.6362324547277758,1.876912049295003,2.1545952499412895,2.296323324961489,2.371264682399641,2.4391512135862694,2.8264914650182638,3.2587665210656134,1.85399831892509,1.8998980006074522,1.9346787756744612,1.9736161566757864,2.153015759674525,2.6608791552792916,2.7092580963962645,2.8581811060573554,3.147260128647618,3.8088563228094077,3.768308627841372,5.119920094834459,5.237505338347773,5.83774814005208,4.2804993894485195,5.595010830449485,4.52332322830014,4.127898893680865,4.557132861233113,3.820503569695767],\"yaxis\":\"y\",\"type\":\"scattergl\"},{\"hovertemplate\":\"Parameters=(32,)_(False,)_(True,)_(False,)_False\\u003cbr\\u003eTime=%{x}\\u003cbr\\u003eCumulative Return=%{y}\\u003cextra\\u003e\\u003c\\u002fextra\\u003e\",\"legendgroup\":\"(32,)_(False,)_(True,)_(False,)_False\",\"line\":{\"color\":\"#ab63fa\",\"dash\":\"solid\"},\"marker\":{\"symbol\":\"circle\"},\"mode\":\"lines\",\"name\":\"(32,)_(False,)_(True,)_(False,)_False\",\"showlegend\":true,\"x\":[0,1,2,3,4,5,6,7,8,9,10,11,12,13,14,15,16,17,18,19,20,21,22,23,24,25,26,27,28,29],\"xaxis\":\"x\",\"y\":[2.0,1.8517077127268027,1.994034237632205,1.9547073314826695,1.4620854036374038,1.4461361106970538,1.4703191361290298,1.6521378919278389,1.7119158283349947,1.8234488689174557,1.4707292613767573,1.5071403002914352,1.508543594903088,1.513806043178828,1.5443942903211085,1.904586882597511,1.9491562247023193,1.8902578030799126,2.167313717211346,2.343878751603317,2.773541926940506,3.0421367778527784,2.691560234980963,2.531620973745119,2.834967231953489,2.7547988587870362,2.4004783898761866,2.190631000650047,2.4017526859873386,2.4861087259964596],\"yaxis\":\"y\",\"type\":\"scattergl\"},{\"hovertemplate\":\"Parameters=(32,)_(False,)_(False,)_(True,)_False\\u003cbr\\u003eTime=%{x}\\u003cbr\\u003eCumulative Return=%{y}\\u003cextra\\u003e\\u003c\\u002fextra\\u003e\",\"legendgroup\":\"(32,)_(False,)_(False,)_(True,)_False\",\"line\":{\"color\":\"#FFA15A\",\"dash\":\"solid\"},\"marker\":{\"symbol\":\"circle\"},\"mode\":\"lines\",\"name\":\"(32,)_(False,)_(False,)_(True,)_False\",\"showlegend\":true,\"x\":[0,1,2,3,4,5,6,7,8,9,10,11,12,13,14,15,16,17,18,19,20,21,22,23,24,25,26,27,28,29],\"xaxis\":\"x\",\"y\":[2.0,2.4805555496223253,2.289894329827188,1.9530651480613896,1.664115337340046,1.5546507576797959,1.5039141576303543,1.46085885632984,1.2288726499947717,1.0409325835816887,1.4896511353818893,1.4527716451289312,1.4261762574834878,1.3974730076153956,1.2704442021814524,0.9707659004565276,0.9531158594002205,0.9007248072053775,0.8096246854048705,0.6394307425249517,0.6462378889499347,0.4144462212885497,0.4049279555830841,0.3585213030174064,0.45415866828127266,0.31468971590690725,0.37496646554712887,0.40774565413481567,0.36534677533853566,0.42440257741367127],\"yaxis\":\"y\",\"type\":\"scattergl\"},{\"hovertemplate\":\"Parameters=(32,)_(False,)_(False,)_(False,)_False\\u003cbr\\u003eTime=%{x}\\u003cbr\\u003eCumulative Return=%{y}\\u003cextra\\u003e\\u003c\\u002fextra\\u003e\",\"legendgroup\":\"(32,)_(False,)_(False,)_(False,)_False\",\"line\":{\"color\":\"#19d3f3\",\"dash\":\"solid\"},\"marker\":{\"symbol\":\"circle\"},\"mode\":\"lines\",\"name\":\"(32,)_(False,)_(False,)_(False,)_False\",\"showlegend\":true,\"x\":[0,1,2,3,4,5,6,7,8,9,10,11,12,13,14,15,16,17,18,19,20,21,22,23,24,25,26,27,28,29],\"xaxis\":\"x\",\"y\":[2.0,2.148292287273197,1.9831695880333609,2.0222822184964224,2.531934251349475,2.559554088726973,2.5167519201313997,2.205531932899731,2.125730998442021,1.987237482702277,2.371639610415923,2.312924614791501,2.3107710563945365,2.3027100940183485,2.256181104541632,1.7299814638262285,1.6894980727030615,1.7405503016394597,1.485437081566126,1.3644226445185443,1.1143063936054856,1.0063949332616313,1.1223721171394723,1.1890662839331303,1.0465888705550717,1.0761847424864377,1.214602936386951,1.3207822947274155,1.1934921285863527,1.1515734621320615],\"yaxis\":\"y\",\"type\":\"scattergl\"},{\"hovertemplate\":\"Parameters=(40,)_(False,)_(True,)_(True,)_False\\u003cbr\\u003eTime=%{x}\\u003cbr\\u003eCumulative Return=%{y}\\u003cextra\\u003e\\u003c\\u002fextra\\u003e\",\"legendgroup\":\"(40,)_(False,)_(True,)_(True,)_False\",\"line\":{\"color\":\"#FF6692\",\"dash\":\"solid\"},\"marker\":{\"symbol\":\"circle\"},\"mode\":\"lines\",\"name\":\"(40,)_(False,)_(True,)_(True,)_False\",\"showlegend\":true,\"x\":[0,1,2,3,4,5,6,7,8,9,10,11,12,13,14,15,16,17,18,19,20,21,22,23,24,25,26,27,28,29],\"xaxis\":\"x\",\"y\":[2.0,1.536216312380848,1.6406992037690182,1.8515186133640633,2.328353770012346,2.520972935861596,2.5015751392958476,2.3964903558099957,2.6791834651910764,3.0419918098809986,1.6971283149478968,1.7483550740691864,1.748090114433528,1.7573426966416827,1.8888835313211825,2.330632451836437,2.4282756740290603,2.5910610160185192,2.784654770976373,3.3370941491520396,3.144254328007209,4.170352620052626,4.3826930293816,5.08568642730865,3.453115870336021,4.579538795571189,3.912393467946433,3.739733262095499,4.176111812687438,3.4772193834958087],\"yaxis\":\"y\",\"type\":\"scattergl\"},{\"hovertemplate\":\"Parameters=(40,)_(False,)_(True,)_(False,)_False\\u003cbr\\u003eTime=%{x}\\u003cbr\\u003eCumulative Return=%{y}\\u003cextra\\u003e\\u003c\\u002fextra\\u003e\",\"legendgroup\":\"(40,)_(False,)_(True,)_(False,)_False\",\"line\":{\"color\":\"#B6E880\",\"dash\":\"solid\"},\"marker\":{\"symbol\":\"circle\"},\"mode\":\"lines\",\"name\":\"(40,)_(False,)_(True,)_(False,)_False\",\"showlegend\":true,\"x\":[0,1,2,3,4,5,6,7,8,9,10,11,12,13,14,15,16,17,18,19,20,21,22,23,24,25,26,27,28,29],\"xaxis\":\"x\",\"y\":[2.0,1.8441888587250648,1.9696179292749125,1.9318303278773852,1.6043159882994087,1.6878993221062086,1.7517776474320024,1.8888177852416963,2.0450668185853753,2.191074599293027,1.9723101279146977,2.0318430783376407,2.0481771828324917,2.0531092163473605,2.1041851740104023,2.4750420776990945,2.4261174687352502,2.371106762831964,2.645867351720357,2.842990542711839,3.332044713873891,3.5679846085626306,3.1368408767086704,2.922630919904929,3.2432459554349067,3.1006786451595727,2.7270076857307206,2.6066604578169374,2.773059198875776,2.828363958342196],\"yaxis\":\"y\",\"type\":\"scattergl\"},{\"hovertemplate\":\"Parameters=(40,)_(False,)_(False,)_(True,)_False\\u003cbr\\u003eTime=%{x}\\u003cbr\\u003eCumulative Return=%{y}\\u003cextra\\u003e\\u003c\\u002fextra\\u003e\",\"legendgroup\":\"(40,)_(False,)_(False,)_(True,)_False\",\"line\":{\"color\":\"#FF97FF\",\"dash\":\"solid\"},\"marker\":{\"symbol\":\"circle\"},\"mode\":\"lines\",\"name\":\"(40,)_(False,)_(False,)_(True,)_False\",\"showlegend\":true,\"x\":[0,1,2,3,4,5,6,7,8,9,10,11,12,13,14,15,16,17,18,19,20,21,22,23,24,25,26,27,28,29],\"xaxis\":\"x\",\"y\":[2.0,2.463783687619152,2.296214028735308,2.001165134501805,1.4857904126374126,1.3628745080206006,1.3733612379950313,1.431052636536509,1.2622438121948127,1.0913139023743834,1.573783389652099,1.5262797201294622,1.52651102469943,1.5184312531641604,1.4047734476454352,1.0762422577780462,1.0311524531516207,0.9620266506223536,0.8901478525114189,0.713554067439314,0.7547880370524065,0.5084699486022752,0.48258035919476694,0.40517343057602817,0.5352392973337767,0.3606416766217731,0.4131798076968184,0.4314140960512123,0.38107364534370086,0.44484815561568003],\"yaxis\":\"y\",\"type\":\"scattergl\"},{\"hovertemplate\":\"Parameters=(40,)_(False,)_(False,)_(False,)_False\\u003cbr\\u003eTime=%{x}\\u003cbr\\u003eCumulative Return=%{y}\\u003cextra\\u003e\\u003c\\u002fextra\\u003e\",\"legendgroup\":\"(40,)_(False,)_(False,)_(False,)_False\",\"line\":{\"color\":\"#FECB52\",\"dash\":\"solid\"},\"marker\":{\"symbol\":\"circle\"},\"mode\":\"lines\",\"name\":\"(40,)_(False,)_(False,)_(False,)_False\",\"showlegend\":true,\"x\":[0,1,2,3,4,5,6,7,8,9,10,11,12,13,14,15,16,17,18,19,20,21,22,23,24,25,26,27,28,29],\"xaxis\":\"x\",\"y\":[2.0,2.1558111412749352,2.0091876615527684,2.0477344179358887,2.3948986465140063,2.270126709772779,2.1842140664068883,2.013344779939474,1.8467944762992365,1.7149423722715929,1.886168154194009,1.829235345492323,1.8145300163271434,1.8101606077968302,1.7651285725641295,1.454029471059702,1.4827715372792931,1.516392460425095,1.3406749887602205,1.2407916247302553,1.027349367184632,0.9546034341865497,1.0699546288268196,1.1430201567994847,1.0176298977394498,1.062363093855321,1.1903912715455285,1.2429251497640934,1.1635817970344002,1.1403757971658866],\"yaxis\":\"y\",\"type\":\"scattergl\"}],                        {\"template\":{\"data\":{\"histogram2dcontour\":[{\"type\":\"histogram2dcontour\",\"colorbar\":{\"outlinewidth\":0,\"ticks\":\"\"},\"colorscale\":[[0.0,\"#0d0887\"],[0.1111111111111111,\"#46039f\"],[0.2222222222222222,\"#7201a8\"],[0.3333333333333333,\"#9c179e\"],[0.4444444444444444,\"#bd3786\"],[0.5555555555555556,\"#d8576b\"],[0.6666666666666666,\"#ed7953\"],[0.7777777777777778,\"#fb9f3a\"],[0.8888888888888888,\"#fdca26\"],[1.0,\"#f0f921\"]]}],\"choropleth\":[{\"type\":\"choropleth\",\"colorbar\":{\"outlinewidth\":0,\"ticks\":\"\"}}],\"histogram2d\":[{\"type\":\"histogram2d\",\"colorbar\":{\"outlinewidth\":0,\"ticks\":\"\"},\"colorscale\":[[0.0,\"#0d0887\"],[0.1111111111111111,\"#46039f\"],[0.2222222222222222,\"#7201a8\"],[0.3333333333333333,\"#9c179e\"],[0.4444444444444444,\"#bd3786\"],[0.5555555555555556,\"#d8576b\"],[0.6666666666666666,\"#ed7953\"],[0.7777777777777778,\"#fb9f3a\"],[0.8888888888888888,\"#fdca26\"],[1.0,\"#f0f921\"]]}],\"heatmap\":[{\"type\":\"heatmap\",\"colorbar\":{\"outlinewidth\":0,\"ticks\":\"\"},\"colorscale\":[[0.0,\"#0d0887\"],[0.1111111111111111,\"#46039f\"],[0.2222222222222222,\"#7201a8\"],[0.3333333333333333,\"#9c179e\"],[0.4444444444444444,\"#bd3786\"],[0.5555555555555556,\"#d8576b\"],[0.6666666666666666,\"#ed7953\"],[0.7777777777777778,\"#fb9f3a\"],[0.8888888888888888,\"#fdca26\"],[1.0,\"#f0f921\"]]}],\"heatmapgl\":[{\"type\":\"heatmapgl\",\"colorbar\":{\"outlinewidth\":0,\"ticks\":\"\"},\"colorscale\":[[0.0,\"#0d0887\"],[0.1111111111111111,\"#46039f\"],[0.2222222222222222,\"#7201a8\"],[0.3333333333333333,\"#9c179e\"],[0.4444444444444444,\"#bd3786\"],[0.5555555555555556,\"#d8576b\"],[0.6666666666666666,\"#ed7953\"],[0.7777777777777778,\"#fb9f3a\"],[0.8888888888888888,\"#fdca26\"],[1.0,\"#f0f921\"]]}],\"contourcarpet\":[{\"type\":\"contourcarpet\",\"colorbar\":{\"outlinewidth\":0,\"ticks\":\"\"}}],\"contour\":[{\"type\":\"contour\",\"colorbar\":{\"outlinewidth\":0,\"ticks\":\"\"},\"colorscale\":[[0.0,\"#0d0887\"],[0.1111111111111111,\"#46039f\"],[0.2222222222222222,\"#7201a8\"],[0.3333333333333333,\"#9c179e\"],[0.4444444444444444,\"#bd3786\"],[0.5555555555555556,\"#d8576b\"],[0.6666666666666666,\"#ed7953\"],[0.7777777777777778,\"#fb9f3a\"],[0.8888888888888888,\"#fdca26\"],[1.0,\"#f0f921\"]]}],\"surface\":[{\"type\":\"surface\",\"colorbar\":{\"outlinewidth\":0,\"ticks\":\"\"},\"colorscale\":[[0.0,\"#0d0887\"],[0.1111111111111111,\"#46039f\"],[0.2222222222222222,\"#7201a8\"],[0.3333333333333333,\"#9c179e\"],[0.4444444444444444,\"#bd3786\"],[0.5555555555555556,\"#d8576b\"],[0.6666666666666666,\"#ed7953\"],[0.7777777777777778,\"#fb9f3a\"],[0.8888888888888888,\"#fdca26\"],[1.0,\"#f0f921\"]]}],\"mesh3d\":[{\"type\":\"mesh3d\",\"colorbar\":{\"outlinewidth\":0,\"ticks\":\"\"}}],\"scatter\":[{\"fillpattern\":{\"fillmode\":\"overlay\",\"size\":10,\"solidity\":0.2},\"type\":\"scatter\"}],\"parcoords\":[{\"type\":\"parcoords\",\"line\":{\"colorbar\":{\"outlinewidth\":0,\"ticks\":\"\"}}}],\"scatterpolargl\":[{\"type\":\"scatterpolargl\",\"marker\":{\"colorbar\":{\"outlinewidth\":0,\"ticks\":\"\"}}}],\"bar\":[{\"error_x\":{\"color\":\"#2a3f5f\"},\"error_y\":{\"color\":\"#2a3f5f\"},\"marker\":{\"line\":{\"color\":\"#E5ECF6\",\"width\":0.5},\"pattern\":{\"fillmode\":\"overlay\",\"size\":10,\"solidity\":0.2}},\"type\":\"bar\"}],\"scattergeo\":[{\"type\":\"scattergeo\",\"marker\":{\"colorbar\":{\"outlinewidth\":0,\"ticks\":\"\"}}}],\"scatterpolar\":[{\"type\":\"scatterpolar\",\"marker\":{\"colorbar\":{\"outlinewidth\":0,\"ticks\":\"\"}}}],\"histogram\":[{\"marker\":{\"pattern\":{\"fillmode\":\"overlay\",\"size\":10,\"solidity\":0.2}},\"type\":\"histogram\"}],\"scattergl\":[{\"type\":\"scattergl\",\"marker\":{\"colorbar\":{\"outlinewidth\":0,\"ticks\":\"\"}}}],\"scatter3d\":[{\"type\":\"scatter3d\",\"line\":{\"colorbar\":{\"outlinewidth\":0,\"ticks\":\"\"}},\"marker\":{\"colorbar\":{\"outlinewidth\":0,\"ticks\":\"\"}}}],\"scattermapbox\":[{\"type\":\"scattermapbox\",\"marker\":{\"colorbar\":{\"outlinewidth\":0,\"ticks\":\"\"}}}],\"scatterternary\":[{\"type\":\"scatterternary\",\"marker\":{\"colorbar\":{\"outlinewidth\":0,\"ticks\":\"\"}}}],\"scattercarpet\":[{\"type\":\"scattercarpet\",\"marker\":{\"colorbar\":{\"outlinewidth\":0,\"ticks\":\"\"}}}],\"carpet\":[{\"aaxis\":{\"endlinecolor\":\"#2a3f5f\",\"gridcolor\":\"white\",\"linecolor\":\"white\",\"minorgridcolor\":\"white\",\"startlinecolor\":\"#2a3f5f\"},\"baxis\":{\"endlinecolor\":\"#2a3f5f\",\"gridcolor\":\"white\",\"linecolor\":\"white\",\"minorgridcolor\":\"white\",\"startlinecolor\":\"#2a3f5f\"},\"type\":\"carpet\"}],\"table\":[{\"cells\":{\"fill\":{\"color\":\"#EBF0F8\"},\"line\":{\"color\":\"white\"}},\"header\":{\"fill\":{\"color\":\"#C8D4E3\"},\"line\":{\"color\":\"white\"}},\"type\":\"table\"}],\"barpolar\":[{\"marker\":{\"line\":{\"color\":\"#E5ECF6\",\"width\":0.5},\"pattern\":{\"fillmode\":\"overlay\",\"size\":10,\"solidity\":0.2}},\"type\":\"barpolar\"}],\"pie\":[{\"automargin\":true,\"type\":\"pie\"}]},\"layout\":{\"autotypenumbers\":\"strict\",\"colorway\":[\"#636efa\",\"#EF553B\",\"#00cc96\",\"#ab63fa\",\"#FFA15A\",\"#19d3f3\",\"#FF6692\",\"#B6E880\",\"#FF97FF\",\"#FECB52\"],\"font\":{\"color\":\"#2a3f5f\"},\"hovermode\":\"closest\",\"hoverlabel\":{\"align\":\"left\"},\"paper_bgcolor\":\"white\",\"plot_bgcolor\":\"#E5ECF6\",\"polar\":{\"bgcolor\":\"#E5ECF6\",\"angularaxis\":{\"gridcolor\":\"white\",\"linecolor\":\"white\",\"ticks\":\"\"},\"radialaxis\":{\"gridcolor\":\"white\",\"linecolor\":\"white\",\"ticks\":\"\"}},\"ternary\":{\"bgcolor\":\"#E5ECF6\",\"aaxis\":{\"gridcolor\":\"white\",\"linecolor\":\"white\",\"ticks\":\"\"},\"baxis\":{\"gridcolor\":\"white\",\"linecolor\":\"white\",\"ticks\":\"\"},\"caxis\":{\"gridcolor\":\"white\",\"linecolor\":\"white\",\"ticks\":\"\"}},\"coloraxis\":{\"colorbar\":{\"outlinewidth\":0,\"ticks\":\"\"}},\"colorscale\":{\"sequential\":[[0.0,\"#0d0887\"],[0.1111111111111111,\"#46039f\"],[0.2222222222222222,\"#7201a8\"],[0.3333333333333333,\"#9c179e\"],[0.4444444444444444,\"#bd3786\"],[0.5555555555555556,\"#d8576b\"],[0.6666666666666666,\"#ed7953\"],[0.7777777777777778,\"#fb9f3a\"],[0.8888888888888888,\"#fdca26\"],[1.0,\"#f0f921\"]],\"sequentialminus\":[[0.0,\"#0d0887\"],[0.1111111111111111,\"#46039f\"],[0.2222222222222222,\"#7201a8\"],[0.3333333333333333,\"#9c179e\"],[0.4444444444444444,\"#bd3786\"],[0.5555555555555556,\"#d8576b\"],[0.6666666666666666,\"#ed7953\"],[0.7777777777777778,\"#fb9f3a\"],[0.8888888888888888,\"#fdca26\"],[1.0,\"#f0f921\"]],\"diverging\":[[0,\"#8e0152\"],[0.1,\"#c51b7d\"],[0.2,\"#de77ae\"],[0.3,\"#f1b6da\"],[0.4,\"#fde0ef\"],[0.5,\"#f7f7f7\"],[0.6,\"#e6f5d0\"],[0.7,\"#b8e186\"],[0.8,\"#7fbc41\"],[0.9,\"#4d9221\"],[1,\"#276419\"]]},\"xaxis\":{\"gridcolor\":\"white\",\"linecolor\":\"white\",\"ticks\":\"\",\"title\":{\"standoff\":15},\"zerolinecolor\":\"white\",\"automargin\":true,\"zerolinewidth\":2},\"yaxis\":{\"gridcolor\":\"white\",\"linecolor\":\"white\",\"ticks\":\"\",\"title\":{\"standoff\":15},\"zerolinecolor\":\"white\",\"automargin\":true,\"zerolinewidth\":2},\"scene\":{\"xaxis\":{\"backgroundcolor\":\"#E5ECF6\",\"gridcolor\":\"white\",\"linecolor\":\"white\",\"showbackground\":true,\"ticks\":\"\",\"zerolinecolor\":\"white\",\"gridwidth\":2},\"yaxis\":{\"backgroundcolor\":\"#E5ECF6\",\"gridcolor\":\"white\",\"linecolor\":\"white\",\"showbackground\":true,\"ticks\":\"\",\"zerolinecolor\":\"white\",\"gridwidth\":2},\"zaxis\":{\"backgroundcolor\":\"#E5ECF6\",\"gridcolor\":\"white\",\"linecolor\":\"white\",\"showbackground\":true,\"ticks\":\"\",\"zerolinecolor\":\"white\",\"gridwidth\":2}},\"shapedefaults\":{\"line\":{\"color\":\"#2a3f5f\"}},\"annotationdefaults\":{\"arrowcolor\":\"#2a3f5f\",\"arrowhead\":0,\"arrowwidth\":1},\"geo\":{\"bgcolor\":\"white\",\"landcolor\":\"#E5ECF6\",\"subunitcolor\":\"white\",\"showland\":true,\"showlakes\":true,\"lakecolor\":\"white\"},\"title\":{\"x\":0.05},\"mapbox\":{\"style\":\"light\"}}},\"xaxis\":{\"anchor\":\"y\",\"domain\":[0.0,1.0],\"title\":{\"text\":\"Time\"}},\"yaxis\":{\"anchor\":\"x\",\"domain\":[0.0,1.0],\"title\":{\"text\":\"Cumulative Return\"}},\"legend\":{\"title\":{\"text\":\"Parameters\"},\"tracegroupgap\":0},\"title\":{\"text\":\"Cumulative Returns for Different Backtest Parameters\"}},                        {\"responsive\": true}                    ).then(function(){\n",
       "                            \n",
       "var gd = document.getElementById('ffbd1907-827f-4a9d-b748-136467f47e0e');\n",
       "var x = new MutationObserver(function (mutations, observer) {{\n",
       "        var display = window.getComputedStyle(gd).display;\n",
       "        if (!display || display === 'none') {{\n",
       "            console.log([gd, 'removed!']);\n",
       "            Plotly.purge(gd);\n",
       "            observer.disconnect();\n",
       "        }}\n",
       "}});\n",
       "\n",
       "// Listen for the removal of the full notebook cells\n",
       "var notebookContainer = gd.closest('#notebook-container');\n",
       "if (notebookContainer) {{\n",
       "    x.observe(notebookContainer, {childList: true});\n",
       "}}\n",
       "\n",
       "// Listen for the clearing of the current output cell\n",
       "var outputEl = gd.closest('.output');\n",
       "if (outputEl) {{\n",
       "    x.observe(outputEl, {childList: true});\n",
       "}}\n",
       "\n",
       "                        })                };                });            </script>        </div>"
      ]
     },
     "metadata": {},
     "output_type": "display_data"
    }
   ],
   "source": [
    "# Prepare data for Plotly visualization\n",
    "plot_data = []\n",
    "for result in results:\n",
    "    params = result['params']\n",
    "    n_positions=params['n_positions'],# 총 투자종목수\n",
    "    use_salience=params['use_salience'], #salience를 이용한 비중 가중치\n",
    "    reverse_positions=params['reverse_positions'], #역포지션\n",
    "    use_return_adjustment=params['use_return_adjustment'], #TS를 이용해 롱-숏 비대칭 비중 조정 사용 여부\n",
    "    inverse_salience=params['inverse_salience']#salience의 역 가중 사용\n",
    "    for i, value in enumerate(result['cumulative_returns']):\n",
    "        plot_data.append({\n",
    "            'Time': i,\n",
    "            'Cumulative Return': value,\n",
    "            'Parameters': f'{n_positions}_{use_salience}_{reverse_positions}_{use_return_adjustment}_{inverse_salience}'\n",
    "        })\n",
    "\n",
    "plot_df = pd.DataFrame(plot_data)\n",
    "\n",
    "# Visualize the cumulative returns for different backtest parameters using Plotly Express\n",
    "fig = px.line(plot_df, x='Time', y='Cumulative Return', color='Parameters', title='Cumulative Returns for Different Backtest Parameters')\n",
    "fig.show()"
   ]
  },
  {
   "cell_type": "code",
   "execution_count": 13,
   "id": "c93fa0e8-f5a7-4ba3-be28-47a2e4a08264",
   "metadata": {
    "scrolled": true
   },
   "outputs": [
    {
     "data": {
      "application/vnd.plotly.v1+json": {
       "config": {
        "plotlyServerURL": "https://plot.ly"
       },
       "data": [
        {
         "hovertemplate": "Parameters=(8,)_(True,)_(True,)_(True,)_True<br>Time=%{x}<br>Cumulative Return=%{y}<extra></extra>",
         "legendgroup": "(8,)_(True,)_(True,)_(True,)_True",
         "line": {
          "color": "#636efa",
          "dash": "solid"
         },
         "marker": {
          "symbol": "circle"
         },
         "mode": "lines",
         "name": "(8,)_(True,)_(True,)_(True,)_True",
         "showlegend": true,
         "type": "scattergl",
         "x": [
          0,
          1,
          2,
          3,
          4,
          5,
          6,
          7,
          8,
          9,
          10,
          11,
          12,
          13,
          14,
          15,
          16,
          17,
          18,
          19,
          20,
          21,
          22,
          23,
          24,
          25,
          26,
          27,
          28,
          29
         ],
         "xaxis": "x",
         "y": [
          2,
          1.4729704546580198,
          1.7593518442850948,
          2.1029303411561506,
          2.7036860872296566,
          2.96980802367605,
          3.0948548414785533,
          3.204342473348295,
          3.7091446088406848,
          4.5468122701282025,
          2.4577479953036723,
          2.1544567821202145,
          1.8464434035790913,
          1.7714110818510618,
          1.803596608807644,
          2.114367305442298,
          2.4219077807138447,
          2.674404357785275,
          4.144221126852857,
          5.483973492617552,
          4.976597517782969,
          5.007945061799084,
          4.722169391723139,
          5.167828260510402,
          5.017327913542775,
          6.5602170794121415,
          2.486987696393515,
          2.2752605143427607,
          2.663659522593028,
          2.3479048821162327
         ],
         "yaxis": "y"
        },
        {
         "hovertemplate": "Parameters=(8,)_(True,)_(True,)_(True,)_False<br>Time=%{x}<br>Cumulative Return=%{y}<extra></extra>",
         "legendgroup": "(8,)_(True,)_(True,)_(True,)_False",
         "line": {
          "color": "#EF553B",
          "dash": "solid"
         },
         "marker": {
          "symbol": "circle"
         },
         "mode": "lines",
         "name": "(8,)_(True,)_(True,)_(True,)_False",
         "showlegend": true,
         "type": "scattergl",
         "x": [
          0,
          1,
          2,
          3,
          4,
          5,
          6,
          7,
          8,
          9,
          10,
          11,
          12,
          13,
          14,
          15,
          16,
          17,
          18,
          19,
          20,
          21,
          22,
          23,
          24,
          25,
          26,
          27,
          28,
          29
         ],
         "xaxis": "x",
         "y": [
          2,
          1.4517276503325505,
          1.6096248682096095,
          1.928832264216768,
          2.802050392828358,
          3.0944106055137275,
          3.29086522766018,
          3.477254259114074,
          4.054423399161526,
          4.984167574922568,
          2.7859390742474117,
          2.39376017945553,
          1.9625028464449379,
          1.8702638656965973,
          1.911908974121194,
          2.2698073644023125,
          2.214688013743431,
          2.4396792180056623,
          4.220681884518174,
          6.895837725222303,
          3.5557012822283394,
          3.199219003313235,
          3.0897257301613226,
          3.1834833814721577,
          2.7398887616061534,
          3.3061538861726465,
          1.9577079502711963,
          1.6941925666064148,
          1.9858215646834356,
          1.7330805015851594
         ],
         "yaxis": "y"
        },
        {
         "hovertemplate": "Parameters=(8,)_(True,)_(True,)_(False,)_True<br>Time=%{x}<br>Cumulative Return=%{y}<extra></extra>",
         "legendgroup": "(8,)_(True,)_(True,)_(False,)_True",
         "line": {
          "color": "#00cc96",
          "dash": "solid"
         },
         "marker": {
          "symbol": "circle"
         },
         "mode": "lines",
         "name": "(8,)_(True,)_(True,)_(False,)_True",
         "showlegend": true,
         "type": "scattergl",
         "x": [
          0,
          1,
          2,
          3,
          4,
          5,
          6,
          7,
          8,
          9,
          10,
          11,
          12,
          13,
          14,
          15,
          16,
          17,
          18,
          19,
          20,
          21,
          22,
          23,
          24,
          25,
          26,
          27,
          28,
          29
         ],
         "xaxis": "x",
         "y": [
          2,
          1.6871036087836215,
          2.015117707369517,
          2.1483750321867654,
          1.881909602605131,
          1.7998871868314779,
          1.7583098977263394,
          1.8678754663265507,
          2.051987945072149,
          2.28724798619937,
          1.904398945014141,
          1.669392155252821,
          1.5450204727215426,
          1.4595320037560062,
          1.4839225911418883,
          1.7199902753588214,
          2.0302750649910024,
          2.0713340560963145,
          3.6097786238478236,
          3.974482258790642,
          4.612421761054202,
          3.41324065794446,
          2.978268253064541,
          2.798245115844022,
          3.1074598629130987,
          3.179605626659894,
          1.4855751734713885,
          1.3591022336736645,
          1.5753466221299461,
          1.6049378208491918
         ],
         "yaxis": "y"
        },
        {
         "hovertemplate": "Parameters=(8,)_(True,)_(True,)_(False,)_False<br>Time=%{x}<br>Cumulative Return=%{y}<extra></extra>",
         "legendgroup": "(8,)_(True,)_(True,)_(False,)_False",
         "line": {
          "color": "#ab63fa",
          "dash": "solid"
         },
         "marker": {
          "symbol": "circle"
         },
         "mode": "lines",
         "name": "(8,)_(True,)_(True,)_(False,)_False",
         "showlegend": true,
         "type": "scattergl",
         "x": [
          0,
          1,
          2,
          3,
          4,
          5,
          6,
          7,
          8,
          9,
          10,
          11,
          12,
          13,
          14,
          15,
          16,
          17,
          18,
          19,
          20,
          21,
          22,
          23,
          24,
          25,
          26,
          27,
          28,
          29
         ],
         "xaxis": "x",
         "y": [
          2,
          1.710838473636871,
          1.896917890917664,
          2.034114799599127,
          2.108681249335629,
          2.0645778744904675,
          2.0790304578629906,
          2.2638719827417555,
          2.49232817861816,
          2.783946226408323,
          2.2406572103238744,
          1.9252380841573558,
          1.721699895504655,
          1.639219943936298,
          1.676988343270934,
          1.9737979083039723,
          1.9713861455705128,
          2.0122180018932885,
          3.596298543164371,
          4.854836215097219,
          4.422200472617497,
          2.0426161496943913,
          1.9435123121625244,
          1.686350848421236,
          1.7042741331535791,
          1.5743275890682227,
          0.9609327716296249,
          0.8315873460481614,
          0.9656728575666248,
          0.9856157954902247
         ],
         "yaxis": "y"
        },
        {
         "hovertemplate": "Parameters=(8,)_(True,)_(False,)_(True,)_True<br>Time=%{x}<br>Cumulative Return=%{y}<extra></extra>",
         "legendgroup": "(8,)_(True,)_(False,)_(True,)_True",
         "line": {
          "color": "#FFA15A",
          "dash": "solid"
         },
         "marker": {
          "symbol": "circle"
         },
         "mode": "lines",
         "name": "(8,)_(True,)_(False,)_(True,)_True",
         "showlegend": true,
         "type": "scattergl",
         "x": [
          0,
          1,
          2,
          3,
          4,
          5,
          6,
          7,
          8,
          9,
          10,
          11,
          12,
          13,
          14,
          15,
          16,
          17,
          18,
          19,
          20,
          21,
          22,
          23,
          24,
          25,
          26,
          27,
          28,
          29
         ],
         "xaxis": "x",
         "y": [
          2,
          2.52702954534198,
          2.03571335462332,
          1.6381650548254336,
          1.170181379644762,
          1.0550012423442574,
          1.0105793312035032,
          0.9748277552953036,
          0.8212564261682641,
          0.6357851053181626,
          0.9279009594764155,
          1.0424058673235377,
          1.1914341308143657,
          1.2398494079074713,
          1.217322052767179,
          1.00757003808731,
          0.8610162356400471,
          0.7712507813014177,
          0.34738169500810495,
          0.23507942313008634,
          0.25682891765896093,
          0.2552111545643653,
          0.2697746407461179,
          0.24431442294174696,
          0.2514294824151624,
          0.17411186812262203,
          0.2822176775164903,
          0.30624399404074387,
          0.2539665239144781,
          0.2840721390546942
         ],
         "yaxis": "y"
        },
        {
         "hovertemplate": "Parameters=(8,)_(True,)_(False,)_(True,)_False<br>Time=%{x}<br>Cumulative Return=%{y}<extra></extra>",
         "legendgroup": "(8,)_(True,)_(False,)_(True,)_False",
         "line": {
          "color": "#19d3f3",
          "dash": "solid"
         },
         "marker": {
          "symbol": "circle"
         },
         "mode": "lines",
         "name": "(8,)_(True,)_(False,)_(True,)_False",
         "showlegend": true,
         "type": "scattergl",
         "x": [
          0,
          1,
          2,
          3,
          4,
          5,
          6,
          7,
          8,
          9,
          10,
          11,
          12,
          13,
          14,
          15,
          16,
          17,
          18,
          19,
          20,
          21,
          22,
          23,
          24,
          25,
          26,
          27,
          28,
          29
         ],
         "xaxis": "x",
         "y": [
          2,
          2.5482723496674495,
          2.2711094022555463,
          1.8207219034914792,
          0.9964473396612437,
          0.8924800602365953,
          0.8358192432478573,
          0.7884798572681221,
          0.6576046875932634,
          0.5068054078807802,
          0.7303280072221832,
          0.833136870975001,
          0.9832339392164787,
          1.029446609203069,
          1.0065239529704804,
          0.8181084439564574,
          0.8379751546327187,
          0.7528448617821399,
          0.2032567452754547,
          0.07442839853825048,
          0.11047927680094549,
          0.1215555459363021,
          0.12571578460097294,
          0.12190094220838597,
          0.13888692757113374,
          0.11018254203410123,
          0.1551215273712816,
          0.1760015104117793,
          0.1457055776157564,
          0.16424993388667097
         ],
         "yaxis": "y"
        },
        {
         "hovertemplate": "Parameters=(8,)_(True,)_(False,)_(False,)_True<br>Time=%{x}<br>Cumulative Return=%{y}<extra></extra>",
         "legendgroup": "(8,)_(True,)_(False,)_(False,)_True",
         "line": {
          "color": "#FF6692",
          "dash": "solid"
         },
         "marker": {
          "symbol": "circle"
         },
         "mode": "lines",
         "name": "(8,)_(True,)_(False,)_(False,)_True",
         "showlegend": true,
         "type": "scattergl",
         "x": [
          0,
          1,
          2,
          3,
          4,
          5,
          6,
          7,
          8,
          9,
          10,
          11,
          12,
          13,
          14,
          15,
          16,
          17,
          18,
          19,
          20,
          21,
          22,
          23,
          24,
          25,
          26,
          27,
          28,
          29
         ],
         "xaxis": "x",
         "y": [
          2,
          2.3128963912163782,
          1.8632129094565382,
          1.7400008673157106,
          1.9558151788932205,
          2.0410587450865862,
          2.0882070831301647,
          1.9580846304760566,
          1.7650804278888272,
          1.5627142809262153,
          1.8242878696708318,
          2.0494087861543657,
          2.2020921554432324,
          2.3239374579577374,
          2.2851015848821383,
          1.9215794964904063,
          1.5749281820196592,
          1.5430778365506637,
          0.39698568001406753,
          0.3568773698908702,
          0.2995954003428203,
          0.37748705060413434,
          0.4255927854957348,
          0.45131798615370966,
          0.40144595166106617,
          0.39212559803999136,
          0.6010422948104347,
          0.6522114226505412,
          0.5484391995308401,
          0.5381373566787581
         ],
         "yaxis": "y"
        },
        {
         "hovertemplate": "Parameters=(8,)_(True,)_(False,)_(False,)_False<br>Time=%{x}<br>Cumulative Return=%{y}<extra></extra>",
         "legendgroup": "(8,)_(True,)_(False,)_(False,)_False",
         "line": {
          "color": "#B6E880",
          "dash": "solid"
         },
         "marker": {
          "symbol": "circle"
         },
         "mode": "lines",
         "name": "(8,)_(True,)_(False,)_(False,)_False",
         "showlegend": true,
         "type": "scattergl",
         "x": [
          0,
          1,
          2,
          3,
          4,
          5,
          6,
          7,
          8,
          9,
          10,
          11,
          12,
          13,
          14,
          15,
          16,
          17,
          18,
          19,
          20,
          21,
          22,
          23,
          24,
          25,
          26,
          27,
          28,
          29
         ],
         "xaxis": "x",
         "y": [
          2,
          2.289161526363129,
          2.0401807783549604,
          1.892622205956114,
          1.82324258263376,
          1.861375966273839,
          1.848345849235109,
          1.684013930006214,
          1.5140734832031408,
          1.3369173778513352,
          1.597817721366994,
          1.8227438131961442,
          2.015446200069111,
          2.111998395608162,
          2.063336958139378,
          1.6981476904146953,
          1.7002226390699868,
          1.6650071909594166,
          0.35426178971878663,
          0.2302865961312313,
          0.250808444466823,
          0.38576836910287754,
          0.40448511418600286,
          0.45800573423800295,
          0.4531378461638938,
          0.48768844806402467,
          0.6777032636871169,
          0.7689248555065943,
          0.6449430716809768,
          0.6316237994843859
         ],
         "yaxis": "y"
        },
        {
         "hovertemplate": "Parameters=(16,)_(True,)_(True,)_(True,)_True<br>Time=%{x}<br>Cumulative Return=%{y}<extra></extra>",
         "legendgroup": "(16,)_(True,)_(True,)_(True,)_True",
         "line": {
          "color": "#FF97FF",
          "dash": "solid"
         },
         "marker": {
          "symbol": "circle"
         },
         "mode": "lines",
         "name": "(16,)_(True,)_(True,)_(True,)_True",
         "showlegend": true,
         "type": "scattergl",
         "x": [
          0,
          1,
          2,
          3,
          4,
          5,
          6,
          7,
          8,
          9,
          10,
          11,
          12,
          13,
          14,
          15,
          16,
          17,
          18,
          19,
          20,
          21,
          22,
          23,
          24,
          25,
          26,
          27,
          28,
          29
         ],
         "xaxis": "x",
         "y": [
          2,
          1.477957589128672,
          1.6260514985207022,
          1.9032139087328572,
          2.014674109696274,
          2.258506886795471,
          2.3025834146750253,
          2.3560634181451694,
          2.7544367937288246,
          3.306835038055627,
          1.6139041439839135,
          1.439073683264052,
          1.5512500630905457,
          1.563621166207194,
          1.6565413038080758,
          1.9036556670823979,
          2.0547352806240977,
          1.9773553446149095,
          2.464909484544039,
          2.8468260372921126,
          2.982484868426818,
          3.989210197795384,
          4.142603893844915,
          4.7334904581386,
          3.908919164774039,
          5.144959097360156,
          3.2806091386483125,
          2.967144452742149,
          3.188564984050086,
          2.6646409532229485
         ],
         "yaxis": "y"
        },
        {
         "hovertemplate": "Parameters=(16,)_(True,)_(True,)_(True,)_False<br>Time=%{x}<br>Cumulative Return=%{y}<extra></extra>",
         "legendgroup": "(16,)_(True,)_(True,)_(True,)_False",
         "line": {
          "color": "#FECB52",
          "dash": "solid"
         },
         "marker": {
          "symbol": "circle"
         },
         "mode": "lines",
         "name": "(16,)_(True,)_(True,)_(True,)_False",
         "showlegend": true,
         "type": "scattergl",
         "x": [
          0,
          1,
          2,
          3,
          4,
          5,
          6,
          7,
          8,
          9,
          10,
          11,
          12,
          13,
          14,
          15,
          16,
          17,
          18,
          19,
          20,
          21,
          22,
          23,
          24,
          25,
          26,
          27,
          28,
          29
         ],
         "xaxis": "x",
         "y": [
          2,
          1.4221418564579285,
          1.4869397427973194,
          1.7426698556593274,
          2.0241139607780996,
          2.2778318197188367,
          2.324654531544563,
          2.396046353528473,
          2.791989349063881,
          3.326147348411435,
          1.4538089119544868,
          1.291513379850326,
          1.2735993641099517,
          1.2887905835674662,
          1.3762559878083716,
          1.6151818661982595,
          1.59271230693694,
          1.5488810143941723,
          1.8529142897514304,
          2.5036566214982416,
          2.1038369442774076,
          2.447185031098119,
          2.5958963556657464,
          2.8969725410059874,
          2.2481069869238333,
          2.8015294809019577,
          2.237692101196309,
          1.9863954409167892,
          2.1877544276779006,
          1.8542046915747894
         ],
         "yaxis": "y"
        },
        {
         "hovertemplate": "Parameters=(16,)_(True,)_(True,)_(False,)_True<br>Time=%{x}<br>Cumulative Return=%{y}<extra></extra>",
         "legendgroup": "(16,)_(True,)_(True,)_(False,)_True",
         "line": {
          "color": "#636efa",
          "dash": "solid"
         },
         "marker": {
          "symbol": "circle"
         },
         "mode": "lines",
         "name": "(16,)_(True,)_(True,)_(False,)_True",
         "showlegend": true,
         "type": "scattergl",
         "x": [
          0,
          1,
          2,
          3,
          4,
          5,
          6,
          7,
          8,
          9,
          10,
          11,
          12,
          13,
          14,
          15,
          16,
          17,
          18,
          19,
          20,
          21,
          22,
          23,
          24,
          25,
          26,
          27,
          28,
          29
         ],
         "xaxis": "x",
         "y": [
          2,
          1.8521334540803318,
          2.037720432995084,
          2.147574382109843,
          1.781369278817217,
          1.6645659361638512,
          1.6561586043240464,
          1.7880559141676866,
          1.9130169359895617,
          2.0565511822644167,
          1.577668291188943,
          1.4067631756405015,
          1.2949128063480202,
          1.2519148509578355,
          1.2961046102793603,
          1.6902052423153962,
          1.8588932990323512,
          1.7035087734406826,
          2.1133161959673643,
          2.2838586668315988,
          3.04328765189379,
          3.3769885587025383,
          2.850868680006292,
          2.8318078377898726,
          3.238272347925345,
          3.179124806176274,
          2.1398985417324843,
          1.9354296166317,
          2.1862714369991787,
          2.3385868668621583
         ],
         "yaxis": "y"
        },
        {
         "hovertemplate": "Parameters=(16,)_(True,)_(True,)_(False,)_False<br>Time=%{x}<br>Cumulative Return=%{y}<extra></extra>",
         "legendgroup": "(16,)_(True,)_(True,)_(False,)_False",
         "line": {
          "color": "#EF553B",
          "dash": "solid"
         },
         "marker": {
          "symbol": "circle"
         },
         "mode": "lines",
         "name": "(16,)_(True,)_(True,)_(False,)_False",
         "showlegend": true,
         "type": "scattergl",
         "x": [
          0,
          1,
          2,
          3,
          4,
          5,
          6,
          7,
          8,
          9,
          10,
          11,
          12,
          13,
          14,
          15,
          16,
          17,
          18,
          19,
          20,
          21,
          22,
          23,
          24,
          25,
          26,
          27,
          28,
          29
         ],
         "xaxis": "x",
         "y": [
          2,
          1.7719835094494978,
          1.852721436906723,
          1.957071691185577,
          1.8048798763657843,
          1.7180649926412264,
          1.713321078019842,
          1.8206115239731513,
          1.9656545681954725,
          2.076816771134839,
          1.6296585761319158,
          1.447732118268987,
          1.3131079457672934,
          1.2681673397957358,
          1.3481139982827206,
          1.8061241167234026,
          1.8197226927158237,
          1.718335456263729,
          2.280869480820685,
          2.862138650033237,
          3.1573415889653114,
          2.99239904162355,
          2.6115778096137503,
          2.5328053662379926,
          2.7551387287866254,
          2.5535675776969,
          2.143975414628836,
          1.9032032989612748,
          2.1474729213658663,
          2.299504434613748
         ],
         "yaxis": "y"
        },
        {
         "hovertemplate": "Parameters=(16,)_(True,)_(False,)_(True,)_True<br>Time=%{x}<br>Cumulative Return=%{y}<extra></extra>",
         "legendgroup": "(16,)_(True,)_(False,)_(True,)_True",
         "line": {
          "color": "#00cc96",
          "dash": "solid"
         },
         "marker": {
          "symbol": "circle"
         },
         "mode": "lines",
         "name": "(16,)_(True,)_(False,)_(True,)_True",
         "showlegend": true,
         "type": "scattergl",
         "x": [
          0,
          1,
          2,
          3,
          4,
          5,
          6,
          7,
          8,
          9,
          10,
          11,
          12,
          13,
          14,
          15,
          16,
          17,
          18,
          19,
          20,
          21,
          22,
          23,
          24,
          25,
          26,
          27,
          28,
          29
         ],
         "xaxis": "x",
         "y": [
          2,
          2.522042410871328,
          2.2693293945941617,
          1.8825195025684687,
          1.772271252957087,
          1.5577761049320065,
          1.5273748861796648,
          1.4918999436900662,
          1.239643059591093,
          0.9910344688007383,
          1.4983935750200845,
          1.660711046003078,
          1.5312579434656506,
          1.519046276006273,
          1.4287750568394262,
          1.2156376979208983,
          1.1191611781466624,
          1.161308028480907,
          0.8749656982766868,
          0.7393972786840065,
          0.7041630321032549,
          0.46647573721439844,
          0.44853874369916824,
          0.38456074242060106,
          0.451551000784761,
          0.30876598911224323,
          0.42065178803888453,
          0.4608453847280055,
          0.426455205361112,
          0.49652752042373605
         ],
         "yaxis": "y"
        },
        {
         "hovertemplate": "Parameters=(16,)_(True,)_(False,)_(True,)_False<br>Time=%{x}<br>Cumulative Return=%{y}<extra></extra>",
         "legendgroup": "(16,)_(True,)_(False,)_(True,)_False",
         "line": {
          "color": "#ab63fa",
          "dash": "solid"
         },
         "marker": {
          "symbol": "circle"
         },
         "mode": "lines",
         "name": "(16,)_(True,)_(False,)_(True,)_False",
         "showlegend": true,
         "type": "scattergl",
         "x": [
          0,
          1,
          2,
          3,
          4,
          5,
          6,
          7,
          8,
          9,
          10,
          11,
          12,
          13,
          14,
          15,
          16,
          17,
          18,
          19,
          20,
          21,
          22,
          23,
          24,
          25,
          26,
          27,
          28,
          29
         ],
         "xaxis": "x",
         "y": [
          2,
          2.5778581435420715,
          2.4604016758726988,
          2.0372515103702873,
          1.708231973837878,
          1.4941091688108097,
          1.4633965224943495,
          1.4184545568783342,
          1.1840571106627413,
          0.9575255955776584,
          1.4965311743135572,
          1.6635959936639608,
          1.686671004175717,
          1.6665527549844057,
          1.5534500428276987,
          1.2837622672210165,
          1.3016212916098078,
          1.337441786851767,
          1.074912384478497,
          0.6974038319415637,
          0.8087752446924814,
          0.6767823952996339,
          0.6356554657172402,
          0.5619311344699168,
          0.6877927889256477,
          0.5184770033329675,
          0.6228259730617383,
          0.6927703978921615,
          0.6225449319530756,
          0.7174594685839892
         ],
         "yaxis": "y"
        },
        {
         "hovertemplate": "Parameters=(16,)_(True,)_(False,)_(False,)_True<br>Time=%{x}<br>Cumulative Return=%{y}<extra></extra>",
         "legendgroup": "(16,)_(True,)_(False,)_(False,)_True",
         "line": {
          "color": "#FFA15A",
          "dash": "solid"
         },
         "marker": {
          "symbol": "circle"
         },
         "mode": "lines",
         "name": "(16,)_(True,)_(False,)_(False,)_True",
         "showlegend": true,
         "type": "scattergl",
         "x": [
          0,
          1,
          2,
          3,
          4,
          5,
          6,
          7,
          8,
          9,
          10,
          11,
          12,
          13,
          14,
          15,
          16,
          17,
          18,
          19,
          20,
          21,
          22,
          23,
          24,
          25,
          26,
          27,
          28,
          29
         ],
         "xaxis": "x",
         "y": [
          2,
          2.147866545919668,
          1.9326465991652235,
          1.8284572031500634,
          2.1402463381498436,
          2.280581039870709,
          2.292099719409441,
          2.10955573715186,
          1.9621262085694708,
          1.814907278540775,
          2.2375216302169396,
          2.4799071144724296,
          2.6770821126298143,
          2.7659754008036757,
          2.6683427326096236,
          1.8569918979084366,
          1.6716579829761986,
          1.8113915452906657,
          1.3756311242492891,
          1.2646190895263782,
          0.8441077831145686,
          0.7515501399044802,
          0.8686383270769619,
          0.8744460228897034,
          0.748932112803496,
          0.7626114728603006,
          1.0119020545395412,
          1.1085900616407864,
          0.9649109804106332,
          0.8976865597492705
         ],
         "yaxis": "y"
        },
        {
         "hovertemplate": "Parameters=(16,)_(True,)_(False,)_(False,)_False<br>Time=%{x}<br>Cumulative Return=%{y}<extra></extra>",
         "legendgroup": "(16,)_(True,)_(False,)_(False,)_False",
         "line": {
          "color": "#19d3f3",
          "dash": "solid"
         },
         "marker": {
          "symbol": "circle"
         },
         "mode": "lines",
         "name": "(16,)_(True,)_(False,)_(False,)_False",
         "showlegend": true,
         "type": "scattergl",
         "x": [
          0,
          1,
          2,
          3,
          4,
          5,
          6,
          7,
          8,
          9,
          10,
          11,
          12,
          13,
          14,
          15,
          16,
          17,
          18,
          19,
          20,
          21,
          22,
          23,
          24,
          25,
          26,
          27,
          28,
          29
         ],
         "xaxis": "x",
         "y": [
          2,
          2.228016490550502,
          2.1265000639989635,
          2.0067298611060918,
          2.1627833469289808,
          2.2668134196466827,
          2.2730725363689674,
          2.130729709189658,
          1.960980413765355,
          1.850082544810066,
          2.2484227271708006,
          2.499424739815429,
          2.7318454916118564,
          2.825341835312652,
          2.647229190609853,
          1.7478558759826595,
          1.7346960102052897,
          1.831345920251037,
          1.231815492638965,
          0.9178929407129469,
          0.823220834691696,
          0.8662266792203387,
          0.9764651556373976,
          1.0059180579777738,
          0.9176170983936671,
          0.9847516977698245,
          1.142705840631505,
          1.2710336661080657,
          1.1079008500535796,
          1.0294664069058033
         ],
         "yaxis": "y"
        },
        {
         "hovertemplate": "Parameters=(24,)_(True,)_(True,)_(True,)_True<br>Time=%{x}<br>Cumulative Return=%{y}<extra></extra>",
         "legendgroup": "(24,)_(True,)_(True,)_(True,)_True",
         "line": {
          "color": "#FF6692",
          "dash": "solid"
         },
         "marker": {
          "symbol": "circle"
         },
         "mode": "lines",
         "name": "(24,)_(True,)_(True,)_(True,)_True",
         "showlegend": true,
         "type": "scattergl",
         "x": [
          0,
          1,
          2,
          3,
          4,
          5,
          6,
          7,
          8,
          9,
          10,
          11,
          12,
          13,
          14,
          15,
          16,
          17,
          18,
          19,
          20,
          21,
          22,
          23,
          24,
          25,
          26,
          27,
          28,
          29
         ],
         "xaxis": "x",
         "y": [
          2,
          1.5014070364937753,
          1.6223499127018113,
          1.91271230712742,
          2.1603892674258858,
          2.419737597486436,
          2.571733449707058,
          2.565479215116751,
          2.8655755986101283,
          3.335116343230915,
          1.7282011578611738,
          1.7126753126950467,
          1.786841039176244,
          1.8369201916823676,
          1.9931746947661693,
          2.5391589702568393,
          2.683716768374681,
          2.806324378419478,
          3.131446395916052,
          3.716517673882513,
          3.858165320072914,
          5.441913213594879,
          5.533400290139237,
          5.984931732654285,
          5.011898466969432,
          6.622961960108332,
          4.491654608929677,
          4.167654479490603,
          4.672253313081335,
          3.9301524312833602
         ],
         "yaxis": "y"
        },
        {
         "hovertemplate": "Parameters=(24,)_(True,)_(True,)_(True,)_False<br>Time=%{x}<br>Cumulative Return=%{y}<extra></extra>",
         "legendgroup": "(24,)_(True,)_(True,)_(True,)_False",
         "line": {
          "color": "#B6E880",
          "dash": "solid"
         },
         "marker": {
          "symbol": "circle"
         },
         "mode": "lines",
         "name": "(24,)_(True,)_(True,)_(True,)_False",
         "showlegend": true,
         "type": "scattergl",
         "x": [
          0,
          1,
          2,
          3,
          4,
          5,
          6,
          7,
          8,
          9,
          10,
          11,
          12,
          13,
          14,
          15,
          16,
          17,
          18,
          19,
          20,
          21,
          22,
          23,
          24,
          25,
          26,
          27,
          28,
          29
         ],
         "xaxis": "x",
         "y": [
          2,
          1.4440807689814408,
          1.5089229878818688,
          1.7837991325159783,
          2.1137519935303555,
          2.402142637941073,
          2.5107415062267657,
          2.488652904499746,
          2.743804759374978,
          3.115603390828792,
          1.5777817161627812,
          1.5812476256189727,
          1.5556864009896019,
          1.599211582927098,
          1.7622008699704785,
          2.271991722083684,
          2.2768681260265633,
          2.3712581653737943,
          2.7112299842438046,
          3.594494747102981,
          3.1676201238867567,
          3.9430169442125904,
          4.139771584135676,
          4.431036305356076,
          3.492309906831609,
          4.440487967898003,
          3.551613902760946,
          3.281918694689952,
          3.716844934520878,
          3.1532617793454403
         ],
         "yaxis": "y"
        },
        {
         "hovertemplate": "Parameters=(24,)_(True,)_(True,)_(False,)_True<br>Time=%{x}<br>Cumulative Return=%{y}<extra></extra>",
         "legendgroup": "(24,)_(True,)_(True,)_(False,)_True",
         "line": {
          "color": "#FF97FF",
          "dash": "solid"
         },
         "marker": {
          "symbol": "circle"
         },
         "mode": "lines",
         "name": "(24,)_(True,)_(True,)_(False,)_True",
         "showlegend": true,
         "type": "scattergl",
         "x": [
          0,
          1,
          2,
          3,
          4,
          5,
          6,
          7,
          8,
          9,
          10,
          11,
          12,
          13,
          14,
          15,
          16,
          17,
          18,
          19,
          20,
          21,
          22,
          23,
          24,
          25,
          26,
          27,
          28,
          29
         ],
         "xaxis": "x",
         "y": [
          2,
          1.8459881215648946,
          1.9946880459966485,
          2.0524307910290576,
          1.49849567354424,
          1.4194954284845558,
          1.4518759527536222,
          1.6685175234601517,
          1.7537149607789757,
          1.8963135042468902,
          1.464362653826631,
          1.4512070858379436,
          1.4772447497744274,
          1.4443856990909687,
          1.494711879249145,
          1.840721010888048,
          1.9898224089668761,
          1.8527494425008324,
          2.1666160390956817,
          2.2007543877011324,
          2.786409303313683,
          3.1519561346966527,
          2.7493829626429744,
          2.55904768664322,
          2.744510645498971,
          2.6621501431458836,
          2.0629185622836146,
          1.914112400769466,
          2.096270708218787,
          2.176573422154192
         ],
         "yaxis": "y"
        },
        {
         "hovertemplate": "Parameters=(24,)_(True,)_(True,)_(False,)_False<br>Time=%{x}<br>Cumulative Return=%{y}<extra></extra>",
         "legendgroup": "(24,)_(True,)_(True,)_(False,)_False",
         "line": {
          "color": "#FECB52",
          "dash": "solid"
         },
         "marker": {
          "symbol": "circle"
         },
         "mode": "lines",
         "name": "(24,)_(True,)_(True,)_(False,)_False",
         "showlegend": true,
         "type": "scattergl",
         "x": [
          0,
          1,
          2,
          3,
          4,
          5,
          6,
          7,
          8,
          9,
          10,
          11,
          12,
          13,
          14,
          15,
          16,
          17,
          18,
          19,
          20,
          21,
          22,
          23,
          24,
          25,
          26,
          27,
          28,
          29
         ],
         "xaxis": "x",
         "y": [
          2,
          1.792891604560016,
          1.873396152771415,
          1.932791345352567,
          1.54574872712281,
          1.4718214613905443,
          1.475842206432233,
          1.6836168420343163,
          1.7473747144868654,
          1.8112064065703155,
          1.3958065282506573,
          1.3988726932313513,
          1.3757461905787367,
          1.3471314498909879,
          1.4249853493199085,
          1.797720494289848,
          1.8365596564845104,
          1.742196269421088,
          2.1087522579154534,
          2.4125382831496265,
          2.6991761015704183,
          2.7436411224080333,
          2.4294766403422727,
          2.1948056184855185,
          2.2483855408916753,
          2.1065919598549296,
          1.8609120147504512,
          1.7196018761034022,
          1.8884235516830956,
          1.967422621757821
         ],
         "yaxis": "y"
        },
        {
         "hovertemplate": "Parameters=(24,)_(True,)_(False,)_(True,)_True<br>Time=%{x}<br>Cumulative Return=%{y}<extra></extra>",
         "legendgroup": "(24,)_(True,)_(False,)_(True,)_True",
         "line": {
          "color": "#636efa",
          "dash": "solid"
         },
         "marker": {
          "symbol": "circle"
         },
         "mode": "lines",
         "name": "(24,)_(True,)_(False,)_(True,)_True",
         "showlegend": true,
         "type": "scattergl",
         "x": [
          0,
          1,
          2,
          3,
          4,
          5,
          6,
          7,
          8,
          9,
          10,
          11,
          12,
          13,
          14,
          15,
          16,
          17,
          18,
          19,
          20,
          21,
          22,
          23,
          24,
          25,
          26,
          27,
          28,
          29
         ],
         "xaxis": "x",
         "y": [
          2,
          2.4985929635062245,
          2.297323745942613,
          1.886156944983003,
          1.6419186363578937,
          1.444811169266052,
          1.3540553347497029,
          1.3573482808801605,
          1.1985727554995924,
          1.0021798408012583,
          1.4850469551445225,
          1.4983883471376496,
          1.4335021077595897,
          1.3933258586706176,
          1.2748049557668322,
          0.9256015156499467,
          0.8729057535475215,
          0.8330264005926898,
          0.7365175201256573,
          0.5989085074640976,
          0.5760823062161233,
          0.3396048452275366,
          0.3338955563707151,
          0.3066493181966755,
          0.3565045213691626,
          0.24190694456228248,
          0.3197539943192053,
          0.34281906600617784,
          0.3013122420382454,
          0.34917010965151496
         ],
         "yaxis": "y"
        },
        {
         "hovertemplate": "Parameters=(24,)_(True,)_(False,)_(True,)_False<br>Time=%{x}<br>Cumulative Return=%{y}<extra></extra>",
         "legendgroup": "(24,)_(True,)_(False,)_(True,)_False",
         "line": {
          "color": "#EF553B",
          "dash": "solid"
         },
         "marker": {
          "symbol": "circle"
         },
         "mode": "lines",
         "name": "(24,)_(True,)_(False,)_(True,)_False",
         "showlegend": true,
         "type": "scattergl",
         "x": [
          0,
          1,
          2,
          3,
          4,
          5,
          6,
          7,
          8,
          9,
          10,
          11,
          12,
          13,
          14,
          15,
          16,
          17,
          18,
          19,
          20,
          21,
          22,
          23,
          24,
          25,
          26,
          27,
          28,
          29
         ],
         "xaxis": "x",
         "y": [
          2,
          2.5559192310185592,
          2.441153161260276,
          1.9964553371715057,
          1.6271670364994228,
          1.4051638158490212,
          1.3416375298795893,
          1.3534407748516573,
          1.2146777824139519,
          1.0500831494992773,
          1.568390656884538,
          1.5649453767465993,
          1.5902430718448335,
          1.5457510591982875,
          1.3882103899241556,
          0.9866120422830629,
          0.9844944646500471,
          0.9436811781038393,
          0.8083838025425483,
          0.5450284502480467,
          0.6097548807232257,
          0.4604939285889762,
          0.43751550410128115,
          0.4067329286036361,
          0.492900342029674,
          0.35907565204714376,
          0.43095357105836696,
          0.4636784438057038,
          0.4022308758384169,
          0.4632209225332803
         ],
         "yaxis": "y"
        },
        {
         "hovertemplate": "Parameters=(24,)_(True,)_(False,)_(False,)_True<br>Time=%{x}<br>Cumulative Return=%{y}<extra></extra>",
         "legendgroup": "(24,)_(True,)_(False,)_(False,)_True",
         "line": {
          "color": "#00cc96",
          "dash": "solid"
         },
         "marker": {
          "symbol": "circle"
         },
         "mode": "lines",
         "name": "(24,)_(True,)_(False,)_(False,)_True",
         "showlegend": true,
         "type": "scattergl",
         "x": [
          0,
          1,
          2,
          3,
          4,
          5,
          6,
          7,
          8,
          9,
          10,
          11,
          12,
          13,
          14,
          15,
          16,
          17,
          18,
          19,
          20,
          21,
          22,
          23,
          24,
          25,
          26,
          27,
          28,
          29
         ],
         "xaxis": "x",
         "y": [
          2,
          2.1540118784351057,
          1.980499709095212,
          1.923167691706044,
          2.442215703412233,
          2.570968587030405,
          2.5123214726707466,
          2.137445596445326,
          2.0283038675362404,
          1.8633778768880613,
          2.28782650142905,
          2.308379918990759,
          2.2669627972340085,
          2.317387918367932,
          2.2366440547658732,
          1.7188858982149156,
          1.579653342577285,
          1.6884709781005938,
          1.4024341146214825,
          1.3803366207244525,
          1.0130076122512566,
          0.8801119452776713,
          0.9925213324745729,
          1.0612319574835352,
          0.9843208393771935,
          1.013859496456434,
          1.2420722553791452,
          1.3316676509635403,
          1.204938246103608,
          1.1587801755322245
         ],
         "yaxis": "y"
        },
        {
         "hovertemplate": "Parameters=(24,)_(True,)_(False,)_(False,)_False<br>Time=%{x}<br>Cumulative Return=%{y}<extra></extra>",
         "legendgroup": "(24,)_(True,)_(False,)_(False,)_False",
         "line": {
          "color": "#ab63fa",
          "dash": "solid"
         },
         "marker": {
          "symbol": "circle"
         },
         "mode": "lines",
         "name": "(24,)_(True,)_(False,)_(False,)_False",
         "showlegend": true,
         "type": "scattergl",
         "x": [
          0,
          1,
          2,
          3,
          4,
          5,
          6,
          7,
          8,
          9,
          10,
          11,
          12,
          13,
          14,
          15,
          16,
          17,
          18,
          19,
          20,
          21,
          22,
          23,
          24,
          25,
          26,
          27,
          28,
          29
         ],
         "xaxis": "x",
         "y": [
          2,
          2.207108395439984,
          2.108004654992672,
          2.0411713040967436,
          2.4499170736246696,
          2.567087262637852,
          2.560074453235629,
          2.1996575100712787,
          2.1163573912645806,
          2.039046742199017,
          2.50670176236951,
          2.501195296390694,
          2.5425456636804213,
          2.595429171809468,
          2.445433206877247,
          1.805778278975905,
          1.7667650309835081,
          1.857542334013208,
          1.4667176730003613,
          1.2554228988755198,
          1.1062639473087945,
          1.0880398494293089,
          1.2126273812938466,
          1.3297589897951805,
          1.2972967148255736,
          1.379110239915836,
          1.5399480929468898,
          1.656885528354208,
          1.4942210215124612,
          1.4317127610746037
         ],
         "yaxis": "y"
        },
        {
         "hovertemplate": "Parameters=(32,)_(True,)_(True,)_(True,)_True<br>Time=%{x}<br>Cumulative Return=%{y}<extra></extra>",
         "legendgroup": "(32,)_(True,)_(True,)_(True,)_True",
         "line": {
          "color": "#FFA15A",
          "dash": "solid"
         },
         "marker": {
          "symbol": "circle"
         },
         "mode": "lines",
         "name": "(32,)_(True,)_(True,)_(True,)_True",
         "showlegend": true,
         "type": "scattergl",
         "x": [
          0,
          1,
          2,
          3,
          4,
          5,
          6,
          7,
          8,
          9,
          10,
          11,
          12,
          13,
          14,
          15,
          16,
          17,
          18,
          19,
          20,
          21,
          22,
          23,
          24,
          25,
          26,
          27,
          28,
          29
         ],
         "xaxis": "x",
         "y": [
          2,
          1.5415116939193887,
          1.6933171497423938,
          1.948987974653453,
          2.1859312505209036,
          2.297626160299299,
          2.406891103229032,
          2.482813277769802,
          2.8953355040805833,
          3.38473619626012,
          1.9533567689005957,
          1.9951619394722535,
          2.0693123934784348,
          2.113528883586024,
          2.283565923479776,
          2.793267338095568,
          2.90548259084062,
          3.074077840652271,
          3.319542169937514,
          3.8780653341147118,
          4.026042425768313,
          5.679369199087709,
          5.737410183039277,
          6.505429366647655,
          4.910713517556285,
          6.519498961015688,
          4.89601192532976,
          4.4603660671323695,
          4.910502949335066,
          4.104688688977173
         ],
         "yaxis": "y"
        },
        {
         "hovertemplate": "Parameters=(32,)_(True,)_(True,)_(True,)_False<br>Time=%{x}<br>Cumulative Return=%{y}<extra></extra>",
         "legendgroup": "(32,)_(True,)_(True,)_(True,)_False",
         "line": {
          "color": "#19d3f3",
          "dash": "solid"
         },
         "marker": {
          "symbol": "circle"
         },
         "mode": "lines",
         "name": "(32,)_(True,)_(True,)_(True,)_False",
         "showlegend": true,
         "type": "scattergl",
         "x": [
          0,
          1,
          2,
          3,
          4,
          5,
          6,
          7,
          8,
          9,
          10,
          11,
          12,
          13,
          14,
          15,
          16,
          17,
          18,
          19,
          20,
          21,
          22,
          23,
          24,
          25,
          26,
          27,
          28,
          29
         ],
         "xaxis": "x",
         "y": [
          2,
          1.496497487485829,
          1.5843364569232474,
          1.8109156855462487,
          2.1291358662167883,
          2.3033620666766357,
          2.351386052170184,
          2.405363006892307,
          2.758094308496035,
          3.1217628088421034,
          1.7322757471171513,
          1.777425148466393,
          1.773311542852342,
          1.8056625642493038,
          1.988696817890272,
          2.47118001392641,
          2.4698419902241264,
          2.6089826630349973,
          2.9023204123246162,
          3.704617369145615,
          3.3513294103475717,
          4.379765954303015,
          4.505364534993884,
          4.957771427616939,
          3.5562390983752197,
          4.587878600891394,
          3.86497689216524,
          3.5318801004361298,
          3.9063793945688374,
          3.2810758376626663
         ],
         "yaxis": "y"
        },
        {
         "hovertemplate": "Parameters=(32,)_(True,)_(True,)_(False,)_True<br>Time=%{x}<br>Cumulative Return=%{y}<extra></extra>",
         "legendgroup": "(32,)_(True,)_(True,)_(False,)_True",
         "line": {
          "color": "#FF6692",
          "dash": "solid"
         },
         "marker": {
          "symbol": "circle"
         },
         "mode": "lines",
         "name": "(32,)_(True,)_(True,)_(False,)_True",
         "showlegend": true,
         "type": "scattergl",
         "x": [
          0,
          1,
          2,
          3,
          4,
          5,
          6,
          7,
          8,
          9,
          10,
          11,
          12,
          13,
          14,
          15,
          16,
          17,
          18,
          19,
          20,
          21,
          22,
          23,
          24,
          25,
          26,
          27,
          28,
          29
         ],
         "xaxis": "x",
         "y": [
          2,
          1.876323243924054,
          2.0611003730491513,
          2.0300916046181636,
          1.474856865079993,
          1.4519655117473458,
          1.5031398742666335,
          1.6907562296756289,
          1.767456204793646,
          1.9083354204386536,
          1.5403708340082087,
          1.5733374003234668,
          1.5872015336048013,
          1.6027604869521241,
          1.6197441781041242,
          1.98015598973264,
          2.067128030748378,
          2.0172102668313943,
          2.2740480963828182,
          2.3618921416687244,
          2.812592538383258,
          3.223267504580287,
          2.789328588767172,
          2.6458795446145724,
          3.054832487139129,
          3.0112990168846365,
          2.473981314461233,
          2.253847105366107,
          2.472207351554962,
          2.5546307116036298
         ],
         "yaxis": "y"
        },
        {
         "hovertemplate": "Parameters=(32,)_(True,)_(True,)_(False,)_False<br>Time=%{x}<br>Cumulative Return=%{y}<extra></extra>",
         "legendgroup": "(32,)_(True,)_(True,)_(False,)_False",
         "line": {
          "color": "#B6E880",
          "dash": "solid"
         },
         "marker": {
          "symbol": "circle"
         },
         "mode": "lines",
         "name": "(32,)_(True,)_(True,)_(False,)_False",
         "showlegend": true,
         "type": "scattergl",
         "x": [
          0,
          1,
          2,
          3,
          4,
          5,
          6,
          7,
          8,
          9,
          10,
          11,
          12,
          13,
          14,
          15,
          16,
          17,
          18,
          19,
          20,
          21,
          22,
          23,
          24,
          25,
          26,
          27,
          28,
          29
         ],
         "xaxis": "x",
         "y": [
          2,
          1.8268677591747917,
          1.9340982641413957,
          1.8874632232440507,
          1.4592533079867975,
          1.4503356035139605,
          1.4460805853073018,
          1.6158246317929208,
          1.6556793132086425,
          1.7257664080900499,
          1.37546044341659,
          1.4113099412249905,
          1.4005671833509252,
          1.3968052805461548,
          1.4389543864770653,
          1.7830537071707175,
          1.7941025551560106,
          1.7381232794301258,
          2.014698419430614,
          2.3088574178329653,
          2.58950997525164,
          2.7499680668055926,
          2.4632093632685415,
          2.30809217446504,
          2.505117067392415,
          2.412364255342551,
          2.1762486760563697,
          1.988692198430705,
          2.1779685793578265,
          2.255468028373891
         ],
         "yaxis": "y"
        },
        {
         "hovertemplate": "Parameters=(32,)_(True,)_(False,)_(True,)_True<br>Time=%{x}<br>Cumulative Return=%{y}<extra></extra>",
         "legendgroup": "(32,)_(True,)_(False,)_(True,)_True",
         "line": {
          "color": "#FF97FF",
          "dash": "solid"
         },
         "marker": {
          "symbol": "circle"
         },
         "mode": "lines",
         "name": "(32,)_(True,)_(False,)_(True,)_True",
         "showlegend": true,
         "type": "scattergl",
         "x": [
          0,
          1,
          2,
          3,
          4,
          5,
          6,
          7,
          8,
          9,
          10,
          11,
          12,
          13,
          14,
          15,
          16,
          17,
          18,
          19,
          20,
          21,
          22,
          23,
          24,
          25,
          26,
          27,
          28,
          29
         ],
         "xaxis": "x",
         "y": [
          2,
          2.4584883060806115,
          2.2163805495113564,
          1.881733349194155,
          1.6529663840483741,
          1.5685044728656659,
          1.4939133341181974,
          1.446789827471161,
          1.2064040658933504,
          1.0024846983228899,
          1.4264279217290743,
          1.395899928315141,
          1.3440211252044811,
          1.3153024566388816,
          1.2094841079857093,
          0.9395222231734554,
          0.9017783515808125,
          0.8494512280458825,
          0.7816227647599411,
          0.6501123342794422,
          0.6253057041207043,
          0.3685188765614283,
          0.3647527544005751,
          0.31592634950420423,
          0.393371315594053,
          0.2645000132589267,
          0.33036586353858133,
          0.3597617315093673,
          0.32345484061294705,
          0.3765338278036576
         ],
         "yaxis": "y"
        },
        {
         "hovertemplate": "Parameters=(32,)_(True,)_(False,)_(True,)_False<br>Time=%{x}<br>Cumulative Return=%{y}<extra></extra>",
         "legendgroup": "(32,)_(True,)_(False,)_(True,)_False",
         "line": {
          "color": "#FECB52",
          "dash": "solid"
         },
         "marker": {
          "symbol": "circle"
         },
         "mode": "lines",
         "name": "(32,)_(True,)_(False,)_(True,)_False",
         "showlegend": true,
         "type": "scattergl",
         "x": [
          0,
          1,
          2,
          3,
          4,
          5,
          6,
          7,
          8,
          9,
          10,
          11,
          12,
          13,
          14,
          15,
          16,
          17,
          18,
          19,
          20,
          21,
          22,
          23,
          24,
          25,
          26,
          27,
          28,
          29
         ],
         "xaxis": "x",
         "y": [
          2,
          2.503502512514171,
          2.3565560040688545,
          2.019540063246702,
          1.6646597069015059,
          1.528441375138867,
          1.4965741114162712,
          1.4622196875752085,
          1.2477944003519847,
          1.0832664808684511,
          1.5654250725794345,
          1.5246244061718621,
          1.5281529392985365,
          1.5002744152815113,
          1.3481963840399123,
          1.0211067571022014,
          1.0216596367126973,
          0.9641035623571008,
          0.8557057668980275,
          0.6191605082142734,
          0.6782062693061475,
          0.47008226050517704,
          0.45660170804108974,
          0.41075197528433083,
          0.5268691019138655,
          0.3740281474240797,
          0.43296292107567785,
          0.4702771312176118,
          0.42041177659642787,
          0.48770810209837123
         ],
         "yaxis": "y"
        },
        {
         "hovertemplate": "Parameters=(32,)_(True,)_(False,)_(False,)_True<br>Time=%{x}<br>Cumulative Return=%{y}<extra></extra>",
         "legendgroup": "(32,)_(True,)_(False,)_(False,)_True",
         "line": {
          "color": "#636efa",
          "dash": "solid"
         },
         "marker": {
          "symbol": "circle"
         },
         "mode": "lines",
         "name": "(32,)_(True,)_(False,)_(False,)_True",
         "showlegend": true,
         "type": "scattergl",
         "x": [
          0,
          1,
          2,
          3,
          4,
          5,
          6,
          7,
          8,
          9,
          10,
          11,
          12,
          13,
          14,
          15,
          16,
          17,
          18,
          19,
          20,
          21,
          22,
          23,
          24,
          25,
          26,
          27,
          28,
          29
         ],
         "xaxis": "x",
         "y": [
          2,
          2.123676756075946,
          1.9145406728087835,
          1.9433444851563633,
          2.474853687299822,
          2.5132660590654794,
          2.4246862771261277,
          2.1220459107087604,
          2.0257807805297765,
          1.8643112025816844,
          2.223787054304821,
          2.176194213815891,
          2.157017750699836,
          2.1358730265788455,
          2.113240195211581,
          1.6430198125991342,
          1.5708554036980273,
          1.608788994662457,
          1.4039527014958708,
          1.3497195105243849,
          1.0921636686996619,
          0.9326936169222085,
          1.0582593840631327,
          1.1126833403229688,
          0.9407045640973807,
          0.9541102530612785,
          1.1243558268681189,
          1.2244007137241097,
          1.1057766772284408,
          1.0689100975933252
         ],
         "yaxis": "y"
        },
        {
         "hovertemplate": "Parameters=(32,)_(True,)_(False,)_(False,)_False<br>Time=%{x}<br>Cumulative Return=%{y}<extra></extra>",
         "legendgroup": "(32,)_(True,)_(False,)_(False,)_False",
         "line": {
          "color": "#EF553B",
          "dash": "solid"
         },
         "marker": {
          "symbol": "circle"
         },
         "mode": "lines",
         "name": "(32,)_(True,)_(False,)_(False,)_False",
         "showlegend": true,
         "type": "scattergl",
         "x": [
          0,
          1,
          2,
          3,
          4,
          5,
          6,
          7,
          8,
          9,
          10,
          11,
          12,
          13,
          14,
          15,
          16,
          17,
          18,
          19,
          20,
          21,
          22,
          23,
          24,
          25,
          26,
          27,
          28,
          29
         ],
         "xaxis": "x",
         "y": [
          2,
          2.1731322408252085,
          2.045577267909077,
          2.094900294208347,
          2.5701715823627973,
          2.5858782663843782,
          2.593464758143258,
          2.2890382919159054,
          2.232578642720269,
          2.1380706363000543,
          2.5720684782316297,
          2.505031026362507,
          2.524099085756941,
          2.530878778686422,
          2.4545085936457145,
          1.867558272184859,
          1.8559857842838698,
          1.913895929756415,
          1.6093513436599114,
          1.3743756397219147,
          1.2073137695680134,
          1.1325029886777538,
          1.2505971195533567,
          1.3293517363568021,
          1.2158747329614656,
          1.2608929087786709,
          1.3843056392213373,
          1.5036097851612167,
          1.3605017573394653,
          1.3120905279128754
         ],
         "yaxis": "y"
        },
        {
         "hovertemplate": "Parameters=(40,)_(True,)_(True,)_(True,)_True<br>Time=%{x}<br>Cumulative Return=%{y}<extra></extra>",
         "legendgroup": "(40,)_(True,)_(True,)_(True,)_True",
         "line": {
          "color": "#00cc96",
          "dash": "solid"
         },
         "marker": {
          "symbol": "circle"
         },
         "mode": "lines",
         "name": "(40,)_(True,)_(True,)_(True,)_True",
         "showlegend": true,
         "type": "scattergl",
         "x": [
          0,
          1,
          2,
          3,
          4,
          5,
          6,
          7,
          8,
          9,
          10,
          11,
          12,
          13,
          14,
          15,
          16,
          17,
          18,
          19,
          20,
          21,
          22,
          23,
          24,
          25,
          26,
          27,
          28,
          29
         ],
         "xaxis": "x",
         "y": [
          2,
          1.5539104594323208,
          1.6942611940594872,
          1.9168074073741859,
          2.3846589992371725,
          2.5638382690526136,
          2.5906195933795546,
          2.5042952671908756,
          2.824273354848172,
          3.238789766037577,
          1.8447679875381324,
          1.8921929125514811,
          1.915878816266853,
          1.9162019746421513,
          2.0452946558290828,
          2.509323231085829,
          2.654609459061709,
          2.8451996751439825,
          3.00780860399035,
          3.5033182243838454,
          3.4564917157928314,
          4.7041984419427045,
          4.874362035489643,
          5.6988007893380095,
          3.9465851548490103,
          5.290255928476565,
          4.251542469137046,
          4.054492066151612,
          4.52430018695075,
          3.758710605774316
         ],
         "yaxis": "y"
        },
        {
         "hovertemplate": "Parameters=(40,)_(True,)_(True,)_(True,)_False<br>Time=%{x}<br>Cumulative Return=%{y}<extra></extra>",
         "legendgroup": "(40,)_(True,)_(True,)_(True,)_False",
         "line": {
          "color": "#ab63fa",
          "dash": "solid"
         },
         "marker": {
          "symbol": "circle"
         },
         "mode": "lines",
         "name": "(40,)_(True,)_(True,)_(True,)_False",
         "showlegend": true,
         "type": "scattergl",
         "x": [
          0,
          1,
          2,
          3,
          4,
          5,
          6,
          7,
          8,
          9,
          10,
          11,
          12,
          13,
          14,
          15,
          16,
          17,
          18,
          19,
          20,
          21,
          22,
          23,
          24,
          25,
          26,
          27,
          28,
          29
         ],
         "xaxis": "x",
         "y": [
          2,
          1.518077289675115,
          1.5924101372772033,
          1.7928690355429424,
          2.280014213461239,
          2.4899733758549063,
          2.435571770816806,
          2.3111120260730056,
          2.5551284054711636,
          2.8583968332621583,
          1.5478206724658286,
          1.5979017779998412,
          1.572295708837603,
          1.585059790179611,
          1.7162195585994886,
          2.1223774952996606,
          2.180542973981573,
          2.32304543366615,
          2.515271202043863,
          3.1561345567403514,
          2.75611684240585,
          3.5736581303915957,
          3.781975998013002,
          4.369830352101825,
          2.916742221939787,
          3.834319418562821,
          3.3887369344265035,
          3.244588398929796,
          3.622278561746235,
          3.020850294245978
         ],
         "yaxis": "y"
        },
        {
         "hovertemplate": "Parameters=(40,)_(True,)_(True,)_(False,)_True<br>Time=%{x}<br>Cumulative Return=%{y}<extra></extra>",
         "legendgroup": "(40,)_(True,)_(True,)_(False,)_True",
         "line": {
          "color": "#FFA15A",
          "dash": "solid"
         },
         "marker": {
          "symbol": "circle"
         },
         "mode": "lines",
         "name": "(40,)_(True,)_(True,)_(False,)_True",
         "showlegend": true,
         "type": "scattergl",
         "x": [
          0,
          1,
          2,
          3,
          4,
          5,
          6,
          7,
          8,
          9,
          10,
          11,
          12,
          13,
          14,
          15,
          16,
          17,
          18,
          19,
          20,
          21,
          22,
          23,
          24,
          25,
          26,
          27,
          28,
          29
         ],
         "xaxis": "x",
         "y": [
          2,
          1.8686520160557518,
          2.037430520392335,
          2.0115992066386164,
          1.6134705241981384,
          1.7044054238388318,
          1.798054148939339,
          1.9375007351025646,
          2.101511168754382,
          2.280750469224145,
          2.0393199822258694,
          2.0917464108546273,
          2.1189672421869297,
          2.1422942662751514,
          2.178840192809851,
          2.5476528061305794,
          2.551065705675318,
          2.503401880363223,
          2.7631569195575745,
          2.8708716259252367,
          3.3814292346575354,
          3.773674479425079,
          3.286258301576584,
          3.108134708076262,
          3.5300781660235696,
          3.4134232268446465,
          2.856511121338895,
          2.724117602591697,
          2.902418566394322,
          2.9529360887420273
         ],
         "yaxis": "y"
        },
        {
         "hovertemplate": "Parameters=(40,)_(True,)_(True,)_(False,)_False<br>Time=%{x}<br>Cumulative Return=%{y}<extra></extra>",
         "legendgroup": "(40,)_(True,)_(True,)_(False,)_False",
         "line": {
          "color": "#19d3f3",
          "dash": "solid"
         },
         "marker": {
          "symbol": "circle"
         },
         "mode": "lines",
         "name": "(40,)_(True,)_(True,)_(False,)_False",
         "showlegend": true,
         "type": "scattergl",
         "x": [
          0,
          1,
          2,
          3,
          4,
          5,
          6,
          7,
          8,
          9,
          10,
          11,
          12,
          13,
          14,
          15,
          16,
          17,
          18,
          19,
          20,
          21,
          22,
          23,
          24,
          25,
          26,
          27,
          28,
          29
         ],
         "xaxis": "x",
         "y": [
          2,
          1.8196742835587898,
          1.9087748663322548,
          1.8601498417778175,
          1.600077483938619,
          1.6758435218264374,
          1.7082430924573135,
          1.8366691596994642,
          1.978244099731571,
          2.0770172854533384,
          1.8701924482500094,
          1.9307041774418097,
          1.9338055267517507,
          1.9238669790016556,
          1.9869379700918903,
          2.3448384417381924,
          2.2556211893442843,
          2.2035345458432327,
          2.4709649625146732,
          2.788261490302318,
          3.134452387105939,
          3.260375265723036,
          2.87315125553752,
          2.6538301361445864,
          2.883481887114839,
          2.739575611030809,
          2.475325360282676,
          2.370031106858135,
          2.5186058611261752,
          2.573078255312385
         ],
         "yaxis": "y"
        },
        {
         "hovertemplate": "Parameters=(40,)_(True,)_(False,)_(True,)_True<br>Time=%{x}<br>Cumulative Return=%{y}<extra></extra>",
         "legendgroup": "(40,)_(True,)_(False,)_(True,)_True",
         "line": {
          "color": "#FF6692",
          "dash": "solid"
         },
         "marker": {
          "symbol": "circle"
         },
         "mode": "lines",
         "name": "(40,)_(True,)_(False,)_(True,)_True",
         "showlegend": true,
         "type": "scattergl",
         "x": [
          0,
          1,
          2,
          3,
          4,
          5,
          6,
          7,
          8,
          9,
          10,
          11,
          12,
          13,
          14,
          15,
          16,
          17,
          18,
          19,
          20,
          21,
          22,
          23,
          24,
          25,
          26,
          27,
          28,
          29
         ],
         "xaxis": "x",
         "y": [
          2,
          2.4460895405676792,
          2.2251563060311663,
          1.9328754512982262,
          1.4611019944116248,
          1.3513172459137028,
          1.3372016654310164,
          1.381759744525958,
          1.2052099396975517,
          1.0283222110095174,
          1.470926906286098,
          1.4331126127261642,
          1.415173338599751,
          1.4149346360717074,
          1.3196118526219809,
          1.0202233972134003,
          0.9611539209348369,
          0.8921469591559682,
          0.8411589519980683,
          0.7025855226774007,
          0.7119765128491148,
          0.45497086753432203,
          0.43851333949117344,
          0.36434416852608076,
          0.4763694124371691,
          0.3141827037187446,
          0.37587079734908774,
          0.39329164934004235,
          0.3477195757762586,
          0.40655972196134443
         ],
         "yaxis": "y"
        },
        {
         "hovertemplate": "Parameters=(40,)_(True,)_(False,)_(True,)_False<br>Time=%{x}<br>Cumulative Return=%{y}<extra></extra>",
         "legendgroup": "(40,)_(True,)_(False,)_(True,)_False",
         "line": {
          "color": "#B6E880",
          "dash": "solid"
         },
         "marker": {
          "symbol": "circle"
         },
         "mode": "lines",
         "name": "(40,)_(True,)_(False,)_(True,)_False",
         "showlegend": true,
         "type": "scattergl",
         "x": [
          0,
          1,
          2,
          3,
          4,
          5,
          6,
          7,
          8,
          9,
          10,
          11,
          12,
          13,
          14,
          15,
          16,
          17,
          18,
          19,
          20,
          21,
          22,
          23,
          24,
          25,
          26,
          27,
          28,
          29
         ],
         "xaxis": "x",
         "y": [
          2,
          2.481922710324885,
          2.3603950490908354,
          2.063259166860335,
          1.502645572668078,
          1.3642717836148084,
          1.3940787588445556,
          1.4653173437869156,
          1.3106033234943684,
          1.1550476932870102,
          1.684637550716687,
          1.6301296141935264,
          1.656252128242357,
          1.6428064788209842,
          1.5068683150647648,
          1.1502551284483562,
          1.1187314526175036,
          1.0456203121232637,
          0.9590980405325463,
          0.7147304402359808,
          0.8053174643087981,
          0.5664377960456336,
          0.5334186572508811,
          0.45050631714563166,
          0.6003119913390169,
          0.4114599940769095,
          0.45927535484104304,
          0.4788117989708589,
          0.423075143322523,
          0.49332080392909505
         ],
         "yaxis": "y"
        },
        {
         "hovertemplate": "Parameters=(40,)_(True,)_(False,)_(False,)_True<br>Time=%{x}<br>Cumulative Return=%{y}<extra></extra>",
         "legendgroup": "(40,)_(True,)_(False,)_(False,)_True",
         "line": {
          "color": "#FF97FF",
          "dash": "solid"
         },
         "marker": {
          "symbol": "circle"
         },
         "mode": "lines",
         "name": "(40,)_(True,)_(False,)_(False,)_True",
         "showlegend": true,
         "type": "scattergl",
         "x": [
          0,
          1,
          2,
          3,
          4,
          5,
          6,
          7,
          8,
          9,
          10,
          11,
          12,
          13,
          14,
          15,
          16,
          17,
          18,
          19,
          20,
          21,
          22,
          23,
          24,
          25,
          26,
          27,
          28,
          29
         ],
         "xaxis": "x",
         "y": [
          2,
          2.1313479839442486,
          1.9388425191171526,
          1.9634238969502094,
          2.35201789051772,
          2.219458598222227,
          2.0975102253587266,
          1.934839573564802,
          1.7710544086057487,
          1.619999987381549,
          1.7914862552430986,
          1.7454310863051712,
          1.7227170111400762,
          1.7037521775098126,
          1.6746874486848273,
          1.3912128476181225,
          1.3893491440228583,
          1.4153075874886194,
          1.2684541075324454,
          1.2190066220253288,
          1.0022177205816747,
          0.8859606269566642,
          1.000393269430178,
          1.0546171397750472,
          0.9114480545964314,
          0.9415677608389317,
          1.0951878803838118,
          1.1459476257564594,
          1.0709422126475263,
          1.0523021213157882
         ],
         "yaxis": "y"
        },
        {
         "hovertemplate": "Parameters=(40,)_(True,)_(False,)_(False,)_False<br>Time=%{x}<br>Cumulative Return=%{y}<extra></extra>",
         "legendgroup": "(40,)_(True,)_(False,)_(False,)_False",
         "line": {
          "color": "#FECB52",
          "dash": "solid"
         },
         "marker": {
          "symbol": "circle"
         },
         "mode": "lines",
         "name": "(40,)_(True,)_(False,)_(False,)_False",
         "showlegend": true,
         "type": "scattergl",
         "x": [
          0,
          1,
          2,
          3,
          4,
          5,
          6,
          7,
          8,
          9,
          10,
          11,
          12,
          13,
          14,
          15,
          16,
          17,
          18,
          19,
          20,
          21,
          22,
          23,
          24,
          25,
          26,
          27,
          28,
          29
         ],
         "xaxis": "x",
         "y": [
          2,
          2.18032571644121,
          2.073565790378537,
          2.1263887760804283,
          2.423684687548241,
          2.308919629163138,
          2.2642806138661986,
          2.0940515313337045,
          1.9326369301209192,
          1.8361408978782439,
          2.018979791394315,
          1.9536539162444662,
          1.9505157020655146,
          1.9605401296380482,
          1.896266866258573,
          1.554698676402193,
          1.613852408164723,
          1.6511193727793914,
          1.4507324341359096,
          1.2644439310274773,
          1.1074504137541616,
          1.0629599169135393,
          1.1892041581887671,
          1.2799816926669847,
          1.1692172420989904,
          1.2275695071142776,
          1.345976733678707,
          1.4032312738589592,
          1.3152641830087446,
          1.2868176562449976
         ],
         "yaxis": "y"
        },
        {
         "hovertemplate": "Parameters=(8,)_(False,)_(True,)_(True,)_False<br>Time=%{x}<br>Cumulative Return=%{y}<extra></extra>",
         "legendgroup": "(8,)_(False,)_(True,)_(True,)_False",
         "line": {
          "color": "#636efa",
          "dash": "solid"
         },
         "marker": {
          "symbol": "circle"
         },
         "mode": "lines",
         "name": "(8,)_(False,)_(True,)_(True,)_False",
         "showlegend": true,
         "type": "scattergl",
         "x": [
          0,
          1,
          2,
          3,
          4,
          5,
          6,
          7,
          8,
          9,
          10,
          11,
          12,
          13,
          14,
          15,
          16,
          17,
          18,
          19,
          20,
          21,
          22,
          23,
          24,
          25,
          26,
          27,
          28,
          29
         ],
         "xaxis": "x",
         "y": [
          2,
          1.4610895532141803,
          1.6796294479359801,
          2.0101015276626217,
          2.737281613068111,
          3.0120047709306155,
          3.1685978894063305,
          3.3126528580690278,
          3.8488145675708694,
          4.724558957847353,
          2.6151232970385725,
          2.270664021603968,
          1.904021617150997,
          1.8203697273702932,
          1.8549956042781475,
          2.191379735510106,
          2.325249214073054,
          2.5706366415515642,
          4.2329763509780305,
          6.210810220995101,
          4.500318728652866,
          4.2909679583438125,
          4.080703346282475,
          4.325506495399673,
          3.9355365013481576,
          4.9038878728418265,
          2.4086349698901794,
          2.145679807680258,
          2.514101015450984,
          2.2072653602375922
         ],
         "yaxis": "y"
        },
        {
         "hovertemplate": "Parameters=(8,)_(False,)_(True,)_(False,)_False<br>Time=%{x}<br>Cumulative Return=%{y}<extra></extra>",
         "legendgroup": "(8,)_(False,)_(True,)_(False,)_False",
         "line": {
          "color": "#EF553B",
          "dash": "solid"
         },
         "marker": {
          "symbol": "circle"
         },
         "mode": "lines",
         "name": "(8,)_(False,)_(True,)_(False,)_False",
         "showlegend": true,
         "type": "scattergl",
         "x": [
          0,
          1,
          2,
          3,
          4,
          5,
          6,
          7,
          8,
          9,
          10,
          11,
          12,
          13,
          14,
          15,
          16,
          17,
          18,
          19,
          20,
          21,
          22,
          23,
          24,
          25,
          26,
          27,
          28,
          29
         ],
         "xaxis": "x",
         "y": [
          2,
          1.6989624824415968,
          1.953081801296686,
          2.0875685139660285,
          1.986616892514511,
          1.9211975180594734,
          1.9039815029687497,
          2.0473031838524767,
          2.2518364898633374,
          2.512505454484465,
          2.059575195894269,
          1.7882917040282411,
          1.627082665302015,
          1.54294162416177,
          1.5721139920856528,
          1.838421063180659,
          2.0032818720565655,
          2.0499843299462275,
          3.6459306208624205,
          4.412822955618185,
          4.720199869011622,
          2.863233336812172,
          2.6406656256768875,
          2.3727827329558955,
          2.5088043437593903,
          2.418553514920883,
          1.3043815817881277,
          1.1619798170083155,
          1.3486758255588123,
          1.3749809043389314
         ],
         "yaxis": "y"
        },
        {
         "hovertemplate": "Parameters=(8,)_(False,)_(False,)_(True,)_False<br>Time=%{x}<br>Cumulative Return=%{y}<extra></extra>",
         "legendgroup": "(8,)_(False,)_(False,)_(True,)_False",
         "line": {
          "color": "#00cc96",
          "dash": "solid"
         },
         "marker": {
          "symbol": "circle"
         },
         "mode": "lines",
         "name": "(8,)_(False,)_(False,)_(True,)_False",
         "showlegend": true,
         "type": "scattergl",
         "x": [
          0,
          1,
          2,
          3,
          4,
          5,
          6,
          7,
          8,
          9,
          10,
          11,
          12,
          13,
          14,
          15,
          16,
          17,
          18,
          19,
          20,
          21,
          22,
          23,
          24,
          25,
          26,
          27,
          28,
          29
         ],
         "xaxis": "x",
         "y": [
          2,
          2.5389104467858195,
          2.159157391589404,
          1.7343367655087294,
          1.1069181302266442,
          0.9958239546111973,
          0.9440514009916339,
          0.9011316933693753,
          0.7552811228737855,
          0.5834273754858214,
          0.8439178302186817,
          0.9550771490365213,
          1.1092927348868147,
          1.1580287538255787,
          1.1360014917354506,
          0.92999945378219,
          0.8731865975144161,
          0.7810377596281541,
          0.27596829107513593,
          0.14702369325969536,
          0.1875148317013962,
          0.19623785263125176,
          0.20585383586762762,
          0.1935045757029164,
          0.21095015769801057,
          0.1590451951970407,
          0.23997240954338867,
          0.2661706440895991,
          0.22046815398944752,
          0.24737538248476093
         ],
         "yaxis": "y"
        },
        {
         "hovertemplate": "Parameters=(8,)_(False,)_(False,)_(False,)_False<br>Time=%{x}<br>Cumulative Return=%{y}<extra></extra>",
         "legendgroup": "(8,)_(False,)_(False,)_(False,)_False",
         "line": {
          "color": "#ab63fa",
          "dash": "solid"
         },
         "marker": {
          "symbol": "circle"
         },
         "mode": "lines",
         "name": "(8,)_(False,)_(False,)_(False,)_False",
         "showlegend": true,
         "type": "scattergl",
         "x": [
          0,
          1,
          2,
          3,
          4,
          5,
          6,
          7,
          8,
          9,
          10,
          11,
          12,
          13,
          14,
          15,
          16,
          17,
          18,
          19,
          20,
          21,
          22,
          23,
          24,
          25,
          26,
          27,
          28,
          29
         ],
         "xaxis": "x",
         "y": [
          2,
          2.3010375175584032,
          1.9568638864952774,
          1.8221167442806612,
          1.910231524024885,
          1.973135525212466,
          1.9908169612224462,
          1.8409587652424209,
          1.6570400445299558,
          1.4652237582730507,
          1.7293601702130135,
          1.957148340610798,
          2.133579289724854,
          2.243912702169754,
          2.201487087414346,
          1.8285678326693322,
          1.6645906143835634,
          1.6257840569259419,
          0.36008460860396485,
          0.2843436922459378,
          0.26453762086159294,
          0.3686089572625464,
          0.39726203658622805,
          0.4375623693864752,
          0.4124787671314985,
          0.42731713055529597,
          0.6241722964527148,
          0.692314347661141,
          0.5810797775948943,
          0.5697461798262574
         ],
         "yaxis": "y"
        },
        {
         "hovertemplate": "Parameters=(16,)_(False,)_(True,)_(True,)_False<br>Time=%{x}<br>Cumulative Return=%{y}<extra></extra>",
         "legendgroup": "(16,)_(False,)_(True,)_(True,)_False",
         "line": {
          "color": "#FFA15A",
          "dash": "solid"
         },
         "marker": {
          "symbol": "circle"
         },
         "mode": "lines",
         "name": "(16,)_(False,)_(True,)_(True,)_False",
         "showlegend": true,
         "type": "scattergl",
         "x": [
          0,
          1,
          2,
          3,
          4,
          5,
          6,
          7,
          8,
          9,
          10,
          11,
          12,
          13,
          14,
          15,
          16,
          17,
          18,
          19,
          20,
          21,
          22,
          23,
          24,
          25,
          26,
          27,
          28,
          29
         ],
         "xaxis": "x",
         "y": [
          2,
          1.4512337813936345,
          1.5524456244593328,
          1.8178742522926081,
          2.010914276707282,
          2.256364264937096,
          2.30221782504659,
          2.3636894270174196,
          2.7592545849642915,
          3.2995579809691127,
          1.5500538618636903,
          1.3797773422796233,
          1.4213687992821396,
          1.435416627411115,
          1.525473656262923,
          1.7744643210926412,
          1.827928136909566,
          1.7651430374160222,
          2.1725568355724145,
          2.6769875872627726,
          2.5802080089616015,
          3.226630358838521,
          3.4009618068297547,
          3.8341848221665136,
          3.056778903199437,
          3.8976466758529216,
          2.849406242761707,
          2.5553349436492203,
          2.7798818674976786,
          2.3420970403017463
         ],
         "yaxis": "y"
        },
        {
         "hovertemplate": "Parameters=(16,)_(False,)_(True,)_(False,)_False<br>Time=%{x}<br>Cumulative Return=%{y}<extra></extra>",
         "legendgroup": "(16,)_(False,)_(True,)_(False,)_False",
         "line": {
          "color": "#19d3f3",
          "dash": "solid"
         },
         "marker": {
          "symbol": "circle"
         },
         "mode": "lines",
         "name": "(16,)_(False,)_(True,)_(False,)_False",
         "showlegend": true,
         "type": "scattergl",
         "x": [
          0,
          1,
          2,
          3,
          4,
          5,
          6,
          7,
          8,
          9,
          10,
          11,
          12,
          13,
          14,
          15,
          16,
          17,
          18,
          19,
          20,
          21,
          22,
          23,
          24,
          25,
          26,
          27,
          28,
          29
         ],
         "xaxis": "x",
         "y": [
          2,
          1.811485904956642,
          1.9378224259767973,
          2.044917704366927,
          1.779964829099687,
          1.6775720030831927,
          1.6714791331580363,
          1.7956535375171985,
          1.9301890788974474,
          2.057279645774014,
          1.602537000940035,
          1.4264951034690205,
          1.3043706902957817,
          1.2604282391404027,
          1.3212122189929165,
          1.7536291773640427,
          1.8441318111133964,
          1.7144152760584233,
          2.2093340015867957,
          2.551265964881947,
          3.200186312440349,
          3.30160895257109,
          2.851669910787206,
          2.787076335649219,
          3.1013785291924023,
          2.9440487013871253,
          2.2619746285432987,
          2.028528864442458,
          2.2893069665794332,
          2.4534831680503073
         ],
         "yaxis": "y"
        },
        {
         "hovertemplate": "Parameters=(16,)_(False,)_(False,)_(True,)_False<br>Time=%{x}<br>Cumulative Return=%{y}<extra></extra>",
         "legendgroup": "(16,)_(False,)_(False,)_(True,)_False",
         "line": {
          "color": "#FF6692",
          "dash": "solid"
         },
         "marker": {
          "symbol": "circle"
         },
         "mode": "lines",
         "name": "(16,)_(False,)_(False,)_(True,)_False",
         "showlegend": true,
         "type": "scattergl",
         "x": [
          0,
          1,
          2,
          3,
          4,
          5,
          6,
          7,
          8,
          9,
          10,
          11,
          12,
          13,
          14,
          15,
          16,
          17,
          18,
          19,
          20,
          21,
          22,
          23,
          24,
          25,
          26,
          27,
          28,
          29
         ],
         "xaxis": "x",
         "y": [
          2,
          2.5487662186063655,
          2.371010346440122,
          1.9656280174756038,
          1.7568980241852972,
          1.5424529807777922,
          1.5111074389389907,
          1.4707593041921243,
          1.2246266567238402,
          0.9848264059345554,
          1.5070047897434813,
          1.6725522825806072,
          1.622135534737451,
          1.6061034667721177,
          1.5053376657607718,
          1.259633634981764,
          1.2216814373202185,
          1.2636433662619362,
          0.971981029300534,
          0.7463035633714757,
          0.7732842428828085,
          0.579552491151571,
          0.5482398790041576,
          0.47840371294281664,
          0.5754031783695827,
          0.4171195719016932,
          0.5293004946646246,
          0.5839266415969225,
          0.5326148041997858,
          0.6164927138134372
         ],
         "yaxis": "y"
        },
        {
         "hovertemplate": "Parameters=(16,)_(False,)_(False,)_(False,)_False<br>Time=%{x}<br>Cumulative Return=%{y}<extra></extra>",
         "legendgroup": "(16,)_(False,)_(False,)_(False,)_False",
         "line": {
          "color": "#B6E880",
          "dash": "solid"
         },
         "marker": {
          "symbol": "circle"
         },
         "mode": "lines",
         "name": "(16,)_(False,)_(False,)_(False,)_False",
         "showlegend": true,
         "type": "scattergl",
         "x": [
          0,
          1,
          2,
          3,
          4,
          5,
          6,
          7,
          8,
          9,
          10,
          11,
          12,
          13,
          14,
          15,
          16,
          17,
          18,
          19,
          20,
          21,
          22,
          23,
          24,
          25,
          26,
          27,
          28,
          29
         ],
         "xaxis": "x",
         "y": [
          2,
          2.1885140950433577,
          2.035882900831571,
          1.923368233279224,
          2.172572366294819,
          2.297550017916614,
          2.305894621534211,
          2.1345894072100466,
          1.9746598130408832,
          1.8446411336423378,
          2.2523820013484723,
          2.499810672957524,
          2.7138232627916725,
          2.8052482289127005,
          2.669965515837485,
          1.7961177336891498,
          1.703422318078462,
          1.8232413242388963,
          1.296906611101269,
          1.0961882844807493,
          0.8173702810478491,
          0.7914655855787088,
          0.8993255024543544,
          0.9196962505541082,
          0.8159809180225852,
          0.8573748130652245,
          1.0560104981425738,
          1.1649954418844763,
          1.0152291232196633,
          0.9424226086254892
         ],
         "yaxis": "y"
        },
        {
         "hovertemplate": "Parameters=(24,)_(False,)_(True,)_(True,)_False<br>Time=%{x}<br>Cumulative Return=%{y}<extra></extra>",
         "legendgroup": "(24,)_(False,)_(True,)_(True,)_False",
         "line": {
          "color": "#FF97FF",
          "dash": "solid"
         },
         "marker": {
          "symbol": "circle"
         },
         "mode": "lines",
         "name": "(24,)_(False,)_(True,)_(True,)_False",
         "showlegend": true,
         "type": "scattergl",
         "x": [
          0,
          1,
          2,
          3,
          4,
          5,
          6,
          7,
          8,
          9,
          10,
          11,
          12,
          13,
          14,
          15,
          16,
          17,
          18,
          19,
          20,
          21,
          22,
          23,
          24,
          25,
          26,
          27,
          28,
          29
         ],
         "xaxis": "x",
         "y": [
          2,
          1.4719668153548398,
          1.5613603480408837,
          1.8434915067330773,
          2.129589550761522,
          2.4024489095170054,
          2.5314848606048024,
          2.5190485497437014,
          2.8005481716818603,
          3.225380355391782,
          1.6670820819419514,
          1.6638526021505198,
          1.6854923643151307,
          1.7340144763184255,
          1.89514835290156,
          2.434659676424573,
          2.5018233564304104,
          2.601576016842403,
          2.9590068998596086,
          3.672330353337688,
          3.58613902490645,
          4.7860292603733825,
          4.96862726090827,
          5.3296042374839105,
          4.313759908207975,
          5.5758454798642365,
          4.187557533728095,
          3.8786256920502353,
          4.370985821482246,
          3.6938604084993725
         ],
         "yaxis": "y"
        },
        {
         "hovertemplate": "Parameters=(24,)_(False,)_(True,)_(False,)_False<br>Time=%{x}<br>Cumulative Return=%{y}<extra></extra>",
         "legendgroup": "(24,)_(False,)_(True,)_(False,)_False",
         "line": {
          "color": "#FECB52",
          "dash": "solid"
         },
         "marker": {
          "symbol": "circle"
         },
         "mode": "lines",
         "name": "(24,)_(False,)_(True,)_(False,)_False",
         "showlegend": true,
         "type": "scattergl",
         "x": [
          0,
          1,
          2,
          3,
          4,
          5,
          6,
          7,
          8,
          9,
          10,
          11,
          12,
          13,
          14,
          15,
          16,
          17,
          18,
          19,
          20,
          21,
          22,
          23,
          24,
          25,
          26,
          27,
          28,
          29
         ],
         "xaxis": "x",
         "y": [
          2,
          1.81887106483628,
          1.929332325436741,
          1.9876126639996294,
          1.5151818129327383,
          1.4377614292154952,
          1.4563027544614393,
          1.6726766459319746,
          1.7482648969231203,
          1.8576867954866803,
          1.441528917751101,
          1.438736380683449,
          1.4405556108942883,
          1.4101167710607558,
          1.474869730411081,
          1.8448925696821776,
          1.935793318974156,
          1.8180684551827546,
          2.171668077719303,
          2.3144227286915005,
          2.8140924704428256,
          2.999813751589959,
          2.6477169785791808,
          2.4213174078390995,
          2.538751645302903,
          2.4099687866625845,
          2.0266075415681444,
          1.877097094217348,
          2.0596803360324345,
          2.1432424455489363
         ],
         "yaxis": "y"
        },
        {
         "hovertemplate": "Parameters=(24,)_(False,)_(False,)_(True,)_False<br>Time=%{x}<br>Cumulative Return=%{y}<extra></extra>",
         "legendgroup": "(24,)_(False,)_(False,)_(True,)_False",
         "line": {
          "color": "#636efa",
          "dash": "solid"
         },
         "marker": {
          "symbol": "circle"
         },
         "mode": "lines",
         "name": "(24,)_(False,)_(False,)_(True,)_False",
         "showlegend": true,
         "type": "scattergl",
         "x": [
          0,
          1,
          2,
          3,
          4,
          5,
          6,
          7,
          8,
          9,
          10,
          11,
          12,
          13,
          14,
          15,
          16,
          17,
          18,
          19,
          20,
          21,
          22,
          23,
          24,
          25,
          26,
          27,
          28,
          29
         ],
         "xaxis": "x",
         "y": [
          2,
          2.52803318464516,
          2.374504032516481,
          1.9454412765333764,
          1.6435212828932924,
          1.4329407213992285,
          1.35597722464984,
          1.3626386724620498,
          1.2103659934875184,
          1.0267582150886456,
          1.5228223618018841,
          1.5257723809381045,
          1.5059284648375089,
          1.4625756551856621,
          1.3266653220628684,
          0.9489898948688048,
          0.9228106081927534,
          0.8860163185451515,
          0.76428641595725,
          0.5800410106143709,
          0.5936548471811196,
          0.3950232131527033,
          0.37995217096669653,
          0.3523481711661888,
          0.41950717128340903,
          0.2967710989591919,
          0.37066190904969215,
          0.39800702975078195,
          0.34748325967299454,
          0.4013131633423966
         ],
         "yaxis": "y"
        },
        {
         "hovertemplate": "Parameters=(24,)_(False,)_(False,)_(False,)_False<br>Time=%{x}<br>Cumulative Return=%{y}<extra></extra>",
         "legendgroup": "(24,)_(False,)_(False,)_(False,)_False",
         "line": {
          "color": "#EF553B",
          "dash": "solid"
         },
         "marker": {
          "symbol": "circle"
         },
         "mode": "lines",
         "name": "(24,)_(False,)_(False,)_(False,)_False",
         "showlegend": true,
         "type": "scattergl",
         "x": [
          0,
          1,
          2,
          3,
          4,
          5,
          6,
          7,
          8,
          9,
          10,
          11,
          12,
          13,
          14,
          15,
          16,
          17,
          18,
          19,
          20,
          21,
          22,
          23,
          24,
          25,
          26,
          27,
          28,
          29
         ],
         "xaxis": "x",
         "y": [
          2,
          2.18112893516372,
          2.048667510949458,
          1.986782352769725,
          2.4590158491668164,
          2.584662784065532,
          2.5513310557574527,
          2.1722605449912886,
          2.0740960995844016,
          1.9442807990431477,
          2.3798374133322944,
          2.3844476463355164,
          2.381432598372166,
          2.431752103490891,
          2.32008536188554,
          1.7380105146941767,
          1.652376011818893,
          1.75286491164971,
          1.4119468514138578,
          1.3191324927036816,
          1.0343398384517588,
          0.9660766516672281,
          1.079467848488298,
          1.171770409337009,
          1.1149393784041637,
          1.1714967343106397,
          1.357850370579654,
          1.4580240905411037,
          1.316203634947418,
          1.2628046922253846
         ],
         "yaxis": "y"
        },
        {
         "hovertemplate": "Parameters=(32,)_(False,)_(True,)_(True,)_False<br>Time=%{x}<br>Cumulative Return=%{y}<extra></extra>",
         "legendgroup": "(32,)_(False,)_(True,)_(True,)_False",
         "line": {
          "color": "#00cc96",
          "dash": "solid"
         },
         "marker": {
          "symbol": "circle"
         },
         "mode": "lines",
         "name": "(32,)_(False,)_(True,)_(True,)_False",
         "showlegend": true,
         "type": "scattergl",
         "x": [
          0,
          1,
          2,
          3,
          4,
          5,
          6,
          7,
          8,
          9,
          10,
          11,
          12,
          13,
          14,
          15,
          16,
          17,
          18,
          19,
          20,
          21,
          22,
          23,
          24,
          25,
          26,
          27,
          28,
          29
         ],
         "xaxis": "x",
         "y": [
          2,
          1.5194444503776747,
          1.6362324547277758,
          1.876912049295003,
          2.1545952499412895,
          2.296323324961489,
          2.371264682399641,
          2.4391512135862694,
          2.8264914650182638,
          3.2587665210656134,
          1.85399831892509,
          1.8998980006074522,
          1.9346787756744612,
          1.9736161566757864,
          2.153015759674525,
          2.6608791552792916,
          2.7092580963962645,
          2.8581811060573554,
          3.147260128647618,
          3.8088563228094077,
          3.768308627841372,
          5.119920094834459,
          5.237505338347773,
          5.83774814005208,
          4.2804993894485195,
          5.595010830449485,
          4.52332322830014,
          4.127898893680865,
          4.557132861233113,
          3.820503569695767
         ],
         "yaxis": "y"
        },
        {
         "hovertemplate": "Parameters=(32,)_(False,)_(True,)_(False,)_False<br>Time=%{x}<br>Cumulative Return=%{y}<extra></extra>",
         "legendgroup": "(32,)_(False,)_(True,)_(False,)_False",
         "line": {
          "color": "#ab63fa",
          "dash": "solid"
         },
         "marker": {
          "symbol": "circle"
         },
         "mode": "lines",
         "name": "(32,)_(False,)_(True,)_(False,)_False",
         "showlegend": true,
         "type": "scattergl",
         "x": [
          0,
          1,
          2,
          3,
          4,
          5,
          6,
          7,
          8,
          9,
          10,
          11,
          12,
          13,
          14,
          15,
          16,
          17,
          18,
          19,
          20,
          21,
          22,
          23,
          24,
          25,
          26,
          27,
          28,
          29
         ],
         "xaxis": "x",
         "y": [
          2,
          1.8517077127268027,
          1.994034237632205,
          1.9547073314826695,
          1.4620854036374038,
          1.4461361106970538,
          1.4703191361290298,
          1.6521378919278389,
          1.7119158283349947,
          1.8234488689174557,
          1.4707292613767573,
          1.5071403002914352,
          1.508543594903088,
          1.513806043178828,
          1.5443942903211085,
          1.904586882597511,
          1.9491562247023193,
          1.8902578030799126,
          2.167313717211346,
          2.343878751603317,
          2.773541926940506,
          3.0421367778527784,
          2.691560234980963,
          2.531620973745119,
          2.834967231953489,
          2.7547988587870362,
          2.4004783898761866,
          2.190631000650047,
          2.4017526859873386,
          2.4861087259964596
         ],
         "yaxis": "y"
        },
        {
         "hovertemplate": "Parameters=(32,)_(False,)_(False,)_(True,)_False<br>Time=%{x}<br>Cumulative Return=%{y}<extra></extra>",
         "legendgroup": "(32,)_(False,)_(False,)_(True,)_False",
         "line": {
          "color": "#FFA15A",
          "dash": "solid"
         },
         "marker": {
          "symbol": "circle"
         },
         "mode": "lines",
         "name": "(32,)_(False,)_(False,)_(True,)_False",
         "showlegend": true,
         "type": "scattergl",
         "x": [
          0,
          1,
          2,
          3,
          4,
          5,
          6,
          7,
          8,
          9,
          10,
          11,
          12,
          13,
          14,
          15,
          16,
          17,
          18,
          19,
          20,
          21,
          22,
          23,
          24,
          25,
          26,
          27,
          28,
          29
         ],
         "xaxis": "x",
         "y": [
          2,
          2.4805555496223253,
          2.289894329827188,
          1.9530651480613896,
          1.664115337340046,
          1.5546507576797959,
          1.5039141576303543,
          1.46085885632984,
          1.2288726499947717,
          1.0409325835816887,
          1.4896511353818893,
          1.4527716451289312,
          1.4261762574834878,
          1.3974730076153956,
          1.2704442021814524,
          0.9707659004565276,
          0.9531158594002205,
          0.9007248072053775,
          0.8096246854048705,
          0.6394307425249517,
          0.6462378889499347,
          0.4144462212885497,
          0.4049279555830841,
          0.3585213030174064,
          0.45415866828127266,
          0.31468971590690725,
          0.37496646554712887,
          0.40774565413481567,
          0.36534677533853566,
          0.42440257741367127
         ],
         "yaxis": "y"
        },
        {
         "hovertemplate": "Parameters=(32,)_(False,)_(False,)_(False,)_False<br>Time=%{x}<br>Cumulative Return=%{y}<extra></extra>",
         "legendgroup": "(32,)_(False,)_(False,)_(False,)_False",
         "line": {
          "color": "#19d3f3",
          "dash": "solid"
         },
         "marker": {
          "symbol": "circle"
         },
         "mode": "lines",
         "name": "(32,)_(False,)_(False,)_(False,)_False",
         "showlegend": true,
         "type": "scattergl",
         "x": [
          0,
          1,
          2,
          3,
          4,
          5,
          6,
          7,
          8,
          9,
          10,
          11,
          12,
          13,
          14,
          15,
          16,
          17,
          18,
          19,
          20,
          21,
          22,
          23,
          24,
          25,
          26,
          27,
          28,
          29
         ],
         "xaxis": "x",
         "y": [
          2,
          2.148292287273197,
          1.9831695880333609,
          2.0222822184964224,
          2.531934251349475,
          2.559554088726973,
          2.5167519201313997,
          2.205531932899731,
          2.125730998442021,
          1.987237482702277,
          2.371639610415923,
          2.312924614791501,
          2.3107710563945365,
          2.3027100940183485,
          2.256181104541632,
          1.7299814638262285,
          1.6894980727030615,
          1.7405503016394597,
          1.485437081566126,
          1.3644226445185443,
          1.1143063936054856,
          1.0063949332616313,
          1.1223721171394723,
          1.1890662839331303,
          1.0465888705550717,
          1.0761847424864377,
          1.214602936386951,
          1.3207822947274155,
          1.1934921285863527,
          1.1515734621320615
         ],
         "yaxis": "y"
        },
        {
         "hovertemplate": "Parameters=(40,)_(False,)_(True,)_(True,)_False<br>Time=%{x}<br>Cumulative Return=%{y}<extra></extra>",
         "legendgroup": "(40,)_(False,)_(True,)_(True,)_False",
         "line": {
          "color": "#FF6692",
          "dash": "solid"
         },
         "marker": {
          "symbol": "circle"
         },
         "mode": "lines",
         "name": "(40,)_(False,)_(True,)_(True,)_False",
         "showlegend": true,
         "type": "scattergl",
         "x": [
          0,
          1,
          2,
          3,
          4,
          5,
          6,
          7,
          8,
          9,
          10,
          11,
          12,
          13,
          14,
          15,
          16,
          17,
          18,
          19,
          20,
          21,
          22,
          23,
          24,
          25,
          26,
          27,
          28,
          29
         ],
         "xaxis": "x",
         "y": [
          2,
          1.536216312380848,
          1.6406992037690182,
          1.8515186133640633,
          2.328353770012346,
          2.520972935861596,
          2.5015751392958476,
          2.3964903558099957,
          2.6791834651910764,
          3.0419918098809986,
          1.6971283149478968,
          1.7483550740691864,
          1.748090114433528,
          1.7573426966416827,
          1.8888835313211825,
          2.330632451836437,
          2.4282756740290603,
          2.5910610160185192,
          2.784654770976373,
          3.3370941491520396,
          3.144254328007209,
          4.170352620052626,
          4.3826930293816,
          5.08568642730865,
          3.453115870336021,
          4.579538795571189,
          3.912393467946433,
          3.739733262095499,
          4.176111812687438,
          3.4772193834958087
         ],
         "yaxis": "y"
        },
        {
         "hovertemplate": "Parameters=(40,)_(False,)_(True,)_(False,)_False<br>Time=%{x}<br>Cumulative Return=%{y}<extra></extra>",
         "legendgroup": "(40,)_(False,)_(True,)_(False,)_False",
         "line": {
          "color": "#B6E880",
          "dash": "solid"
         },
         "marker": {
          "symbol": "circle"
         },
         "mode": "lines",
         "name": "(40,)_(False,)_(True,)_(False,)_False",
         "showlegend": true,
         "type": "scattergl",
         "x": [
          0,
          1,
          2,
          3,
          4,
          5,
          6,
          7,
          8,
          9,
          10,
          11,
          12,
          13,
          14,
          15,
          16,
          17,
          18,
          19,
          20,
          21,
          22,
          23,
          24,
          25,
          26,
          27,
          28,
          29
         ],
         "xaxis": "x",
         "y": [
          2,
          1.8441888587250648,
          1.9696179292749125,
          1.9318303278773852,
          1.6043159882994087,
          1.6878993221062086,
          1.7517776474320024,
          1.8888177852416963,
          2.0450668185853753,
          2.191074599293027,
          1.9723101279146977,
          2.0318430783376407,
          2.0481771828324917,
          2.0531092163473605,
          2.1041851740104023,
          2.4750420776990945,
          2.4261174687352502,
          2.371106762831964,
          2.645867351720357,
          2.842990542711839,
          3.332044713873891,
          3.5679846085626306,
          3.1368408767086704,
          2.922630919904929,
          3.2432459554349067,
          3.1006786451595727,
          2.7270076857307206,
          2.6066604578169374,
          2.773059198875776,
          2.828363958342196
         ],
         "yaxis": "y"
        },
        {
         "hovertemplate": "Parameters=(40,)_(False,)_(False,)_(True,)_False<br>Time=%{x}<br>Cumulative Return=%{y}<extra></extra>",
         "legendgroup": "(40,)_(False,)_(False,)_(True,)_False",
         "line": {
          "color": "#FF97FF",
          "dash": "solid"
         },
         "marker": {
          "symbol": "circle"
         },
         "mode": "lines",
         "name": "(40,)_(False,)_(False,)_(True,)_False",
         "showlegend": true,
         "type": "scattergl",
         "x": [
          0,
          1,
          2,
          3,
          4,
          5,
          6,
          7,
          8,
          9,
          10,
          11,
          12,
          13,
          14,
          15,
          16,
          17,
          18,
          19,
          20,
          21,
          22,
          23,
          24,
          25,
          26,
          27,
          28,
          29
         ],
         "xaxis": "x",
         "y": [
          2,
          2.463783687619152,
          2.296214028735308,
          2.001165134501805,
          1.4857904126374126,
          1.3628745080206006,
          1.3733612379950313,
          1.431052636536509,
          1.2622438121948127,
          1.0913139023743834,
          1.573783389652099,
          1.5262797201294622,
          1.52651102469943,
          1.5184312531641604,
          1.4047734476454352,
          1.0762422577780462,
          1.0311524531516207,
          0.9620266506223536,
          0.8901478525114189,
          0.713554067439314,
          0.7547880370524065,
          0.5084699486022752,
          0.48258035919476694,
          0.40517343057602817,
          0.5352392973337767,
          0.3606416766217731,
          0.4131798076968184,
          0.4314140960512123,
          0.38107364534370086,
          0.44484815561568003
         ],
         "yaxis": "y"
        },
        {
         "hovertemplate": "Parameters=(40,)_(False,)_(False,)_(False,)_False<br>Time=%{x}<br>Cumulative Return=%{y}<extra></extra>",
         "legendgroup": "(40,)_(False,)_(False,)_(False,)_False",
         "line": {
          "color": "#FECB52",
          "dash": "solid"
         },
         "marker": {
          "symbol": "circle"
         },
         "mode": "lines",
         "name": "(40,)_(False,)_(False,)_(False,)_False",
         "showlegend": true,
         "type": "scattergl",
         "x": [
          0,
          1,
          2,
          3,
          4,
          5,
          6,
          7,
          8,
          9,
          10,
          11,
          12,
          13,
          14,
          15,
          16,
          17,
          18,
          19,
          20,
          21,
          22,
          23,
          24,
          25,
          26,
          27,
          28,
          29
         ],
         "xaxis": "x",
         "y": [
          2,
          2.1558111412749352,
          2.0091876615527684,
          2.0477344179358887,
          2.3948986465140063,
          2.270126709772779,
          2.1842140664068883,
          2.013344779939474,
          1.8467944762992365,
          1.7149423722715929,
          1.886168154194009,
          1.829235345492323,
          1.8145300163271434,
          1.8101606077968302,
          1.7651285725641295,
          1.454029471059702,
          1.4827715372792931,
          1.516392460425095,
          1.3406749887602205,
          1.2407916247302553,
          1.027349367184632,
          0.9546034341865497,
          1.0699546288268196,
          1.1430201567994847,
          1.0176298977394498,
          1.062363093855321,
          1.1903912715455285,
          1.2429251497640934,
          1.1635817970344002,
          1.1403757971658866
         ],
         "yaxis": "y"
        },
        {
         "hovertemplate": "Parameters=Equal Weight Holding<br>Time=%{x}<br>Cumulative Return=%{y}<extra></extra>",
         "legendgroup": "Equal Weight Holding",
         "line": {
          "color": "#636efa",
          "dash": "solid"
         },
         "marker": {
          "symbol": "circle"
         },
         "mode": "lines",
         "name": "Equal Weight Holding",
         "showlegend": true,
         "type": "scattergl",
         "x": [
          0,
          1,
          2,
          3,
          4,
          5,
          6,
          7,
          8,
          9,
          10,
          11,
          12,
          13,
          14,
          15,
          16,
          17,
          18,
          19,
          20,
          21,
          22,
          23,
          24,
          25,
          26,
          27,
          28,
          29,
          30,
          31,
          32,
          33,
          34,
          35,
          36,
          37,
          38,
          39,
          40,
          41,
          42
         ],
         "xaxis": "x",
         "y": [
          2,
          5.422361725313305,
          4.031979233748795,
          3.1743047151942125,
          4.545419396736682,
          7.056667997452021,
          6.673594134174626,
          10.677850398496783,
          11.829222545464937,
          9.277412158018105,
          5.9718479227264005,
          5.827456192948947,
          6.853770359863487,
          3.9822215033404897,
          2.9190371272646574,
          2.0086689766310473,
          2.6394551079936797,
          2.298969980573519,
          2.169079818936898,
          2.1437525727533293,
          1.702351673085046,
          1.328081928897172,
          2.0569181770610907,
          1.9886719146476435,
          1.921474452544489,
          1.8355850807794214,
          1.657173576954882,
          1.5170600172767892,
          1.5614127845012957,
          1.2864690450992584,
          1.4091801118285407,
          1.7270779604888706,
          2.017357551613365,
          2.753848948476072,
          2.368050240681385,
          3.068705656098884,
          3.9439684240965045,
          2.6651715619313814,
          3.1453635313264514,
          2.6306888316022237,
          2.6152879533280027,
          2.0952309875701003,
          0
         ],
         "yaxis": "y"
        }
       ],
       "layout": {
        "autosize": true,
        "legend": {
         "title": {
          "text": "Parameters"
         },
         "tracegroupgap": 0
        },
        "template": {
         "data": {
          "bar": [
           {
            "error_x": {
             "color": "#2a3f5f"
            },
            "error_y": {
             "color": "#2a3f5f"
            },
            "marker": {
             "line": {
              "color": "#E5ECF6",
              "width": 0.5
             },
             "pattern": {
              "fillmode": "overlay",
              "size": 10,
              "solidity": 0.2
             }
            },
            "type": "bar"
           }
          ],
          "barpolar": [
           {
            "marker": {
             "line": {
              "color": "#E5ECF6",
              "width": 0.5
             },
             "pattern": {
              "fillmode": "overlay",
              "size": 10,
              "solidity": 0.2
             }
            },
            "type": "barpolar"
           }
          ],
          "carpet": [
           {
            "aaxis": {
             "endlinecolor": "#2a3f5f",
             "gridcolor": "white",
             "linecolor": "white",
             "minorgridcolor": "white",
             "startlinecolor": "#2a3f5f"
            },
            "baxis": {
             "endlinecolor": "#2a3f5f",
             "gridcolor": "white",
             "linecolor": "white",
             "minorgridcolor": "white",
             "startlinecolor": "#2a3f5f"
            },
            "type": "carpet"
           }
          ],
          "choropleth": [
           {
            "colorbar": {
             "outlinewidth": 0,
             "ticks": ""
            },
            "type": "choropleth"
           }
          ],
          "contour": [
           {
            "colorbar": {
             "outlinewidth": 0,
             "ticks": ""
            },
            "colorscale": [
             [
              0,
              "#0d0887"
             ],
             [
              0.1111111111111111,
              "#46039f"
             ],
             [
              0.2222222222222222,
              "#7201a8"
             ],
             [
              0.3333333333333333,
              "#9c179e"
             ],
             [
              0.4444444444444444,
              "#bd3786"
             ],
             [
              0.5555555555555556,
              "#d8576b"
             ],
             [
              0.6666666666666666,
              "#ed7953"
             ],
             [
              0.7777777777777778,
              "#fb9f3a"
             ],
             [
              0.8888888888888888,
              "#fdca26"
             ],
             [
              1,
              "#f0f921"
             ]
            ],
            "type": "contour"
           }
          ],
          "contourcarpet": [
           {
            "colorbar": {
             "outlinewidth": 0,
             "ticks": ""
            },
            "type": "contourcarpet"
           }
          ],
          "heatmap": [
           {
            "colorbar": {
             "outlinewidth": 0,
             "ticks": ""
            },
            "colorscale": [
             [
              0,
              "#0d0887"
             ],
             [
              0.1111111111111111,
              "#46039f"
             ],
             [
              0.2222222222222222,
              "#7201a8"
             ],
             [
              0.3333333333333333,
              "#9c179e"
             ],
             [
              0.4444444444444444,
              "#bd3786"
             ],
             [
              0.5555555555555556,
              "#d8576b"
             ],
             [
              0.6666666666666666,
              "#ed7953"
             ],
             [
              0.7777777777777778,
              "#fb9f3a"
             ],
             [
              0.8888888888888888,
              "#fdca26"
             ],
             [
              1,
              "#f0f921"
             ]
            ],
            "type": "heatmap"
           }
          ],
          "heatmapgl": [
           {
            "colorbar": {
             "outlinewidth": 0,
             "ticks": ""
            },
            "colorscale": [
             [
              0,
              "#0d0887"
             ],
             [
              0.1111111111111111,
              "#46039f"
             ],
             [
              0.2222222222222222,
              "#7201a8"
             ],
             [
              0.3333333333333333,
              "#9c179e"
             ],
             [
              0.4444444444444444,
              "#bd3786"
             ],
             [
              0.5555555555555556,
              "#d8576b"
             ],
             [
              0.6666666666666666,
              "#ed7953"
             ],
             [
              0.7777777777777778,
              "#fb9f3a"
             ],
             [
              0.8888888888888888,
              "#fdca26"
             ],
             [
              1,
              "#f0f921"
             ]
            ],
            "type": "heatmapgl"
           }
          ],
          "histogram": [
           {
            "marker": {
             "pattern": {
              "fillmode": "overlay",
              "size": 10,
              "solidity": 0.2
             }
            },
            "type": "histogram"
           }
          ],
          "histogram2d": [
           {
            "colorbar": {
             "outlinewidth": 0,
             "ticks": ""
            },
            "colorscale": [
             [
              0,
              "#0d0887"
             ],
             [
              0.1111111111111111,
              "#46039f"
             ],
             [
              0.2222222222222222,
              "#7201a8"
             ],
             [
              0.3333333333333333,
              "#9c179e"
             ],
             [
              0.4444444444444444,
              "#bd3786"
             ],
             [
              0.5555555555555556,
              "#d8576b"
             ],
             [
              0.6666666666666666,
              "#ed7953"
             ],
             [
              0.7777777777777778,
              "#fb9f3a"
             ],
             [
              0.8888888888888888,
              "#fdca26"
             ],
             [
              1,
              "#f0f921"
             ]
            ],
            "type": "histogram2d"
           }
          ],
          "histogram2dcontour": [
           {
            "colorbar": {
             "outlinewidth": 0,
             "ticks": ""
            },
            "colorscale": [
             [
              0,
              "#0d0887"
             ],
             [
              0.1111111111111111,
              "#46039f"
             ],
             [
              0.2222222222222222,
              "#7201a8"
             ],
             [
              0.3333333333333333,
              "#9c179e"
             ],
             [
              0.4444444444444444,
              "#bd3786"
             ],
             [
              0.5555555555555556,
              "#d8576b"
             ],
             [
              0.6666666666666666,
              "#ed7953"
             ],
             [
              0.7777777777777778,
              "#fb9f3a"
             ],
             [
              0.8888888888888888,
              "#fdca26"
             ],
             [
              1,
              "#f0f921"
             ]
            ],
            "type": "histogram2dcontour"
           }
          ],
          "mesh3d": [
           {
            "colorbar": {
             "outlinewidth": 0,
             "ticks": ""
            },
            "type": "mesh3d"
           }
          ],
          "parcoords": [
           {
            "line": {
             "colorbar": {
              "outlinewidth": 0,
              "ticks": ""
             }
            },
            "type": "parcoords"
           }
          ],
          "pie": [
           {
            "automargin": true,
            "type": "pie"
           }
          ],
          "scatter": [
           {
            "fillpattern": {
             "fillmode": "overlay",
             "size": 10,
             "solidity": 0.2
            },
            "type": "scatter"
           }
          ],
          "scatter3d": [
           {
            "line": {
             "colorbar": {
              "outlinewidth": 0,
              "ticks": ""
             }
            },
            "marker": {
             "colorbar": {
              "outlinewidth": 0,
              "ticks": ""
             }
            },
            "type": "scatter3d"
           }
          ],
          "scattercarpet": [
           {
            "marker": {
             "colorbar": {
              "outlinewidth": 0,
              "ticks": ""
             }
            },
            "type": "scattercarpet"
           }
          ],
          "scattergeo": [
           {
            "marker": {
             "colorbar": {
              "outlinewidth": 0,
              "ticks": ""
             }
            },
            "type": "scattergeo"
           }
          ],
          "scattergl": [
           {
            "marker": {
             "colorbar": {
              "outlinewidth": 0,
              "ticks": ""
             }
            },
            "type": "scattergl"
           }
          ],
          "scattermapbox": [
           {
            "marker": {
             "colorbar": {
              "outlinewidth": 0,
              "ticks": ""
             }
            },
            "type": "scattermapbox"
           }
          ],
          "scatterpolar": [
           {
            "marker": {
             "colorbar": {
              "outlinewidth": 0,
              "ticks": ""
             }
            },
            "type": "scatterpolar"
           }
          ],
          "scatterpolargl": [
           {
            "marker": {
             "colorbar": {
              "outlinewidth": 0,
              "ticks": ""
             }
            },
            "type": "scatterpolargl"
           }
          ],
          "scatterternary": [
           {
            "marker": {
             "colorbar": {
              "outlinewidth": 0,
              "ticks": ""
             }
            },
            "type": "scatterternary"
           }
          ],
          "surface": [
           {
            "colorbar": {
             "outlinewidth": 0,
             "ticks": ""
            },
            "colorscale": [
             [
              0,
              "#0d0887"
             ],
             [
              0.1111111111111111,
              "#46039f"
             ],
             [
              0.2222222222222222,
              "#7201a8"
             ],
             [
              0.3333333333333333,
              "#9c179e"
             ],
             [
              0.4444444444444444,
              "#bd3786"
             ],
             [
              0.5555555555555556,
              "#d8576b"
             ],
             [
              0.6666666666666666,
              "#ed7953"
             ],
             [
              0.7777777777777778,
              "#fb9f3a"
             ],
             [
              0.8888888888888888,
              "#fdca26"
             ],
             [
              1,
              "#f0f921"
             ]
            ],
            "type": "surface"
           }
          ],
          "table": [
           {
            "cells": {
             "fill": {
              "color": "#EBF0F8"
             },
             "line": {
              "color": "white"
             }
            },
            "header": {
             "fill": {
              "color": "#C8D4E3"
             },
             "line": {
              "color": "white"
             }
            },
            "type": "table"
           }
          ]
         },
         "layout": {
          "annotationdefaults": {
           "arrowcolor": "#2a3f5f",
           "arrowhead": 0,
           "arrowwidth": 1
          },
          "autotypenumbers": "strict",
          "coloraxis": {
           "colorbar": {
            "outlinewidth": 0,
            "ticks": ""
           }
          },
          "colorscale": {
           "diverging": [
            [
             0,
             "#8e0152"
            ],
            [
             0.1,
             "#c51b7d"
            ],
            [
             0.2,
             "#de77ae"
            ],
            [
             0.3,
             "#f1b6da"
            ],
            [
             0.4,
             "#fde0ef"
            ],
            [
             0.5,
             "#f7f7f7"
            ],
            [
             0.6,
             "#e6f5d0"
            ],
            [
             0.7,
             "#b8e186"
            ],
            [
             0.8,
             "#7fbc41"
            ],
            [
             0.9,
             "#4d9221"
            ],
            [
             1,
             "#276419"
            ]
           ],
           "sequential": [
            [
             0,
             "#0d0887"
            ],
            [
             0.1111111111111111,
             "#46039f"
            ],
            [
             0.2222222222222222,
             "#7201a8"
            ],
            [
             0.3333333333333333,
             "#9c179e"
            ],
            [
             0.4444444444444444,
             "#bd3786"
            ],
            [
             0.5555555555555556,
             "#d8576b"
            ],
            [
             0.6666666666666666,
             "#ed7953"
            ],
            [
             0.7777777777777778,
             "#fb9f3a"
            ],
            [
             0.8888888888888888,
             "#fdca26"
            ],
            [
             1,
             "#f0f921"
            ]
           ],
           "sequentialminus": [
            [
             0,
             "#0d0887"
            ],
            [
             0.1111111111111111,
             "#46039f"
            ],
            [
             0.2222222222222222,
             "#7201a8"
            ],
            [
             0.3333333333333333,
             "#9c179e"
            ],
            [
             0.4444444444444444,
             "#bd3786"
            ],
            [
             0.5555555555555556,
             "#d8576b"
            ],
            [
             0.6666666666666666,
             "#ed7953"
            ],
            [
             0.7777777777777778,
             "#fb9f3a"
            ],
            [
             0.8888888888888888,
             "#fdca26"
            ],
            [
             1,
             "#f0f921"
            ]
           ]
          },
          "colorway": [
           "#636efa",
           "#EF553B",
           "#00cc96",
           "#ab63fa",
           "#FFA15A",
           "#19d3f3",
           "#FF6692",
           "#B6E880",
           "#FF97FF",
           "#FECB52"
          ],
          "font": {
           "color": "#2a3f5f"
          },
          "geo": {
           "bgcolor": "white",
           "lakecolor": "white",
           "landcolor": "#E5ECF6",
           "showlakes": true,
           "showland": true,
           "subunitcolor": "white"
          },
          "hoverlabel": {
           "align": "left"
          },
          "hovermode": "closest",
          "mapbox": {
           "style": "light"
          },
          "paper_bgcolor": "white",
          "plot_bgcolor": "#E5ECF6",
          "polar": {
           "angularaxis": {
            "gridcolor": "white",
            "linecolor": "white",
            "ticks": ""
           },
           "bgcolor": "#E5ECF6",
           "radialaxis": {
            "gridcolor": "white",
            "linecolor": "white",
            "ticks": ""
           }
          },
          "scene": {
           "xaxis": {
            "backgroundcolor": "#E5ECF6",
            "gridcolor": "white",
            "gridwidth": 2,
            "linecolor": "white",
            "showbackground": true,
            "ticks": "",
            "zerolinecolor": "white"
           },
           "yaxis": {
            "backgroundcolor": "#E5ECF6",
            "gridcolor": "white",
            "gridwidth": 2,
            "linecolor": "white",
            "showbackground": true,
            "ticks": "",
            "zerolinecolor": "white"
           },
           "zaxis": {
            "backgroundcolor": "#E5ECF6",
            "gridcolor": "white",
            "gridwidth": 2,
            "linecolor": "white",
            "showbackground": true,
            "ticks": "",
            "zerolinecolor": "white"
           }
          },
          "shapedefaults": {
           "line": {
            "color": "#2a3f5f"
           }
          },
          "ternary": {
           "aaxis": {
            "gridcolor": "white",
            "linecolor": "white",
            "ticks": ""
           },
           "baxis": {
            "gridcolor": "white",
            "linecolor": "white",
            "ticks": ""
           },
           "bgcolor": "#E5ECF6",
           "caxis": {
            "gridcolor": "white",
            "linecolor": "white",
            "ticks": ""
           }
          },
          "title": {
           "x": 0.05
          },
          "xaxis": {
           "automargin": true,
           "gridcolor": "white",
           "linecolor": "white",
           "ticks": "",
           "title": {
            "standoff": 15
           },
           "zerolinecolor": "white",
           "zerolinewidth": 2
          },
          "yaxis": {
           "automargin": true,
           "gridcolor": "white",
           "linecolor": "white",
           "ticks": "",
           "title": {
            "standoff": 15
           },
           "zerolinecolor": "white",
           "zerolinewidth": 2
          }
         }
        },
        "title": {
         "text": "Cumulative Returns for Different Backtest Parameters"
        },
        "xaxis": {
         "anchor": "y",
         "autorange": true,
         "domain": [
          0,
          1
         ],
         "range": [
          0,
          42
         ],
         "title": {
          "text": "Time"
         },
         "type": "linear"
        },
        "yaxis": {
         "anchor": "x",
         "autorange": true,
         "domain": [
          0,
          1
         ],
         "range": [
          -0.6571790303036076,
          12.486401575768545
         ],
         "title": {
          "text": "Cumulative Return"
         },
         "type": "linear"
        }
       }
      },
      "image/png": "[encoded data removed]",
      "text/html": [
       "<div>                            <div id=\"8a772e28-6737-4577-8ac0-f6ef3ba5eb14\" class=\"plotly-graph-div\" style=\"height:525px; width:100%;\"></div>            <script type=\"text/javascript\">                require([\"plotly\"], function(Plotly) {                    window.PLOTLYENV=window.PLOTLYENV || {};                                    if (document.getElementById(\"8a772e28-6737-4577-8ac0-f6ef3ba5eb14\")) {                    Plotly.newPlot(                        \"8a772e28-6737-4577-8ac0-f6ef3ba5eb14\",                        [{\"hovertemplate\":\"Parameters=(8,)_(True,)_(True,)_(True,)_True\\u003cbr\\u003eTime=%{x}\\u003cbr\\u003eCumulative Return=%{y}\\u003cextra\\u003e\\u003c\\u002fextra\\u003e\",\"legendgroup\":\"(8,)_(True,)_(True,)_(True,)_True\",\"line\":{\"color\":\"#636efa\",\"dash\":\"solid\"},\"marker\":{\"symbol\":\"circle\"},\"mode\":\"lines\",\"name\":\"(8,)_(True,)_(True,)_(True,)_True\",\"showlegend\":true,\"x\":[0,1,2,3,4,5,6,7,8,9,10,11,12,13,14,15,16,17,18,19,20,21,22,23,24,25,26,27,28,29],\"xaxis\":\"x\",\"y\":[2.0,1.4729704546580198,1.7593518442850948,2.1029303411561506,2.7036860872296566,2.96980802367605,3.0948548414785533,3.204342473348295,3.7091446088406848,4.5468122701282025,2.4577479953036723,2.1544567821202145,1.8464434035790913,1.7714110818510618,1.803596608807644,2.114367305442298,2.4219077807138447,2.674404357785275,4.144221126852857,5.483973492617552,4.976597517782969,5.007945061799084,4.722169391723139,5.167828260510402,5.017327913542775,6.5602170794121415,2.486987696393515,2.2752605143427607,2.663659522593028,2.3479048821162327],\"yaxis\":\"y\",\"type\":\"scattergl\"},{\"hovertemplate\":\"Parameters=(8,)_(True,)_(True,)_(True,)_False\\u003cbr\\u003eTime=%{x}\\u003cbr\\u003eCumulative Return=%{y}\\u003cextra\\u003e\\u003c\\u002fextra\\u003e\",\"legendgroup\":\"(8,)_(True,)_(True,)_(True,)_False\",\"line\":{\"color\":\"#EF553B\",\"dash\":\"solid\"},\"marker\":{\"symbol\":\"circle\"},\"mode\":\"lines\",\"name\":\"(8,)_(True,)_(True,)_(True,)_False\",\"showlegend\":true,\"x\":[0,1,2,3,4,5,6,7,8,9,10,11,12,13,14,15,16,17,18,19,20,21,22,23,24,25,26,27,28,29],\"xaxis\":\"x\",\"y\":[2.0,1.4517276503325505,1.6096248682096095,1.928832264216768,2.802050392828358,3.0944106055137275,3.29086522766018,3.477254259114074,4.054423399161526,4.984167574922568,2.7859390742474117,2.39376017945553,1.9625028464449379,1.8702638656965973,1.911908974121194,2.2698073644023125,2.214688013743431,2.4396792180056623,4.220681884518174,6.895837725222303,3.5557012822283394,3.199219003313235,3.0897257301613226,3.1834833814721577,2.7398887616061534,3.3061538861726465,1.9577079502711963,1.6941925666064148,1.9858215646834356,1.7330805015851594],\"yaxis\":\"y\",\"type\":\"scattergl\"},{\"hovertemplate\":\"Parameters=(8,)_(True,)_(True,)_(False,)_True\\u003cbr\\u003eTime=%{x}\\u003cbr\\u003eCumulative Return=%{y}\\u003cextra\\u003e\\u003c\\u002fextra\\u003e\",\"legendgroup\":\"(8,)_(True,)_(True,)_(False,)_True\",\"line\":{\"color\":\"#00cc96\",\"dash\":\"solid\"},\"marker\":{\"symbol\":\"circle\"},\"mode\":\"lines\",\"name\":\"(8,)_(True,)_(True,)_(False,)_True\",\"showlegend\":true,\"x\":[0,1,2,3,4,5,6,7,8,9,10,11,12,13,14,15,16,17,18,19,20,21,22,23,24,25,26,27,28,29],\"xaxis\":\"x\",\"y\":[2.0,1.6871036087836215,2.015117707369517,2.1483750321867654,1.881909602605131,1.7998871868314779,1.7583098977263394,1.8678754663265507,2.051987945072149,2.28724798619937,1.904398945014141,1.669392155252821,1.5450204727215426,1.4595320037560062,1.4839225911418883,1.7199902753588214,2.0302750649910024,2.0713340560963145,3.6097786238478236,3.974482258790642,4.612421761054202,3.41324065794446,2.978268253064541,2.798245115844022,3.1074598629130987,3.179605626659894,1.4855751734713885,1.3591022336736645,1.5753466221299461,1.6049378208491918],\"yaxis\":\"y\",\"type\":\"scattergl\"},{\"hovertemplate\":\"Parameters=(8,)_(True,)_(True,)_(False,)_False\\u003cbr\\u003eTime=%{x}\\u003cbr\\u003eCumulative Return=%{y}\\u003cextra\\u003e\\u003c\\u002fextra\\u003e\",\"legendgroup\":\"(8,)_(True,)_(True,)_(False,)_False\",\"line\":{\"color\":\"#ab63fa\",\"dash\":\"solid\"},\"marker\":{\"symbol\":\"circle\"},\"mode\":\"lines\",\"name\":\"(8,)_(True,)_(True,)_(False,)_False\",\"showlegend\":true,\"x\":[0,1,2,3,4,5,6,7,8,9,10,11,12,13,14,15,16,17,18,19,20,21,22,23,24,25,26,27,28,29],\"xaxis\":\"x\",\"y\":[2.0,1.710838473636871,1.896917890917664,2.034114799599127,2.108681249335629,2.0645778744904675,2.0790304578629906,2.2638719827417555,2.49232817861816,2.783946226408323,2.2406572103238744,1.9252380841573558,1.721699895504655,1.639219943936298,1.676988343270934,1.9737979083039723,1.9713861455705128,2.0122180018932885,3.596298543164371,4.854836215097219,4.422200472617497,2.0426161496943913,1.9435123121625244,1.686350848421236,1.7042741331535791,1.5743275890682227,0.9609327716296249,0.8315873460481614,0.9656728575666248,0.9856157954902247],\"yaxis\":\"y\",\"type\":\"scattergl\"},{\"hovertemplate\":\"Parameters=(8,)_(True,)_(False,)_(True,)_True\\u003cbr\\u003eTime=%{x}\\u003cbr\\u003eCumulative Return=%{y}\\u003cextra\\u003e\\u003c\\u002fextra\\u003e\",\"legendgroup\":\"(8,)_(True,)_(False,)_(True,)_True\",\"line\":{\"color\":\"#FFA15A\",\"dash\":\"solid\"},\"marker\":{\"symbol\":\"circle\"},\"mode\":\"lines\",\"name\":\"(8,)_(True,)_(False,)_(True,)_True\",\"showlegend\":true,\"x\":[0,1,2,3,4,5,6,7,8,9,10,11,12,13,14,15,16,17,18,19,20,21,22,23,24,25,26,27,28,29],\"xaxis\":\"x\",\"y\":[2.0,2.52702954534198,2.03571335462332,1.6381650548254336,1.170181379644762,1.0550012423442574,1.0105793312035032,0.9748277552953036,0.8212564261682641,0.6357851053181626,0.9279009594764155,1.0424058673235377,1.1914341308143657,1.2398494079074713,1.217322052767179,1.00757003808731,0.8610162356400471,0.7712507813014177,0.34738169500810495,0.23507942313008634,0.25682891765896093,0.2552111545643653,0.2697746407461179,0.24431442294174696,0.2514294824151624,0.17411186812262203,0.2822176775164903,0.30624399404074387,0.2539665239144781,0.2840721390546942],\"yaxis\":\"y\",\"type\":\"scattergl\"},{\"hovertemplate\":\"Parameters=(8,)_(True,)_(False,)_(True,)_False\\u003cbr\\u003eTime=%{x}\\u003cbr\\u003eCumulative Return=%{y}\\u003cextra\\u003e\\u003c\\u002fextra\\u003e\",\"legendgroup\":\"(8,)_(True,)_(False,)_(True,)_False\",\"line\":{\"color\":\"#19d3f3\",\"dash\":\"solid\"},\"marker\":{\"symbol\":\"circle\"},\"mode\":\"lines\",\"name\":\"(8,)_(True,)_(False,)_(True,)_False\",\"showlegend\":true,\"x\":[0,1,2,3,4,5,6,7,8,9,10,11,12,13,14,15,16,17,18,19,20,21,22,23,24,25,26,27,28,29],\"xaxis\":\"x\",\"y\":[2.0,2.5482723496674495,2.2711094022555463,1.8207219034914792,0.9964473396612437,0.8924800602365953,0.8358192432478573,0.7884798572681221,0.6576046875932634,0.5068054078807802,0.7303280072221832,0.833136870975001,0.9832339392164787,1.029446609203069,1.0065239529704804,0.8181084439564574,0.8379751546327187,0.7528448617821399,0.2032567452754547,0.07442839853825048,0.11047927680094549,0.1215555459363021,0.12571578460097294,0.12190094220838597,0.13888692757113374,0.11018254203410123,0.1551215273712816,0.1760015104117793,0.1457055776157564,0.16424993388667097],\"yaxis\":\"y\",\"type\":\"scattergl\"},{\"hovertemplate\":\"Parameters=(8,)_(True,)_(False,)_(False,)_True\\u003cbr\\u003eTime=%{x}\\u003cbr\\u003eCumulative Return=%{y}\\u003cextra\\u003e\\u003c\\u002fextra\\u003e\",\"legendgroup\":\"(8,)_(True,)_(False,)_(False,)_True\",\"line\":{\"color\":\"#FF6692\",\"dash\":\"solid\"},\"marker\":{\"symbol\":\"circle\"},\"mode\":\"lines\",\"name\":\"(8,)_(True,)_(False,)_(False,)_True\",\"showlegend\":true,\"x\":[0,1,2,3,4,5,6,7,8,9,10,11,12,13,14,15,16,17,18,19,20,21,22,23,24,25,26,27,28,29],\"xaxis\":\"x\",\"y\":[2.0,2.3128963912163782,1.8632129094565382,1.7400008673157106,1.9558151788932205,2.0410587450865862,2.0882070831301647,1.9580846304760566,1.7650804278888272,1.5627142809262153,1.8242878696708318,2.0494087861543657,2.2020921554432324,2.3239374579577374,2.2851015848821383,1.9215794964904063,1.5749281820196592,1.5430778365506637,0.39698568001406753,0.3568773698908702,0.2995954003428203,0.37748705060413434,0.4255927854957348,0.45131798615370966,0.40144595166106617,0.39212559803999136,0.6010422948104347,0.6522114226505412,0.5484391995308401,0.5381373566787581],\"yaxis\":\"y\",\"type\":\"scattergl\"},{\"hovertemplate\":\"Parameters=(8,)_(True,)_(False,)_(False,)_False\\u003cbr\\u003eTime=%{x}\\u003cbr\\u003eCumulative Return=%{y}\\u003cextra\\u003e\\u003c\\u002fextra\\u003e\",\"legendgroup\":\"(8,)_(True,)_(False,)_(False,)_False\",\"line\":{\"color\":\"#B6E880\",\"dash\":\"solid\"},\"marker\":{\"symbol\":\"circle\"},\"mode\":\"lines\",\"name\":\"(8,)_(True,)_(False,)_(False,)_False\",\"showlegend\":true,\"x\":[0,1,2,3,4,5,6,7,8,9,10,11,12,13,14,15,16,17,18,19,20,21,22,23,24,25,26,27,28,29],\"xaxis\":\"x\",\"y\":[2.0,2.289161526363129,2.0401807783549604,1.892622205956114,1.82324258263376,1.861375966273839,1.848345849235109,1.684013930006214,1.5140734832031408,1.3369173778513352,1.597817721366994,1.8227438131961442,2.015446200069111,2.111998395608162,2.063336958139378,1.6981476904146953,1.7002226390699868,1.6650071909594166,0.35426178971878663,0.2302865961312313,0.250808444466823,0.38576836910287754,0.40448511418600286,0.45800573423800295,0.4531378461638938,0.48768844806402467,0.6777032636871169,0.7689248555065943,0.6449430716809768,0.6316237994843859],\"yaxis\":\"y\",\"type\":\"scattergl\"},{\"hovertemplate\":\"Parameters=(16,)_(True,)_(True,)_(True,)_True\\u003cbr\\u003eTime=%{x}\\u003cbr\\u003eCumulative Return=%{y}\\u003cextra\\u003e\\u003c\\u002fextra\\u003e\",\"legendgroup\":\"(16,)_(True,)_(True,)_(True,)_True\",\"line\":{\"color\":\"#FF97FF\",\"dash\":\"solid\"},\"marker\":{\"symbol\":\"circle\"},\"mode\":\"lines\",\"name\":\"(16,)_(True,)_(True,)_(True,)_True\",\"showlegend\":true,\"x\":[0,1,2,3,4,5,6,7,8,9,10,11,12,13,14,15,16,17,18,19,20,21,22,23,24,25,26,27,28,29],\"xaxis\":\"x\",\"y\":[2.0,1.477957589128672,1.6260514985207022,1.9032139087328572,2.014674109696274,2.258506886795471,2.3025834146750253,2.3560634181451694,2.7544367937288246,3.306835038055627,1.6139041439839135,1.439073683264052,1.5512500630905457,1.563621166207194,1.6565413038080758,1.9036556670823979,2.0547352806240977,1.9773553446149095,2.464909484544039,2.8468260372921126,2.982484868426818,3.989210197795384,4.142603893844915,4.7334904581386,3.908919164774039,5.144959097360156,3.2806091386483125,2.967144452742149,3.188564984050086,2.6646409532229485],\"yaxis\":\"y\",\"type\":\"scattergl\"},{\"hovertemplate\":\"Parameters=(16,)_(True,)_(True,)_(True,)_False\\u003cbr\\u003eTime=%{x}\\u003cbr\\u003eCumulative Return=%{y}\\u003cextra\\u003e\\u003c\\u002fextra\\u003e\",\"legendgroup\":\"(16,)_(True,)_(True,)_(True,)_False\",\"line\":{\"color\":\"#FECB52\",\"dash\":\"solid\"},\"marker\":{\"symbol\":\"circle\"},\"mode\":\"lines\",\"name\":\"(16,)_(True,)_(True,)_(True,)_False\",\"showlegend\":true,\"x\":[0,1,2,3,4,5,6,7,8,9,10,11,12,13,14,15,16,17,18,19,20,21,22,23,24,25,26,27,28,29],\"xaxis\":\"x\",\"y\":[2.0,1.4221418564579285,1.4869397427973194,1.7426698556593274,2.0241139607780996,2.2778318197188367,2.324654531544563,2.396046353528473,2.791989349063881,3.326147348411435,1.4538089119544868,1.291513379850326,1.2735993641099517,1.2887905835674662,1.3762559878083716,1.6151818661982595,1.59271230693694,1.5488810143941723,1.8529142897514304,2.5036566214982416,2.1038369442774076,2.447185031098119,2.5958963556657464,2.8969725410059874,2.2481069869238333,2.8015294809019577,2.237692101196309,1.9863954409167892,2.1877544276779006,1.8542046915747894],\"yaxis\":\"y\",\"type\":\"scattergl\"},{\"hovertemplate\":\"Parameters=(16,)_(True,)_(True,)_(False,)_True\\u003cbr\\u003eTime=%{x}\\u003cbr\\u003eCumulative Return=%{y}\\u003cextra\\u003e\\u003c\\u002fextra\\u003e\",\"legendgroup\":\"(16,)_(True,)_(True,)_(False,)_True\",\"line\":{\"color\":\"#636efa\",\"dash\":\"solid\"},\"marker\":{\"symbol\":\"circle\"},\"mode\":\"lines\",\"name\":\"(16,)_(True,)_(True,)_(False,)_True\",\"showlegend\":true,\"x\":[0,1,2,3,4,5,6,7,8,9,10,11,12,13,14,15,16,17,18,19,20,21,22,23,24,25,26,27,28,29],\"xaxis\":\"x\",\"y\":[2.0,1.8521334540803318,2.037720432995084,2.147574382109843,1.781369278817217,1.6645659361638512,1.6561586043240464,1.7880559141676866,1.9130169359895617,2.0565511822644167,1.577668291188943,1.4067631756405015,1.2949128063480202,1.2519148509578355,1.2961046102793603,1.6902052423153962,1.8588932990323512,1.7035087734406826,2.1133161959673643,2.2838586668315988,3.04328765189379,3.3769885587025383,2.850868680006292,2.8318078377898726,3.238272347925345,3.179124806176274,2.1398985417324843,1.9354296166317,2.1862714369991787,2.3385868668621583],\"yaxis\":\"y\",\"type\":\"scattergl\"},{\"hovertemplate\":\"Parameters=(16,)_(True,)_(True,)_(False,)_False\\u003cbr\\u003eTime=%{x}\\u003cbr\\u003eCumulative Return=%{y}\\u003cextra\\u003e\\u003c\\u002fextra\\u003e\",\"legendgroup\":\"(16,)_(True,)_(True,)_(False,)_False\",\"line\":{\"color\":\"#EF553B\",\"dash\":\"solid\"},\"marker\":{\"symbol\":\"circle\"},\"mode\":\"lines\",\"name\":\"(16,)_(True,)_(True,)_(False,)_False\",\"showlegend\":true,\"x\":[0,1,2,3,4,5,6,7,8,9,10,11,12,13,14,15,16,17,18,19,20,21,22,23,24,25,26,27,28,29],\"xaxis\":\"x\",\"y\":[2.0,1.7719835094494978,1.852721436906723,1.957071691185577,1.8048798763657843,1.7180649926412264,1.713321078019842,1.8206115239731513,1.9656545681954725,2.076816771134839,1.6296585761319158,1.447732118268987,1.3131079457672934,1.2681673397957358,1.3481139982827206,1.8061241167234026,1.8197226927158237,1.718335456263729,2.280869480820685,2.862138650033237,3.1573415889653114,2.99239904162355,2.6115778096137503,2.5328053662379926,2.7551387287866254,2.5535675776969,2.143975414628836,1.9032032989612748,2.1474729213658663,2.299504434613748],\"yaxis\":\"y\",\"type\":\"scattergl\"},{\"hovertemplate\":\"Parameters=(16,)_(True,)_(False,)_(True,)_True\\u003cbr\\u003eTime=%{x}\\u003cbr\\u003eCumulative Return=%{y}\\u003cextra\\u003e\\u003c\\u002fextra\\u003e\",\"legendgroup\":\"(16,)_(True,)_(False,)_(True,)_True\",\"line\":{\"color\":\"#00cc96\",\"dash\":\"solid\"},\"marker\":{\"symbol\":\"circle\"},\"mode\":\"lines\",\"name\":\"(16,)_(True,)_(False,)_(True,)_True\",\"showlegend\":true,\"x\":[0,1,2,3,4,5,6,7,8,9,10,11,12,13,14,15,16,17,18,19,20,21,22,23,24,25,26,27,28,29],\"xaxis\":\"x\",\"y\":[2.0,2.522042410871328,2.2693293945941617,1.8825195025684687,1.772271252957087,1.5577761049320065,1.5273748861796648,1.4918999436900662,1.239643059591093,0.9910344688007383,1.4983935750200845,1.660711046003078,1.5312579434656506,1.519046276006273,1.4287750568394262,1.2156376979208983,1.1191611781466624,1.161308028480907,0.8749656982766868,0.7393972786840065,0.7041630321032549,0.46647573721439844,0.44853874369916824,0.38456074242060106,0.451551000784761,0.30876598911224323,0.42065178803888453,0.4608453847280055,0.426455205361112,0.49652752042373605],\"yaxis\":\"y\",\"type\":\"scattergl\"},{\"hovertemplate\":\"Parameters=(16,)_(True,)_(False,)_(True,)_False\\u003cbr\\u003eTime=%{x}\\u003cbr\\u003eCumulative Return=%{y}\\u003cextra\\u003e\\u003c\\u002fextra\\u003e\",\"legendgroup\":\"(16,)_(True,)_(False,)_(True,)_False\",\"line\":{\"color\":\"#ab63fa\",\"dash\":\"solid\"},\"marker\":{\"symbol\":\"circle\"},\"mode\":\"lines\",\"name\":\"(16,)_(True,)_(False,)_(True,)_False\",\"showlegend\":true,\"x\":[0,1,2,3,4,5,6,7,8,9,10,11,12,13,14,15,16,17,18,19,20,21,22,23,24,25,26,27,28,29],\"xaxis\":\"x\",\"y\":[2.0,2.5778581435420715,2.4604016758726988,2.0372515103702873,1.708231973837878,1.4941091688108097,1.4633965224943495,1.4184545568783342,1.1840571106627413,0.9575255955776584,1.4965311743135572,1.6635959936639608,1.686671004175717,1.6665527549844057,1.5534500428276987,1.2837622672210165,1.3016212916098078,1.337441786851767,1.074912384478497,0.6974038319415637,0.8087752446924814,0.6767823952996339,0.6356554657172402,0.5619311344699168,0.6877927889256477,0.5184770033329675,0.6228259730617383,0.6927703978921615,0.6225449319530756,0.7174594685839892],\"yaxis\":\"y\",\"type\":\"scattergl\"},{\"hovertemplate\":\"Parameters=(16,)_(True,)_(False,)_(False,)_True\\u003cbr\\u003eTime=%{x}\\u003cbr\\u003eCumulative Return=%{y}\\u003cextra\\u003e\\u003c\\u002fextra\\u003e\",\"legendgroup\":\"(16,)_(True,)_(False,)_(False,)_True\",\"line\":{\"color\":\"#FFA15A\",\"dash\":\"solid\"},\"marker\":{\"symbol\":\"circle\"},\"mode\":\"lines\",\"name\":\"(16,)_(True,)_(False,)_(False,)_True\",\"showlegend\":true,\"x\":[0,1,2,3,4,5,6,7,8,9,10,11,12,13,14,15,16,17,18,19,20,21,22,23,24,25,26,27,28,29],\"xaxis\":\"x\",\"y\":[2.0,2.147866545919668,1.9326465991652235,1.8284572031500634,2.1402463381498436,2.280581039870709,2.292099719409441,2.10955573715186,1.9621262085694708,1.814907278540775,2.2375216302169396,2.4799071144724296,2.6770821126298143,2.7659754008036757,2.6683427326096236,1.8569918979084366,1.6716579829761986,1.8113915452906657,1.3756311242492891,1.2646190895263782,0.8441077831145686,0.7515501399044802,0.8686383270769619,0.8744460228897034,0.748932112803496,0.7626114728603006,1.0119020545395412,1.1085900616407864,0.9649109804106332,0.8976865597492705],\"yaxis\":\"y\",\"type\":\"scattergl\"},{\"hovertemplate\":\"Parameters=(16,)_(True,)_(False,)_(False,)_False\\u003cbr\\u003eTime=%{x}\\u003cbr\\u003eCumulative Return=%{y}\\u003cextra\\u003e\\u003c\\u002fextra\\u003e\",\"legendgroup\":\"(16,)_(True,)_(False,)_(False,)_False\",\"line\":{\"color\":\"#19d3f3\",\"dash\":\"solid\"},\"marker\":{\"symbol\":\"circle\"},\"mode\":\"lines\",\"name\":\"(16,)_(True,)_(False,)_(False,)_False\",\"showlegend\":true,\"x\":[0,1,2,3,4,5,6,7,8,9,10,11,12,13,14,15,16,17,18,19,20,21,22,23,24,25,26,27,28,29],\"xaxis\":\"x\",\"y\":[2.0,2.228016490550502,2.1265000639989635,2.0067298611060918,2.1627833469289808,2.2668134196466827,2.2730725363689674,2.130729709189658,1.960980413765355,1.850082544810066,2.2484227271708006,2.499424739815429,2.7318454916118564,2.825341835312652,2.647229190609853,1.7478558759826595,1.7346960102052897,1.831345920251037,1.231815492638965,0.9178929407129469,0.823220834691696,0.8662266792203387,0.9764651556373976,1.0059180579777738,0.9176170983936671,0.9847516977698245,1.142705840631505,1.2710336661080657,1.1079008500535796,1.0294664069058033],\"yaxis\":\"y\",\"type\":\"scattergl\"},{\"hovertemplate\":\"Parameters=(24,)_(True,)_(True,)_(True,)_True\\u003cbr\\u003eTime=%{x}\\u003cbr\\u003eCumulative Return=%{y}\\u003cextra\\u003e\\u003c\\u002fextra\\u003e\",\"legendgroup\":\"(24,)_(True,)_(True,)_(True,)_True\",\"line\":{\"color\":\"#FF6692\",\"dash\":\"solid\"},\"marker\":{\"symbol\":\"circle\"},\"mode\":\"lines\",\"name\":\"(24,)_(True,)_(True,)_(True,)_True\",\"showlegend\":true,\"x\":[0,1,2,3,4,5,6,7,8,9,10,11,12,13,14,15,16,17,18,19,20,21,22,23,24,25,26,27,28,29],\"xaxis\":\"x\",\"y\":[2.0,1.5014070364937753,1.6223499127018113,1.91271230712742,2.1603892674258858,2.419737597486436,2.571733449707058,2.565479215116751,2.8655755986101283,3.335116343230915,1.7282011578611738,1.7126753126950467,1.786841039176244,1.8369201916823676,1.9931746947661693,2.5391589702568393,2.683716768374681,2.806324378419478,3.131446395916052,3.716517673882513,3.858165320072914,5.441913213594879,5.533400290139237,5.984931732654285,5.011898466969432,6.622961960108332,4.491654608929677,4.167654479490603,4.672253313081335,3.9301524312833602],\"yaxis\":\"y\",\"type\":\"scattergl\"},{\"hovertemplate\":\"Parameters=(24,)_(True,)_(True,)_(True,)_False\\u003cbr\\u003eTime=%{x}\\u003cbr\\u003eCumulative Return=%{y}\\u003cextra\\u003e\\u003c\\u002fextra\\u003e\",\"legendgroup\":\"(24,)_(True,)_(True,)_(True,)_False\",\"line\":{\"color\":\"#B6E880\",\"dash\":\"solid\"},\"marker\":{\"symbol\":\"circle\"},\"mode\":\"lines\",\"name\":\"(24,)_(True,)_(True,)_(True,)_False\",\"showlegend\":true,\"x\":[0,1,2,3,4,5,6,7,8,9,10,11,12,13,14,15,16,17,18,19,20,21,22,23,24,25,26,27,28,29],\"xaxis\":\"x\",\"y\":[2.0,1.4440807689814408,1.5089229878818688,1.7837991325159783,2.1137519935303555,2.402142637941073,2.5107415062267657,2.488652904499746,2.743804759374978,3.115603390828792,1.5777817161627812,1.5812476256189727,1.5556864009896019,1.599211582927098,1.7622008699704785,2.271991722083684,2.2768681260265633,2.3712581653737943,2.7112299842438046,3.594494747102981,3.1676201238867567,3.9430169442125904,4.139771584135676,4.431036305356076,3.492309906831609,4.440487967898003,3.551613902760946,3.281918694689952,3.716844934520878,3.1532617793454403],\"yaxis\":\"y\",\"type\":\"scattergl\"},{\"hovertemplate\":\"Parameters=(24,)_(True,)_(True,)_(False,)_True\\u003cbr\\u003eTime=%{x}\\u003cbr\\u003eCumulative Return=%{y}\\u003cextra\\u003e\\u003c\\u002fextra\\u003e\",\"legendgroup\":\"(24,)_(True,)_(True,)_(False,)_True\",\"line\":{\"color\":\"#FF97FF\",\"dash\":\"solid\"},\"marker\":{\"symbol\":\"circle\"},\"mode\":\"lines\",\"name\":\"(24,)_(True,)_(True,)_(False,)_True\",\"showlegend\":true,\"x\":[0,1,2,3,4,5,6,7,8,9,10,11,12,13,14,15,16,17,18,19,20,21,22,23,24,25,26,27,28,29],\"xaxis\":\"x\",\"y\":[2.0,1.8459881215648946,1.9946880459966485,2.0524307910290576,1.49849567354424,1.4194954284845558,1.4518759527536222,1.6685175234601517,1.7537149607789757,1.8963135042468902,1.464362653826631,1.4512070858379436,1.4772447497744274,1.4443856990909687,1.494711879249145,1.840721010888048,1.9898224089668761,1.8527494425008324,2.1666160390956817,2.2007543877011324,2.786409303313683,3.1519561346966527,2.7493829626429744,2.55904768664322,2.744510645498971,2.6621501431458836,2.0629185622836146,1.914112400769466,2.096270708218787,2.176573422154192],\"yaxis\":\"y\",\"type\":\"scattergl\"},{\"hovertemplate\":\"Parameters=(24,)_(True,)_(True,)_(False,)_False\\u003cbr\\u003eTime=%{x}\\u003cbr\\u003eCumulative Return=%{y}\\u003cextra\\u003e\\u003c\\u002fextra\\u003e\",\"legendgroup\":\"(24,)_(True,)_(True,)_(False,)_False\",\"line\":{\"color\":\"#FECB52\",\"dash\":\"solid\"},\"marker\":{\"symbol\":\"circle\"},\"mode\":\"lines\",\"name\":\"(24,)_(True,)_(True,)_(False,)_False\",\"showlegend\":true,\"x\":[0,1,2,3,4,5,6,7,8,9,10,11,12,13,14,15,16,17,18,19,20,21,22,23,24,25,26,27,28,29],\"xaxis\":\"x\",\"y\":[2.0,1.792891604560016,1.873396152771415,1.932791345352567,1.54574872712281,1.4718214613905443,1.475842206432233,1.6836168420343163,1.7473747144868654,1.8112064065703155,1.3958065282506573,1.3988726932313513,1.3757461905787367,1.3471314498909879,1.4249853493199085,1.797720494289848,1.8365596564845104,1.742196269421088,2.1087522579154534,2.4125382831496265,2.6991761015704183,2.7436411224080333,2.4294766403422727,2.1948056184855185,2.2483855408916753,2.1065919598549296,1.8609120147504512,1.7196018761034022,1.8884235516830956,1.967422621757821],\"yaxis\":\"y\",\"type\":\"scattergl\"},{\"hovertemplate\":\"Parameters=(24,)_(True,)_(False,)_(True,)_True\\u003cbr\\u003eTime=%{x}\\u003cbr\\u003eCumulative Return=%{y}\\u003cextra\\u003e\\u003c\\u002fextra\\u003e\",\"legendgroup\":\"(24,)_(True,)_(False,)_(True,)_True\",\"line\":{\"color\":\"#636efa\",\"dash\":\"solid\"},\"marker\":{\"symbol\":\"circle\"},\"mode\":\"lines\",\"name\":\"(24,)_(True,)_(False,)_(True,)_True\",\"showlegend\":true,\"x\":[0,1,2,3,4,5,6,7,8,9,10,11,12,13,14,15,16,17,18,19,20,21,22,23,24,25,26,27,28,29],\"xaxis\":\"x\",\"y\":[2.0,2.4985929635062245,2.297323745942613,1.886156944983003,1.6419186363578937,1.444811169266052,1.3540553347497029,1.3573482808801605,1.1985727554995924,1.0021798408012583,1.4850469551445225,1.4983883471376496,1.4335021077595897,1.3933258586706176,1.2748049557668322,0.9256015156499467,0.8729057535475215,0.8330264005926898,0.7365175201256573,0.5989085074640976,0.5760823062161233,0.3396048452275366,0.3338955563707151,0.3066493181966755,0.3565045213691626,0.24190694456228248,0.3197539943192053,0.34281906600617784,0.3013122420382454,0.34917010965151496],\"yaxis\":\"y\",\"type\":\"scattergl\"},{\"hovertemplate\":\"Parameters=(24,)_(True,)_(False,)_(True,)_False\\u003cbr\\u003eTime=%{x}\\u003cbr\\u003eCumulative Return=%{y}\\u003cextra\\u003e\\u003c\\u002fextra\\u003e\",\"legendgroup\":\"(24,)_(True,)_(False,)_(True,)_False\",\"line\":{\"color\":\"#EF553B\",\"dash\":\"solid\"},\"marker\":{\"symbol\":\"circle\"},\"mode\":\"lines\",\"name\":\"(24,)_(True,)_(False,)_(True,)_False\",\"showlegend\":true,\"x\":[0,1,2,3,4,5,6,7,8,9,10,11,12,13,14,15,16,17,18,19,20,21,22,23,24,25,26,27,28,29],\"xaxis\":\"x\",\"y\":[2.0,2.5559192310185592,2.441153161260276,1.9964553371715057,1.6271670364994228,1.4051638158490212,1.3416375298795893,1.3534407748516573,1.2146777824139519,1.0500831494992773,1.568390656884538,1.5649453767465993,1.5902430718448335,1.5457510591982875,1.3882103899241556,0.9866120422830629,0.9844944646500471,0.9436811781038393,0.8083838025425483,0.5450284502480467,0.6097548807232257,0.4604939285889762,0.43751550410128115,0.4067329286036361,0.492900342029674,0.35907565204714376,0.43095357105836696,0.4636784438057038,0.4022308758384169,0.4632209225332803],\"yaxis\":\"y\",\"type\":\"scattergl\"},{\"hovertemplate\":\"Parameters=(24,)_(True,)_(False,)_(False,)_True\\u003cbr\\u003eTime=%{x}\\u003cbr\\u003eCumulative Return=%{y}\\u003cextra\\u003e\\u003c\\u002fextra\\u003e\",\"legendgroup\":\"(24,)_(True,)_(False,)_(False,)_True\",\"line\":{\"color\":\"#00cc96\",\"dash\":\"solid\"},\"marker\":{\"symbol\":\"circle\"},\"mode\":\"lines\",\"name\":\"(24,)_(True,)_(False,)_(False,)_True\",\"showlegend\":true,\"x\":[0,1,2,3,4,5,6,7,8,9,10,11,12,13,14,15,16,17,18,19,20,21,22,23,24,25,26,27,28,29],\"xaxis\":\"x\",\"y\":[2.0,2.1540118784351057,1.980499709095212,1.923167691706044,2.442215703412233,2.570968587030405,2.5123214726707466,2.137445596445326,2.0283038675362404,1.8633778768880613,2.28782650142905,2.308379918990759,2.2669627972340085,2.317387918367932,2.2366440547658732,1.7188858982149156,1.579653342577285,1.6884709781005938,1.4024341146214825,1.3803366207244525,1.0130076122512566,0.8801119452776713,0.9925213324745729,1.0612319574835352,0.9843208393771935,1.013859496456434,1.2420722553791452,1.3316676509635403,1.204938246103608,1.1587801755322245],\"yaxis\":\"y\",\"type\":\"scattergl\"},{\"hovertemplate\":\"Parameters=(24,)_(True,)_(False,)_(False,)_False\\u003cbr\\u003eTime=%{x}\\u003cbr\\u003eCumulative Return=%{y}\\u003cextra\\u003e\\u003c\\u002fextra\\u003e\",\"legendgroup\":\"(24,)_(True,)_(False,)_(False,)_False\",\"line\":{\"color\":\"#ab63fa\",\"dash\":\"solid\"},\"marker\":{\"symbol\":\"circle\"},\"mode\":\"lines\",\"name\":\"(24,)_(True,)_(False,)_(False,)_False\",\"showlegend\":true,\"x\":[0,1,2,3,4,5,6,7,8,9,10,11,12,13,14,15,16,17,18,19,20,21,22,23,24,25,26,27,28,29],\"xaxis\":\"x\",\"y\":[2.0,2.207108395439984,2.108004654992672,2.0411713040967436,2.4499170736246696,2.567087262637852,2.560074453235629,2.1996575100712787,2.1163573912645806,2.039046742199017,2.50670176236951,2.501195296390694,2.5425456636804213,2.595429171809468,2.445433206877247,1.805778278975905,1.7667650309835081,1.857542334013208,1.4667176730003613,1.2554228988755198,1.1062639473087945,1.0880398494293089,1.2126273812938466,1.3297589897951805,1.2972967148255736,1.379110239915836,1.5399480929468898,1.656885528354208,1.4942210215124612,1.4317127610746037],\"yaxis\":\"y\",\"type\":\"scattergl\"},{\"hovertemplate\":\"Parameters=(32,)_(True,)_(True,)_(True,)_True\\u003cbr\\u003eTime=%{x}\\u003cbr\\u003eCumulative Return=%{y}\\u003cextra\\u003e\\u003c\\u002fextra\\u003e\",\"legendgroup\":\"(32,)_(True,)_(True,)_(True,)_True\",\"line\":{\"color\":\"#FFA15A\",\"dash\":\"solid\"},\"marker\":{\"symbol\":\"circle\"},\"mode\":\"lines\",\"name\":\"(32,)_(True,)_(True,)_(True,)_True\",\"showlegend\":true,\"x\":[0,1,2,3,4,5,6,7,8,9,10,11,12,13,14,15,16,17,18,19,20,21,22,23,24,25,26,27,28,29],\"xaxis\":\"x\",\"y\":[2.0,1.5415116939193887,1.6933171497423938,1.948987974653453,2.1859312505209036,2.297626160299299,2.406891103229032,2.482813277769802,2.8953355040805833,3.38473619626012,1.9533567689005957,1.9951619394722535,2.0693123934784348,2.113528883586024,2.283565923479776,2.793267338095568,2.90548259084062,3.074077840652271,3.319542169937514,3.8780653341147118,4.026042425768313,5.679369199087709,5.737410183039277,6.505429366647655,4.910713517556285,6.519498961015688,4.89601192532976,4.4603660671323695,4.910502949335066,4.104688688977173],\"yaxis\":\"y\",\"type\":\"scattergl\"},{\"hovertemplate\":\"Parameters=(32,)_(True,)_(True,)_(True,)_False\\u003cbr\\u003eTime=%{x}\\u003cbr\\u003eCumulative Return=%{y}\\u003cextra\\u003e\\u003c\\u002fextra\\u003e\",\"legendgroup\":\"(32,)_(True,)_(True,)_(True,)_False\",\"line\":{\"color\":\"#19d3f3\",\"dash\":\"solid\"},\"marker\":{\"symbol\":\"circle\"},\"mode\":\"lines\",\"name\":\"(32,)_(True,)_(True,)_(True,)_False\",\"showlegend\":true,\"x\":[0,1,2,3,4,5,6,7,8,9,10,11,12,13,14,15,16,17,18,19,20,21,22,23,24,25,26,27,28,29],\"xaxis\":\"x\",\"y\":[2.0,1.496497487485829,1.5843364569232474,1.8109156855462487,2.1291358662167883,2.3033620666766357,2.351386052170184,2.405363006892307,2.758094308496035,3.1217628088421034,1.7322757471171513,1.777425148466393,1.773311542852342,1.8056625642493038,1.988696817890272,2.47118001392641,2.4698419902241264,2.6089826630349973,2.9023204123246162,3.704617369145615,3.3513294103475717,4.379765954303015,4.505364534993884,4.957771427616939,3.5562390983752197,4.587878600891394,3.86497689216524,3.5318801004361298,3.9063793945688374,3.2810758376626663],\"yaxis\":\"y\",\"type\":\"scattergl\"},{\"hovertemplate\":\"Parameters=(32,)_(True,)_(True,)_(False,)_True\\u003cbr\\u003eTime=%{x}\\u003cbr\\u003eCumulative Return=%{y}\\u003cextra\\u003e\\u003c\\u002fextra\\u003e\",\"legendgroup\":\"(32,)_(True,)_(True,)_(False,)_True\",\"line\":{\"color\":\"#FF6692\",\"dash\":\"solid\"},\"marker\":{\"symbol\":\"circle\"},\"mode\":\"lines\",\"name\":\"(32,)_(True,)_(True,)_(False,)_True\",\"showlegend\":true,\"x\":[0,1,2,3,4,5,6,7,8,9,10,11,12,13,14,15,16,17,18,19,20,21,22,23,24,25,26,27,28,29],\"xaxis\":\"x\",\"y\":[2.0,1.876323243924054,2.0611003730491513,2.0300916046181636,1.474856865079993,1.4519655117473458,1.5031398742666335,1.6907562296756289,1.767456204793646,1.9083354204386536,1.5403708340082087,1.5733374003234668,1.5872015336048013,1.6027604869521241,1.6197441781041242,1.98015598973264,2.067128030748378,2.0172102668313943,2.2740480963828182,2.3618921416687244,2.812592538383258,3.223267504580287,2.789328588767172,2.6458795446145724,3.054832487139129,3.0112990168846365,2.473981314461233,2.253847105366107,2.472207351554962,2.5546307116036298],\"yaxis\":\"y\",\"type\":\"scattergl\"},{\"hovertemplate\":\"Parameters=(32,)_(True,)_(True,)_(False,)_False\\u003cbr\\u003eTime=%{x}\\u003cbr\\u003eCumulative Return=%{y}\\u003cextra\\u003e\\u003c\\u002fextra\\u003e\",\"legendgroup\":\"(32,)_(True,)_(True,)_(False,)_False\",\"line\":{\"color\":\"#B6E880\",\"dash\":\"solid\"},\"marker\":{\"symbol\":\"circle\"},\"mode\":\"lines\",\"name\":\"(32,)_(True,)_(True,)_(False,)_False\",\"showlegend\":true,\"x\":[0,1,2,3,4,5,6,7,8,9,10,11,12,13,14,15,16,17,18,19,20,21,22,23,24,25,26,27,28,29],\"xaxis\":\"x\",\"y\":[2.0,1.8268677591747917,1.9340982641413957,1.8874632232440507,1.4592533079867975,1.4503356035139605,1.4460805853073018,1.6158246317929208,1.6556793132086425,1.7257664080900499,1.37546044341659,1.4113099412249905,1.4005671833509252,1.3968052805461548,1.4389543864770653,1.7830537071707175,1.7941025551560106,1.7381232794301258,2.014698419430614,2.3088574178329653,2.58950997525164,2.7499680668055926,2.4632093632685415,2.30809217446504,2.505117067392415,2.412364255342551,2.1762486760563697,1.988692198430705,2.1779685793578265,2.255468028373891],\"yaxis\":\"y\",\"type\":\"scattergl\"},{\"hovertemplate\":\"Parameters=(32,)_(True,)_(False,)_(True,)_True\\u003cbr\\u003eTime=%{x}\\u003cbr\\u003eCumulative Return=%{y}\\u003cextra\\u003e\\u003c\\u002fextra\\u003e\",\"legendgroup\":\"(32,)_(True,)_(False,)_(True,)_True\",\"line\":{\"color\":\"#FF97FF\",\"dash\":\"solid\"},\"marker\":{\"symbol\":\"circle\"},\"mode\":\"lines\",\"name\":\"(32,)_(True,)_(False,)_(True,)_True\",\"showlegend\":true,\"x\":[0,1,2,3,4,5,6,7,8,9,10,11,12,13,14,15,16,17,18,19,20,21,22,23,24,25,26,27,28,29],\"xaxis\":\"x\",\"y\":[2.0,2.4584883060806115,2.2163805495113564,1.881733349194155,1.6529663840483741,1.5685044728656659,1.4939133341181974,1.446789827471161,1.2064040658933504,1.0024846983228899,1.4264279217290743,1.395899928315141,1.3440211252044811,1.3153024566388816,1.2094841079857093,0.9395222231734554,0.9017783515808125,0.8494512280458825,0.7816227647599411,0.6501123342794422,0.6253057041207043,0.3685188765614283,0.3647527544005751,0.31592634950420423,0.393371315594053,0.2645000132589267,0.33036586353858133,0.3597617315093673,0.32345484061294705,0.3765338278036576],\"yaxis\":\"y\",\"type\":\"scattergl\"},{\"hovertemplate\":\"Parameters=(32,)_(True,)_(False,)_(True,)_False\\u003cbr\\u003eTime=%{x}\\u003cbr\\u003eCumulative Return=%{y}\\u003cextra\\u003e\\u003c\\u002fextra\\u003e\",\"legendgroup\":\"(32,)_(True,)_(False,)_(True,)_False\",\"line\":{\"color\":\"#FECB52\",\"dash\":\"solid\"},\"marker\":{\"symbol\":\"circle\"},\"mode\":\"lines\",\"name\":\"(32,)_(True,)_(False,)_(True,)_False\",\"showlegend\":true,\"x\":[0,1,2,3,4,5,6,7,8,9,10,11,12,13,14,15,16,17,18,19,20,21,22,23,24,25,26,27,28,29],\"xaxis\":\"x\",\"y\":[2.0,2.503502512514171,2.3565560040688545,2.019540063246702,1.6646597069015059,1.528441375138867,1.4965741114162712,1.4622196875752085,1.2477944003519847,1.0832664808684511,1.5654250725794345,1.5246244061718621,1.5281529392985365,1.5002744152815113,1.3481963840399123,1.0211067571022014,1.0216596367126973,0.9641035623571008,0.8557057668980275,0.6191605082142734,0.6782062693061475,0.47008226050517704,0.45660170804108974,0.41075197528433083,0.5268691019138655,0.3740281474240797,0.43296292107567785,0.4702771312176118,0.42041177659642787,0.48770810209837123],\"yaxis\":\"y\",\"type\":\"scattergl\"},{\"hovertemplate\":\"Parameters=(32,)_(True,)_(False,)_(False,)_True\\u003cbr\\u003eTime=%{x}\\u003cbr\\u003eCumulative Return=%{y}\\u003cextra\\u003e\\u003c\\u002fextra\\u003e\",\"legendgroup\":\"(32,)_(True,)_(False,)_(False,)_True\",\"line\":{\"color\":\"#636efa\",\"dash\":\"solid\"},\"marker\":{\"symbol\":\"circle\"},\"mode\":\"lines\",\"name\":\"(32,)_(True,)_(False,)_(False,)_True\",\"showlegend\":true,\"x\":[0,1,2,3,4,5,6,7,8,9,10,11,12,13,14,15,16,17,18,19,20,21,22,23,24,25,26,27,28,29],\"xaxis\":\"x\",\"y\":[2.0,2.123676756075946,1.9145406728087835,1.9433444851563633,2.474853687299822,2.5132660590654794,2.4246862771261277,2.1220459107087604,2.0257807805297765,1.8643112025816844,2.223787054304821,2.176194213815891,2.157017750699836,2.1358730265788455,2.113240195211581,1.6430198125991342,1.5708554036980273,1.608788994662457,1.4039527014958708,1.3497195105243849,1.0921636686996619,0.9326936169222085,1.0582593840631327,1.1126833403229688,0.9407045640973807,0.9541102530612785,1.1243558268681189,1.2244007137241097,1.1057766772284408,1.0689100975933252],\"yaxis\":\"y\",\"type\":\"scattergl\"},{\"hovertemplate\":\"Parameters=(32,)_(True,)_(False,)_(False,)_False\\u003cbr\\u003eTime=%{x}\\u003cbr\\u003eCumulative Return=%{y}\\u003cextra\\u003e\\u003c\\u002fextra\\u003e\",\"legendgroup\":\"(32,)_(True,)_(False,)_(False,)_False\",\"line\":{\"color\":\"#EF553B\",\"dash\":\"solid\"},\"marker\":{\"symbol\":\"circle\"},\"mode\":\"lines\",\"name\":\"(32,)_(True,)_(False,)_(False,)_False\",\"showlegend\":true,\"x\":[0,1,2,3,4,5,6,7,8,9,10,11,12,13,14,15,16,17,18,19,20,21,22,23,24,25,26,27,28,29],\"xaxis\":\"x\",\"y\":[2.0,2.1731322408252085,2.045577267909077,2.094900294208347,2.5701715823627973,2.5858782663843782,2.593464758143258,2.2890382919159054,2.232578642720269,2.1380706363000543,2.5720684782316297,2.505031026362507,2.524099085756941,2.530878778686422,2.4545085936457145,1.867558272184859,1.8559857842838698,1.913895929756415,1.6093513436599114,1.3743756397219147,1.2073137695680134,1.1325029886777538,1.2505971195533567,1.3293517363568021,1.2158747329614656,1.2608929087786709,1.3843056392213373,1.5036097851612167,1.3605017573394653,1.3120905279128754],\"yaxis\":\"y\",\"type\":\"scattergl\"},{\"hovertemplate\":\"Parameters=(40,)_(True,)_(True,)_(True,)_True\\u003cbr\\u003eTime=%{x}\\u003cbr\\u003eCumulative Return=%{y}\\u003cextra\\u003e\\u003c\\u002fextra\\u003e\",\"legendgroup\":\"(40,)_(True,)_(True,)_(True,)_True\",\"line\":{\"color\":\"#00cc96\",\"dash\":\"solid\"},\"marker\":{\"symbol\":\"circle\"},\"mode\":\"lines\",\"name\":\"(40,)_(True,)_(True,)_(True,)_True\",\"showlegend\":true,\"x\":[0,1,2,3,4,5,6,7,8,9,10,11,12,13,14,15,16,17,18,19,20,21,22,23,24,25,26,27,28,29],\"xaxis\":\"x\",\"y\":[2.0,1.5539104594323208,1.6942611940594872,1.9168074073741859,2.3846589992371725,2.5638382690526136,2.5906195933795546,2.5042952671908756,2.824273354848172,3.238789766037577,1.8447679875381324,1.8921929125514811,1.915878816266853,1.9162019746421513,2.0452946558290828,2.509323231085829,2.654609459061709,2.8451996751439825,3.00780860399035,3.5033182243838454,3.4564917157928314,4.7041984419427045,4.874362035489643,5.6988007893380095,3.9465851548490103,5.290255928476565,4.251542469137046,4.054492066151612,4.52430018695075,3.758710605774316],\"yaxis\":\"y\",\"type\":\"scattergl\"},{\"hovertemplate\":\"Parameters=(40,)_(True,)_(True,)_(True,)_False\\u003cbr\\u003eTime=%{x}\\u003cbr\\u003eCumulative Return=%{y}\\u003cextra\\u003e\\u003c\\u002fextra\\u003e\",\"legendgroup\":\"(40,)_(True,)_(True,)_(True,)_False\",\"line\":{\"color\":\"#ab63fa\",\"dash\":\"solid\"},\"marker\":{\"symbol\":\"circle\"},\"mode\":\"lines\",\"name\":\"(40,)_(True,)_(True,)_(True,)_False\",\"showlegend\":true,\"x\":[0,1,2,3,4,5,6,7,8,9,10,11,12,13,14,15,16,17,18,19,20,21,22,23,24,25,26,27,28,29],\"xaxis\":\"x\",\"y\":[2.0,1.518077289675115,1.5924101372772033,1.7928690355429424,2.280014213461239,2.4899733758549063,2.435571770816806,2.3111120260730056,2.5551284054711636,2.8583968332621583,1.5478206724658286,1.5979017779998412,1.572295708837603,1.585059790179611,1.7162195585994886,2.1223774952996606,2.180542973981573,2.32304543366615,2.515271202043863,3.1561345567403514,2.75611684240585,3.5736581303915957,3.781975998013002,4.369830352101825,2.916742221939787,3.834319418562821,3.3887369344265035,3.244588398929796,3.622278561746235,3.020850294245978],\"yaxis\":\"y\",\"type\":\"scattergl\"},{\"hovertemplate\":\"Parameters=(40,)_(True,)_(True,)_(False,)_True\\u003cbr\\u003eTime=%{x}\\u003cbr\\u003eCumulative Return=%{y}\\u003cextra\\u003e\\u003c\\u002fextra\\u003e\",\"legendgroup\":\"(40,)_(True,)_(True,)_(False,)_True\",\"line\":{\"color\":\"#FFA15A\",\"dash\":\"solid\"},\"marker\":{\"symbol\":\"circle\"},\"mode\":\"lines\",\"name\":\"(40,)_(True,)_(True,)_(False,)_True\",\"showlegend\":true,\"x\":[0,1,2,3,4,5,6,7,8,9,10,11,12,13,14,15,16,17,18,19,20,21,22,23,24,25,26,27,28,29],\"xaxis\":\"x\",\"y\":[2.0,1.8686520160557518,2.037430520392335,2.0115992066386164,1.6134705241981384,1.7044054238388318,1.798054148939339,1.9375007351025646,2.101511168754382,2.280750469224145,2.0393199822258694,2.0917464108546273,2.1189672421869297,2.1422942662751514,2.178840192809851,2.5476528061305794,2.551065705675318,2.503401880363223,2.7631569195575745,2.8708716259252367,3.3814292346575354,3.773674479425079,3.286258301576584,3.108134708076262,3.5300781660235696,3.4134232268446465,2.856511121338895,2.724117602591697,2.902418566394322,2.9529360887420273],\"yaxis\":\"y\",\"type\":\"scattergl\"},{\"hovertemplate\":\"Parameters=(40,)_(True,)_(True,)_(False,)_False\\u003cbr\\u003eTime=%{x}\\u003cbr\\u003eCumulative Return=%{y}\\u003cextra\\u003e\\u003c\\u002fextra\\u003e\",\"legendgroup\":\"(40,)_(True,)_(True,)_(False,)_False\",\"line\":{\"color\":\"#19d3f3\",\"dash\":\"solid\"},\"marker\":{\"symbol\":\"circle\"},\"mode\":\"lines\",\"name\":\"(40,)_(True,)_(True,)_(False,)_False\",\"showlegend\":true,\"x\":[0,1,2,3,4,5,6,7,8,9,10,11,12,13,14,15,16,17,18,19,20,21,22,23,24,25,26,27,28,29],\"xaxis\":\"x\",\"y\":[2.0,1.8196742835587898,1.9087748663322548,1.8601498417778175,1.600077483938619,1.6758435218264374,1.7082430924573135,1.8366691596994642,1.978244099731571,2.0770172854533384,1.8701924482500094,1.9307041774418097,1.9338055267517507,1.9238669790016556,1.9869379700918903,2.3448384417381924,2.2556211893442843,2.2035345458432327,2.4709649625146732,2.788261490302318,3.134452387105939,3.260375265723036,2.87315125553752,2.6538301361445864,2.883481887114839,2.739575611030809,2.475325360282676,2.370031106858135,2.5186058611261752,2.573078255312385],\"yaxis\":\"y\",\"type\":\"scattergl\"},{\"hovertemplate\":\"Parameters=(40,)_(True,)_(False,)_(True,)_True\\u003cbr\\u003eTime=%{x}\\u003cbr\\u003eCumulative Return=%{y}\\u003cextra\\u003e\\u003c\\u002fextra\\u003e\",\"legendgroup\":\"(40,)_(True,)_(False,)_(True,)_True\",\"line\":{\"color\":\"#FF6692\",\"dash\":\"solid\"},\"marker\":{\"symbol\":\"circle\"},\"mode\":\"lines\",\"name\":\"(40,)_(True,)_(False,)_(True,)_True\",\"showlegend\":true,\"x\":[0,1,2,3,4,5,6,7,8,9,10,11,12,13,14,15,16,17,18,19,20,21,22,23,24,25,26,27,28,29],\"xaxis\":\"x\",\"y\":[2.0,2.4460895405676792,2.2251563060311663,1.9328754512982262,1.4611019944116248,1.3513172459137028,1.3372016654310164,1.381759744525958,1.2052099396975517,1.0283222110095174,1.470926906286098,1.4331126127261642,1.415173338599751,1.4149346360717074,1.3196118526219809,1.0202233972134003,0.9611539209348369,0.8921469591559682,0.8411589519980683,0.7025855226774007,0.7119765128491148,0.45497086753432203,0.43851333949117344,0.36434416852608076,0.4763694124371691,0.3141827037187446,0.37587079734908774,0.39329164934004235,0.3477195757762586,0.40655972196134443],\"yaxis\":\"y\",\"type\":\"scattergl\"},{\"hovertemplate\":\"Parameters=(40,)_(True,)_(False,)_(True,)_False\\u003cbr\\u003eTime=%{x}\\u003cbr\\u003eCumulative Return=%{y}\\u003cextra\\u003e\\u003c\\u002fextra\\u003e\",\"legendgroup\":\"(40,)_(True,)_(False,)_(True,)_False\",\"line\":{\"color\":\"#B6E880\",\"dash\":\"solid\"},\"marker\":{\"symbol\":\"circle\"},\"mode\":\"lines\",\"name\":\"(40,)_(True,)_(False,)_(True,)_False\",\"showlegend\":true,\"x\":[0,1,2,3,4,5,6,7,8,9,10,11,12,13,14,15,16,17,18,19,20,21,22,23,24,25,26,27,28,29],\"xaxis\":\"x\",\"y\":[2.0,2.481922710324885,2.3603950490908354,2.063259166860335,1.502645572668078,1.3642717836148084,1.3940787588445556,1.4653173437869156,1.3106033234943684,1.1550476932870102,1.684637550716687,1.6301296141935264,1.656252128242357,1.6428064788209842,1.5068683150647648,1.1502551284483562,1.1187314526175036,1.0456203121232637,0.9590980405325463,0.7147304402359808,0.8053174643087981,0.5664377960456336,0.5334186572508811,0.45050631714563166,0.6003119913390169,0.4114599940769095,0.45927535484104304,0.4788117989708589,0.423075143322523,0.49332080392909505],\"yaxis\":\"y\",\"type\":\"scattergl\"},{\"hovertemplate\":\"Parameters=(40,)_(True,)_(False,)_(False,)_True\\u003cbr\\u003eTime=%{x}\\u003cbr\\u003eCumulative Return=%{y}\\u003cextra\\u003e\\u003c\\u002fextra\\u003e\",\"legendgroup\":\"(40,)_(True,)_(False,)_(False,)_True\",\"line\":{\"color\":\"#FF97FF\",\"dash\":\"solid\"},\"marker\":{\"symbol\":\"circle\"},\"mode\":\"lines\",\"name\":\"(40,)_(True,)_(False,)_(False,)_True\",\"showlegend\":true,\"x\":[0,1,2,3,4,5,6,7,8,9,10,11,12,13,14,15,16,17,18,19,20,21,22,23,24,25,26,27,28,29],\"xaxis\":\"x\",\"y\":[2.0,2.1313479839442486,1.9388425191171526,1.9634238969502094,2.35201789051772,2.219458598222227,2.0975102253587266,1.934839573564802,1.7710544086057487,1.619999987381549,1.7914862552430986,1.7454310863051712,1.7227170111400762,1.7037521775098126,1.6746874486848273,1.3912128476181225,1.3893491440228583,1.4153075874886194,1.2684541075324454,1.2190066220253288,1.0022177205816747,0.8859606269566642,1.000393269430178,1.0546171397750472,0.9114480545964314,0.9415677608389317,1.0951878803838118,1.1459476257564594,1.0709422126475263,1.0523021213157882],\"yaxis\":\"y\",\"type\":\"scattergl\"},{\"hovertemplate\":\"Parameters=(40,)_(True,)_(False,)_(False,)_False\\u003cbr\\u003eTime=%{x}\\u003cbr\\u003eCumulative Return=%{y}\\u003cextra\\u003e\\u003c\\u002fextra\\u003e\",\"legendgroup\":\"(40,)_(True,)_(False,)_(False,)_False\",\"line\":{\"color\":\"#FECB52\",\"dash\":\"solid\"},\"marker\":{\"symbol\":\"circle\"},\"mode\":\"lines\",\"name\":\"(40,)_(True,)_(False,)_(False,)_False\",\"showlegend\":true,\"x\":[0,1,2,3,4,5,6,7,8,9,10,11,12,13,14,15,16,17,18,19,20,21,22,23,24,25,26,27,28,29],\"xaxis\":\"x\",\"y\":[2.0,2.18032571644121,2.073565790378537,2.1263887760804283,2.423684687548241,2.308919629163138,2.2642806138661986,2.0940515313337045,1.9326369301209192,1.8361408978782439,2.018979791394315,1.9536539162444662,1.9505157020655146,1.9605401296380482,1.896266866258573,1.554698676402193,1.613852408164723,1.6511193727793914,1.4507324341359096,1.2644439310274773,1.1074504137541616,1.0629599169135393,1.1892041581887671,1.2799816926669847,1.1692172420989904,1.2275695071142776,1.345976733678707,1.4032312738589592,1.3152641830087446,1.2868176562449976],\"yaxis\":\"y\",\"type\":\"scattergl\"},{\"hovertemplate\":\"Parameters=(8,)_(False,)_(True,)_(True,)_False\\u003cbr\\u003eTime=%{x}\\u003cbr\\u003eCumulative Return=%{y}\\u003cextra\\u003e\\u003c\\u002fextra\\u003e\",\"legendgroup\":\"(8,)_(False,)_(True,)_(True,)_False\",\"line\":{\"color\":\"#636efa\",\"dash\":\"solid\"},\"marker\":{\"symbol\":\"circle\"},\"mode\":\"lines\",\"name\":\"(8,)_(False,)_(True,)_(True,)_False\",\"showlegend\":true,\"x\":[0,1,2,3,4,5,6,7,8,9,10,11,12,13,14,15,16,17,18,19,20,21,22,23,24,25,26,27,28,29],\"xaxis\":\"x\",\"y\":[2.0,1.4610895532141803,1.6796294479359801,2.0101015276626217,2.737281613068111,3.0120047709306155,3.1685978894063305,3.3126528580690278,3.8488145675708694,4.724558957847353,2.6151232970385725,2.270664021603968,1.904021617150997,1.8203697273702932,1.8549956042781475,2.191379735510106,2.325249214073054,2.5706366415515642,4.2329763509780305,6.210810220995101,4.500318728652866,4.2909679583438125,4.080703346282475,4.325506495399673,3.9355365013481576,4.9038878728418265,2.4086349698901794,2.145679807680258,2.514101015450984,2.2072653602375922],\"yaxis\":\"y\",\"type\":\"scattergl\"},{\"hovertemplate\":\"Parameters=(8,)_(False,)_(True,)_(False,)_False\\u003cbr\\u003eTime=%{x}\\u003cbr\\u003eCumulative Return=%{y}\\u003cextra\\u003e\\u003c\\u002fextra\\u003e\",\"legendgroup\":\"(8,)_(False,)_(True,)_(False,)_False\",\"line\":{\"color\":\"#EF553B\",\"dash\":\"solid\"},\"marker\":{\"symbol\":\"circle\"},\"mode\":\"lines\",\"name\":\"(8,)_(False,)_(True,)_(False,)_False\",\"showlegend\":true,\"x\":[0,1,2,3,4,5,6,7,8,9,10,11,12,13,14,15,16,17,18,19,20,21,22,23,24,25,26,27,28,29],\"xaxis\":\"x\",\"y\":[2.0,1.6989624824415968,1.953081801296686,2.0875685139660285,1.986616892514511,1.9211975180594734,1.9039815029687497,2.0473031838524767,2.2518364898633374,2.512505454484465,2.059575195894269,1.7882917040282411,1.627082665302015,1.54294162416177,1.5721139920856528,1.838421063180659,2.0032818720565655,2.0499843299462275,3.6459306208624205,4.412822955618185,4.720199869011622,2.863233336812172,2.6406656256768875,2.3727827329558955,2.5088043437593903,2.418553514920883,1.3043815817881277,1.1619798170083155,1.3486758255588123,1.3749809043389314],\"yaxis\":\"y\",\"type\":\"scattergl\"},{\"hovertemplate\":\"Parameters=(8,)_(False,)_(False,)_(True,)_False\\u003cbr\\u003eTime=%{x}\\u003cbr\\u003eCumulative Return=%{y}\\u003cextra\\u003e\\u003c\\u002fextra\\u003e\",\"legendgroup\":\"(8,)_(False,)_(False,)_(True,)_False\",\"line\":{\"color\":\"#00cc96\",\"dash\":\"solid\"},\"marker\":{\"symbol\":\"circle\"},\"mode\":\"lines\",\"name\":\"(8,)_(False,)_(False,)_(True,)_False\",\"showlegend\":true,\"x\":[0,1,2,3,4,5,6,7,8,9,10,11,12,13,14,15,16,17,18,19,20,21,22,23,24,25,26,27,28,29],\"xaxis\":\"x\",\"y\":[2.0,2.5389104467858195,2.159157391589404,1.7343367655087294,1.1069181302266442,0.9958239546111973,0.9440514009916339,0.9011316933693753,0.7552811228737855,0.5834273754858214,0.8439178302186817,0.9550771490365213,1.1092927348868147,1.1580287538255787,1.1360014917354506,0.92999945378219,0.8731865975144161,0.7810377596281541,0.27596829107513593,0.14702369325969536,0.1875148317013962,0.19623785263125176,0.20585383586762762,0.1935045757029164,0.21095015769801057,0.1590451951970407,0.23997240954338867,0.2661706440895991,0.22046815398944752,0.24737538248476093],\"yaxis\":\"y\",\"type\":\"scattergl\"},{\"hovertemplate\":\"Parameters=(8,)_(False,)_(False,)_(False,)_False\\u003cbr\\u003eTime=%{x}\\u003cbr\\u003eCumulative Return=%{y}\\u003cextra\\u003e\\u003c\\u002fextra\\u003e\",\"legendgroup\":\"(8,)_(False,)_(False,)_(False,)_False\",\"line\":{\"color\":\"#ab63fa\",\"dash\":\"solid\"},\"marker\":{\"symbol\":\"circle\"},\"mode\":\"lines\",\"name\":\"(8,)_(False,)_(False,)_(False,)_False\",\"showlegend\":true,\"x\":[0,1,2,3,4,5,6,7,8,9,10,11,12,13,14,15,16,17,18,19,20,21,22,23,24,25,26,27,28,29],\"xaxis\":\"x\",\"y\":[2.0,2.3010375175584032,1.9568638864952774,1.8221167442806612,1.910231524024885,1.973135525212466,1.9908169612224462,1.8409587652424209,1.6570400445299558,1.4652237582730507,1.7293601702130135,1.957148340610798,2.133579289724854,2.243912702169754,2.201487087414346,1.8285678326693322,1.6645906143835634,1.6257840569259419,0.36008460860396485,0.2843436922459378,0.26453762086159294,0.3686089572625464,0.39726203658622805,0.4375623693864752,0.4124787671314985,0.42731713055529597,0.6241722964527148,0.692314347661141,0.5810797775948943,0.5697461798262574],\"yaxis\":\"y\",\"type\":\"scattergl\"},{\"hovertemplate\":\"Parameters=(16,)_(False,)_(True,)_(True,)_False\\u003cbr\\u003eTime=%{x}\\u003cbr\\u003eCumulative Return=%{y}\\u003cextra\\u003e\\u003c\\u002fextra\\u003e\",\"legendgroup\":\"(16,)_(False,)_(True,)_(True,)_False\",\"line\":{\"color\":\"#FFA15A\",\"dash\":\"solid\"},\"marker\":{\"symbol\":\"circle\"},\"mode\":\"lines\",\"name\":\"(16,)_(False,)_(True,)_(True,)_False\",\"showlegend\":true,\"x\":[0,1,2,3,4,5,6,7,8,9,10,11,12,13,14,15,16,17,18,19,20,21,22,23,24,25,26,27,28,29],\"xaxis\":\"x\",\"y\":[2.0,1.4512337813936345,1.5524456244593328,1.8178742522926081,2.010914276707282,2.256364264937096,2.30221782504659,2.3636894270174196,2.7592545849642915,3.2995579809691127,1.5500538618636903,1.3797773422796233,1.4213687992821396,1.435416627411115,1.525473656262923,1.7744643210926412,1.827928136909566,1.7651430374160222,2.1725568355724145,2.6769875872627726,2.5802080089616015,3.226630358838521,3.4009618068297547,3.8341848221665136,3.056778903199437,3.8976466758529216,2.849406242761707,2.5553349436492203,2.7798818674976786,2.3420970403017463],\"yaxis\":\"y\",\"type\":\"scattergl\"},{\"hovertemplate\":\"Parameters=(16,)_(False,)_(True,)_(False,)_False\\u003cbr\\u003eTime=%{x}\\u003cbr\\u003eCumulative Return=%{y}\\u003cextra\\u003e\\u003c\\u002fextra\\u003e\",\"legendgroup\":\"(16,)_(False,)_(True,)_(False,)_False\",\"line\":{\"color\":\"#19d3f3\",\"dash\":\"solid\"},\"marker\":{\"symbol\":\"circle\"},\"mode\":\"lines\",\"name\":\"(16,)_(False,)_(True,)_(False,)_False\",\"showlegend\":true,\"x\":[0,1,2,3,4,5,6,7,8,9,10,11,12,13,14,15,16,17,18,19,20,21,22,23,24,25,26,27,28,29],\"xaxis\":\"x\",\"y\":[2.0,1.811485904956642,1.9378224259767973,2.044917704366927,1.779964829099687,1.6775720030831927,1.6714791331580363,1.7956535375171985,1.9301890788974474,2.057279645774014,1.602537000940035,1.4264951034690205,1.3043706902957817,1.2604282391404027,1.3212122189929165,1.7536291773640427,1.8441318111133964,1.7144152760584233,2.2093340015867957,2.551265964881947,3.200186312440349,3.30160895257109,2.851669910787206,2.787076335649219,3.1013785291924023,2.9440487013871253,2.2619746285432987,2.028528864442458,2.2893069665794332,2.4534831680503073],\"yaxis\":\"y\",\"type\":\"scattergl\"},{\"hovertemplate\":\"Parameters=(16,)_(False,)_(False,)_(True,)_False\\u003cbr\\u003eTime=%{x}\\u003cbr\\u003eCumulative Return=%{y}\\u003cextra\\u003e\\u003c\\u002fextra\\u003e\",\"legendgroup\":\"(16,)_(False,)_(False,)_(True,)_False\",\"line\":{\"color\":\"#FF6692\",\"dash\":\"solid\"},\"marker\":{\"symbol\":\"circle\"},\"mode\":\"lines\",\"name\":\"(16,)_(False,)_(False,)_(True,)_False\",\"showlegend\":true,\"x\":[0,1,2,3,4,5,6,7,8,9,10,11,12,13,14,15,16,17,18,19,20,21,22,23,24,25,26,27,28,29],\"xaxis\":\"x\",\"y\":[2.0,2.5487662186063655,2.371010346440122,1.9656280174756038,1.7568980241852972,1.5424529807777922,1.5111074389389907,1.4707593041921243,1.2246266567238402,0.9848264059345554,1.5070047897434813,1.6725522825806072,1.622135534737451,1.6061034667721177,1.5053376657607718,1.259633634981764,1.2216814373202185,1.2636433662619362,0.971981029300534,0.7463035633714757,0.7732842428828085,0.579552491151571,0.5482398790041576,0.47840371294281664,0.5754031783695827,0.4171195719016932,0.5293004946646246,0.5839266415969225,0.5326148041997858,0.6164927138134372],\"yaxis\":\"y\",\"type\":\"scattergl\"},{\"hovertemplate\":\"Parameters=(16,)_(False,)_(False,)_(False,)_False\\u003cbr\\u003eTime=%{x}\\u003cbr\\u003eCumulative Return=%{y}\\u003cextra\\u003e\\u003c\\u002fextra\\u003e\",\"legendgroup\":\"(16,)_(False,)_(False,)_(False,)_False\",\"line\":{\"color\":\"#B6E880\",\"dash\":\"solid\"},\"marker\":{\"symbol\":\"circle\"},\"mode\":\"lines\",\"name\":\"(16,)_(False,)_(False,)_(False,)_False\",\"showlegend\":true,\"x\":[0,1,2,3,4,5,6,7,8,9,10,11,12,13,14,15,16,17,18,19,20,21,22,23,24,25,26,27,28,29],\"xaxis\":\"x\",\"y\":[2.0,2.1885140950433577,2.035882900831571,1.923368233279224,2.172572366294819,2.297550017916614,2.305894621534211,2.1345894072100466,1.9746598130408832,1.8446411336423378,2.2523820013484723,2.499810672957524,2.7138232627916725,2.8052482289127005,2.669965515837485,1.7961177336891498,1.703422318078462,1.8232413242388963,1.296906611101269,1.0961882844807493,0.8173702810478491,0.7914655855787088,0.8993255024543544,0.9196962505541082,0.8159809180225852,0.8573748130652245,1.0560104981425738,1.1649954418844763,1.0152291232196633,0.9424226086254892],\"yaxis\":\"y\",\"type\":\"scattergl\"},{\"hovertemplate\":\"Parameters=(24,)_(False,)_(True,)_(True,)_False\\u003cbr\\u003eTime=%{x}\\u003cbr\\u003eCumulative Return=%{y}\\u003cextra\\u003e\\u003c\\u002fextra\\u003e\",\"legendgroup\":\"(24,)_(False,)_(True,)_(True,)_False\",\"line\":{\"color\":\"#FF97FF\",\"dash\":\"solid\"},\"marker\":{\"symbol\":\"circle\"},\"mode\":\"lines\",\"name\":\"(24,)_(False,)_(True,)_(True,)_False\",\"showlegend\":true,\"x\":[0,1,2,3,4,5,6,7,8,9,10,11,12,13,14,15,16,17,18,19,20,21,22,23,24,25,26,27,28,29],\"xaxis\":\"x\",\"y\":[2.0,1.4719668153548398,1.5613603480408837,1.8434915067330773,2.129589550761522,2.4024489095170054,2.5314848606048024,2.5190485497437014,2.8005481716818603,3.225380355391782,1.6670820819419514,1.6638526021505198,1.6854923643151307,1.7340144763184255,1.89514835290156,2.434659676424573,2.5018233564304104,2.601576016842403,2.9590068998596086,3.672330353337688,3.58613902490645,4.7860292603733825,4.96862726090827,5.3296042374839105,4.313759908207975,5.5758454798642365,4.187557533728095,3.8786256920502353,4.370985821482246,3.6938604084993725],\"yaxis\":\"y\",\"type\":\"scattergl\"},{\"hovertemplate\":\"Parameters=(24,)_(False,)_(True,)_(False,)_False\\u003cbr\\u003eTime=%{x}\\u003cbr\\u003eCumulative Return=%{y}\\u003cextra\\u003e\\u003c\\u002fextra\\u003e\",\"legendgroup\":\"(24,)_(False,)_(True,)_(False,)_False\",\"line\":{\"color\":\"#FECB52\",\"dash\":\"solid\"},\"marker\":{\"symbol\":\"circle\"},\"mode\":\"lines\",\"name\":\"(24,)_(False,)_(True,)_(False,)_False\",\"showlegend\":true,\"x\":[0,1,2,3,4,5,6,7,8,9,10,11,12,13,14,15,16,17,18,19,20,21,22,23,24,25,26,27,28,29],\"xaxis\":\"x\",\"y\":[2.0,1.81887106483628,1.929332325436741,1.9876126639996294,1.5151818129327383,1.4377614292154952,1.4563027544614393,1.6726766459319746,1.7482648969231203,1.8576867954866803,1.441528917751101,1.438736380683449,1.4405556108942883,1.4101167710607558,1.474869730411081,1.8448925696821776,1.935793318974156,1.8180684551827546,2.171668077719303,2.3144227286915005,2.8140924704428256,2.999813751589959,2.6477169785791808,2.4213174078390995,2.538751645302903,2.4099687866625845,2.0266075415681444,1.877097094217348,2.0596803360324345,2.1432424455489363],\"yaxis\":\"y\",\"type\":\"scattergl\"},{\"hovertemplate\":\"Parameters=(24,)_(False,)_(False,)_(True,)_False\\u003cbr\\u003eTime=%{x}\\u003cbr\\u003eCumulative Return=%{y}\\u003cextra\\u003e\\u003c\\u002fextra\\u003e\",\"legendgroup\":\"(24,)_(False,)_(False,)_(True,)_False\",\"line\":{\"color\":\"#636efa\",\"dash\":\"solid\"},\"marker\":{\"symbol\":\"circle\"},\"mode\":\"lines\",\"name\":\"(24,)_(False,)_(False,)_(True,)_False\",\"showlegend\":true,\"x\":[0,1,2,3,4,5,6,7,8,9,10,11,12,13,14,15,16,17,18,19,20,21,22,23,24,25,26,27,28,29],\"xaxis\":\"x\",\"y\":[2.0,2.52803318464516,2.374504032516481,1.9454412765333764,1.6435212828932924,1.4329407213992285,1.35597722464984,1.3626386724620498,1.2103659934875184,1.0267582150886456,1.5228223618018841,1.5257723809381045,1.5059284648375089,1.4625756551856621,1.3266653220628684,0.9489898948688048,0.9228106081927534,0.8860163185451515,0.76428641595725,0.5800410106143709,0.5936548471811196,0.3950232131527033,0.37995217096669653,0.3523481711661888,0.41950717128340903,0.2967710989591919,0.37066190904969215,0.39800702975078195,0.34748325967299454,0.4013131633423966],\"yaxis\":\"y\",\"type\":\"scattergl\"},{\"hovertemplate\":\"Parameters=(24,)_(False,)_(False,)_(False,)_False\\u003cbr\\u003eTime=%{x}\\u003cbr\\u003eCumulative Return=%{y}\\u003cextra\\u003e\\u003c\\u002fextra\\u003e\",\"legendgroup\":\"(24,)_(False,)_(False,)_(False,)_False\",\"line\":{\"color\":\"#EF553B\",\"dash\":\"solid\"},\"marker\":{\"symbol\":\"circle\"},\"mode\":\"lines\",\"name\":\"(24,)_(False,)_(False,)_(False,)_False\",\"showlegend\":true,\"x\":[0,1,2,3,4,5,6,7,8,9,10,11,12,13,14,15,16,17,18,19,20,21,22,23,24,25,26,27,28,29],\"xaxis\":\"x\",\"y\":[2.0,2.18112893516372,2.048667510949458,1.986782352769725,2.4590158491668164,2.584662784065532,2.5513310557574527,2.1722605449912886,2.0740960995844016,1.9442807990431477,2.3798374133322944,2.3844476463355164,2.381432598372166,2.431752103490891,2.32008536188554,1.7380105146941767,1.652376011818893,1.75286491164971,1.4119468514138578,1.3191324927036816,1.0343398384517588,0.9660766516672281,1.079467848488298,1.171770409337009,1.1149393784041637,1.1714967343106397,1.357850370579654,1.4580240905411037,1.316203634947418,1.2628046922253846],\"yaxis\":\"y\",\"type\":\"scattergl\"},{\"hovertemplate\":\"Parameters=(32,)_(False,)_(True,)_(True,)_False\\u003cbr\\u003eTime=%{x}\\u003cbr\\u003eCumulative Return=%{y}\\u003cextra\\u003e\\u003c\\u002fextra\\u003e\",\"legendgroup\":\"(32,)_(False,)_(True,)_(True,)_False\",\"line\":{\"color\":\"#00cc96\",\"dash\":\"solid\"},\"marker\":{\"symbol\":\"circle\"},\"mode\":\"lines\",\"name\":\"(32,)_(False,)_(True,)_(True,)_False\",\"showlegend\":true,\"x\":[0,1,2,3,4,5,6,7,8,9,10,11,12,13,14,15,16,17,18,19,20,21,22,23,24,25,26,27,28,29],\"xaxis\":\"x\",\"y\":[2.0,1.5194444503776747,1.6362324547277758,1.876912049295003,2.1545952499412895,2.296323324961489,2.371264682399641,2.4391512135862694,2.8264914650182638,3.2587665210656134,1.85399831892509,1.8998980006074522,1.9346787756744612,1.9736161566757864,2.153015759674525,2.6608791552792916,2.7092580963962645,2.8581811060573554,3.147260128647618,3.8088563228094077,3.768308627841372,5.119920094834459,5.237505338347773,5.83774814005208,4.2804993894485195,5.595010830449485,4.52332322830014,4.127898893680865,4.557132861233113,3.820503569695767],\"yaxis\":\"y\",\"type\":\"scattergl\"},{\"hovertemplate\":\"Parameters=(32,)_(False,)_(True,)_(False,)_False\\u003cbr\\u003eTime=%{x}\\u003cbr\\u003eCumulative Return=%{y}\\u003cextra\\u003e\\u003c\\u002fextra\\u003e\",\"legendgroup\":\"(32,)_(False,)_(True,)_(False,)_False\",\"line\":{\"color\":\"#ab63fa\",\"dash\":\"solid\"},\"marker\":{\"symbol\":\"circle\"},\"mode\":\"lines\",\"name\":\"(32,)_(False,)_(True,)_(False,)_False\",\"showlegend\":true,\"x\":[0,1,2,3,4,5,6,7,8,9,10,11,12,13,14,15,16,17,18,19,20,21,22,23,24,25,26,27,28,29],\"xaxis\":\"x\",\"y\":[2.0,1.8517077127268027,1.994034237632205,1.9547073314826695,1.4620854036374038,1.4461361106970538,1.4703191361290298,1.6521378919278389,1.7119158283349947,1.8234488689174557,1.4707292613767573,1.5071403002914352,1.508543594903088,1.513806043178828,1.5443942903211085,1.904586882597511,1.9491562247023193,1.8902578030799126,2.167313717211346,2.343878751603317,2.773541926940506,3.0421367778527784,2.691560234980963,2.531620973745119,2.834967231953489,2.7547988587870362,2.4004783898761866,2.190631000650047,2.4017526859873386,2.4861087259964596],\"yaxis\":\"y\",\"type\":\"scattergl\"},{\"hovertemplate\":\"Parameters=(32,)_(False,)_(False,)_(True,)_False\\u003cbr\\u003eTime=%{x}\\u003cbr\\u003eCumulative Return=%{y}\\u003cextra\\u003e\\u003c\\u002fextra\\u003e\",\"legendgroup\":\"(32,)_(False,)_(False,)_(True,)_False\",\"line\":{\"color\":\"#FFA15A\",\"dash\":\"solid\"},\"marker\":{\"symbol\":\"circle\"},\"mode\":\"lines\",\"name\":\"(32,)_(False,)_(False,)_(True,)_False\",\"showlegend\":true,\"x\":[0,1,2,3,4,5,6,7,8,9,10,11,12,13,14,15,16,17,18,19,20,21,22,23,24,25,26,27,28,29],\"xaxis\":\"x\",\"y\":[2.0,2.4805555496223253,2.289894329827188,1.9530651480613896,1.664115337340046,1.5546507576797959,1.5039141576303543,1.46085885632984,1.2288726499947717,1.0409325835816887,1.4896511353818893,1.4527716451289312,1.4261762574834878,1.3974730076153956,1.2704442021814524,0.9707659004565276,0.9531158594002205,0.9007248072053775,0.8096246854048705,0.6394307425249517,0.6462378889499347,0.4144462212885497,0.4049279555830841,0.3585213030174064,0.45415866828127266,0.31468971590690725,0.37496646554712887,0.40774565413481567,0.36534677533853566,0.42440257741367127],\"yaxis\":\"y\",\"type\":\"scattergl\"},{\"hovertemplate\":\"Parameters=(32,)_(False,)_(False,)_(False,)_False\\u003cbr\\u003eTime=%{x}\\u003cbr\\u003eCumulative Return=%{y}\\u003cextra\\u003e\\u003c\\u002fextra\\u003e\",\"legendgroup\":\"(32,)_(False,)_(False,)_(False,)_False\",\"line\":{\"color\":\"#19d3f3\",\"dash\":\"solid\"},\"marker\":{\"symbol\":\"circle\"},\"mode\":\"lines\",\"name\":\"(32,)_(False,)_(False,)_(False,)_False\",\"showlegend\":true,\"x\":[0,1,2,3,4,5,6,7,8,9,10,11,12,13,14,15,16,17,18,19,20,21,22,23,24,25,26,27,28,29],\"xaxis\":\"x\",\"y\":[2.0,2.148292287273197,1.9831695880333609,2.0222822184964224,2.531934251349475,2.559554088726973,2.5167519201313997,2.205531932899731,2.125730998442021,1.987237482702277,2.371639610415923,2.312924614791501,2.3107710563945365,2.3027100940183485,2.256181104541632,1.7299814638262285,1.6894980727030615,1.7405503016394597,1.485437081566126,1.3644226445185443,1.1143063936054856,1.0063949332616313,1.1223721171394723,1.1890662839331303,1.0465888705550717,1.0761847424864377,1.214602936386951,1.3207822947274155,1.1934921285863527,1.1515734621320615],\"yaxis\":\"y\",\"type\":\"scattergl\"},{\"hovertemplate\":\"Parameters=(40,)_(False,)_(True,)_(True,)_False\\u003cbr\\u003eTime=%{x}\\u003cbr\\u003eCumulative Return=%{y}\\u003cextra\\u003e\\u003c\\u002fextra\\u003e\",\"legendgroup\":\"(40,)_(False,)_(True,)_(True,)_False\",\"line\":{\"color\":\"#FF6692\",\"dash\":\"solid\"},\"marker\":{\"symbol\":\"circle\"},\"mode\":\"lines\",\"name\":\"(40,)_(False,)_(True,)_(True,)_False\",\"showlegend\":true,\"x\":[0,1,2,3,4,5,6,7,8,9,10,11,12,13,14,15,16,17,18,19,20,21,22,23,24,25,26,27,28,29],\"xaxis\":\"x\",\"y\":[2.0,1.536216312380848,1.6406992037690182,1.8515186133640633,2.328353770012346,2.520972935861596,2.5015751392958476,2.3964903558099957,2.6791834651910764,3.0419918098809986,1.6971283149478968,1.7483550740691864,1.748090114433528,1.7573426966416827,1.8888835313211825,2.330632451836437,2.4282756740290603,2.5910610160185192,2.784654770976373,3.3370941491520396,3.144254328007209,4.170352620052626,4.3826930293816,5.08568642730865,3.453115870336021,4.579538795571189,3.912393467946433,3.739733262095499,4.176111812687438,3.4772193834958087],\"yaxis\":\"y\",\"type\":\"scattergl\"},{\"hovertemplate\":\"Parameters=(40,)_(False,)_(True,)_(False,)_False\\u003cbr\\u003eTime=%{x}\\u003cbr\\u003eCumulative Return=%{y}\\u003cextra\\u003e\\u003c\\u002fextra\\u003e\",\"legendgroup\":\"(40,)_(False,)_(True,)_(False,)_False\",\"line\":{\"color\":\"#B6E880\",\"dash\":\"solid\"},\"marker\":{\"symbol\":\"circle\"},\"mode\":\"lines\",\"name\":\"(40,)_(False,)_(True,)_(False,)_False\",\"showlegend\":true,\"x\":[0,1,2,3,4,5,6,7,8,9,10,11,12,13,14,15,16,17,18,19,20,21,22,23,24,25,26,27,28,29],\"xaxis\":\"x\",\"y\":[2.0,1.8441888587250648,1.9696179292749125,1.9318303278773852,1.6043159882994087,1.6878993221062086,1.7517776474320024,1.8888177852416963,2.0450668185853753,2.191074599293027,1.9723101279146977,2.0318430783376407,2.0481771828324917,2.0531092163473605,2.1041851740104023,2.4750420776990945,2.4261174687352502,2.371106762831964,2.645867351720357,2.842990542711839,3.332044713873891,3.5679846085626306,3.1368408767086704,2.922630919904929,3.2432459554349067,3.1006786451595727,2.7270076857307206,2.6066604578169374,2.773059198875776,2.828363958342196],\"yaxis\":\"y\",\"type\":\"scattergl\"},{\"hovertemplate\":\"Parameters=(40,)_(False,)_(False,)_(True,)_False\\u003cbr\\u003eTime=%{x}\\u003cbr\\u003eCumulative Return=%{y}\\u003cextra\\u003e\\u003c\\u002fextra\\u003e\",\"legendgroup\":\"(40,)_(False,)_(False,)_(True,)_False\",\"line\":{\"color\":\"#FF97FF\",\"dash\":\"solid\"},\"marker\":{\"symbol\":\"circle\"},\"mode\":\"lines\",\"name\":\"(40,)_(False,)_(False,)_(True,)_False\",\"showlegend\":true,\"x\":[0,1,2,3,4,5,6,7,8,9,10,11,12,13,14,15,16,17,18,19,20,21,22,23,24,25,26,27,28,29],\"xaxis\":\"x\",\"y\":[2.0,2.463783687619152,2.296214028735308,2.001165134501805,1.4857904126374126,1.3628745080206006,1.3733612379950313,1.431052636536509,1.2622438121948127,1.0913139023743834,1.573783389652099,1.5262797201294622,1.52651102469943,1.5184312531641604,1.4047734476454352,1.0762422577780462,1.0311524531516207,0.9620266506223536,0.8901478525114189,0.713554067439314,0.7547880370524065,0.5084699486022752,0.48258035919476694,0.40517343057602817,0.5352392973337767,0.3606416766217731,0.4131798076968184,0.4314140960512123,0.38107364534370086,0.44484815561568003],\"yaxis\":\"y\",\"type\":\"scattergl\"},{\"hovertemplate\":\"Parameters=(40,)_(False,)_(False,)_(False,)_False\\u003cbr\\u003eTime=%{x}\\u003cbr\\u003eCumulative Return=%{y}\\u003cextra\\u003e\\u003c\\u002fextra\\u003e\",\"legendgroup\":\"(40,)_(False,)_(False,)_(False,)_False\",\"line\":{\"color\":\"#FECB52\",\"dash\":\"solid\"},\"marker\":{\"symbol\":\"circle\"},\"mode\":\"lines\",\"name\":\"(40,)_(False,)_(False,)_(False,)_False\",\"showlegend\":true,\"x\":[0,1,2,3,4,5,6,7,8,9,10,11,12,13,14,15,16,17,18,19,20,21,22,23,24,25,26,27,28,29],\"xaxis\":\"x\",\"y\":[2.0,2.1558111412749352,2.0091876615527684,2.0477344179358887,2.3948986465140063,2.270126709772779,2.1842140664068883,2.013344779939474,1.8467944762992365,1.7149423722715929,1.886168154194009,1.829235345492323,1.8145300163271434,1.8101606077968302,1.7651285725641295,1.454029471059702,1.4827715372792931,1.516392460425095,1.3406749887602205,1.2407916247302553,1.027349367184632,0.9546034341865497,1.0699546288268196,1.1430201567994847,1.0176298977394498,1.062363093855321,1.1903912715455285,1.2429251497640934,1.1635817970344002,1.1403757971658866],\"yaxis\":\"y\",\"type\":\"scattergl\"},{\"hovertemplate\":\"Parameters=Equal Weight Holding\\u003cbr\\u003eTime=%{x}\\u003cbr\\u003eCumulative Return=%{y}\\u003cextra\\u003e\\u003c\\u002fextra\\u003e\",\"legendgroup\":\"Equal Weight Holding\",\"line\":{\"color\":\"#636efa\",\"dash\":\"solid\"},\"marker\":{\"symbol\":\"circle\"},\"mode\":\"lines\",\"name\":\"Equal Weight Holding\",\"showlegend\":true,\"x\":[0,1,2,3,4,5,6,7,8,9,10,11,12,13,14,15,16,17,18,19,20,21,22,23,24,25,26,27,28,29,30,31,32,33,34,35,36,37,38,39,40,41,42],\"xaxis\":\"x\",\"y\":[2.0,5.422361725313305,4.031979233748795,3.1743047151942125,4.545419396736682,7.056667997452021,6.673594134174626,10.677850398496783,11.829222545464937,9.277412158018105,5.9718479227264005,5.827456192948947,6.853770359863487,3.9822215033404897,2.9190371272646574,2.0086689766310473,2.6394551079936797,2.298969980573519,2.169079818936898,2.1437525727533293,1.702351673085046,1.328081928897172,2.0569181770610907,1.9886719146476435,1.921474452544489,1.8355850807794214,1.657173576954882,1.5170600172767892,1.5614127845012957,1.2864690450992584,1.4091801118285407,1.7270779604888706,2.017357551613365,2.753848948476072,2.368050240681385,3.068705656098884,3.9439684240965045,2.6651715619313814,3.1453635313264514,2.6306888316022237,2.6152879533280027,2.0952309875701003,0.0],\"yaxis\":\"y\",\"type\":\"scattergl\"}],                        {\"template\":{\"data\":{\"histogram2dcontour\":[{\"type\":\"histogram2dcontour\",\"colorbar\":{\"outlinewidth\":0,\"ticks\":\"\"},\"colorscale\":[[0.0,\"#0d0887\"],[0.1111111111111111,\"#46039f\"],[0.2222222222222222,\"#7201a8\"],[0.3333333333333333,\"#9c179e\"],[0.4444444444444444,\"#bd3786\"],[0.5555555555555556,\"#d8576b\"],[0.6666666666666666,\"#ed7953\"],[0.7777777777777778,\"#fb9f3a\"],[0.8888888888888888,\"#fdca26\"],[1.0,\"#f0f921\"]]}],\"choropleth\":[{\"type\":\"choropleth\",\"colorbar\":{\"outlinewidth\":0,\"ticks\":\"\"}}],\"histogram2d\":[{\"type\":\"histogram2d\",\"colorbar\":{\"outlinewidth\":0,\"ticks\":\"\"},\"colorscale\":[[0.0,\"#0d0887\"],[0.1111111111111111,\"#46039f\"],[0.2222222222222222,\"#7201a8\"],[0.3333333333333333,\"#9c179e\"],[0.4444444444444444,\"#bd3786\"],[0.5555555555555556,\"#d8576b\"],[0.6666666666666666,\"#ed7953\"],[0.7777777777777778,\"#fb9f3a\"],[0.8888888888888888,\"#fdca26\"],[1.0,\"#f0f921\"]]}],\"heatmap\":[{\"type\":\"heatmap\",\"colorbar\":{\"outlinewidth\":0,\"ticks\":\"\"},\"colorscale\":[[0.0,\"#0d0887\"],[0.1111111111111111,\"#46039f\"],[0.2222222222222222,\"#7201a8\"],[0.3333333333333333,\"#9c179e\"],[0.4444444444444444,\"#bd3786\"],[0.5555555555555556,\"#d8576b\"],[0.6666666666666666,\"#ed7953\"],[0.7777777777777778,\"#fb9f3a\"],[0.8888888888888888,\"#fdca26\"],[1.0,\"#f0f921\"]]}],\"heatmapgl\":[{\"type\":\"heatmapgl\",\"colorbar\":{\"outlinewidth\":0,\"ticks\":\"\"},\"colorscale\":[[0.0,\"#0d0887\"],[0.1111111111111111,\"#46039f\"],[0.2222222222222222,\"#7201a8\"],[0.3333333333333333,\"#9c179e\"],[0.4444444444444444,\"#bd3786\"],[0.5555555555555556,\"#d8576b\"],[0.6666666666666666,\"#ed7953\"],[0.7777777777777778,\"#fb9f3a\"],[0.8888888888888888,\"#fdca26\"],[1.0,\"#f0f921\"]]}],\"contourcarpet\":[{\"type\":\"contourcarpet\",\"colorbar\":{\"outlinewidth\":0,\"ticks\":\"\"}}],\"contour\":[{\"type\":\"contour\",\"colorbar\":{\"outlinewidth\":0,\"ticks\":\"\"},\"colorscale\":[[0.0,\"#0d0887\"],[0.1111111111111111,\"#46039f\"],[0.2222222222222222,\"#7201a8\"],[0.3333333333333333,\"#9c179e\"],[0.4444444444444444,\"#bd3786\"],[0.5555555555555556,\"#d8576b\"],[0.6666666666666666,\"#ed7953\"],[0.7777777777777778,\"#fb9f3a\"],[0.8888888888888888,\"#fdca26\"],[1.0,\"#f0f921\"]]}],\"surface\":[{\"type\":\"surface\",\"colorbar\":{\"outlinewidth\":0,\"ticks\":\"\"},\"colorscale\":[[0.0,\"#0d0887\"],[0.1111111111111111,\"#46039f\"],[0.2222222222222222,\"#7201a8\"],[0.3333333333333333,\"#9c179e\"],[0.4444444444444444,\"#bd3786\"],[0.5555555555555556,\"#d8576b\"],[0.6666666666666666,\"#ed7953\"],[0.7777777777777778,\"#fb9f3a\"],[0.8888888888888888,\"#fdca26\"],[1.0,\"#f0f921\"]]}],\"mesh3d\":[{\"type\":\"mesh3d\",\"colorbar\":{\"outlinewidth\":0,\"ticks\":\"\"}}],\"scatter\":[{\"fillpattern\":{\"fillmode\":\"overlay\",\"size\":10,\"solidity\":0.2},\"type\":\"scatter\"}],\"parcoords\":[{\"type\":\"parcoords\",\"line\":{\"colorbar\":{\"outlinewidth\":0,\"ticks\":\"\"}}}],\"scatterpolargl\":[{\"type\":\"scatterpolargl\",\"marker\":{\"colorbar\":{\"outlinewidth\":0,\"ticks\":\"\"}}}],\"bar\":[{\"error_x\":{\"color\":\"#2a3f5f\"},\"error_y\":{\"color\":\"#2a3f5f\"},\"marker\":{\"line\":{\"color\":\"#E5ECF6\",\"width\":0.5},\"pattern\":{\"fillmode\":\"overlay\",\"size\":10,\"solidity\":0.2}},\"type\":\"bar\"}],\"scattergeo\":[{\"type\":\"scattergeo\",\"marker\":{\"colorbar\":{\"outlinewidth\":0,\"ticks\":\"\"}}}],\"scatterpolar\":[{\"type\":\"scatterpolar\",\"marker\":{\"colorbar\":{\"outlinewidth\":0,\"ticks\":\"\"}}}],\"histogram\":[{\"marker\":{\"pattern\":{\"fillmode\":\"overlay\",\"size\":10,\"solidity\":0.2}},\"type\":\"histogram\"}],\"scattergl\":[{\"type\":\"scattergl\",\"marker\":{\"colorbar\":{\"outlinewidth\":0,\"ticks\":\"\"}}}],\"scatter3d\":[{\"type\":\"scatter3d\",\"line\":{\"colorbar\":{\"outlinewidth\":0,\"ticks\":\"\"}},\"marker\":{\"colorbar\":{\"outlinewidth\":0,\"ticks\":\"\"}}}],\"scattermapbox\":[{\"type\":\"scattermapbox\",\"marker\":{\"colorbar\":{\"outlinewidth\":0,\"ticks\":\"\"}}}],\"scatterternary\":[{\"type\":\"scatterternary\",\"marker\":{\"colorbar\":{\"outlinewidth\":0,\"ticks\":\"\"}}}],\"scattercarpet\":[{\"type\":\"scattercarpet\",\"marker\":{\"colorbar\":{\"outlinewidth\":0,\"ticks\":\"\"}}}],\"carpet\":[{\"aaxis\":{\"endlinecolor\":\"#2a3f5f\",\"gridcolor\":\"white\",\"linecolor\":\"white\",\"minorgridcolor\":\"white\",\"startlinecolor\":\"#2a3f5f\"},\"baxis\":{\"endlinecolor\":\"#2a3f5f\",\"gridcolor\":\"white\",\"linecolor\":\"white\",\"minorgridcolor\":\"white\",\"startlinecolor\":\"#2a3f5f\"},\"type\":\"carpet\"}],\"table\":[{\"cells\":{\"fill\":{\"color\":\"#EBF0F8\"},\"line\":{\"color\":\"white\"}},\"header\":{\"fill\":{\"color\":\"#C8D4E3\"},\"line\":{\"color\":\"white\"}},\"type\":\"table\"}],\"barpolar\":[{\"marker\":{\"line\":{\"color\":\"#E5ECF6\",\"width\":0.5},\"pattern\":{\"fillmode\":\"overlay\",\"size\":10,\"solidity\":0.2}},\"type\":\"barpolar\"}],\"pie\":[{\"automargin\":true,\"type\":\"pie\"}]},\"layout\":{\"autotypenumbers\":\"strict\",\"colorway\":[\"#636efa\",\"#EF553B\",\"#00cc96\",\"#ab63fa\",\"#FFA15A\",\"#19d3f3\",\"#FF6692\",\"#B6E880\",\"#FF97FF\",\"#FECB52\"],\"font\":{\"color\":\"#2a3f5f\"},\"hovermode\":\"closest\",\"hoverlabel\":{\"align\":\"left\"},\"paper_bgcolor\":\"white\",\"plot_bgcolor\":\"#E5ECF6\",\"polar\":{\"bgcolor\":\"#E5ECF6\",\"angularaxis\":{\"gridcolor\":\"white\",\"linecolor\":\"white\",\"ticks\":\"\"},\"radialaxis\":{\"gridcolor\":\"white\",\"linecolor\":\"white\",\"ticks\":\"\"}},\"ternary\":{\"bgcolor\":\"#E5ECF6\",\"aaxis\":{\"gridcolor\":\"white\",\"linecolor\":\"white\",\"ticks\":\"\"},\"baxis\":{\"gridcolor\":\"white\",\"linecolor\":\"white\",\"ticks\":\"\"},\"caxis\":{\"gridcolor\":\"white\",\"linecolor\":\"white\",\"ticks\":\"\"}},\"coloraxis\":{\"colorbar\":{\"outlinewidth\":0,\"ticks\":\"\"}},\"colorscale\":{\"sequential\":[[0.0,\"#0d0887\"],[0.1111111111111111,\"#46039f\"],[0.2222222222222222,\"#7201a8\"],[0.3333333333333333,\"#9c179e\"],[0.4444444444444444,\"#bd3786\"],[0.5555555555555556,\"#d8576b\"],[0.6666666666666666,\"#ed7953\"],[0.7777777777777778,\"#fb9f3a\"],[0.8888888888888888,\"#fdca26\"],[1.0,\"#f0f921\"]],\"sequentialminus\":[[0.0,\"#0d0887\"],[0.1111111111111111,\"#46039f\"],[0.2222222222222222,\"#7201a8\"],[0.3333333333333333,\"#9c179e\"],[0.4444444444444444,\"#bd3786\"],[0.5555555555555556,\"#d8576b\"],[0.6666666666666666,\"#ed7953\"],[0.7777777777777778,\"#fb9f3a\"],[0.8888888888888888,\"#fdca26\"],[1.0,\"#f0f921\"]],\"diverging\":[[0,\"#8e0152\"],[0.1,\"#c51b7d\"],[0.2,\"#de77ae\"],[0.3,\"#f1b6da\"],[0.4,\"#fde0ef\"],[0.5,\"#f7f7f7\"],[0.6,\"#e6f5d0\"],[0.7,\"#b8e186\"],[0.8,\"#7fbc41\"],[0.9,\"#4d9221\"],[1,\"#276419\"]]},\"xaxis\":{\"gridcolor\":\"white\",\"linecolor\":\"white\",\"ticks\":\"\",\"title\":{\"standoff\":15},\"zerolinecolor\":\"white\",\"automargin\":true,\"zerolinewidth\":2},\"yaxis\":{\"gridcolor\":\"white\",\"linecolor\":\"white\",\"ticks\":\"\",\"title\":{\"standoff\":15},\"zerolinecolor\":\"white\",\"automargin\":true,\"zerolinewidth\":2},\"scene\":{\"xaxis\":{\"backgroundcolor\":\"#E5ECF6\",\"gridcolor\":\"white\",\"linecolor\":\"white\",\"showbackground\":true,\"ticks\":\"\",\"zerolinecolor\":\"white\",\"gridwidth\":2},\"yaxis\":{\"backgroundcolor\":\"#E5ECF6\",\"gridcolor\":\"white\",\"linecolor\":\"white\",\"showbackground\":true,\"ticks\":\"\",\"zerolinecolor\":\"white\",\"gridwidth\":2},\"zaxis\":{\"backgroundcolor\":\"#E5ECF6\",\"gridcolor\":\"white\",\"linecolor\":\"white\",\"showbackground\":true,\"ticks\":\"\",\"zerolinecolor\":\"white\",\"gridwidth\":2}},\"shapedefaults\":{\"line\":{\"color\":\"#2a3f5f\"}},\"annotationdefaults\":{\"arrowcolor\":\"#2a3f5f\",\"arrowhead\":0,\"arrowwidth\":1},\"geo\":{\"bgcolor\":\"white\",\"landcolor\":\"#E5ECF6\",\"subunitcolor\":\"white\",\"showland\":true,\"showlakes\":true,\"lakecolor\":\"white\"},\"title\":{\"x\":0.05},\"mapbox\":{\"style\":\"light\"}}},\"xaxis\":{\"anchor\":\"y\",\"domain\":[0.0,1.0],\"title\":{\"text\":\"Time\"}},\"yaxis\":{\"anchor\":\"x\",\"domain\":[0.0,1.0],\"title\":{\"text\":\"Cumulative Return\"}},\"legend\":{\"title\":{\"text\":\"Parameters\"},\"tracegroupgap\":0},\"title\":{\"text\":\"Cumulative Returns for Different Backtest Parameters\"}},                        {\"responsive\": true}                    ).then(function(){\n",
       "                            \n",
       "var gd = document.getElementById('8a772e28-6737-4577-8ac0-f6ef3ba5eb14');\n",
       "var x = new MutationObserver(function (mutations, observer) {{\n",
       "        var display = window.getComputedStyle(gd).display;\n",
       "        if (!display || display === 'none') {{\n",
       "            console.log([gd, 'removed!']);\n",
       "            Plotly.purge(gd);\n",
       "            observer.disconnect();\n",
       "        }}\n",
       "}});\n",
       "\n",
       "// Listen for the removal of the full notebook cells\n",
       "var notebookContainer = gd.closest('#notebook-container');\n",
       "if (notebookContainer) {{\n",
       "    x.observe(notebookContainer, {childList: true});\n",
       "}}\n",
       "\n",
       "// Listen for the clearing of the current output cell\n",
       "var outputEl = gd.closest('.output');\n",
       "if (outputEl) {{\n",
       "    x.observe(outputEl, {childList: true});\n",
       "}}\n",
       "\n",
       "                        })                };                });            </script>        </div>"
      ]
     },
     "metadata": {},
     "output_type": "display_data"
    }
   ],
   "source": [
    "# Calculate 40 equal weight holding return\n",
    "initial_investment = 2\n",
    "num_assets = 40\n",
    "equal_weight = initial_investment / num_assets\n",
    "\n",
    "# Calculate the return for each asset\n",
    "equal_weight_returns = monthly_combined_df.xs('monthly_return', axis=1, level=1)\n",
    "equal_weight_cumulative_return = (equal_weight_returns + 1).cumprod() * equal_weight\n",
    "\n",
    "# Calculate the total portfolio value over time\n",
    "equal_weight_total_return = equal_weight_cumulative_return.sum(axis=1)\n",
    "\n",
    "# Adjust the initial value to match the initial investment\n",
    "equal_weight_total_return = pd.concat([pd.Series([initial_investment], index=[dates[0]]), equal_weight_total_return.iloc[1:]])\n",
    "\n",
    "# Calculate the Sharpe ratio for the equal weight holding return\n",
    "equal_weight_monthly_returns = equal_weight_total_return.pct_change().dropna()\n",
    "equal_weight_sharpe_ratio = (equal_weight_monthly_returns.mean() / equal_weight_monthly_returns.std()) * np.sqrt(12)\n",
    "sharpe_ratios.append({\n",
    "    'params': 'Equal Weight Holding',\n",
    "    'sharpe_ratio': equal_weight_sharpe_ratio\n",
    "})\n",
    "\n",
    "# Prepare data for Plotly visualization\n",
    "plot_data = []\n",
    "for result in results:\n",
    "    params = result['params']\n",
    "    n_positions=params['n_positions'],# 총 투자종목수\n",
    "    use_salience=params['use_salience'], #salience를 이용한 비중 가중치\n",
    "    reverse_positions=params['reverse_positions'], #역포지션\n",
    "    use_return_adjustment=params['use_return_adjustment'], #TS를 이용해 롱-숏 비대칭 비중 조정 사용 여부\n",
    "    inverse_salience=params['inverse_salience']#salience의 역 가중 사용\n",
    "    for i, value in enumerate(result['cumulative_returns']):\n",
    "        plot_data.append({\n",
    "            'Time': i,\n",
    "            'Cumulative Return': value,\n",
    "            'Parameters': f'{n_positions}_{use_salience}_{reverse_positions}_{use_return_adjustment}_{inverse_salience}'\n",
    "        })\n",
    "\n",
    "# Add the equal weight holding return to the plot data\n",
    "for i, value in enumerate(equal_weight_total_return):\n",
    "    plot_data.append({\n",
    "        'Time': i,\n",
    "        'Cumulative Return': value,\n",
    "        'Parameters': 'Equal Weight Holding'\n",
    "    })\n",
    "\n",
    "plot_df = pd.DataFrame(plot_data)\n",
    "\n",
    "# Visualize the cumulative returns for different backtest parameters using Plotly Express\n",
    "fig = px.line(plot_df, x='Time', y='Cumulative Return', color='Parameters', title='Cumulative Returns for Different Backtest Parameters')\n",
    "fig.show()"
   ]
  },
  {
   "cell_type": "code",
   "execution_count": 14,
   "id": "486a68b3-85d1-4021-bc3c-31865180cdaa",
   "metadata": {
    "scrolled": true
   },
   "outputs": [
    {
     "data": {
      "application/vnd.plotly.v1+json": {
       "config": {
        "plotlyServerURL": "https://plot.ly"
       },
       "data": [
        {
         "alignmentgroup": "True",
         "hovertemplate": "Strategy=%{x}<br>Sharpe Ratio=%{y}<extra></extra>",
         "legendgroup": "",
         "marker": {
          "color": "#636efa",
          "pattern": {
           "shape": ""
          }
         },
         "name": "",
         "offsetgroup": "",
         "orientation": "v",
         "showlegend": false,
         "textposition": "auto",
         "type": "bar",
         "x": [
          "{'n_positions': 32, 'use_salience': True, 'reverse_positions': True, 'use_return_adjustment': True, 'inverse_salience': True}",
          "{'n_positions': 24, 'use_salience': True, 'reverse_positions': True, 'use_return_adjustment': True, 'inverse_salience': True}",
          "{'n_positions': 32, 'use_salience': False, 'reverse_positions': True, 'use_return_adjustment': True, 'inverse_salience': False}",
          "{'n_positions': 40, 'use_salience': True, 'reverse_positions': True, 'use_return_adjustment': True, 'inverse_salience': True}",
          "{'n_positions': 24, 'use_salience': False, 'reverse_positions': True, 'use_return_adjustment': True, 'inverse_salience': False}",
          "{'n_positions': 40, 'use_salience': False, 'reverse_positions': True, 'use_return_adjustment': True, 'inverse_salience': False}",
          "{'n_positions': 32, 'use_salience': True, 'reverse_positions': True, 'use_return_adjustment': True, 'inverse_salience': False}",
          "{'n_positions': 24, 'use_salience': True, 'reverse_positions': True, 'use_return_adjustment': True, 'inverse_salience': False}",
          "{'n_positions': 40, 'use_salience': True, 'reverse_positions': True, 'use_return_adjustment': False, 'inverse_salience': True}",
          "{'n_positions': 40, 'use_salience': True, 'reverse_positions': True, 'use_return_adjustment': True, 'inverse_salience': False}",
          "{'n_positions': 40, 'use_salience': False, 'reverse_positions': True, 'use_return_adjustment': False, 'inverse_salience': False}",
          "{'n_positions': 8, 'use_salience': True, 'reverse_positions': True, 'use_return_adjustment': True, 'inverse_salience': True}",
          "{'n_positions': 16, 'use_salience': True, 'reverse_positions': True, 'use_return_adjustment': True, 'inverse_salience': True}",
          "{'n_positions': 8, 'use_salience': False, 'reverse_positions': True, 'use_return_adjustment': True, 'inverse_salience': False}",
          "{'n_positions': 16, 'use_salience': False, 'reverse_positions': True, 'use_return_adjustment': True, 'inverse_salience': False}",
          "{'n_positions': 40, 'use_salience': True, 'reverse_positions': True, 'use_return_adjustment': False, 'inverse_salience': False}",
          "{'n_positions': 32, 'use_salience': True, 'reverse_positions': True, 'use_return_adjustment': False, 'inverse_salience': True}",
          "{'n_positions': 8, 'use_salience': True, 'reverse_positions': True, 'use_return_adjustment': True, 'inverse_salience': False}",
          "{'n_positions': 32, 'use_salience': False, 'reverse_positions': True, 'use_return_adjustment': False, 'inverse_salience': False}",
          "{'n_positions': 16, 'use_salience': False, 'reverse_positions': True, 'use_return_adjustment': False, 'inverse_salience': False}",
          "{'n_positions': 16, 'use_salience': True, 'reverse_positions': True, 'use_return_adjustment': False, 'inverse_salience': True}",
          "{'n_positions': 16, 'use_salience': True, 'reverse_positions': True, 'use_return_adjustment': True, 'inverse_salience': False}",
          "{'n_positions': 16, 'use_salience': True, 'reverse_positions': True, 'use_return_adjustment': False, 'inverse_salience': False}",
          "{'n_positions': 32, 'use_salience': True, 'reverse_positions': True, 'use_return_adjustment': False, 'inverse_salience': False}",
          "{'n_positions': 24, 'use_salience': True, 'reverse_positions': True, 'use_return_adjustment': False, 'inverse_salience': True}",
          "{'n_positions': 24, 'use_salience': False, 'reverse_positions': True, 'use_return_adjustment': False, 'inverse_salience': False}",
          "Equal Weight Holding",
          "{'n_positions': 8, 'use_salience': True, 'reverse_positions': True, 'use_return_adjustment': False, 'inverse_salience': True}",
          "{'n_positions': 24, 'use_salience': True, 'reverse_positions': True, 'use_return_adjustment': False, 'inverse_salience': False}",
          "{'n_positions': 8, 'use_salience': False, 'reverse_positions': True, 'use_return_adjustment': False, 'inverse_salience': False}",
          "{'n_positions': 8, 'use_salience': True, 'reverse_positions': True, 'use_return_adjustment': False, 'inverse_salience': False}",
          "{'n_positions': 8, 'use_salience': True, 'reverse_positions': False, 'use_return_adjustment': False, 'inverse_salience': False}",
          "{'n_positions': 8, 'use_salience': False, 'reverse_positions': False, 'use_return_adjustment': False, 'inverse_salience': False}",
          "{'n_positions': 24, 'use_salience': True, 'reverse_positions': False, 'use_return_adjustment': False, 'inverse_salience': False}",
          "{'n_positions': 8, 'use_salience': True, 'reverse_positions': False, 'use_return_adjustment': False, 'inverse_salience': True}",
          "{'n_positions': 24, 'use_salience': False, 'reverse_positions': False, 'use_return_adjustment': False, 'inverse_salience': False}",
          "{'n_positions': 24, 'use_salience': True, 'reverse_positions': False, 'use_return_adjustment': False, 'inverse_salience': True}",
          "{'n_positions': 16, 'use_salience': True, 'reverse_positions': False, 'use_return_adjustment': True, 'inverse_salience': False}",
          "{'n_positions': 32, 'use_salience': True, 'reverse_positions': False, 'use_return_adjustment': False, 'inverse_salience': False}",
          "{'n_positions': 16, 'use_salience': True, 'reverse_positions': False, 'use_return_adjustment': False, 'inverse_salience': False}",
          "{'n_positions': 16, 'use_salience': True, 'reverse_positions': False, 'use_return_adjustment': False, 'inverse_salience': True}",
          "{'n_positions': 8, 'use_salience': True, 'reverse_positions': False, 'use_return_adjustment': True, 'inverse_salience': False}",
          "{'n_positions': 16, 'use_salience': False, 'reverse_positions': False, 'use_return_adjustment': False, 'inverse_salience': False}",
          "{'n_positions': 32, 'use_salience': False, 'reverse_positions': False, 'use_return_adjustment': False, 'inverse_salience': False}",
          "{'n_positions': 16, 'use_salience': False, 'reverse_positions': False, 'use_return_adjustment': True, 'inverse_salience': False}",
          "{'n_positions': 8, 'use_salience': False, 'reverse_positions': False, 'use_return_adjustment': True, 'inverse_salience': False}",
          "{'n_positions': 32, 'use_salience': True, 'reverse_positions': False, 'use_return_adjustment': False, 'inverse_salience': True}",
          "{'n_positions': 8, 'use_salience': True, 'reverse_positions': False, 'use_return_adjustment': True, 'inverse_salience': True}",
          "{'n_positions': 40, 'use_salience': True, 'reverse_positions': False, 'use_return_adjustment': False, 'inverse_salience': False}",
          "{'n_positions': 16, 'use_salience': True, 'reverse_positions': False, 'use_return_adjustment': True, 'inverse_salience': True}",
          "{'n_positions': 40, 'use_salience': True, 'reverse_positions': False, 'use_return_adjustment': True, 'inverse_salience': False}",
          "{'n_positions': 24, 'use_salience': True, 'reverse_positions': False, 'use_return_adjustment': True, 'inverse_salience': False}",
          "{'n_positions': 40, 'use_salience': False, 'reverse_positions': False, 'use_return_adjustment': False, 'inverse_salience': False}",
          "{'n_positions': 32, 'use_salience': True, 'reverse_positions': False, 'use_return_adjustment': True, 'inverse_salience': False}",
          "{'n_positions': 40, 'use_salience': True, 'reverse_positions': False, 'use_return_adjustment': False, 'inverse_salience': True}",
          "{'n_positions': 40, 'use_salience': False, 'reverse_positions': False, 'use_return_adjustment': True, 'inverse_salience': False}",
          "{'n_positions': 24, 'use_salience': False, 'reverse_positions': False, 'use_return_adjustment': True, 'inverse_salience': False}",
          "{'n_positions': 40, 'use_salience': True, 'reverse_positions': False, 'use_return_adjustment': True, 'inverse_salience': True}",
          "{'n_positions': 32, 'use_salience': False, 'reverse_positions': False, 'use_return_adjustment': True, 'inverse_salience': False}",
          "{'n_positions': 24, 'use_salience': True, 'reverse_positions': False, 'use_return_adjustment': True, 'inverse_salience': True}",
          "{'n_positions': 32, 'use_salience': True, 'reverse_positions': False, 'use_return_adjustment': True, 'inverse_salience': True}"
         ],
         "xaxis": "x",
         "y": [
          0.7788630049389818,
          0.7580621206587295,
          0.7357911767883263,
          0.7197715488142316,
          0.7196626740608197,
          0.6706485013927244,
          0.6312398140881726,
          0.6139749191324818,
          0.5991486584632513,
          0.578924863374357,
          0.5596594898199407,
          0.5309158639822915,
          0.5224700321232911,
          0.4578390151359104,
          0.43537277877866115,
          0.43444727857305726,
          0.4040617755387956,
          0.37707119077870305,
          0.37202879609575523,
          0.35753521758289253,
          0.33730368879466494,
          0.3039132267856148,
          0.2903429532571286,
          0.25664416781191945,
          0.25150029241970623,
          0.21762471135284972,
          0.21461599175619336,
          0.19735739702050284,
          0.11381059648972383,
          0.1034737528696589,
          -0.01728702708550512,
          -0.035471605839053275,
          -0.15981760187256525,
          -0.22175625799730364,
          -0.2545928300105376,
          -0.32013991055159224,
          -0.3460891794525892,
          -0.36694824888571187,
          -0.37330201485709424,
          -0.3796020877982244,
          -0.4179343777174519,
          -0.42000423354658417,
          -0.4448105146024314,
          -0.4831909014328302,
          -0.5007617943394904,
          -0.5060457523222834,
          -0.508299142647857,
          -0.5818009323252197,
          -0.5820349300941323,
          -0.5854367364472821,
          -0.6453183481543396,
          -0.6799888774287332,
          -0.6988391236711892,
          -0.7001854753839799,
          -0.7279989925393076,
          -0.7385881030410759,
          -0.7865221887344587,
          -0.7874701934118977,
          -0.8056582079047248,
          -0.8228537038414989,
          -0.847282690250952
         ],
         "yaxis": "y"
        }
       ],
       "layout": {
        "autosize": true,
        "barmode": "relative",
        "legend": {
         "tracegroupgap": 0
        },
        "template": {
         "data": {
          "bar": [
           {
            "error_x": {
             "color": "#2a3f5f"
            },
            "error_y": {
             "color": "#2a3f5f"
            },
            "marker": {
             "line": {
              "color": "#E5ECF6",
              "width": 0.5
             },
             "pattern": {
              "fillmode": "overlay",
              "size": 10,
              "solidity": 0.2
             }
            },
            "type": "bar"
           }
          ],
          "barpolar": [
           {
            "marker": {
             "line": {
              "color": "#E5ECF6",
              "width": 0.5
             },
             "pattern": {
              "fillmode": "overlay",
              "size": 10,
              "solidity": 0.2
             }
            },
            "type": "barpolar"
           }
          ],
          "carpet": [
           {
            "aaxis": {
             "endlinecolor": "#2a3f5f",
             "gridcolor": "white",
             "linecolor": "white",
             "minorgridcolor": "white",
             "startlinecolor": "#2a3f5f"
            },
            "baxis": {
             "endlinecolor": "#2a3f5f",
             "gridcolor": "white",
             "linecolor": "white",
             "minorgridcolor": "white",
             "startlinecolor": "#2a3f5f"
            },
            "type": "carpet"
           }
          ],
          "choropleth": [
           {
            "colorbar": {
             "outlinewidth": 0,
             "ticks": ""
            },
            "type": "choropleth"
           }
          ],
          "contour": [
           {
            "colorbar": {
             "outlinewidth": 0,
             "ticks": ""
            },
            "colorscale": [
             [
              0,
              "#0d0887"
             ],
             [
              0.1111111111111111,
              "#46039f"
             ],
             [
              0.2222222222222222,
              "#7201a8"
             ],
             [
              0.3333333333333333,
              "#9c179e"
             ],
             [
              0.4444444444444444,
              "#bd3786"
             ],
             [
              0.5555555555555556,
              "#d8576b"
             ],
             [
              0.6666666666666666,
              "#ed7953"
             ],
             [
              0.7777777777777778,
              "#fb9f3a"
             ],
             [
              0.8888888888888888,
              "#fdca26"
             ],
             [
              1,
              "#f0f921"
             ]
            ],
            "type": "contour"
           }
          ],
          "contourcarpet": [
           {
            "colorbar": {
             "outlinewidth": 0,
             "ticks": ""
            },
            "type": "contourcarpet"
           }
          ],
          "heatmap": [
           {
            "colorbar": {
             "outlinewidth": 0,
             "ticks": ""
            },
            "colorscale": [
             [
              0,
              "#0d0887"
             ],
             [
              0.1111111111111111,
              "#46039f"
             ],
             [
              0.2222222222222222,
              "#7201a8"
             ],
             [
              0.3333333333333333,
              "#9c179e"
             ],
             [
              0.4444444444444444,
              "#bd3786"
             ],
             [
              0.5555555555555556,
              "#d8576b"
             ],
             [
              0.6666666666666666,
              "#ed7953"
             ],
             [
              0.7777777777777778,
              "#fb9f3a"
             ],
             [
              0.8888888888888888,
              "#fdca26"
             ],
             [
              1,
              "#f0f921"
             ]
            ],
            "type": "heatmap"
           }
          ],
          "heatmapgl": [
           {
            "colorbar": {
             "outlinewidth": 0,
             "ticks": ""
            },
            "colorscale": [
             [
              0,
              "#0d0887"
             ],
             [
              0.1111111111111111,
              "#46039f"
             ],
             [
              0.2222222222222222,
              "#7201a8"
             ],
             [
              0.3333333333333333,
              "#9c179e"
             ],
             [
              0.4444444444444444,
              "#bd3786"
             ],
             [
              0.5555555555555556,
              "#d8576b"
             ],
             [
              0.6666666666666666,
              "#ed7953"
             ],
             [
              0.7777777777777778,
              "#fb9f3a"
             ],
             [
              0.8888888888888888,
              "#fdca26"
             ],
             [
              1,
              "#f0f921"
             ]
            ],
            "type": "heatmapgl"
           }
          ],
          "histogram": [
           {
            "marker": {
             "pattern": {
              "fillmode": "overlay",
              "size": 10,
              "solidity": 0.2
             }
            },
            "type": "histogram"
           }
          ],
          "histogram2d": [
           {
            "colorbar": {
             "outlinewidth": 0,
             "ticks": ""
            },
            "colorscale": [
             [
              0,
              "#0d0887"
             ],
             [
              0.1111111111111111,
              "#46039f"
             ],
             [
              0.2222222222222222,
              "#7201a8"
             ],
             [
              0.3333333333333333,
              "#9c179e"
             ],
             [
              0.4444444444444444,
              "#bd3786"
             ],
             [
              0.5555555555555556,
              "#d8576b"
             ],
             [
              0.6666666666666666,
              "#ed7953"
             ],
             [
              0.7777777777777778,
              "#fb9f3a"
             ],
             [
              0.8888888888888888,
              "#fdca26"
             ],
             [
              1,
              "#f0f921"
             ]
            ],
            "type": "histogram2d"
           }
          ],
          "histogram2dcontour": [
           {
            "colorbar": {
             "outlinewidth": 0,
             "ticks": ""
            },
            "colorscale": [
             [
              0,
              "#0d0887"
             ],
             [
              0.1111111111111111,
              "#46039f"
             ],
             [
              0.2222222222222222,
              "#7201a8"
             ],
             [
              0.3333333333333333,
              "#9c179e"
             ],
             [
              0.4444444444444444,
              "#bd3786"
             ],
             [
              0.5555555555555556,
              "#d8576b"
             ],
             [
              0.6666666666666666,
              "#ed7953"
             ],
             [
              0.7777777777777778,
              "#fb9f3a"
             ],
             [
              0.8888888888888888,
              "#fdca26"
             ],
             [
              1,
              "#f0f921"
             ]
            ],
            "type": "histogram2dcontour"
           }
          ],
          "mesh3d": [
           {
            "colorbar": {
             "outlinewidth": 0,
             "ticks": ""
            },
            "type": "mesh3d"
           }
          ],
          "parcoords": [
           {
            "line": {
             "colorbar": {
              "outlinewidth": 0,
              "ticks": ""
             }
            },
            "type": "parcoords"
           }
          ],
          "pie": [
           {
            "automargin": true,
            "type": "pie"
           }
          ],
          "scatter": [
           {
            "fillpattern": {
             "fillmode": "overlay",
             "size": 10,
             "solidity": 0.2
            },
            "type": "scatter"
           }
          ],
          "scatter3d": [
           {
            "line": {
             "colorbar": {
              "outlinewidth": 0,
              "ticks": ""
             }
            },
            "marker": {
             "colorbar": {
              "outlinewidth": 0,
              "ticks": ""
             }
            },
            "type": "scatter3d"
           }
          ],
          "scattercarpet": [
           {
            "marker": {
             "colorbar": {
              "outlinewidth": 0,
              "ticks": ""
             }
            },
            "type": "scattercarpet"
           }
          ],
          "scattergeo": [
           {
            "marker": {
             "colorbar": {
              "outlinewidth": 0,
              "ticks": ""
             }
            },
            "type": "scattergeo"
           }
          ],
          "scattergl": [
           {
            "marker": {
             "colorbar": {
              "outlinewidth": 0,
              "ticks": ""
             }
            },
            "type": "scattergl"
           }
          ],
          "scattermapbox": [
           {
            "marker": {
             "colorbar": {
              "outlinewidth": 0,
              "ticks": ""
             }
            },
            "type": "scattermapbox"
           }
          ],
          "scatterpolar": [
           {
            "marker": {
             "colorbar": {
              "outlinewidth": 0,
              "ticks": ""
             }
            },
            "type": "scatterpolar"
           }
          ],
          "scatterpolargl": [
           {
            "marker": {
             "colorbar": {
              "outlinewidth": 0,
              "ticks": ""
             }
            },
            "type": "scatterpolargl"
           }
          ],
          "scatterternary": [
           {
            "marker": {
             "colorbar": {
              "outlinewidth": 0,
              "ticks": ""
             }
            },
            "type": "scatterternary"
           }
          ],
          "surface": [
           {
            "colorbar": {
             "outlinewidth": 0,
             "ticks": ""
            },
            "colorscale": [
             [
              0,
              "#0d0887"
             ],
             [
              0.1111111111111111,
              "#46039f"
             ],
             [
              0.2222222222222222,
              "#7201a8"
             ],
             [
              0.3333333333333333,
              "#9c179e"
             ],
             [
              0.4444444444444444,
              "#bd3786"
             ],
             [
              0.5555555555555556,
              "#d8576b"
             ],
             [
              0.6666666666666666,
              "#ed7953"
             ],
             [
              0.7777777777777778,
              "#fb9f3a"
             ],
             [
              0.8888888888888888,
              "#fdca26"
             ],
             [
              1,
              "#f0f921"
             ]
            ],
            "type": "surface"
           }
          ],
          "table": [
           {
            "cells": {
             "fill": {
              "color": "#EBF0F8"
             },
             "line": {
              "color": "white"
             }
            },
            "header": {
             "fill": {
              "color": "#C8D4E3"
             },
             "line": {
              "color": "white"
             }
            },
            "type": "table"
           }
          ]
         },
         "layout": {
          "annotationdefaults": {
           "arrowcolor": "#2a3f5f",
           "arrowhead": 0,
           "arrowwidth": 1
          },
          "autotypenumbers": "strict",
          "coloraxis": {
           "colorbar": {
            "outlinewidth": 0,
            "ticks": ""
           }
          },
          "colorscale": {
           "diverging": [
            [
             0,
             "#8e0152"
            ],
            [
             0.1,
             "#c51b7d"
            ],
            [
             0.2,
             "#de77ae"
            ],
            [
             0.3,
             "#f1b6da"
            ],
            [
             0.4,
             "#fde0ef"
            ],
            [
             0.5,
             "#f7f7f7"
            ],
            [
             0.6,
             "#e6f5d0"
            ],
            [
             0.7,
             "#b8e186"
            ],
            [
             0.8,
             "#7fbc41"
            ],
            [
             0.9,
             "#4d9221"
            ],
            [
             1,
             "#276419"
            ]
           ],
           "sequential": [
            [
             0,
             "#0d0887"
            ],
            [
             0.1111111111111111,
             "#46039f"
            ],
            [
             0.2222222222222222,
             "#7201a8"
            ],
            [
             0.3333333333333333,
             "#9c179e"
            ],
            [
             0.4444444444444444,
             "#bd3786"
            ],
            [
             0.5555555555555556,
             "#d8576b"
            ],
            [
             0.6666666666666666,
             "#ed7953"
            ],
            [
             0.7777777777777778,
             "#fb9f3a"
            ],
            [
             0.8888888888888888,
             "#fdca26"
            ],
            [
             1,
             "#f0f921"
            ]
           ],
           "sequentialminus": [
            [
             0,
             "#0d0887"
            ],
            [
             0.1111111111111111,
             "#46039f"
            ],
            [
             0.2222222222222222,
             "#7201a8"
            ],
            [
             0.3333333333333333,
             "#9c179e"
            ],
            [
             0.4444444444444444,
             "#bd3786"
            ],
            [
             0.5555555555555556,
             "#d8576b"
            ],
            [
             0.6666666666666666,
             "#ed7953"
            ],
            [
             0.7777777777777778,
             "#fb9f3a"
            ],
            [
             0.8888888888888888,
             "#fdca26"
            ],
            [
             1,
             "#f0f921"
            ]
           ]
          },
          "colorway": [
           "#636efa",
           "#EF553B",
           "#00cc96",
           "#ab63fa",
           "#FFA15A",
           "#19d3f3",
           "#FF6692",
           "#B6E880",
           "#FF97FF",
           "#FECB52"
          ],
          "font": {
           "color": "#2a3f5f"
          },
          "geo": {
           "bgcolor": "white",
           "lakecolor": "white",
           "landcolor": "#E5ECF6",
           "showlakes": true,
           "showland": true,
           "subunitcolor": "white"
          },
          "hoverlabel": {
           "align": "left"
          },
          "hovermode": "closest",
          "mapbox": {
           "style": "light"
          },
          "paper_bgcolor": "white",
          "plot_bgcolor": "#E5ECF6",
          "polar": {
           "angularaxis": {
            "gridcolor": "white",
            "linecolor": "white",
            "ticks": ""
           },
           "bgcolor": "#E5ECF6",
           "radialaxis": {
            "gridcolor": "white",
            "linecolor": "white",
            "ticks": ""
           }
          },
          "scene": {
           "xaxis": {
            "backgroundcolor": "#E5ECF6",
            "gridcolor": "white",
            "gridwidth": 2,
            "linecolor": "white",
            "showbackground": true,
            "ticks": "",
            "zerolinecolor": "white"
           },
           "yaxis": {
            "backgroundcolor": "#E5ECF6",
            "gridcolor": "white",
            "gridwidth": 2,
            "linecolor": "white",
            "showbackground": true,
            "ticks": "",
            "zerolinecolor": "white"
           },
           "zaxis": {
            "backgroundcolor": "#E5ECF6",
            "gridcolor": "white",
            "gridwidth": 2,
            "linecolor": "white",
            "showbackground": true,
            "ticks": "",
            "zerolinecolor": "white"
           }
          },
          "shapedefaults": {
           "line": {
            "color": "#2a3f5f"
           }
          },
          "ternary": {
           "aaxis": {
            "gridcolor": "white",
            "linecolor": "white",
            "ticks": ""
           },
           "baxis": {
            "gridcolor": "white",
            "linecolor": "white",
            "ticks": ""
           },
           "bgcolor": "#E5ECF6",
           "caxis": {
            "gridcolor": "white",
            "linecolor": "white",
            "ticks": ""
           }
          },
          "title": {
           "x": 0.05
          },
          "xaxis": {
           "automargin": true,
           "gridcolor": "white",
           "linecolor": "white",
           "ticks": "",
           "title": {
            "standoff": 15
           },
           "zerolinecolor": "white",
           "zerolinewidth": 2
          },
          "yaxis": {
           "automargin": true,
           "gridcolor": "white",
           "linecolor": "white",
           "ticks": "",
           "title": {
            "standoff": 15
           },
           "zerolinecolor": "white",
           "zerolinewidth": 2
          }
         }
        },
        "title": {
         "text": "Sharpe Ratios of Different Strategies"
        },
        "xaxis": {
         "anchor": "y",
         "autorange": true,
         "domain": [
          0,
          1
         ],
         "range": [
          -0.5,
          60.5
         ],
         "title": {
          "text": "Strategy"
         },
         "type": "category"
        },
        "yaxis": {
         "anchor": "x",
         "autorange": true,
         "domain": [
          0,
          1
         ],
         "range": [
          -0.9376241177615039,
          0.8692044324495336
         ],
         "title": {
          "text": "Sharpe Ratio"
         },
         "type": "linear"
        }
       }
      },
      "image/png": "[encoded data removed]",
      "text/html": [
       "<div>                            <div id=\"28eab95d-501d-4624-80ed-d04dcc507dbe\" class=\"plotly-graph-div\" style=\"height:525px; width:100%;\"></div>            <script type=\"text/javascript\">                require([\"plotly\"], function(Plotly) {                    window.PLOTLYENV=window.PLOTLYENV || {};                                    if (document.getElementById(\"28eab95d-501d-4624-80ed-d04dcc507dbe\")) {                    Plotly.newPlot(                        \"28eab95d-501d-4624-80ed-d04dcc507dbe\",                        [{\"alignmentgroup\":\"True\",\"hovertemplate\":\"Strategy=%{x}\\u003cbr\\u003eSharpe Ratio=%{y}\\u003cextra\\u003e\\u003c\\u002fextra\\u003e\",\"legendgroup\":\"\",\"marker\":{\"color\":\"#636efa\",\"pattern\":{\"shape\":\"\"}},\"name\":\"\",\"offsetgroup\":\"\",\"orientation\":\"v\",\"showlegend\":false,\"textposition\":\"auto\",\"x\":[\"{'n_positions': 32, 'use_salience': True, 'reverse_positions': True, 'use_return_adjustment': True, 'inverse_salience': True}\",\"{'n_positions': 24, 'use_salience': True, 'reverse_positions': True, 'use_return_adjustment': True, 'inverse_salience': True}\",\"{'n_positions': 32, 'use_salience': False, 'reverse_positions': True, 'use_return_adjustment': True, 'inverse_salience': False}\",\"{'n_positions': 40, 'use_salience': True, 'reverse_positions': True, 'use_return_adjustment': True, 'inverse_salience': True}\",\"{'n_positions': 24, 'use_salience': False, 'reverse_positions': True, 'use_return_adjustment': True, 'inverse_salience': False}\",\"{'n_positions': 40, 'use_salience': False, 'reverse_positions': True, 'use_return_adjustment': True, 'inverse_salience': False}\",\"{'n_positions': 32, 'use_salience': True, 'reverse_positions': True, 'use_return_adjustment': True, 'inverse_salience': False}\",\"{'n_positions': 24, 'use_salience': True, 'reverse_positions': True, 'use_return_adjustment': True, 'inverse_salience': False}\",\"{'n_positions': 40, 'use_salience': True, 'reverse_positions': True, 'use_return_adjustment': False, 'inverse_salience': True}\",\"{'n_positions': 40, 'use_salience': True, 'reverse_positions': True, 'use_return_adjustment': True, 'inverse_salience': False}\",\"{'n_positions': 40, 'use_salience': False, 'reverse_positions': True, 'use_return_adjustment': False, 'inverse_salience': False}\",\"{'n_positions': 8, 'use_salience': True, 'reverse_positions': True, 'use_return_adjustment': True, 'inverse_salience': True}\",\"{'n_positions': 16, 'use_salience': True, 'reverse_positions': True, 'use_return_adjustment': True, 'inverse_salience': True}\",\"{'n_positions': 8, 'use_salience': False, 'reverse_positions': True, 'use_return_adjustment': True, 'inverse_salience': False}\",\"{'n_positions': 16, 'use_salience': False, 'reverse_positions': True, 'use_return_adjustment': True, 'inverse_salience': False}\",\"{'n_positions': 40, 'use_salience': True, 'reverse_positions': True, 'use_return_adjustment': False, 'inverse_salience': False}\",\"{'n_positions': 32, 'use_salience': True, 'reverse_positions': True, 'use_return_adjustment': False, 'inverse_salience': True}\",\"{'n_positions': 8, 'use_salience': True, 'reverse_positions': True, 'use_return_adjustment': True, 'inverse_salience': False}\",\"{'n_positions': 32, 'use_salience': False, 'reverse_positions': True, 'use_return_adjustment': False, 'inverse_salience': False}\",\"{'n_positions': 16, 'use_salience': False, 'reverse_positions': True, 'use_return_adjustment': False, 'inverse_salience': False}\",\"{'n_positions': 16, 'use_salience': True, 'reverse_positions': True, 'use_return_adjustment': False, 'inverse_salience': True}\",\"{'n_positions': 16, 'use_salience': True, 'reverse_positions': True, 'use_return_adjustment': True, 'inverse_salience': False}\",\"{'n_positions': 16, 'use_salience': True, 'reverse_positions': True, 'use_return_adjustment': False, 'inverse_salience': False}\",\"{'n_positions': 32, 'use_salience': True, 'reverse_positions': True, 'use_return_adjustment': False, 'inverse_salience': False}\",\"{'n_positions': 24, 'use_salience': True, 'reverse_positions': True, 'use_return_adjustment': False, 'inverse_salience': True}\",\"{'n_positions': 24, 'use_salience': False, 'reverse_positions': True, 'use_return_adjustment': False, 'inverse_salience': False}\",\"Equal Weight Holding\",\"{'n_positions': 8, 'use_salience': True, 'reverse_positions': True, 'use_return_adjustment': False, 'inverse_salience': True}\",\"{'n_positions': 24, 'use_salience': True, 'reverse_positions': True, 'use_return_adjustment': False, 'inverse_salience': False}\",\"{'n_positions': 8, 'use_salience': False, 'reverse_positions': True, 'use_return_adjustment': False, 'inverse_salience': False}\",\"{'n_positions': 8, 'use_salience': True, 'reverse_positions': True, 'use_return_adjustment': False, 'inverse_salience': False}\",\"{'n_positions': 8, 'use_salience': True, 'reverse_positions': False, 'use_return_adjustment': False, 'inverse_salience': False}\",\"{'n_positions': 8, 'use_salience': False, 'reverse_positions': False, 'use_return_adjustment': False, 'inverse_salience': False}\",\"{'n_positions': 24, 'use_salience': True, 'reverse_positions': False, 'use_return_adjustment': False, 'inverse_salience': False}\",\"{'n_positions': 8, 'use_salience': True, 'reverse_positions': False, 'use_return_adjustment': False, 'inverse_salience': True}\",\"{'n_positions': 24, 'use_salience': False, 'reverse_positions': False, 'use_return_adjustment': False, 'inverse_salience': False}\",\"{'n_positions': 24, 'use_salience': True, 'reverse_positions': False, 'use_return_adjustment': False, 'inverse_salience': True}\",\"{'n_positions': 16, 'use_salience': True, 'reverse_positions': False, 'use_return_adjustment': True, 'inverse_salience': False}\",\"{'n_positions': 32, 'use_salience': True, 'reverse_positions': False, 'use_return_adjustment': False, 'inverse_salience': False}\",\"{'n_positions': 16, 'use_salience': True, 'reverse_positions': False, 'use_return_adjustment': False, 'inverse_salience': False}\",\"{'n_positions': 16, 'use_salience': True, 'reverse_positions': False, 'use_return_adjustment': False, 'inverse_salience': True}\",\"{'n_positions': 8, 'use_salience': True, 'reverse_positions': False, 'use_return_adjustment': True, 'inverse_salience': False}\",\"{'n_positions': 16, 'use_salience': False, 'reverse_positions': False, 'use_return_adjustment': False, 'inverse_salience': False}\",\"{'n_positions': 32, 'use_salience': False, 'reverse_positions': False, 'use_return_adjustment': False, 'inverse_salience': False}\",\"{'n_positions': 16, 'use_salience': False, 'reverse_positions': False, 'use_return_adjustment': True, 'inverse_salience': False}\",\"{'n_positions': 8, 'use_salience': False, 'reverse_positions': False, 'use_return_adjustment': True, 'inverse_salience': False}\",\"{'n_positions': 32, 'use_salience': True, 'reverse_positions': False, 'use_return_adjustment': False, 'inverse_salience': True}\",\"{'n_positions': 8, 'use_salience': True, 'reverse_positions': False, 'use_return_adjustment': True, 'inverse_salience': True}\",\"{'n_positions': 40, 'use_salience': True, 'reverse_positions': False, 'use_return_adjustment': False, 'inverse_salience': False}\",\"{'n_positions': 16, 'use_salience': True, 'reverse_positions': False, 'use_return_adjustment': True, 'inverse_salience': True}\",\"{'n_positions': 40, 'use_salience': True, 'reverse_positions': False, 'use_return_adjustment': True, 'inverse_salience': False}\",\"{'n_positions': 24, 'use_salience': True, 'reverse_positions': False, 'use_return_adjustment': True, 'inverse_salience': False}\",\"{'n_positions': 40, 'use_salience': False, 'reverse_positions': False, 'use_return_adjustment': False, 'inverse_salience': False}\",\"{'n_positions': 32, 'use_salience': True, 'reverse_positions': False, 'use_return_adjustment': True, 'inverse_salience': False}\",\"{'n_positions': 40, 'use_salience': True, 'reverse_positions': False, 'use_return_adjustment': False, 'inverse_salience': True}\",\"{'n_positions': 40, 'use_salience': False, 'reverse_positions': False, 'use_return_adjustment': True, 'inverse_salience': False}\",\"{'n_positions': 24, 'use_salience': False, 'reverse_positions': False, 'use_return_adjustment': True, 'inverse_salience': False}\",\"{'n_positions': 40, 'use_salience': True, 'reverse_positions': False, 'use_return_adjustment': True, 'inverse_salience': True}\",\"{'n_positions': 32, 'use_salience': False, 'reverse_positions': False, 'use_return_adjustment': True, 'inverse_salience': False}\",\"{'n_positions': 24, 'use_salience': True, 'reverse_positions': False, 'use_return_adjustment': True, 'inverse_salience': True}\",\"{'n_positions': 32, 'use_salience': True, 'reverse_positions': False, 'use_return_adjustment': True, 'inverse_salience': True}\"],\"xaxis\":\"x\",\"y\":[0.7788630049389818,0.7580621206587295,0.7357911767883263,0.7197715488142316,0.7196626740608197,0.6706485013927244,0.6312398140881726,0.6139749191324818,0.5991486584632513,0.578924863374357,0.5596594898199407,0.5309158639822915,0.5224700321232911,0.4578390151359104,0.43537277877866115,0.43444727857305726,0.4040617755387956,0.37707119077870305,0.37202879609575523,0.35753521758289253,0.33730368879466494,0.3039132267856148,0.2903429532571286,0.25664416781191945,0.25150029241970623,0.21762471135284972,0.21461599175619336,0.19735739702050284,0.11381059648972383,0.1034737528696589,-0.01728702708550512,-0.035471605839053275,-0.15981760187256525,-0.22175625799730364,-0.2545928300105376,-0.32013991055159224,-0.3460891794525892,-0.36694824888571187,-0.37330201485709424,-0.3796020877982244,-0.4179343777174519,-0.42000423354658417,-0.4448105146024314,-0.4831909014328302,-0.5007617943394904,-0.5060457523222834,-0.508299142647857,-0.5818009323252197,-0.5820349300941323,-0.5854367364472821,-0.6453183481543396,-0.6799888774287332,-0.6988391236711892,-0.7001854753839799,-0.7279989925393076,-0.7385881030410759,-0.7865221887344587,-0.7874701934118977,-0.8056582079047248,-0.8228537038414989,-0.847282690250952],\"yaxis\":\"y\",\"type\":\"bar\"}],                        {\"template\":{\"data\":{\"histogram2dcontour\":[{\"type\":\"histogram2dcontour\",\"colorbar\":{\"outlinewidth\":0,\"ticks\":\"\"},\"colorscale\":[[0.0,\"#0d0887\"],[0.1111111111111111,\"#46039f\"],[0.2222222222222222,\"#7201a8\"],[0.3333333333333333,\"#9c179e\"],[0.4444444444444444,\"#bd3786\"],[0.5555555555555556,\"#d8576b\"],[0.6666666666666666,\"#ed7953\"],[0.7777777777777778,\"#fb9f3a\"],[0.8888888888888888,\"#fdca26\"],[1.0,\"#f0f921\"]]}],\"choropleth\":[{\"type\":\"choropleth\",\"colorbar\":{\"outlinewidth\":0,\"ticks\":\"\"}}],\"histogram2d\":[{\"type\":\"histogram2d\",\"colorbar\":{\"outlinewidth\":0,\"ticks\":\"\"},\"colorscale\":[[0.0,\"#0d0887\"],[0.1111111111111111,\"#46039f\"],[0.2222222222222222,\"#7201a8\"],[0.3333333333333333,\"#9c179e\"],[0.4444444444444444,\"#bd3786\"],[0.5555555555555556,\"#d8576b\"],[0.6666666666666666,\"#ed7953\"],[0.7777777777777778,\"#fb9f3a\"],[0.8888888888888888,\"#fdca26\"],[1.0,\"#f0f921\"]]}],\"heatmap\":[{\"type\":\"heatmap\",\"colorbar\":{\"outlinewidth\":0,\"ticks\":\"\"},\"colorscale\":[[0.0,\"#0d0887\"],[0.1111111111111111,\"#46039f\"],[0.2222222222222222,\"#7201a8\"],[0.3333333333333333,\"#9c179e\"],[0.4444444444444444,\"#bd3786\"],[0.5555555555555556,\"#d8576b\"],[0.6666666666666666,\"#ed7953\"],[0.7777777777777778,\"#fb9f3a\"],[0.8888888888888888,\"#fdca26\"],[1.0,\"#f0f921\"]]}],\"heatmapgl\":[{\"type\":\"heatmapgl\",\"colorbar\":{\"outlinewidth\":0,\"ticks\":\"\"},\"colorscale\":[[0.0,\"#0d0887\"],[0.1111111111111111,\"#46039f\"],[0.2222222222222222,\"#7201a8\"],[0.3333333333333333,\"#9c179e\"],[0.4444444444444444,\"#bd3786\"],[0.5555555555555556,\"#d8576b\"],[0.6666666666666666,\"#ed7953\"],[0.7777777777777778,\"#fb9f3a\"],[0.8888888888888888,\"#fdca26\"],[1.0,\"#f0f921\"]]}],\"contourcarpet\":[{\"type\":\"contourcarpet\",\"colorbar\":{\"outlinewidth\":0,\"ticks\":\"\"}}],\"contour\":[{\"type\":\"contour\",\"colorbar\":{\"outlinewidth\":0,\"ticks\":\"\"},\"colorscale\":[[0.0,\"#0d0887\"],[0.1111111111111111,\"#46039f\"],[0.2222222222222222,\"#7201a8\"],[0.3333333333333333,\"#9c179e\"],[0.4444444444444444,\"#bd3786\"],[0.5555555555555556,\"#d8576b\"],[0.6666666666666666,\"#ed7953\"],[0.7777777777777778,\"#fb9f3a\"],[0.8888888888888888,\"#fdca26\"],[1.0,\"#f0f921\"]]}],\"surface\":[{\"type\":\"surface\",\"colorbar\":{\"outlinewidth\":0,\"ticks\":\"\"},\"colorscale\":[[0.0,\"#0d0887\"],[0.1111111111111111,\"#46039f\"],[0.2222222222222222,\"#7201a8\"],[0.3333333333333333,\"#9c179e\"],[0.4444444444444444,\"#bd3786\"],[0.5555555555555556,\"#d8576b\"],[0.6666666666666666,\"#ed7953\"],[0.7777777777777778,\"#fb9f3a\"],[0.8888888888888888,\"#fdca26\"],[1.0,\"#f0f921\"]]}],\"mesh3d\":[{\"type\":\"mesh3d\",\"colorbar\":{\"outlinewidth\":0,\"ticks\":\"\"}}],\"scatter\":[{\"fillpattern\":{\"fillmode\":\"overlay\",\"size\":10,\"solidity\":0.2},\"type\":\"scatter\"}],\"parcoords\":[{\"type\":\"parcoords\",\"line\":{\"colorbar\":{\"outlinewidth\":0,\"ticks\":\"\"}}}],\"scatterpolargl\":[{\"type\":\"scatterpolargl\",\"marker\":{\"colorbar\":{\"outlinewidth\":0,\"ticks\":\"\"}}}],\"bar\":[{\"error_x\":{\"color\":\"#2a3f5f\"},\"error_y\":{\"color\":\"#2a3f5f\"},\"marker\":{\"line\":{\"color\":\"#E5ECF6\",\"width\":0.5},\"pattern\":{\"fillmode\":\"overlay\",\"size\":10,\"solidity\":0.2}},\"type\":\"bar\"}],\"scattergeo\":[{\"type\":\"scattergeo\",\"marker\":{\"colorbar\":{\"outlinewidth\":0,\"ticks\":\"\"}}}],\"scatterpolar\":[{\"type\":\"scatterpolar\",\"marker\":{\"colorbar\":{\"outlinewidth\":0,\"ticks\":\"\"}}}],\"histogram\":[{\"marker\":{\"pattern\":{\"fillmode\":\"overlay\",\"size\":10,\"solidity\":0.2}},\"type\":\"histogram\"}],\"scattergl\":[{\"type\":\"scattergl\",\"marker\":{\"colorbar\":{\"outlinewidth\":0,\"ticks\":\"\"}}}],\"scatter3d\":[{\"type\":\"scatter3d\",\"line\":{\"colorbar\":{\"outlinewidth\":0,\"ticks\":\"\"}},\"marker\":{\"colorbar\":{\"outlinewidth\":0,\"ticks\":\"\"}}}],\"scattermapbox\":[{\"type\":\"scattermapbox\",\"marker\":{\"colorbar\":{\"outlinewidth\":0,\"ticks\":\"\"}}}],\"scatterternary\":[{\"type\":\"scatterternary\",\"marker\":{\"colorbar\":{\"outlinewidth\":0,\"ticks\":\"\"}}}],\"scattercarpet\":[{\"type\":\"scattercarpet\",\"marker\":{\"colorbar\":{\"outlinewidth\":0,\"ticks\":\"\"}}}],\"carpet\":[{\"aaxis\":{\"endlinecolor\":\"#2a3f5f\",\"gridcolor\":\"white\",\"linecolor\":\"white\",\"minorgridcolor\":\"white\",\"startlinecolor\":\"#2a3f5f\"},\"baxis\":{\"endlinecolor\":\"#2a3f5f\",\"gridcolor\":\"white\",\"linecolor\":\"white\",\"minorgridcolor\":\"white\",\"startlinecolor\":\"#2a3f5f\"},\"type\":\"carpet\"}],\"table\":[{\"cells\":{\"fill\":{\"color\":\"#EBF0F8\"},\"line\":{\"color\":\"white\"}},\"header\":{\"fill\":{\"color\":\"#C8D4E3\"},\"line\":{\"color\":\"white\"}},\"type\":\"table\"}],\"barpolar\":[{\"marker\":{\"line\":{\"color\":\"#E5ECF6\",\"width\":0.5},\"pattern\":{\"fillmode\":\"overlay\",\"size\":10,\"solidity\":0.2}},\"type\":\"barpolar\"}],\"pie\":[{\"automargin\":true,\"type\":\"pie\"}]},\"layout\":{\"autotypenumbers\":\"strict\",\"colorway\":[\"#636efa\",\"#EF553B\",\"#00cc96\",\"#ab63fa\",\"#FFA15A\",\"#19d3f3\",\"#FF6692\",\"#B6E880\",\"#FF97FF\",\"#FECB52\"],\"font\":{\"color\":\"#2a3f5f\"},\"hovermode\":\"closest\",\"hoverlabel\":{\"align\":\"left\"},\"paper_bgcolor\":\"white\",\"plot_bgcolor\":\"#E5ECF6\",\"polar\":{\"bgcolor\":\"#E5ECF6\",\"angularaxis\":{\"gridcolor\":\"white\",\"linecolor\":\"white\",\"ticks\":\"\"},\"radialaxis\":{\"gridcolor\":\"white\",\"linecolor\":\"white\",\"ticks\":\"\"}},\"ternary\":{\"bgcolor\":\"#E5ECF6\",\"aaxis\":{\"gridcolor\":\"white\",\"linecolor\":\"white\",\"ticks\":\"\"},\"baxis\":{\"gridcolor\":\"white\",\"linecolor\":\"white\",\"ticks\":\"\"},\"caxis\":{\"gridcolor\":\"white\",\"linecolor\":\"white\",\"ticks\":\"\"}},\"coloraxis\":{\"colorbar\":{\"outlinewidth\":0,\"ticks\":\"\"}},\"colorscale\":{\"sequential\":[[0.0,\"#0d0887\"],[0.1111111111111111,\"#46039f\"],[0.2222222222222222,\"#7201a8\"],[0.3333333333333333,\"#9c179e\"],[0.4444444444444444,\"#bd3786\"],[0.5555555555555556,\"#d8576b\"],[0.6666666666666666,\"#ed7953\"],[0.7777777777777778,\"#fb9f3a\"],[0.8888888888888888,\"#fdca26\"],[1.0,\"#f0f921\"]],\"sequentialminus\":[[0.0,\"#0d0887\"],[0.1111111111111111,\"#46039f\"],[0.2222222222222222,\"#7201a8\"],[0.3333333333333333,\"#9c179e\"],[0.4444444444444444,\"#bd3786\"],[0.5555555555555556,\"#d8576b\"],[0.6666666666666666,\"#ed7953\"],[0.7777777777777778,\"#fb9f3a\"],[0.8888888888888888,\"#fdca26\"],[1.0,\"#f0f921\"]],\"diverging\":[[0,\"#8e0152\"],[0.1,\"#c51b7d\"],[0.2,\"#de77ae\"],[0.3,\"#f1b6da\"],[0.4,\"#fde0ef\"],[0.5,\"#f7f7f7\"],[0.6,\"#e6f5d0\"],[0.7,\"#b8e186\"],[0.8,\"#7fbc41\"],[0.9,\"#4d9221\"],[1,\"#276419\"]]},\"xaxis\":{\"gridcolor\":\"white\",\"linecolor\":\"white\",\"ticks\":\"\",\"title\":{\"standoff\":15},\"zerolinecolor\":\"white\",\"automargin\":true,\"zerolinewidth\":2},\"yaxis\":{\"gridcolor\":\"white\",\"linecolor\":\"white\",\"ticks\":\"\",\"title\":{\"standoff\":15},\"zerolinecolor\":\"white\",\"automargin\":true,\"zerolinewidth\":2},\"scene\":{\"xaxis\":{\"backgroundcolor\":\"#E5ECF6\",\"gridcolor\":\"white\",\"linecolor\":\"white\",\"showbackground\":true,\"ticks\":\"\",\"zerolinecolor\":\"white\",\"gridwidth\":2},\"yaxis\":{\"backgroundcolor\":\"#E5ECF6\",\"gridcolor\":\"white\",\"linecolor\":\"white\",\"showbackground\":true,\"ticks\":\"\",\"zerolinecolor\":\"white\",\"gridwidth\":2},\"zaxis\":{\"backgroundcolor\":\"#E5ECF6\",\"gridcolor\":\"white\",\"linecolor\":\"white\",\"showbackground\":true,\"ticks\":\"\",\"zerolinecolor\":\"white\",\"gridwidth\":2}},\"shapedefaults\":{\"line\":{\"color\":\"#2a3f5f\"}},\"annotationdefaults\":{\"arrowcolor\":\"#2a3f5f\",\"arrowhead\":0,\"arrowwidth\":1},\"geo\":{\"bgcolor\":\"white\",\"landcolor\":\"#E5ECF6\",\"subunitcolor\":\"white\",\"showland\":true,\"showlakes\":true,\"lakecolor\":\"white\"},\"title\":{\"x\":0.05},\"mapbox\":{\"style\":\"light\"}}},\"xaxis\":{\"anchor\":\"y\",\"domain\":[0.0,1.0],\"title\":{\"text\":\"Strategy\"}},\"yaxis\":{\"anchor\":\"x\",\"domain\":[0.0,1.0],\"title\":{\"text\":\"Sharpe Ratio\"}},\"legend\":{\"tracegroupgap\":0},\"title\":{\"text\":\"Sharpe Ratios of Different Strategies\"},\"barmode\":\"relative\"},                        {\"responsive\": true}                    ).then(function(){\n",
       "                            \n",
       "var gd = document.getElementById('28eab95d-501d-4624-80ed-d04dcc507dbe');\n",
       "var x = new MutationObserver(function (mutations, observer) {{\n",
       "        var display = window.getComputedStyle(gd).display;\n",
       "        if (!display || display === 'none') {{\n",
       "            console.log([gd, 'removed!']);\n",
       "            Plotly.purge(gd);\n",
       "            observer.disconnect();\n",
       "        }}\n",
       "}});\n",
       "\n",
       "// Listen for the removal of the full notebook cells\n",
       "var notebookContainer = gd.closest('#notebook-container');\n",
       "if (notebookContainer) {{\n",
       "    x.observe(notebookContainer, {childList: true});\n",
       "}}\n",
       "\n",
       "// Listen for the clearing of the current output cell\n",
       "var outputEl = gd.closest('.output');\n",
       "if (outputEl) {{\n",
       "    x.observe(outputEl, {childList: true});\n",
       "}}\n",
       "\n",
       "                        })                };                });            </script>        </div>"
      ]
     },
     "metadata": {},
     "output_type": "display_data"
    }
   ],
   "source": [
    "# Convert sharpe_ratios to DataFrame and sort by Sharpe ratio\n",
    "sharpe_df = pd.DataFrame(sharpe_ratios).sort_values(by='sharpe_ratio', ascending=False)\n",
    "\n",
    "# Visualize the Sharpe ratios\n",
    "fig_sharpe = px.bar(sharpe_df, x='params', y='sharpe_ratio', title='Sharpe Ratios of Different Strategies', labels={'params': 'Strategy', 'sharpe_ratio': 'Sharpe Ratio'})\n",
    "fig_sharpe.show()"
   ]
  },
  {
   "cell_type": "code",
   "execution_count": 18,
   "id": "4c2177cb-65f1-42d2-bf2b-373ea7f10028",
   "metadata": {},
   "outputs": [
    {
     "data": {
      "text/plain": [
       "24    {'n_positions': 32, 'use_salience': True, 'rev...\n",
       "16    {'n_positions': 24, 'use_salience': True, 'rev...\n",
       "52    {'n_positions': 32, 'use_salience': False, 're...\n",
       "32    {'n_positions': 40, 'use_salience': True, 'rev...\n",
       "48    {'n_positions': 24, 'use_salience': False, 're...\n",
       "                            ...                        \n",
       "50    {'n_positions': 24, 'use_salience': False, 're...\n",
       "36    {'n_positions': 40, 'use_salience': True, 'rev...\n",
       "54    {'n_positions': 32, 'use_salience': False, 're...\n",
       "20    {'n_positions': 24, 'use_salience': True, 'rev...\n",
       "28    {'n_positions': 32, 'use_salience': True, 'rev...\n",
       "Name: params, Length: 61, dtype: object"
      ]
     },
     "execution_count": 18,
     "metadata": {},
     "output_type": "execute_result"
    }
   ],
   "source": [
    "sharpe_df.params"
   ]
  },
  {
   "cell_type": "raw",
   "id": "1bb29e24-1e7c-4eaf-918b-b3d0e19327c9",
   "metadata": {},
   "source": []
  }
 ],
 "metadata": {
  "kernelspec": {
   "display_name": "Python 3 (ipykernel)",
   "language": "python",
   "name": "python3"
  },
  "language_info": {
   "codemirror_mode": {
    "name": "ipython",
    "version": 3
   },
   "file_extension": ".py",
   "mimetype": "text/x-python",
   "name": "python",
   "nbconvert_exporter": "python",
   "pygments_lexer": "ipython3",
   "version": "3.11.7"
  }
 },
 "nbformat": 4,
 "nbformat_minor": 5
}
